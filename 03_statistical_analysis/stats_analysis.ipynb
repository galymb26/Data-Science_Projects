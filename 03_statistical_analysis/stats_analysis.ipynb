{
 "cells": [
  {
   "cell_type": "markdown",
   "id": "12be53ef",
   "metadata": {},
   "source": [
    "# Проект: Статистический анализ данных"
   ]
  },
  {
   "cell_type": "markdown",
   "id": "95867830",
   "metadata": {},
   "source": [
    "# Описание проекта:\n",
    "**У нас есть данные о пользователях из разных городов, которые пользуются мобильным приложением GoFast для совершения поездок по городу. Пользователи могут пользоваться сервисом двумя способами:**\n",
    "\n",
    "**Без подписки: Они не платят за подписку, стоимость одной минуты поездки составляет 8 рублей, а стартовая стоимость (начало поездки) - 50 рублей.\n",
    "С подпиской Ultra: Пользователи платят за подписку в размере 199 рублей в месяц. Однако у них нет стартовой платы, и стоимость одной минуты поездки составляет 6 рублей.**"
   ]
  },
  {
   "cell_type": "markdown",
   "id": "abec10e2",
   "metadata": {},
   "source": [
    "# Цель проекта:\n",
    "**Мы проведем анализ этих данных и проверим несколько гипотез, которые помогут определить, какие меры можно принять, чтобы развить бизнес.**"
   ]
  },
  {
   "cell_type": "markdown",
   "id": "e0ae2694",
   "metadata": {},
   "source": [
    "# План работы\n",
    "\n",
    "\n",
    "\n",
    "**1.1 Считать CSV-файлы с данными с помощью библиотеки pandas и сохранить их в датафреймы.\n",
    "  ** - Пути к файлам:\n",
    "     - /datasets/users_go.csv\n",
    "     - /datasets/rides_go.csv\n",
    "     - /datasets/subscriptions_go.csv**\n",
    "     \n",
    "**1.2 Вывести первые строки каждого набора данных и изучить общую информацию о каждом датафрейме.**\n",
    "\n",
    "# Шаг 2. Предобработка данных\n",
    "\n",
    "**2.1 Привести столбец date к типу даты pandas.\n",
    "  2.2 Создать новый столбец с номером месяца на основе столбца date.\n",
    "  2.3 Проверить наличие пропущенных значений и дубликатов в датафреймах и обработать их, если такие значения присутствуют.**\n",
    "\n",
    "# Шаг 3. Исследовательский анализ данных\n",
    "\n",
    "**3.1 Описать и визуализировать общую информацию о пользователях и поездках:**\n",
    "\n",
    "**- Частота встречаемости городов.**\n",
    "\n",
    "**- Соотношение пользователей с подпиской и без подписки**\n",
    "\n",
    "**- Возраст пользователей**\n",
    "\n",
    "**- Расстояние, которое пользователь преодолел за одну поездку**\n",
    "\n",
    "**- Продолжительность поездок.**\n",
    "\n",
    "# Шаг 4. Объединение данных\n",
    "\n",
    "**4.1 Объединить данные о пользователях, поездках и подписках в один датафрейм с помощью метода merge().**\n",
    "**4.2 Создать два датафрейма:**\n",
    "\n",
    "**- С данными о пользователях без подписки.**\n",
    "\n",
    "**- С данными о пользователях с подпиской.**\n",
    "\n",
    "**4.3 Визуализировать информацию о расстоянии и времени поездок для пользователей обеих категорий.**\n",
    "\n",
    "# Шаг 5. Подсчет выручки\n",
    "\n",
    "**5.1 Создайте датафрейм с агрегированными данными о поездках на основе датафрейма с объединёнными данными из шага 4: найдите суммарное расстояние, количество поездок и суммарное время для каждого пользователя за каждый месяц.**\n",
    "\n",
    "**5.2 В этот же датафрейм добавьте столбец с помесячной выручкой, которую принёс каждый пользователь. Для этого обратитесь к информации об условиях оплаты для подписчиков и тех, у кого нет подписки. Продолжительность каждой поездки в каждой строке исходного датафрейма для подсчёта стоимости округляется до следующего целого числа: например, значения \n",
    "25.3\n",
    "25.3, \n",
    "25.5\n",
    "25.5 и \n",
    "26.0\n",
    "26.0 должны быть преобразованы к \n",
    "26\n",
    "26.**\n",
    "\n",
    "# Шаг 6. Проверка гипотез\n",
    "\n",
    "**6.1 Проверить гипотезу о том, тратят ли пользователи с подпиской больше времени на поездки.**\n",
    "**6.2 Проверить гипотезу о том, что среднее расстояние, которое проезжают пользователи с подпиской за одну поездку, не превышает 3130 метров.**\n",
    "**6.3 Проверить гипотезу о том, будет ли помесячная выручка от пользователей с подпиской выше, чем выручка от пользователей без подписки.**\n",
    "**6.4 Для проверки гипотезы о том, снизилось ли количество обращений в техподдержку после обновления серверов, использовать соответствующий статистический тест.**"
   ]
  },
  {
   "cell_type": "code",
   "execution_count": 1,
   "id": "72576667",
   "metadata": {},
   "outputs": [],
   "source": [
    "# Импортируем библиотеки \n",
    "import pandas as pd\n",
    "import numpy as np\n",
    "import matplotlib.pyplot as plt\n",
    "from math import factorial\n",
    "from scipy import stats as st"
   ]
  },
  {
   "cell_type": "markdown",
   "id": "c42cbe00",
   "metadata": {},
   "source": [
    "#### Шаг 1. Загрузка данных"
   ]
  },
  {
   "cell_type": "markdown",
   "id": "3013856e",
   "metadata": {},
   "source": [
    "# 1.1  Считайте CSV-файлы с данными с помощью библиотеки pandas и сохраните их в датафреймы."
   ]
  },
  {
   "cell_type": "code",
   "execution_count": 2,
   "id": "6ce6f04f",
   "metadata": {},
   "outputs": [],
   "source": [
    "# Считаем данные и зададим переменные\n",
    "users_go = pd.read_csv('/datasets/users_go.csv')\n",
    "rides_go = pd.read_csv('/datasets/rides_go.csv')\n",
    "subscriptions_go = pd.read_csv('/datasets/subscriptions_go.csv')"
   ]
  },
  {
   "cell_type": "markdown",
   "id": "3725c681",
   "metadata": {},
   "source": [
    "# 1.2 Выведите первые строки каждого набора данных. Изучите общую информацию о каждом датафрейме."
   ]
  },
  {
   "cell_type": "code",
   "execution_count": 3,
   "id": "93a6281e",
   "metadata": {
    "scrolled": false
   },
   "outputs": [
    {
     "data": {
      "text/html": [
       "<div>\n",
       "<style scoped>\n",
       "    .dataframe tbody tr th:only-of-type {\n",
       "        vertical-align: middle;\n",
       "    }\n",
       "\n",
       "    .dataframe tbody tr th {\n",
       "        vertical-align: top;\n",
       "    }\n",
       "\n",
       "    .dataframe thead th {\n",
       "        text-align: right;\n",
       "    }\n",
       "</style>\n",
       "<table border=\"1\" class=\"dataframe\">\n",
       "  <thead>\n",
       "    <tr style=\"text-align: right;\">\n",
       "      <th></th>\n",
       "      <th>user_id</th>\n",
       "      <th>name</th>\n",
       "      <th>age</th>\n",
       "      <th>city</th>\n",
       "      <th>subscription_type</th>\n",
       "    </tr>\n",
       "  </thead>\n",
       "  <tbody>\n",
       "    <tr>\n",
       "      <th>0</th>\n",
       "      <td>1</td>\n",
       "      <td>Кира</td>\n",
       "      <td>22</td>\n",
       "      <td>Тюмень</td>\n",
       "      <td>ultra</td>\n",
       "    </tr>\n",
       "    <tr>\n",
       "      <th>1</th>\n",
       "      <td>2</td>\n",
       "      <td>Станислав</td>\n",
       "      <td>31</td>\n",
       "      <td>Омск</td>\n",
       "      <td>ultra</td>\n",
       "    </tr>\n",
       "    <tr>\n",
       "      <th>2</th>\n",
       "      <td>3</td>\n",
       "      <td>Алексей</td>\n",
       "      <td>20</td>\n",
       "      <td>Москва</td>\n",
       "      <td>ultra</td>\n",
       "    </tr>\n",
       "    <tr>\n",
       "      <th>3</th>\n",
       "      <td>4</td>\n",
       "      <td>Константин</td>\n",
       "      <td>26</td>\n",
       "      <td>Ростов-на-Дону</td>\n",
       "      <td>ultra</td>\n",
       "    </tr>\n",
       "    <tr>\n",
       "      <th>4</th>\n",
       "      <td>5</td>\n",
       "      <td>Адель</td>\n",
       "      <td>28</td>\n",
       "      <td>Омск</td>\n",
       "      <td>ultra</td>\n",
       "    </tr>\n",
       "  </tbody>\n",
       "</table>\n",
       "</div>"
      ],
      "text/plain": [
       "   user_id        name  age            city subscription_type\n",
       "0        1        Кира   22          Тюмень             ultra\n",
       "1        2   Станислав   31            Омск             ultra\n",
       "2        3     Алексей   20          Москва             ultra\n",
       "3        4  Константин   26  Ростов-на-Дону             ultra\n",
       "4        5       Адель   28            Омск             ultra"
      ]
     },
     "metadata": {},
     "output_type": "display_data"
    },
    {
     "name": "stdout",
     "output_type": "stream",
     "text": [
      "\n",
      "<class 'pandas.core.frame.DataFrame'>\n",
      "RangeIndex: 1565 entries, 0 to 1564\n",
      "Data columns (total 5 columns):\n",
      " #   Column             Non-Null Count  Dtype \n",
      "---  ------             --------------  ----- \n",
      " 0   user_id            1565 non-null   int64 \n",
      " 1   name               1565 non-null   object\n",
      " 2   age                1565 non-null   int64 \n",
      " 3   city               1565 non-null   object\n",
      " 4   subscription_type  1565 non-null   object\n",
      "dtypes: int64(2), object(3)\n",
      "memory usage: 61.3+ KB\n",
      "None\n"
     ]
    },
    {
     "data": {
      "text/html": [
       "<div>\n",
       "<style scoped>\n",
       "    .dataframe tbody tr th:only-of-type {\n",
       "        vertical-align: middle;\n",
       "    }\n",
       "\n",
       "    .dataframe tbody tr th {\n",
       "        vertical-align: top;\n",
       "    }\n",
       "\n",
       "    .dataframe thead th {\n",
       "        text-align: right;\n",
       "    }\n",
       "</style>\n",
       "<table border=\"1\" class=\"dataframe\">\n",
       "  <thead>\n",
       "    <tr style=\"text-align: right;\">\n",
       "      <th></th>\n",
       "      <th>user_id</th>\n",
       "      <th>age</th>\n",
       "    </tr>\n",
       "  </thead>\n",
       "  <tbody>\n",
       "    <tr>\n",
       "      <th>count</th>\n",
       "      <td>1565.000000</td>\n",
       "      <td>1565.000000</td>\n",
       "    </tr>\n",
       "    <tr>\n",
       "      <th>mean</th>\n",
       "      <td>762.633866</td>\n",
       "      <td>24.922045</td>\n",
       "    </tr>\n",
       "    <tr>\n",
       "      <th>std</th>\n",
       "      <td>443.260155</td>\n",
       "      <td>4.553496</td>\n",
       "    </tr>\n",
       "    <tr>\n",
       "      <th>min</th>\n",
       "      <td>1.000000</td>\n",
       "      <td>12.000000</td>\n",
       "    </tr>\n",
       "    <tr>\n",
       "      <th>25%</th>\n",
       "      <td>378.000000</td>\n",
       "      <td>22.000000</td>\n",
       "    </tr>\n",
       "    <tr>\n",
       "      <th>50%</th>\n",
       "      <td>762.000000</td>\n",
       "      <td>25.000000</td>\n",
       "    </tr>\n",
       "    <tr>\n",
       "      <th>75%</th>\n",
       "      <td>1146.000000</td>\n",
       "      <td>28.000000</td>\n",
       "    </tr>\n",
       "    <tr>\n",
       "      <th>max</th>\n",
       "      <td>1534.000000</td>\n",
       "      <td>43.000000</td>\n",
       "    </tr>\n",
       "  </tbody>\n",
       "</table>\n",
       "</div>"
      ],
      "text/plain": [
       "           user_id          age\n",
       "count  1565.000000  1565.000000\n",
       "mean    762.633866    24.922045\n",
       "std     443.260155     4.553496\n",
       "min       1.000000    12.000000\n",
       "25%     378.000000    22.000000\n",
       "50%     762.000000    25.000000\n",
       "75%    1146.000000    28.000000\n",
       "max    1534.000000    43.000000"
      ]
     },
     "metadata": {},
     "output_type": "display_data"
    }
   ],
   "source": [
    "# Изучим общую информацию датафрейма 'users_go'\n",
    "display(users_go.head())\n",
    "print()\n",
    "print(users_go.info())\n",
    "display(users_go.describe())"
   ]
  },
  {
   "cell_type": "code",
   "execution_count": 4,
   "id": "eab908a1",
   "metadata": {},
   "outputs": [
    {
     "data": {
      "image/png": "[encoded data removed]",
      "text/plain": [
       "<Figure size 432x288 with 1 Axes>"
      ]
     },
     "metadata": {
      "needs_background": "light"
     },
     "output_type": "display_data"
    }
   ],
   "source": [
    "# Построим гистограмму столбца 'age'\n",
    "plt.hist(users_go['age'], bins=10)\n",
    "plt.title('Возраст пользователей')\n",
    "plt.xlabel('Возраст в годах')\n",
    "plt.ylabel('Количество пользователей')\n",
    "plt.grid()\n",
    "plt.show()"
   ]
  },
  {
   "cell_type": "code",
   "execution_count": 5,
   "id": "7c096b60",
   "metadata": {
    "scrolled": true
   },
   "outputs": [
    {
     "data": {
      "text/plain": [
       "31"
      ]
     },
     "execution_count": 5,
     "metadata": {},
     "output_type": "execute_result"
    }
   ],
   "source": [
    "# Подсчитаем кол-во явных дубликатов в датафрейме 'users_go'\n",
    "users_go.duplicated().sum()\n"
   ]
  },
  {
   "cell_type": "code",
   "execution_count": 6,
   "id": "9b93d974",
   "metadata": {
    "scrolled": true
   },
   "outputs": [
    {
     "name": "stdout",
     "output_type": "stream",
     "text": [
      "   user_id     distance   duration        date\n",
      "0        1  4409.919140  25.599769  2021-01-01\n",
      "1        1  2617.592153  15.816871  2021-01-18\n",
      "2        1   754.159807   6.232113  2021-04-20\n",
      "3        1  2694.783254  18.511000  2021-08-11\n",
      "4        1  4028.687306  26.265803  2021-08-28\n",
      "\n",
      "<class 'pandas.core.frame.DataFrame'>\n",
      "RangeIndex: 18068 entries, 0 to 18067\n",
      "Data columns (total 4 columns):\n",
      " #   Column    Non-Null Count  Dtype  \n",
      "---  ------    --------------  -----  \n",
      " 0   user_id   18068 non-null  int64  \n",
      " 1   distance  18068 non-null  float64\n",
      " 2   duration  18068 non-null  float64\n",
      " 3   date      18068 non-null  object \n",
      "dtypes: float64(2), int64(1), object(1)\n",
      "memory usage: 564.8+ KB\n",
      "None\n",
      "            user_id      distance      duration\n",
      "count  18068.000000  18068.000000  18068.000000\n",
      "mean     842.869936   3070.659976     17.805011\n",
      "std      434.734317   1116.831209      6.091051\n",
      "min        1.000000      0.855683      0.500000\n",
      "25%      487.000000   2543.226360     13.597563\n",
      "50%      889.000000   3133.609994     17.678395\n",
      "75%     1213.250000   3776.222735     21.724800\n",
      "max     1534.000000   7211.007745     40.823963\n"
     ]
    }
   ],
   "source": [
    "# Изучим общую информацию датафрейма 'rides_go'\n",
    "print(rides_go.head())\n",
    "print()\n",
    "print(rides_go.info())\n",
    "print(rides_go.describe())"
   ]
  },
  {
   "cell_type": "code",
   "execution_count": 7,
   "id": "b6a38ba8",
   "metadata": {},
   "outputs": [
    {
     "data": {
      "image/png": "[encoded data removed]",
      "text/plain": [
       "<Figure size 432x288 with 1 Axes>"
      ]
     },
     "metadata": {
      "needs_background": "light"
     },
     "output_type": "display_data"
    },
    {
     "data": {
      "image/png": "[encoded data removed]",
      "text/plain": [
       "<Figure size 432x288 with 1 Axes>"
      ]
     },
     "metadata": {
      "needs_background": "light"
     },
     "output_type": "display_data"
    }
   ],
   "source": [
    "# Построим гистограммы по столбцам 'distance' и 'duration'\n",
    "plt.hist(rides_go['distance'], bins=10)\n",
    "plt.title('Расстояние')\n",
    "plt.xlabel('Расстояние в метрах')\n",
    "plt.ylabel('Количество пользователей')\n",
    "plt.grid()\n",
    "plt.show()\n",
    "\n",
    "plt.hist(rides_go['duration'], bins=10)\n",
    "plt.title('Продолжительность сессии')\n",
    "plt.xlabel('Продолжительность в минутах')\n",
    "plt.ylabel('Количество пользователей')\n",
    "plt.grid()\n",
    "plt.show()"
   ]
  },
  {
   "cell_type": "code",
   "execution_count": 8,
   "id": "2703a19a",
   "metadata": {},
   "outputs": [
    {
     "data": {
      "text/plain": [
       "0"
      ]
     },
     "execution_count": 8,
     "metadata": {},
     "output_type": "execute_result"
    }
   ],
   "source": [
    "# Подсчитаем кол-во явных дубликатов в датафрейме 'rides_go'\n",
    "rides_go.duplicated().sum()\n"
   ]
  },
  {
   "cell_type": "code",
   "execution_count": 9,
   "id": "8d92cf1f",
   "metadata": {},
   "outputs": [
    {
     "name": "stdout",
     "output_type": "stream",
     "text": [
      "  subscription_type  minute_price  start_ride_price  subscription_fee\n",
      "0              free             8                50                 0\n",
      "1             ultra             6                 0               199\n",
      "\n",
      "<class 'pandas.core.frame.DataFrame'>\n",
      "RangeIndex: 2 entries, 0 to 1\n",
      "Data columns (total 4 columns):\n",
      " #   Column             Non-Null Count  Dtype \n",
      "---  ------             --------------  ----- \n",
      " 0   subscription_type  2 non-null      object\n",
      " 1   minute_price       2 non-null      int64 \n",
      " 2   start_ride_price   2 non-null      int64 \n",
      " 3   subscription_fee   2 non-null      int64 \n",
      "dtypes: int64(3), object(1)\n",
      "memory usage: 192.0+ bytes\n",
      "None\n",
      "       minute_price  start_ride_price  subscription_fee\n",
      "count      2.000000          2.000000          2.000000\n",
      "mean       7.000000         25.000000         99.500000\n",
      "std        1.414214         35.355339        140.714249\n",
      "min        6.000000          0.000000          0.000000\n",
      "25%        6.500000         12.500000         49.750000\n",
      "50%        7.000000         25.000000         99.500000\n",
      "75%        7.500000         37.500000        149.250000\n",
      "max        8.000000         50.000000        199.000000\n"
     ]
    }
   ],
   "source": [
    "# Изучим общую информацию датафрейма 'subscriptions_go'\n",
    "print(subscriptions_go.head())\n",
    "print()\n",
    "print(subscriptions_go.info())\n",
    "print(subscriptions_go.describe())"
   ]
  },
  {
   "cell_type": "markdown",
   "id": "0fc82778",
   "metadata": {},
   "source": [
    "В датафрейме 'users_go' 5 столбцов и 1565 записи, пропуски отсутствуют, названия столбцов соответсвтуют \"змеиному регистру\". Также мы нашли явные дубликаты: их 31.\n",
    "\n",
    "В датафрейме 'rides_go' 4 столбца и 18068 записи, пропуски отсутствуют, названия столбцов соответсвтуют \"змеиному регистру\". Явные дубликаты отсутствуют.\n",
    "\n",
    "В датафрейме 'subscriptions_go' 4 столбца и 2 записи, пропуски отсутствуют, названия столбцов соответсвтуют \"змеиному регистру\". Явные дубликаты отсутствуют, некорректный тип данных для всех столбцов.\n",
    "\n",
    "\n",
    "Данные в порядке и готовы для исследования."
   ]
  },
  {
   "cell_type": "markdown",
   "id": "e95ebca7",
   "metadata": {},
   "source": [
    "#### Шаг 2. Предобработка данных"
   ]
  },
  {
   "cell_type": "markdown",
   "id": "33858c2e",
   "metadata": {},
   "source": [
    "# 2.1 Приведите столбец 'date' к типу даты pandas."
   ]
  },
  {
   "cell_type": "code",
   "execution_count": 10,
   "id": "a3e6fd3e",
   "metadata": {},
   "outputs": [
    {
     "data": {
      "text/plain": [
       "0   2021-01-01\n",
       "1   2021-01-18\n",
       "2   2021-04-20\n",
       "3   2021-08-11\n",
       "4   2021-08-28\n",
       "Name: date, dtype: datetime64[ns]"
      ]
     },
     "execution_count": 10,
     "metadata": {},
     "output_type": "execute_result"
    }
   ],
   "source": [
    "rides_go['date'] = pd.to_datetime(rides_go['date'], format='%Y-%m-%d')\n",
    "rides_go['date'].head()"
   ]
  },
  {
   "cell_type": "markdown",
   "id": "92283ba4",
   "metadata": {},
   "source": [
    "# 2.2 Создайте новый столбец с номером месяца на основе столбца 'date'."
   ]
  },
  {
   "cell_type": "code",
   "execution_count": 11,
   "id": "c7e15598",
   "metadata": {
    "scrolled": false
   },
   "outputs": [
    {
     "data": {
      "text/plain": [
       "0    1\n",
       "1    1\n",
       "2    4\n",
       "3    8\n",
       "4    8\n",
       "Name: month, dtype: int64"
      ]
     },
     "execution_count": 11,
     "metadata": {},
     "output_type": "execute_result"
    }
   ],
   "source": [
    "rides_go['month'] = rides_go['date'].dt.month\n",
    "rides_go['month'].head()"
   ]
  },
  {
   "cell_type": "code",
   "execution_count": 12,
   "id": "4c6e6d33",
   "metadata": {},
   "outputs": [],
   "source": [
    "# Округлилим distance до 2 знаков после запятой.\n",
    "rides_go['distance'] = rides_go['distance'].round(2)"
   ]
  },
  {
   "cell_type": "markdown",
   "id": "781cf0ef",
   "metadata": {},
   "source": [
    "# 2.3 Проверьте наличие пропущенных значений и дубликатов в датафреймах. Обработайте их, если такие значения присутствуют."
   ]
  },
  {
   "cell_type": "code",
   "execution_count": 13,
   "id": "28e8e44d",
   "metadata": {},
   "outputs": [
    {
     "data": {
      "text/plain": [
       "31"
      ]
     },
     "execution_count": 13,
     "metadata": {},
     "output_type": "execute_result"
    }
   ],
   "source": [
    "# Подсчитаем кол-во явных дубликатов в столбце 'user_id'\n",
    "users_go['user_id'].duplicated().sum()"
   ]
  },
  {
   "cell_type": "code",
   "execution_count": 14,
   "id": "913dc0b7",
   "metadata": {},
   "outputs": [
    {
     "data": {
      "text/plain": [
       "0"
      ]
     },
     "execution_count": 14,
     "metadata": {},
     "output_type": "execute_result"
    }
   ],
   "source": [
    "# Удалим дубликаты\n",
    "users_go.drop_duplicates(subset='user_id', inplace=True)\n",
    "# Проверка наличия дубликатов\n",
    "users_go['user_id'].duplicated().sum()"
   ]
  },
  {
   "cell_type": "code",
   "execution_count": 15,
   "id": "625ec683",
   "metadata": {
    "scrolled": false
   },
   "outputs": [
    {
     "name": "stdout",
     "output_type": "stream",
     "text": [
      "<class 'pandas.core.frame.DataFrame'>\n",
      "Int64Index: 1534 entries, 0 to 1533\n",
      "Data columns (total 5 columns):\n",
      " #   Column             Non-Null Count  Dtype \n",
      "---  ------             --------------  ----- \n",
      " 0   user_id            1534 non-null   int64 \n",
      " 1   name               1534 non-null   object\n",
      " 2   age                1534 non-null   int64 \n",
      " 3   city               1534 non-null   object\n",
      " 4   subscription_type  1534 non-null   object\n",
      "dtypes: int64(2), object(3)\n",
      "memory usage: 71.9+ KB\n"
     ]
    },
    {
     "data": {
      "text/html": [
       "<div>\n",
       "<style scoped>\n",
       "    .dataframe tbody tr th:only-of-type {\n",
       "        vertical-align: middle;\n",
       "    }\n",
       "\n",
       "    .dataframe tbody tr th {\n",
       "        vertical-align: top;\n",
       "    }\n",
       "\n",
       "    .dataframe thead th {\n",
       "        text-align: right;\n",
       "    }\n",
       "</style>\n",
       "<table border=\"1\" class=\"dataframe\">\n",
       "  <thead>\n",
       "    <tr style=\"text-align: right;\">\n",
       "      <th></th>\n",
       "      <th>user_id</th>\n",
       "      <th>name</th>\n",
       "      <th>age</th>\n",
       "      <th>city</th>\n",
       "      <th>subscription_type</th>\n",
       "    </tr>\n",
       "  </thead>\n",
       "  <tbody>\n",
       "    <tr>\n",
       "      <th>0</th>\n",
       "      <td>1</td>\n",
       "      <td>Кира</td>\n",
       "      <td>22</td>\n",
       "      <td>Тюмень</td>\n",
       "      <td>ultra</td>\n",
       "    </tr>\n",
       "    <tr>\n",
       "      <th>1</th>\n",
       "      <td>2</td>\n",
       "      <td>Станислав</td>\n",
       "      <td>31</td>\n",
       "      <td>Омск</td>\n",
       "      <td>ultra</td>\n",
       "    </tr>\n",
       "    <tr>\n",
       "      <th>2</th>\n",
       "      <td>3</td>\n",
       "      <td>Алексей</td>\n",
       "      <td>20</td>\n",
       "      <td>Москва</td>\n",
       "      <td>ultra</td>\n",
       "    </tr>\n",
       "    <tr>\n",
       "      <th>3</th>\n",
       "      <td>4</td>\n",
       "      <td>Константин</td>\n",
       "      <td>26</td>\n",
       "      <td>Ростов-на-Дону</td>\n",
       "      <td>ultra</td>\n",
       "    </tr>\n",
       "    <tr>\n",
       "      <th>4</th>\n",
       "      <td>5</td>\n",
       "      <td>Адель</td>\n",
       "      <td>28</td>\n",
       "      <td>Омск</td>\n",
       "      <td>ultra</td>\n",
       "    </tr>\n",
       "  </tbody>\n",
       "</table>\n",
       "</div>"
      ],
      "text/plain": [
       "   user_id        name  age            city subscription_type\n",
       "0        1        Кира   22          Тюмень             ultra\n",
       "1        2   Станислав   31            Омск             ultra\n",
       "2        3     Алексей   20          Москва             ultra\n",
       "3        4  Константин   26  Ростов-на-Дону             ultra\n",
       "4        5       Адель   28            Омск             ultra"
      ]
     },
     "execution_count": 15,
     "metadata": {},
     "output_type": "execute_result"
    }
   ],
   "source": [
    "# Датафейм 'users_go'\n",
    "users_go.info()\n",
    "users_go.head()"
   ]
  },
  {
   "cell_type": "markdown",
   "id": "f9ec9a81",
   "metadata": {},
   "source": [
    "Предобработка данных в датафрейме 'users_go' сократило количество строк до 1534."
   ]
  },
  {
   "cell_type": "code",
   "execution_count": 16,
   "id": "9730731d",
   "metadata": {},
   "outputs": [
    {
     "name": "stdout",
     "output_type": "stream",
     "text": [
      "<class 'pandas.core.frame.DataFrame'>\n",
      "RangeIndex: 18068 entries, 0 to 18067\n",
      "Data columns (total 5 columns):\n",
      " #   Column    Non-Null Count  Dtype         \n",
      "---  ------    --------------  -----         \n",
      " 0   user_id   18068 non-null  int64         \n",
      " 1   distance  18068 non-null  float64       \n",
      " 2   duration  18068 non-null  float64       \n",
      " 3   date      18068 non-null  datetime64[ns]\n",
      " 4   month     18068 non-null  int64         \n",
      "dtypes: datetime64[ns](1), float64(2), int64(2)\n",
      "memory usage: 705.9 KB\n"
     ]
    },
    {
     "data": {
      "text/html": [
       "<div>\n",
       "<style scoped>\n",
       "    .dataframe tbody tr th:only-of-type {\n",
       "        vertical-align: middle;\n",
       "    }\n",
       "\n",
       "    .dataframe tbody tr th {\n",
       "        vertical-align: top;\n",
       "    }\n",
       "\n",
       "    .dataframe thead th {\n",
       "        text-align: right;\n",
       "    }\n",
       "</style>\n",
       "<table border=\"1\" class=\"dataframe\">\n",
       "  <thead>\n",
       "    <tr style=\"text-align: right;\">\n",
       "      <th></th>\n",
       "      <th>user_id</th>\n",
       "      <th>distance</th>\n",
       "      <th>duration</th>\n",
       "      <th>date</th>\n",
       "      <th>month</th>\n",
       "    </tr>\n",
       "  </thead>\n",
       "  <tbody>\n",
       "    <tr>\n",
       "      <th>0</th>\n",
       "      <td>1</td>\n",
       "      <td>4409.92</td>\n",
       "      <td>25.599769</td>\n",
       "      <td>2021-01-01</td>\n",
       "      <td>1</td>\n",
       "    </tr>\n",
       "    <tr>\n",
       "      <th>1</th>\n",
       "      <td>1</td>\n",
       "      <td>2617.59</td>\n",
       "      <td>15.816871</td>\n",
       "      <td>2021-01-18</td>\n",
       "      <td>1</td>\n",
       "    </tr>\n",
       "    <tr>\n",
       "      <th>2</th>\n",
       "      <td>1</td>\n",
       "      <td>754.16</td>\n",
       "      <td>6.232113</td>\n",
       "      <td>2021-04-20</td>\n",
       "      <td>4</td>\n",
       "    </tr>\n",
       "    <tr>\n",
       "      <th>3</th>\n",
       "      <td>1</td>\n",
       "      <td>2694.78</td>\n",
       "      <td>18.511000</td>\n",
       "      <td>2021-08-11</td>\n",
       "      <td>8</td>\n",
       "    </tr>\n",
       "    <tr>\n",
       "      <th>4</th>\n",
       "      <td>1</td>\n",
       "      <td>4028.69</td>\n",
       "      <td>26.265803</td>\n",
       "      <td>2021-08-28</td>\n",
       "      <td>8</td>\n",
       "    </tr>\n",
       "  </tbody>\n",
       "</table>\n",
       "</div>"
      ],
      "text/plain": [
       "   user_id  distance   duration       date  month\n",
       "0        1   4409.92  25.599769 2021-01-01      1\n",
       "1        1   2617.59  15.816871 2021-01-18      1\n",
       "2        1    754.16   6.232113 2021-04-20      4\n",
       "3        1   2694.78  18.511000 2021-08-11      8\n",
       "4        1   4028.69  26.265803 2021-08-28      8"
      ]
     },
     "execution_count": 16,
     "metadata": {},
     "output_type": "execute_result"
    }
   ],
   "source": [
    "# Датафейм 'rides_go'\n",
    "rides_go.info()\n",
    "rides_go.head()"
   ]
  },
  {
   "cell_type": "markdown",
   "id": "e62113fc",
   "metadata": {},
   "source": [
    "Во время предобработки данных в датафрейме 'rides_go':\n",
    "- Был добавлен стобец 'month' \n",
    "- Округлили 'distance' до 2 знаков после запятой\n",
    "- Привели столбец 'date' к типу datetime64"
   ]
  },
  {
   "cell_type": "markdown",
   "id": "8e45f508",
   "metadata": {},
   "source": [
    "Датафрейм 'subscriptions_go' не изменяли "
   ]
  },
  {
   "cell_type": "markdown",
   "id": "212593c7",
   "metadata": {},
   "source": [
    "#### Шаг 3. Исследовательский анализ данных"
   ]
  },
  {
   "cell_type": "markdown",
   "id": "05c15905",
   "metadata": {},
   "source": [
    "# Опишите и визуализируйте общую информацию о пользователях и поездках:"
   ]
  },
  {
   "cell_type": "markdown",
   "id": "fa473528",
   "metadata": {},
   "source": [
    "# 3.1 частота встречаемости городов"
   ]
  },
  {
   "cell_type": "code",
   "execution_count": 17,
   "id": "14e8d9d3",
   "metadata": {
    "scrolled": false
   },
   "outputs": [
    {
     "data": {
      "image/png": "[encoded data removed]",
      "text/plain": [
       "<Figure size 720x360 with 1 Axes>"
      ]
     },
     "metadata": {
      "needs_background": "light"
     },
     "output_type": "display_data"
    },
    {
     "name": "stdout",
     "output_type": "stream",
     "text": [
      "Количество пользователей в разных городах\n",
      "                user_id\n",
      "city                   \n",
      "Пятигорск           219\n",
      "Екатеринбург        204\n",
      "Ростов-на-Дону      198\n",
      "Краснодар           193\n",
      "Сочи                189\n",
      "Омск                183\n",
      "Тюмень              180\n",
      "Москва              168\n"
     ]
    }
   ],
   "source": [
    "# Создаем сводную таблицу, сгруппированную по городам, и подсчитаем количества пользователей для каждого города\n",
    "pivot_table_city = users_go.pivot_table(index='city', values='user_id', aggfunc='count').sort_values(by='user_id', ascending=True)\n",
    "\n",
    "# Строим горизонтальную столбчатую диаграмму\n",
    "pivot_table_city.plot(kind='barh', grid=True, figsize=(10, 5))\n",
    "plt.title('Количество пользователей в разных городах')\n",
    "plt.xlabel('Количество пользователей')\n",
    "plt.ylabel('Города')\n",
    "plt.show()\n",
    "\n",
    "# Вывод количества пользователей в разных городах\n",
    "print('Количество пользователей в разных городах')\n",
    "users_count_by_city = users_go.pivot_table(index='city', values='user_id', aggfunc='count').sort_values(by='user_id', ascending=False)\n",
    "print(users_count_by_city)\n"
   ]
  },
  {
   "cell_type": "markdown",
   "id": "4a11afda",
   "metadata": {},
   "source": [
    "ВЫВОД:\n",
    "\n",
    "Визуализация и сортировка пользователей указывает что лидер по количевству пользователей является Пятигорск за ним Екатеринбург, Ростов-на-Дону, Краснодар, Сочи. Примечательно что в ТОП-5 входят города, находящиеся на юге, где сезон проката более длителен. Исключением является город Екатеринбург, который находится на втором месте.\n"
   ]
  },
  {
   "cell_type": "markdown",
   "id": "d42437b6",
   "metadata": {},
   "source": [
    "# 3.2 соотношение пользователей с подпиской и без подписки"
   ]
  },
  {
   "cell_type": "code",
   "execution_count": 18,
   "id": "cf677647",
   "metadata": {},
   "outputs": [
    {
     "data": {
      "image/png": "[encoded data removed]",
      "text/plain": [
       "<Figure size 720x360 with 1 Axes>"
      ]
     },
     "metadata": {},
     "output_type": "display_data"
    }
   ],
   "source": [
    "# Создаем сводную таблицу, сгруппированную по типу подписки, и подсчитаем количества пользователей для каждого типа\n",
    "pivot_table_subscriptions = users_go.pivot_table(index='subscription_type', values='user_id', aggfunc='count')\n",
    "\n",
    "# Строим круговую диаграмму\n",
    "plt.figure(figsize=(10, 5))\n",
    "plt.pie(pivot_table_subscriptions['user_id'], labels=pivot_table_subscriptions.index, autopct='%1.1f%%')\n",
    "plt.title('Соотношение пользователей в зависимости от подписки')\n",
    "plt.show()"
   ]
  },
  {
   "cell_type": "code",
   "execution_count": 19,
   "id": "3709052a",
   "metadata": {},
   "outputs": [
    {
     "name": "stdout",
     "output_type": "stream",
     "text": [
      "                   Количество      Доля\n",
      "subscription_type                      \n",
      "free                      835  0.544329\n",
      "ultra                     699  0.455671\n"
     ]
    }
   ],
   "source": [
    "subscription_ratio = users_go.groupby('subscription_type').agg(\n",
    "    Количество=('user_id', 'size')\n",
    ")  # Подсчитываем количество пользователей в каждой группе\n",
    "\n",
    "# Соотношение пользователей в зависимости от подписки\n",
    "subscription_ratio['Доля'] = subscription_ratio['Количество'] / users_go['user_id'].count()\n",
    "print(subscription_ratio)"
   ]
  },
  {
   "cell_type": "markdown",
   "id": "1f60415e",
   "metadata": {},
   "source": [
    "ВЫВОД:\n",
    "\n",
    "Количество пользователей без подписки 'free' 54,4% превышает количество пользователей с подпиской 'ultra' 45,6%. Всего пользователей без подписки 835, на 136 больше, чем с подпиской."
   ]
  },
  {
   "cell_type": "markdown",
   "id": "946d78ef",
   "metadata": {},
   "source": [
    "# 3.3 возраст пользователей"
   ]
  },
  {
   "cell_type": "code",
   "execution_count": 20,
   "id": "fdbc170b",
   "metadata": {},
   "outputs": [
    {
     "data": {
      "image/png": "[encoded data removed]",
      "text/plain": [
       "<Figure size 720x360 with 1 Axes>"
      ]
     },
     "metadata": {
      "needs_background": "light"
     },
     "output_type": "display_data"
    },
    {
     "name": "stdout",
     "output_type": "stream",
     "text": [
      "Средний возраст пользователей: 24.9\n",
      "\n",
      "Статистика по возрасту:\n",
      "\n",
      "count    1534.000000\n",
      "mean       24.903520\n",
      "std         4.572367\n",
      "min        12.000000\n",
      "25%        22.000000\n",
      "50%        25.000000\n",
      "75%        28.000000\n",
      "max        43.000000\n",
      "Name: age, dtype: float64\n"
     ]
    }
   ],
   "source": [
    "# Создаем сводную таблицу\n",
    "pivot_table_age = users_go.pivot_table(index='age', values='user_id', aggfunc='count').sort_index()\n",
    "\n",
    "# Строим столбчатую диаграмму\n",
    "pivot_table_age.plot(kind='bar', grid=True, figsize=(10, 5))\n",
    "plt.title('Количество пользователей по возрастам')\n",
    "plt.xlabel('Возраст')\n",
    "plt.ylabel('Количество')\n",
    "plt.show()\n",
    "\n",
    "# Выводим информацию о возрасте пользователей\n",
    "print(f'Средний возраст пользователей: {users_go[\"age\"].mean():.1f}')\n",
    "print()\n",
    "print('Статистика по возрасту:')\n",
    "print()\n",
    "print(users_go['age'].describe())"
   ]
  },
  {
   "cell_type": "markdown",
   "id": "9ce805ef",
   "metadata": {},
   "source": [
    "ВЫВОД:\n",
    "\n",
    "Сервисом аренды самокатов пользуются клиенты в возрасте от 12 до 43 лет. \n",
    "\n",
    "График распределения показывает, что максимальное количество пользователей находятся в возрасте 25 лет. При этом средний возраст и медиана почти идентичны."
   ]
  },
  {
   "cell_type": "markdown",
   "id": "7d3775b4",
   "metadata": {},
   "source": [
    "# 3.4 расстояние, которое пользователь преодолел за одну поездку"
   ]
  },
  {
   "cell_type": "code",
   "execution_count": 21,
   "id": "63032c67",
   "metadata": {
    "scrolled": true
   },
   "outputs": [
    {
     "name": "stdout",
     "output_type": "stream",
     "text": [
      "Описание столбца \"distance\" датафрейма \"rides_go\"\n"
     ]
    },
    {
     "data": {
      "text/plain": [
       "count    18068.000000\n",
       "mean      3070.659992\n",
       "std       1116.831222\n",
       "min          0.860000\n",
       "25%       2543.227500\n",
       "50%       3133.610000\n",
       "75%       3776.220000\n",
       "max       7211.010000\n",
       "Name: distance, dtype: float64"
      ]
     },
     "execution_count": 21,
     "metadata": {},
     "output_type": "execute_result"
    }
   ],
   "source": [
    "print('Описание столбца \"distance\" датафрейма \"rides_go\"')\n",
    "rides_go['distance'].describe()"
   ]
  },
  {
   "cell_type": "code",
   "execution_count": 22,
   "id": "e09c4103",
   "metadata": {
    "scrolled": true
   },
   "outputs": [
    {
     "data": {
      "image/png": "[encoded data removed]",
      "text/plain": [
       "<Figure size 432x288 with 1 Axes>"
      ]
     },
     "metadata": {
      "needs_background": "light"
     },
     "output_type": "display_data"
    }
   ],
   "source": [
    "# Строим гистограмму\n",
    "plt.hist(rides_go['distance'], bins=500)\n",
    "plt.title('Количество поездок в зависимости от расстояния')\n",
    "plt.xlabel('Расстояние в метрах')\n",
    "plt.ylabel('Количество поездок')\n",
    "plt.show()"
   ]
  },
  {
   "cell_type": "markdown",
   "id": "2c355401",
   "metadata": {},
   "source": [
    "ВЫВОД:\n",
    "\n",
    "\n",
    "График количества поездок в зависимости от расстояния и описание датафрейма показывают, что медианное значение составляет 3133 метра. Первый квартиль находится на уровне 2543 метров, а третий квартиль на 3776 метров. Наблюдаются два выраженных пика: один около 700 метров, а другой около 3200 метров. Между этими пиками значения распределены нормально.\n"
   ]
  },
  {
   "cell_type": "markdown",
   "id": "7fd4b399",
   "metadata": {},
   "source": [
    "# 3.5 продолжительность поездок"
   ]
  },
  {
   "cell_type": "code",
   "execution_count": 23,
   "id": "65351075",
   "metadata": {
    "scrolled": true
   },
   "outputs": [
    {
     "name": "stdout",
     "output_type": "stream",
     "text": [
      "Описание столбца \"duration\" датафрейма \"rides_go\"\n"
     ]
    },
    {
     "data": {
      "text/plain": [
       "count    18068.000000\n",
       "mean        17.805011\n",
       "std          6.091051\n",
       "min          0.500000\n",
       "25%         13.597563\n",
       "50%         17.678395\n",
       "75%         21.724800\n",
       "max         40.823963\n",
       "Name: duration, dtype: float64"
      ]
     },
     "execution_count": 23,
     "metadata": {},
     "output_type": "execute_result"
    }
   ],
   "source": [
    "print('Описание столбца \"duration\" датафрейма \"rides_go\"')\n",
    "rides_go['duration'].describe()"
   ]
  },
  {
   "cell_type": "code",
   "execution_count": 24,
   "id": "293a3568",
   "metadata": {
    "scrolled": false
   },
   "outputs": [
    {
     "data": {
      "image/png": "[encoded data removed]",
      "text/plain": [
       "<Figure size 432x288 with 1 Axes>"
      ]
     },
     "metadata": {
      "needs_background": "light"
     },
     "output_type": "display_data"
    },
    {
     "data": {
      "image/png": "[encoded data removed]",
      "text/plain": [
       "<Figure size 432x288 with 1 Axes>"
      ]
     },
     "metadata": {
      "needs_background": "light"
     },
     "output_type": "display_data"
    }
   ],
   "source": [
    "# Строим гистограмму продолжительности поездок\n",
    "plt.hist(rides_go['duration'], bins=45)\n",
    "plt.title('Количество поездок в зависимости от продолжительности')\n",
    "plt.xlabel('Продолжительность поездки')\n",
    "plt.ylabel('Количество поездок')\n",
    "plt.grid()\n",
    "plt.show()\n",
    "\n",
    "# Рассчитываем среднюю скорость перемещения для каждой поездки\n",
    "average_speed = rides_go['distance'] / rides_go['duration']\n",
    "\n",
    "# Строим гистограмму средней скорости перемещения\n",
    "plt.hist(average_speed, bins=100, range=(0,1000))\n",
    "plt.title('Распределение средней скорости перемещения')\n",
    "plt.xlabel('Средняя скорость перемещения (метр/мин)')\n",
    "plt.ylabel('Количество поездок')\n",
    "plt.grid()\n",
    "plt.show()"
   ]
  },
  {
   "cell_type": "markdown",
   "id": "fb5f820a",
   "metadata": {},
   "source": [
    "ВЫВОД:\n",
    "\n",
    "\n",
    "Распределение продолжительности поездок находится в диапазоне от 0 до 41 минуты. Чаще всего в среднем поездки длятся 18 минут. Однако замечается необычное явление: имеется небольшое количество поездок продолжительностью меньше одной минуты, возможно это связано с тем что пользователи отменяли поездку, или же техническая ошибка. "
   ]
  },
  {
   "cell_type": "markdown",
   "id": "4e8f20ac",
   "metadata": {},
   "source": [
    "Промежуточный вывод для исследовательского анализа:\n",
    "\n",
    "- визуализация и сортировка пользователей указывает что лидер по количевству пользователей является Пятигорск за ним Екатеринбург, Ростов-на-Дону, Краснодар, Сочи. Примечательно что в ТОП-5 входят города, находящиеся на юге, где сезон проката более длителен. Исключением является город Екатеринбург, который находится на втором месте.\n",
    "\n",
    "- Количество пользователей без подписки 'free' 54,4% превышает количество пользователей с подпиской 'ultra' 45,6%. Всего пользователей без подписки 835, на 136 больше, чем с подпиской.\n",
    "\n",
    "- Сервисом аренды самокатов пользуются клиенты в возрасте от 12 до 43 лет. График распределения показывает, что максимальное количество пользователей находятся в возрасте 25 лет. При этом средний возраст и медиана почти идентичны.\n",
    "\n",
    "- График количества поездок в зависимости от расстояния и описание датафрейма показывают, что медианное значение составляет 3133 метра. Первый квартиль находится на уровне 2543 метров, а третий квартиль на 3776 метров. Наблюдаются два выраженных пика: один около 700 метров, а другой около 3200 метров. Между этими пиками значения распределены нормально.\n",
    "\n",
    "- Распределение продолжительности поездок находится в диапазоне от 0 до 41 минуты. Чаще всего в среднем поездки длятся 18 минут. Однако замечается необычное явление: имеется небольшое количество поездок продолжительностью меньше одной минуты, возможно это связано с тем что пользователи отменяли поездку, или же техническая ошибка. "
   ]
  },
  {
   "cell_type": "markdown",
   "id": "4ef51331",
   "metadata": {},
   "source": [
    "#### Шаг 4. Объединение данных"
   ]
  },
  {
   "cell_type": "markdown",
   "id": "10c1e0e9",
   "metadata": {},
   "source": [
    "# 4.1 объедините данные о пользователях, поездках и подписках в один датафрейм. "
   ]
  },
  {
   "cell_type": "code",
   "execution_count": 25,
   "id": "eead7645",
   "metadata": {},
   "outputs": [],
   "source": [
    "# Объединяем информацию о пользователях и их поездках\n",
    "total_data = users_go.merge(rides_go, on='user_id')\n",
    "\n",
    "# Добавляем информацию о типе подписки для каждого пользователя\n",
    "total_data = total_data.merge(subscriptions_go, on='subscription_type')\n"
   ]
  },
  {
   "cell_type": "code",
   "execution_count": 26,
   "id": "0ab68326",
   "metadata": {
    "scrolled": true
   },
   "outputs": [
    {
     "data": {
      "text/html": [
       "<div>\n",
       "<style scoped>\n",
       "    .dataframe tbody tr th:only-of-type {\n",
       "        vertical-align: middle;\n",
       "    }\n",
       "\n",
       "    .dataframe tbody tr th {\n",
       "        vertical-align: top;\n",
       "    }\n",
       "\n",
       "    .dataframe thead th {\n",
       "        text-align: right;\n",
       "    }\n",
       "</style>\n",
       "<table border=\"1\" class=\"dataframe\">\n",
       "  <thead>\n",
       "    <tr style=\"text-align: right;\">\n",
       "      <th></th>\n",
       "      <th>user_id</th>\n",
       "      <th>name</th>\n",
       "      <th>age</th>\n",
       "      <th>city</th>\n",
       "      <th>subscription_type</th>\n",
       "      <th>distance</th>\n",
       "      <th>duration</th>\n",
       "      <th>date</th>\n",
       "      <th>month</th>\n",
       "      <th>minute_price</th>\n",
       "      <th>start_ride_price</th>\n",
       "      <th>subscription_fee</th>\n",
       "    </tr>\n",
       "  </thead>\n",
       "  <tbody>\n",
       "    <tr>\n",
       "      <th>0</th>\n",
       "      <td>1</td>\n",
       "      <td>Кира</td>\n",
       "      <td>22</td>\n",
       "      <td>Тюмень</td>\n",
       "      <td>ultra</td>\n",
       "      <td>4409.92</td>\n",
       "      <td>25.599769</td>\n",
       "      <td>2021-01-01</td>\n",
       "      <td>1</td>\n",
       "      <td>6</td>\n",
       "      <td>0</td>\n",
       "      <td>199</td>\n",
       "    </tr>\n",
       "    <tr>\n",
       "      <th>1</th>\n",
       "      <td>1</td>\n",
       "      <td>Кира</td>\n",
       "      <td>22</td>\n",
       "      <td>Тюмень</td>\n",
       "      <td>ultra</td>\n",
       "      <td>2617.59</td>\n",
       "      <td>15.816871</td>\n",
       "      <td>2021-01-18</td>\n",
       "      <td>1</td>\n",
       "      <td>6</td>\n",
       "      <td>0</td>\n",
       "      <td>199</td>\n",
       "    </tr>\n",
       "    <tr>\n",
       "      <th>2</th>\n",
       "      <td>1</td>\n",
       "      <td>Кира</td>\n",
       "      <td>22</td>\n",
       "      <td>Тюмень</td>\n",
       "      <td>ultra</td>\n",
       "      <td>754.16</td>\n",
       "      <td>6.232113</td>\n",
       "      <td>2021-04-20</td>\n",
       "      <td>4</td>\n",
       "      <td>6</td>\n",
       "      <td>0</td>\n",
       "      <td>199</td>\n",
       "    </tr>\n",
       "    <tr>\n",
       "      <th>3</th>\n",
       "      <td>1</td>\n",
       "      <td>Кира</td>\n",
       "      <td>22</td>\n",
       "      <td>Тюмень</td>\n",
       "      <td>ultra</td>\n",
       "      <td>2694.78</td>\n",
       "      <td>18.511000</td>\n",
       "      <td>2021-08-11</td>\n",
       "      <td>8</td>\n",
       "      <td>6</td>\n",
       "      <td>0</td>\n",
       "      <td>199</td>\n",
       "    </tr>\n",
       "    <tr>\n",
       "      <th>4</th>\n",
       "      <td>1</td>\n",
       "      <td>Кира</td>\n",
       "      <td>22</td>\n",
       "      <td>Тюмень</td>\n",
       "      <td>ultra</td>\n",
       "      <td>4028.69</td>\n",
       "      <td>26.265803</td>\n",
       "      <td>2021-08-28</td>\n",
       "      <td>8</td>\n",
       "      <td>6</td>\n",
       "      <td>0</td>\n",
       "      <td>199</td>\n",
       "    </tr>\n",
       "  </tbody>\n",
       "</table>\n",
       "</div>"
      ],
      "text/plain": [
       "   user_id  name  age    city subscription_type  distance   duration  \\\n",
       "0        1  Кира   22  Тюмень             ultra   4409.92  25.599769   \n",
       "1        1  Кира   22  Тюмень             ultra   2617.59  15.816871   \n",
       "2        1  Кира   22  Тюмень             ultra    754.16   6.232113   \n",
       "3        1  Кира   22  Тюмень             ultra   2694.78  18.511000   \n",
       "4        1  Кира   22  Тюмень             ultra   4028.69  26.265803   \n",
       "\n",
       "        date  month  minute_price  start_ride_price  subscription_fee  \n",
       "0 2021-01-01      1             6                 0               199  \n",
       "1 2021-01-18      1             6                 0               199  \n",
       "2 2021-04-20      4             6                 0               199  \n",
       "3 2021-08-11      8             6                 0               199  \n",
       "4 2021-08-28      8             6                 0               199  "
      ]
     },
     "execution_count": 26,
     "metadata": {},
     "output_type": "execute_result"
    }
   ],
   "source": [
    "total_data.head()"
   ]
  },
  {
   "cell_type": "code",
   "execution_count": 27,
   "id": "ae71eaee",
   "metadata": {},
   "outputs": [
    {
     "name": "stdout",
     "output_type": "stream",
     "text": [
      "<class 'pandas.core.frame.DataFrame'>\n",
      "Int64Index: 18068 entries, 0 to 18067\n",
      "Data columns (total 12 columns):\n",
      " #   Column             Non-Null Count  Dtype         \n",
      "---  ------             --------------  -----         \n",
      " 0   user_id            18068 non-null  int64         \n",
      " 1   name               18068 non-null  object        \n",
      " 2   age                18068 non-null  int64         \n",
      " 3   city               18068 non-null  object        \n",
      " 4   subscription_type  18068 non-null  object        \n",
      " 5   distance           18068 non-null  float64       \n",
      " 6   duration           18068 non-null  float64       \n",
      " 7   date               18068 non-null  datetime64[ns]\n",
      " 8   month              18068 non-null  int64         \n",
      " 9   minute_price       18068 non-null  int64         \n",
      " 10  start_ride_price   18068 non-null  int64         \n",
      " 11  subscription_fee   18068 non-null  int64         \n",
      "dtypes: datetime64[ns](1), float64(2), int64(6), object(3)\n",
      "memory usage: 1.8+ MB\n"
     ]
    }
   ],
   "source": [
    "total_data.info()"
   ]
  },
  {
   "cell_type": "code",
   "execution_count": 28,
   "id": "6c564ba9",
   "metadata": {
    "scrolled": true
   },
   "outputs": [
    {
     "name": "stdout",
     "output_type": "stream",
     "text": [
      "Количество строк в 'rides_go': 18068\n",
      "Количество строк в 'total_data': 18068\n",
      "\n",
      "Количество уникальных пользователей в 'users_go': 1534\n",
      "Количество уникальных пользователей в 'total_data': 1534\n"
     ]
    }
   ],
   "source": [
    "# Выводим количества поездок в обоих датафреймах\n",
    "print(f\"Количество строк в 'rides_go': {rides_go['user_id'].count()}\")\n",
    "print(f\"Количество строк в 'total_data': {total_data['user_id'].count()}\")\n",
    "\n",
    "print()  \n",
    "\n",
    "# Выводим количества уникальных пользователей в обоих датафреймах\n",
    "print(f\"Количество уникальных пользователей в 'users_go': {len(users_go['user_id'].unique())}\")\n",
    "print(f\"Количество уникальных пользователей в 'total_data': {len(total_data['user_id'].unique())}\")\n"
   ]
  },
  {
   "cell_type": "markdown",
   "id": "8738e3cf",
   "metadata": {},
   "source": [
    "ВЫВОД:\n",
    "\n",
    "Созданный датафрейм total_data, объединяющий таблицы rides_go и users_go, содержит 18068 строк во всех столбцах, а также кол-во уникальных пользователей содержит 1534 строк, что соответствует исходной таблице 'rides_go' и 'users_go'. Так как исходные датафреймы не содержали пропусков и количество значений в них корректное, значит объединение таблиц прошло успешно.\n",
    "\n"
   ]
  },
  {
   "cell_type": "markdown",
   "id": "3e2ed7fa",
   "metadata": {},
   "source": [
    "# 4.2 cоздайте ещё два датафрейма из датафрейма, созданного на этапе   4.1;"
   ]
  },
  {
   "cell_type": "markdown",
   "id": "b74c251b",
   "metadata": {},
   "source": [
    "# 4.2.1 данные о пользователях без подписки"
   ]
  },
  {
   "cell_type": "code",
   "execution_count": 29,
   "id": "b23868af",
   "metadata": {
    "scrolled": true
   },
   "outputs": [
    {
     "data": {
      "text/html": [
       "<div>\n",
       "<style scoped>\n",
       "    .dataframe tbody tr th:only-of-type {\n",
       "        vertical-align: middle;\n",
       "    }\n",
       "\n",
       "    .dataframe tbody tr th {\n",
       "        vertical-align: top;\n",
       "    }\n",
       "\n",
       "    .dataframe thead th {\n",
       "        text-align: right;\n",
       "    }\n",
       "</style>\n",
       "<table border=\"1\" class=\"dataframe\">\n",
       "  <thead>\n",
       "    <tr style=\"text-align: right;\">\n",
       "      <th></th>\n",
       "      <th>user_id</th>\n",
       "      <th>name</th>\n",
       "      <th>age</th>\n",
       "      <th>city</th>\n",
       "      <th>subscription_type</th>\n",
       "      <th>distance</th>\n",
       "      <th>duration</th>\n",
       "      <th>date</th>\n",
       "      <th>month</th>\n",
       "      <th>minute_price</th>\n",
       "      <th>start_ride_price</th>\n",
       "      <th>subscription_fee</th>\n",
       "    </tr>\n",
       "  </thead>\n",
       "  <tbody>\n",
       "    <tr>\n",
       "      <th>6500</th>\n",
       "      <td>700</td>\n",
       "      <td>Айдар</td>\n",
       "      <td>22</td>\n",
       "      <td>Омск</td>\n",
       "      <td>free</td>\n",
       "      <td>2515.69</td>\n",
       "      <td>14.944286</td>\n",
       "      <td>2021-01-02</td>\n",
       "      <td>1</td>\n",
       "      <td>8</td>\n",
       "      <td>50</td>\n",
       "      <td>0</td>\n",
       "    </tr>\n",
       "    <tr>\n",
       "      <th>6501</th>\n",
       "      <td>700</td>\n",
       "      <td>Айдар</td>\n",
       "      <td>22</td>\n",
       "      <td>Омск</td>\n",
       "      <td>free</td>\n",
       "      <td>846.93</td>\n",
       "      <td>16.234663</td>\n",
       "      <td>2021-02-01</td>\n",
       "      <td>2</td>\n",
       "      <td>8</td>\n",
       "      <td>50</td>\n",
       "      <td>0</td>\n",
       "    </tr>\n",
       "    <tr>\n",
       "      <th>6502</th>\n",
       "      <td>700</td>\n",
       "      <td>Айдар</td>\n",
       "      <td>22</td>\n",
       "      <td>Омск</td>\n",
       "      <td>free</td>\n",
       "      <td>4004.43</td>\n",
       "      <td>20.016628</td>\n",
       "      <td>2021-02-04</td>\n",
       "      <td>2</td>\n",
       "      <td>8</td>\n",
       "      <td>50</td>\n",
       "      <td>0</td>\n",
       "    </tr>\n",
       "    <tr>\n",
       "      <th>6503</th>\n",
       "      <td>700</td>\n",
       "      <td>Айдар</td>\n",
       "      <td>22</td>\n",
       "      <td>Омск</td>\n",
       "      <td>free</td>\n",
       "      <td>1205.91</td>\n",
       "      <td>9.782872</td>\n",
       "      <td>2021-02-10</td>\n",
       "      <td>2</td>\n",
       "      <td>8</td>\n",
       "      <td>50</td>\n",
       "      <td>0</td>\n",
       "    </tr>\n",
       "    <tr>\n",
       "      <th>6504</th>\n",
       "      <td>700</td>\n",
       "      <td>Айдар</td>\n",
       "      <td>22</td>\n",
       "      <td>Омск</td>\n",
       "      <td>free</td>\n",
       "      <td>3047.38</td>\n",
       "      <td>17.427673</td>\n",
       "      <td>2021-02-14</td>\n",
       "      <td>2</td>\n",
       "      <td>8</td>\n",
       "      <td>50</td>\n",
       "      <td>0</td>\n",
       "    </tr>\n",
       "  </tbody>\n",
       "</table>\n",
       "</div>"
      ],
      "text/plain": [
       "      user_id   name  age  city subscription_type  distance   duration  \\\n",
       "6500      700  Айдар   22  Омск              free   2515.69  14.944286   \n",
       "6501      700  Айдар   22  Омск              free    846.93  16.234663   \n",
       "6502      700  Айдар   22  Омск              free   4004.43  20.016628   \n",
       "6503      700  Айдар   22  Омск              free   1205.91   9.782872   \n",
       "6504      700  Айдар   22  Омск              free   3047.38  17.427673   \n",
       "\n",
       "           date  month  minute_price  start_ride_price  subscription_fee  \n",
       "6500 2021-01-02      1             8                50                 0  \n",
       "6501 2021-02-01      2             8                50                 0  \n",
       "6502 2021-02-04      2             8                50                 0  \n",
       "6503 2021-02-10      2             8                50                 0  \n",
       "6504 2021-02-14      2             8                50                 0  "
      ]
     },
     "execution_count": 29,
     "metadata": {},
     "output_type": "execute_result"
    }
   ],
   "source": [
    "# Датафрейм данных с пользователями без подписки\n",
    "free_data = total_data.loc[total_data['subscription_type'] == 'free']\n",
    "free_data.head()"
   ]
  },
  {
   "cell_type": "code",
   "execution_count": 30,
   "id": "7f2dbcc6",
   "metadata": {},
   "outputs": [
    {
     "name": "stdout",
     "output_type": "stream",
     "text": [
      "<class 'pandas.core.frame.DataFrame'>\n",
      "Int64Index: 11568 entries, 6500 to 18067\n",
      "Data columns (total 12 columns):\n",
      " #   Column             Non-Null Count  Dtype         \n",
      "---  ------             --------------  -----         \n",
      " 0   user_id            11568 non-null  int64         \n",
      " 1   name               11568 non-null  object        \n",
      " 2   age                11568 non-null  int64         \n",
      " 3   city               11568 non-null  object        \n",
      " 4   subscription_type  11568 non-null  object        \n",
      " 5   distance           11568 non-null  float64       \n",
      " 6   duration           11568 non-null  float64       \n",
      " 7   date               11568 non-null  datetime64[ns]\n",
      " 8   month              11568 non-null  int64         \n",
      " 9   minute_price       11568 non-null  int64         \n",
      " 10  start_ride_price   11568 non-null  int64         \n",
      " 11  subscription_fee   11568 non-null  int64         \n",
      "dtypes: datetime64[ns](1), float64(2), int64(6), object(3)\n",
      "memory usage: 1.1+ MB\n"
     ]
    }
   ],
   "source": [
    "free_data.info()"
   ]
  },
  {
   "cell_type": "markdown",
   "id": "ce615b01",
   "metadata": {},
   "source": [
    "# 4.2.2 данные о пользователях с подпиской"
   ]
  },
  {
   "cell_type": "code",
   "execution_count": 31,
   "id": "541ac9f6",
   "metadata": {},
   "outputs": [
    {
     "data": {
      "text/html": [
       "<div>\n",
       "<style scoped>\n",
       "    .dataframe tbody tr th:only-of-type {\n",
       "        vertical-align: middle;\n",
       "    }\n",
       "\n",
       "    .dataframe tbody tr th {\n",
       "        vertical-align: top;\n",
       "    }\n",
       "\n",
       "    .dataframe thead th {\n",
       "        text-align: right;\n",
       "    }\n",
       "</style>\n",
       "<table border=\"1\" class=\"dataframe\">\n",
       "  <thead>\n",
       "    <tr style=\"text-align: right;\">\n",
       "      <th></th>\n",
       "      <th>user_id</th>\n",
       "      <th>name</th>\n",
       "      <th>age</th>\n",
       "      <th>city</th>\n",
       "      <th>subscription_type</th>\n",
       "      <th>distance</th>\n",
       "      <th>duration</th>\n",
       "      <th>date</th>\n",
       "      <th>month</th>\n",
       "      <th>minute_price</th>\n",
       "      <th>start_ride_price</th>\n",
       "      <th>subscription_fee</th>\n",
       "    </tr>\n",
       "  </thead>\n",
       "  <tbody>\n",
       "    <tr>\n",
       "      <th>0</th>\n",
       "      <td>1</td>\n",
       "      <td>Кира</td>\n",
       "      <td>22</td>\n",
       "      <td>Тюмень</td>\n",
       "      <td>ultra</td>\n",
       "      <td>4409.92</td>\n",
       "      <td>25.599769</td>\n",
       "      <td>2021-01-01</td>\n",
       "      <td>1</td>\n",
       "      <td>6</td>\n",
       "      <td>0</td>\n",
       "      <td>199</td>\n",
       "    </tr>\n",
       "    <tr>\n",
       "      <th>1</th>\n",
       "      <td>1</td>\n",
       "      <td>Кира</td>\n",
       "      <td>22</td>\n",
       "      <td>Тюмень</td>\n",
       "      <td>ultra</td>\n",
       "      <td>2617.59</td>\n",
       "      <td>15.816871</td>\n",
       "      <td>2021-01-18</td>\n",
       "      <td>1</td>\n",
       "      <td>6</td>\n",
       "      <td>0</td>\n",
       "      <td>199</td>\n",
       "    </tr>\n",
       "    <tr>\n",
       "      <th>2</th>\n",
       "      <td>1</td>\n",
       "      <td>Кира</td>\n",
       "      <td>22</td>\n",
       "      <td>Тюмень</td>\n",
       "      <td>ultra</td>\n",
       "      <td>754.16</td>\n",
       "      <td>6.232113</td>\n",
       "      <td>2021-04-20</td>\n",
       "      <td>4</td>\n",
       "      <td>6</td>\n",
       "      <td>0</td>\n",
       "      <td>199</td>\n",
       "    </tr>\n",
       "    <tr>\n",
       "      <th>3</th>\n",
       "      <td>1</td>\n",
       "      <td>Кира</td>\n",
       "      <td>22</td>\n",
       "      <td>Тюмень</td>\n",
       "      <td>ultra</td>\n",
       "      <td>2694.78</td>\n",
       "      <td>18.511000</td>\n",
       "      <td>2021-08-11</td>\n",
       "      <td>8</td>\n",
       "      <td>6</td>\n",
       "      <td>0</td>\n",
       "      <td>199</td>\n",
       "    </tr>\n",
       "    <tr>\n",
       "      <th>4</th>\n",
       "      <td>1</td>\n",
       "      <td>Кира</td>\n",
       "      <td>22</td>\n",
       "      <td>Тюмень</td>\n",
       "      <td>ultra</td>\n",
       "      <td>4028.69</td>\n",
       "      <td>26.265803</td>\n",
       "      <td>2021-08-28</td>\n",
       "      <td>8</td>\n",
       "      <td>6</td>\n",
       "      <td>0</td>\n",
       "      <td>199</td>\n",
       "    </tr>\n",
       "  </tbody>\n",
       "</table>\n",
       "</div>"
      ],
      "text/plain": [
       "   user_id  name  age    city subscription_type  distance   duration  \\\n",
       "0        1  Кира   22  Тюмень             ultra   4409.92  25.599769   \n",
       "1        1  Кира   22  Тюмень             ultra   2617.59  15.816871   \n",
       "2        1  Кира   22  Тюмень             ultra    754.16   6.232113   \n",
       "3        1  Кира   22  Тюмень             ultra   2694.78  18.511000   \n",
       "4        1  Кира   22  Тюмень             ultra   4028.69  26.265803   \n",
       "\n",
       "        date  month  minute_price  start_ride_price  subscription_fee  \n",
       "0 2021-01-01      1             6                 0               199  \n",
       "1 2021-01-18      1             6                 0               199  \n",
       "2 2021-04-20      4             6                 0               199  \n",
       "3 2021-08-11      8             6                 0               199  \n",
       "4 2021-08-28      8             6                 0               199  "
      ]
     },
     "execution_count": 31,
     "metadata": {},
     "output_type": "execute_result"
    }
   ],
   "source": [
    "# Датафрейм данных с пользователями с подпиской\n",
    "ultra_data = total_data.loc[total_data['subscription_type'] == 'ultra']\n",
    "ultra_data.head()"
   ]
  },
  {
   "cell_type": "code",
   "execution_count": 32,
   "id": "9a540bba",
   "metadata": {
    "scrolled": false
   },
   "outputs": [
    {
     "name": "stdout",
     "output_type": "stream",
     "text": [
      "<class 'pandas.core.frame.DataFrame'>\n",
      "Int64Index: 6500 entries, 0 to 6499\n",
      "Data columns (total 12 columns):\n",
      " #   Column             Non-Null Count  Dtype         \n",
      "---  ------             --------------  -----         \n",
      " 0   user_id            6500 non-null   int64         \n",
      " 1   name               6500 non-null   object        \n",
      " 2   age                6500 non-null   int64         \n",
      " 3   city               6500 non-null   object        \n",
      " 4   subscription_type  6500 non-null   object        \n",
      " 5   distance           6500 non-null   float64       \n",
      " 6   duration           6500 non-null   float64       \n",
      " 7   date               6500 non-null   datetime64[ns]\n",
      " 8   month              6500 non-null   int64         \n",
      " 9   minute_price       6500 non-null   int64         \n",
      " 10  start_ride_price   6500 non-null   int64         \n",
      " 11  subscription_fee   6500 non-null   int64         \n",
      "dtypes: datetime64[ns](1), float64(2), int64(6), object(3)\n",
      "memory usage: 660.2+ KB\n"
     ]
    }
   ],
   "source": [
    "ultra_data.info()"
   ]
  },
  {
   "cell_type": "markdown",
   "id": "fa1de363",
   "metadata": {},
   "source": [
    "# 4.3 визуализируем информацию о расстоянии и времени поездок для пользователей обеих категорий."
   ]
  },
  {
   "cell_type": "code",
   "execution_count": 33,
   "id": "2066472b",
   "metadata": {
    "scrolled": false
   },
   "outputs": [
    {
     "data": {
      "image/png": "[encoded data removed]",
      "text/plain": [
       "<Figure size 720x576 with 1 Axes>"
      ]
     },
     "metadata": {
      "needs_background": "light"
     },
     "output_type": "display_data"
    },
    {
     "data": {
      "image/png": "[encoded data removed]",
      "text/plain": [
       "<Figure size 720x576 with 1 Axes>"
      ]
     },
     "metadata": {
      "needs_background": "light"
     },
     "output_type": "display_data"
    }
   ],
   "source": [
    "# Гистограмма расстояний для пользователей с разными типами подписок\n",
    "plt.figure(figsize=(10, 8))\n",
    "plt.hist(free_data['distance'], bins=50, range=(1, 5600), alpha=0.7, label='free')\n",
    "plt.hist(ultra_data['distance'], bins=50, range=(1, 5600), alpha=0.7, label='ultra')\n",
    "plt.title('Количество поездок в зависимости от расстояния поездки')\n",
    "plt.xlabel('Расстояние в метрах')\n",
    "plt.ylabel('Количество поездок')\n",
    "plt.grid()\n",
    "plt.legend(loc='upper right')\n",
    "plt.show()\n",
    "\n",
    "# Гистограмма продолжительности поездок для пользователей с разными типами подписок\n",
    "plt.figure(figsize=(10, 8))\n",
    "plt.hist(free_data['duration'], bins=30, range=(1, 30), alpha=0.7, label='free')\n",
    "plt.hist(ultra_data['duration'], bins=30, range=(1, 30), alpha=0.7, label='ultra')\n",
    "plt.title('Количество поездок в зависимости от продолжительности')\n",
    "plt.xlabel('Продолжительность поездки')\n",
    "plt.ylabel('Количество поездок')\n",
    "plt.grid()\n",
    "plt.legend(loc='upper right')\n",
    "plt.show()"
   ]
  },
  {
   "cell_type": "code",
   "execution_count": 34,
   "id": "45839c0b",
   "metadata": {},
   "outputs": [
    {
     "data": {
      "text/html": [
       "<div>\n",
       "<style scoped>\n",
       "    .dataframe tbody tr th:only-of-type {\n",
       "        vertical-align: middle;\n",
       "    }\n",
       "\n",
       "    .dataframe tbody tr th {\n",
       "        vertical-align: top;\n",
       "    }\n",
       "\n",
       "    .dataframe thead th {\n",
       "        text-align: right;\n",
       "    }\n",
       "</style>\n",
       "<table border=\"1\" class=\"dataframe\">\n",
       "  <thead>\n",
       "    <tr style=\"text-align: right;\">\n",
       "      <th></th>\n",
       "      <th>user_id</th>\n",
       "      <th>age</th>\n",
       "      <th>distance</th>\n",
       "      <th>duration</th>\n",
       "      <th>month</th>\n",
       "      <th>minute_price</th>\n",
       "      <th>start_ride_price</th>\n",
       "      <th>subscription_fee</th>\n",
       "    </tr>\n",
       "  </thead>\n",
       "  <tbody>\n",
       "    <tr>\n",
       "      <th>count</th>\n",
       "      <td>18068.000000</td>\n",
       "      <td>18068.000000</td>\n",
       "      <td>18068.000000</td>\n",
       "      <td>18068.000000</td>\n",
       "      <td>18068.000000</td>\n",
       "      <td>18068.000000</td>\n",
       "      <td>18068.000000</td>\n",
       "      <td>18068.000000</td>\n",
       "    </tr>\n",
       "    <tr>\n",
       "      <th>mean</th>\n",
       "      <td>842.869936</td>\n",
       "      <td>24.893071</td>\n",
       "      <td>3070.659992</td>\n",
       "      <td>17.805011</td>\n",
       "      <td>6.486772</td>\n",
       "      <td>7.280496</td>\n",
       "      <td>32.012398</td>\n",
       "      <td>71.590658</td>\n",
       "    </tr>\n",
       "    <tr>\n",
       "      <th>std</th>\n",
       "      <td>434.734317</td>\n",
       "      <td>4.582216</td>\n",
       "      <td>1116.831222</td>\n",
       "      <td>6.091051</td>\n",
       "      <td>3.437410</td>\n",
       "      <td>0.959882</td>\n",
       "      <td>23.997045</td>\n",
       "      <td>95.508238</td>\n",
       "    </tr>\n",
       "    <tr>\n",
       "      <th>min</th>\n",
       "      <td>1.000000</td>\n",
       "      <td>12.000000</td>\n",
       "      <td>0.860000</td>\n",
       "      <td>0.500000</td>\n",
       "      <td>1.000000</td>\n",
       "      <td>6.000000</td>\n",
       "      <td>0.000000</td>\n",
       "      <td>0.000000</td>\n",
       "    </tr>\n",
       "    <tr>\n",
       "      <th>25%</th>\n",
       "      <td>487.000000</td>\n",
       "      <td>22.000000</td>\n",
       "      <td>2543.227500</td>\n",
       "      <td>13.597563</td>\n",
       "      <td>4.000000</td>\n",
       "      <td>6.000000</td>\n",
       "      <td>0.000000</td>\n",
       "      <td>0.000000</td>\n",
       "    </tr>\n",
       "    <tr>\n",
       "      <th>50%</th>\n",
       "      <td>889.000000</td>\n",
       "      <td>25.000000</td>\n",
       "      <td>3133.610000</td>\n",
       "      <td>17.678395</td>\n",
       "      <td>6.000000</td>\n",
       "      <td>8.000000</td>\n",
       "      <td>50.000000</td>\n",
       "      <td>0.000000</td>\n",
       "    </tr>\n",
       "    <tr>\n",
       "      <th>75%</th>\n",
       "      <td>1213.250000</td>\n",
       "      <td>28.000000</td>\n",
       "      <td>3776.220000</td>\n",
       "      <td>21.724800</td>\n",
       "      <td>9.000000</td>\n",
       "      <td>8.000000</td>\n",
       "      <td>50.000000</td>\n",
       "      <td>199.000000</td>\n",
       "    </tr>\n",
       "    <tr>\n",
       "      <th>max</th>\n",
       "      <td>1534.000000</td>\n",
       "      <td>43.000000</td>\n",
       "      <td>7211.010000</td>\n",
       "      <td>40.823963</td>\n",
       "      <td>12.000000</td>\n",
       "      <td>8.000000</td>\n",
       "      <td>50.000000</td>\n",
       "      <td>199.000000</td>\n",
       "    </tr>\n",
       "  </tbody>\n",
       "</table>\n",
       "</div>"
      ],
      "text/plain": [
       "            user_id           age      distance      duration         month  \\\n",
       "count  18068.000000  18068.000000  18068.000000  18068.000000  18068.000000   \n",
       "mean     842.869936     24.893071   3070.659992     17.805011      6.486772   \n",
       "std      434.734317      4.582216   1116.831222      6.091051      3.437410   \n",
       "min        1.000000     12.000000      0.860000      0.500000      1.000000   \n",
       "25%      487.000000     22.000000   2543.227500     13.597563      4.000000   \n",
       "50%      889.000000     25.000000   3133.610000     17.678395      6.000000   \n",
       "75%     1213.250000     28.000000   3776.220000     21.724800      9.000000   \n",
       "max     1534.000000     43.000000   7211.010000     40.823963     12.000000   \n",
       "\n",
       "       minute_price  start_ride_price  subscription_fee  \n",
       "count  18068.000000      18068.000000      18068.000000  \n",
       "mean       7.280496         32.012398         71.590658  \n",
       "std        0.959882         23.997045         95.508238  \n",
       "min        6.000000          0.000000          0.000000  \n",
       "25%        6.000000          0.000000          0.000000  \n",
       "50%        8.000000         50.000000          0.000000  \n",
       "75%        8.000000         50.000000        199.000000  \n",
       "max        8.000000         50.000000        199.000000  "
      ]
     },
     "execution_count": 34,
     "metadata": {},
     "output_type": "execute_result"
    }
   ],
   "source": [
    "total_data.describe()"
   ]
  },
  {
   "cell_type": "code",
   "execution_count": 35,
   "id": "60c37097",
   "metadata": {},
   "outputs": [
    {
     "data": {
      "text/plain": [
       "count    11568.000000\n",
       "mean      3045.495284\n",
       "std       1246.173810\n",
       "min          0.860000\n",
       "25%       2366.560000\n",
       "50%       3114.650000\n",
       "75%       3905.695000\n",
       "max       7211.010000\n",
       "Name: distance, dtype: float64"
      ]
     },
     "execution_count": 35,
     "metadata": {},
     "output_type": "execute_result"
    }
   ],
   "source": [
    "free_data['distance'].describe()"
   ]
  },
  {
   "cell_type": "code",
   "execution_count": 36,
   "id": "34a4c90c",
   "metadata": {},
   "outputs": [
    {
     "data": {
      "text/plain": [
       "count    6500.000000\n",
       "mean     3115.445431\n",
       "std       836.895369\n",
       "min       244.210000\n",
       "25%      2785.447500\n",
       "50%      3148.640000\n",
       "75%      3560.577500\n",
       "max      5699.770000\n",
       "Name: distance, dtype: float64"
      ]
     },
     "execution_count": 36,
     "metadata": {},
     "output_type": "execute_result"
    }
   ],
   "source": [
    "ultra_data['distance'].describe()"
   ]
  },
  {
   "cell_type": "code",
   "execution_count": 37,
   "id": "8f7ca952",
   "metadata": {},
   "outputs": [
    {
     "data": {
      "text/plain": [
       "count    11568.000000\n",
       "mean        17.390909\n",
       "std          6.326803\n",
       "min          0.500000\n",
       "25%         12.958437\n",
       "50%         17.326890\n",
       "75%         21.594071\n",
       "max         34.948498\n",
       "Name: duration, dtype: float64"
      ]
     },
     "execution_count": 37,
     "metadata": {},
     "output_type": "execute_result"
    }
   ],
   "source": [
    "free_data['duration'].describe()"
   ]
  },
  {
   "cell_type": "code",
   "execution_count": 38,
   "id": "0fd7346d",
   "metadata": {},
   "outputs": [
    {
     "data": {
      "text/plain": [
       "count    6500.000000\n",
       "mean       18.541985\n",
       "std         5.572048\n",
       "min         3.760353\n",
       "25%        14.524654\n",
       "50%        18.178153\n",
       "75%        21.884129\n",
       "max        40.823963\n",
       "Name: duration, dtype: float64"
      ]
     },
     "execution_count": 38,
     "metadata": {},
     "output_type": "execute_result"
    }
   ],
   "source": [
    "ultra_data['duration'].describe()"
   ]
  },
  {
   "cell_type": "markdown",
   "id": "08ba2231",
   "metadata": {},
   "source": [
    "Промежуточный вывод по объединению и визуализации данных пользователей с подпиской и без:\n",
    "\n",
    "\n",
    "- Из описания стобцов и визуализации данных для пользователей с разными типами подписок видно, что имеющаяся подписка оказывает влияние на средние значения количества поездок и их продолжительность. Например, медианное расстояние поездки для пользователей с подпиской немного выше, чем для пользователей без подписки (расстояния поезки без подписки 3114.65 метров с подпиской 3148.64 метров). Также наблюдается сокращение разброса данных и более узкий интервал для пользователей с подпиской.\n",
    "\n",
    "\n",
    "\n",
    "- Аналогично, визуализация данных для количества поездок за определенное время также указывает, что подписка влияет на значения. Среднее время поездки для пользователей без подписки составляет около 18 минут, в то время как для пользователей с подпиской - около 19 минут. Кроме того, стандартное отклонение значительно снижается у пользователей с подпиской (без подписки - 6.33, с подпиской - 5.57), что указывает на более стабильное время поездок у этой группы пользователей."
   ]
  },
  {
   "cell_type": "markdown",
   "id": "402d620f",
   "metadata": {},
   "source": [
    "#### Шаг 5. Подсчёт выручки"
   ]
  },
  {
   "cell_type": "markdown",
   "id": "5b89fff2",
   "metadata": {},
   "source": [
    "# 5.1 создайте датафрейм с агрегированными данными о поездках на основе датафрейма с объединёнными данными: найдите суммарное расстояние, количество поездок и суммарное время для каждого пользователя за каждый месяц."
   ]
  },
  {
   "cell_type": "code",
   "execution_count": 39,
   "id": "f3624507",
   "metadata": {},
   "outputs": [],
   "source": [
    "# Окргуляем продолжительность поездок до следующего целого числа\n",
    "total_data['duration'] = np.ceil(total_data['duration']).astype('int')"
   ]
  },
  {
   "cell_type": "code",
   "execution_count": 40,
   "id": "9418cfc1",
   "metadata": {},
   "outputs": [
    {
     "data": {
      "text/html": [
       "<div>\n",
       "<style scoped>\n",
       "    .dataframe tbody tr th:only-of-type {\n",
       "        vertical-align: middle;\n",
       "    }\n",
       "\n",
       "    .dataframe tbody tr th {\n",
       "        vertical-align: top;\n",
       "    }\n",
       "\n",
       "    .dataframe thead th {\n",
       "        text-align: right;\n",
       "    }\n",
       "</style>\n",
       "<table border=\"1\" class=\"dataframe\">\n",
       "  <thead>\n",
       "    <tr style=\"text-align: right;\">\n",
       "      <th></th>\n",
       "      <th></th>\n",
       "      <th>count</th>\n",
       "      <th>total_distance</th>\n",
       "      <th>total_duration</th>\n",
       "      <th>minute_price</th>\n",
       "      <th>start_ride_price</th>\n",
       "      <th>subscription_fee</th>\n",
       "    </tr>\n",
       "    <tr>\n",
       "      <th>user_id</th>\n",
       "      <th>month</th>\n",
       "      <th></th>\n",
       "      <th></th>\n",
       "      <th></th>\n",
       "      <th></th>\n",
       "      <th></th>\n",
       "      <th></th>\n",
       "    </tr>\n",
       "  </thead>\n",
       "  <tbody>\n",
       "    <tr>\n",
       "      <th rowspan=\"6\" valign=\"top\">1</th>\n",
       "      <th>1</th>\n",
       "      <td>2</td>\n",
       "      <td>7027.51</td>\n",
       "      <td>42</td>\n",
       "      <td>6</td>\n",
       "      <td>0</td>\n",
       "      <td>199</td>\n",
       "    </tr>\n",
       "    <tr>\n",
       "      <th>4</th>\n",
       "      <td>1</td>\n",
       "      <td>754.16</td>\n",
       "      <td>7</td>\n",
       "      <td>6</td>\n",
       "      <td>0</td>\n",
       "      <td>199</td>\n",
       "    </tr>\n",
       "    <tr>\n",
       "      <th>8</th>\n",
       "      <td>2</td>\n",
       "      <td>6723.47</td>\n",
       "      <td>46</td>\n",
       "      <td>6</td>\n",
       "      <td>0</td>\n",
       "      <td>199</td>\n",
       "    </tr>\n",
       "    <tr>\n",
       "      <th>10</th>\n",
       "      <td>2</td>\n",
       "      <td>5809.91</td>\n",
       "      <td>32</td>\n",
       "      <td>6</td>\n",
       "      <td>0</td>\n",
       "      <td>199</td>\n",
       "    </tr>\n",
       "    <tr>\n",
       "      <th>11</th>\n",
       "      <td>3</td>\n",
       "      <td>7003.50</td>\n",
       "      <td>56</td>\n",
       "      <td>6</td>\n",
       "      <td>0</td>\n",
       "      <td>199</td>\n",
       "    </tr>\n",
       "    <tr>\n",
       "      <th>12</th>\n",
       "      <td>2</td>\n",
       "      <td>6751.63</td>\n",
       "      <td>28</td>\n",
       "      <td>6</td>\n",
       "      <td>0</td>\n",
       "      <td>199</td>\n",
       "    </tr>\n",
       "    <tr>\n",
       "      <th rowspan=\"7\" valign=\"top\">2</th>\n",
       "      <th>3</th>\n",
       "      <td>3</td>\n",
       "      <td>10187.73</td>\n",
       "      <td>63</td>\n",
       "      <td>6</td>\n",
       "      <td>0</td>\n",
       "      <td>199</td>\n",
       "    </tr>\n",
       "    <tr>\n",
       "      <th>4</th>\n",
       "      <td>2</td>\n",
       "      <td>6164.39</td>\n",
       "      <td>40</td>\n",
       "      <td>6</td>\n",
       "      <td>0</td>\n",
       "      <td>199</td>\n",
       "    </tr>\n",
       "    <tr>\n",
       "      <th>6</th>\n",
       "      <td>1</td>\n",
       "      <td>3255.34</td>\n",
       "      <td>14</td>\n",
       "      <td>6</td>\n",
       "      <td>0</td>\n",
       "      <td>199</td>\n",
       "    </tr>\n",
       "    <tr>\n",
       "      <th>7</th>\n",
       "      <td>2</td>\n",
       "      <td>6780.73</td>\n",
       "      <td>48</td>\n",
       "      <td>6</td>\n",
       "      <td>0</td>\n",
       "      <td>199</td>\n",
       "    </tr>\n",
       "    <tr>\n",
       "      <th>8</th>\n",
       "      <td>1</td>\n",
       "      <td>923.01</td>\n",
       "      <td>7</td>\n",
       "      <td>6</td>\n",
       "      <td>0</td>\n",
       "      <td>199</td>\n",
       "    </tr>\n",
       "    <tr>\n",
       "      <th>10</th>\n",
       "      <td>1</td>\n",
       "      <td>2824.64</td>\n",
       "      <td>19</td>\n",
       "      <td>6</td>\n",
       "      <td>0</td>\n",
       "      <td>199</td>\n",
       "    </tr>\n",
       "    <tr>\n",
       "      <th>12</th>\n",
       "      <td>1</td>\n",
       "      <td>3828.25</td>\n",
       "      <td>12</td>\n",
       "      <td>6</td>\n",
       "      <td>0</td>\n",
       "      <td>199</td>\n",
       "    </tr>\n",
       "    <tr>\n",
       "      <th rowspan=\"7\" valign=\"top\">3</th>\n",
       "      <th>1</th>\n",
       "      <td>1</td>\n",
       "      <td>3061.78</td>\n",
       "      <td>13</td>\n",
       "      <td>6</td>\n",
       "      <td>0</td>\n",
       "      <td>199</td>\n",
       "    </tr>\n",
       "    <tr>\n",
       "      <th>2</th>\n",
       "      <td>2</td>\n",
       "      <td>5421.16</td>\n",
       "      <td>39</td>\n",
       "      <td>6</td>\n",
       "      <td>0</td>\n",
       "      <td>199</td>\n",
       "    </tr>\n",
       "    <tr>\n",
       "      <th>4</th>\n",
       "      <td>1</td>\n",
       "      <td>2956.65</td>\n",
       "      <td>21</td>\n",
       "      <td>6</td>\n",
       "      <td>0</td>\n",
       "      <td>199</td>\n",
       "    </tr>\n",
       "    <tr>\n",
       "      <th>5</th>\n",
       "      <td>3</td>\n",
       "      <td>9064.03</td>\n",
       "      <td>63</td>\n",
       "      <td>6</td>\n",
       "      <td>0</td>\n",
       "      <td>199</td>\n",
       "    </tr>\n",
       "    <tr>\n",
       "      <th>7</th>\n",
       "      <td>3</td>\n",
       "      <td>10919.59</td>\n",
       "      <td>67</td>\n",
       "      <td>6</td>\n",
       "      <td>0</td>\n",
       "      <td>199</td>\n",
       "    </tr>\n",
       "    <tr>\n",
       "      <th>9</th>\n",
       "      <td>1</td>\n",
       "      <td>2891.01</td>\n",
       "      <td>23</td>\n",
       "      <td>6</td>\n",
       "      <td>0</td>\n",
       "      <td>199</td>\n",
       "    </tr>\n",
       "    <tr>\n",
       "      <th>12</th>\n",
       "      <td>1</td>\n",
       "      <td>2593.38</td>\n",
       "      <td>13</td>\n",
       "      <td>6</td>\n",
       "      <td>0</td>\n",
       "      <td>199</td>\n",
       "    </tr>\n",
       "  </tbody>\n",
       "</table>\n",
       "</div>"
      ],
      "text/plain": [
       "               count  total_distance  total_duration  minute_price  \\\n",
       "user_id month                                                        \n",
       "1       1          2         7027.51              42             6   \n",
       "        4          1          754.16               7             6   \n",
       "        8          2         6723.47              46             6   \n",
       "        10         2         5809.91              32             6   \n",
       "        11         3         7003.50              56             6   \n",
       "        12         2         6751.63              28             6   \n",
       "2       3          3        10187.73              63             6   \n",
       "        4          2         6164.39              40             6   \n",
       "        6          1         3255.34              14             6   \n",
       "        7          2         6780.73              48             6   \n",
       "        8          1          923.01               7             6   \n",
       "        10         1         2824.64              19             6   \n",
       "        12         1         3828.25              12             6   \n",
       "3       1          1         3061.78              13             6   \n",
       "        2          2         5421.16              39             6   \n",
       "        4          1         2956.65              21             6   \n",
       "        5          3         9064.03              63             6   \n",
       "        7          3        10919.59              67             6   \n",
       "        9          1         2891.01              23             6   \n",
       "        12         1         2593.38              13             6   \n",
       "\n",
       "               start_ride_price  subscription_fee  \n",
       "user_id month                                      \n",
       "1       1                     0               199  \n",
       "        4                     0               199  \n",
       "        8                     0               199  \n",
       "        10                    0               199  \n",
       "        11                    0               199  \n",
       "        12                    0               199  \n",
       "2       3                     0               199  \n",
       "        4                     0               199  \n",
       "        6                     0               199  \n",
       "        7                     0               199  \n",
       "        8                     0               199  \n",
       "        10                    0               199  \n",
       "        12                    0               199  \n",
       "3       1                     0               199  \n",
       "        2                     0               199  \n",
       "        4                     0               199  \n",
       "        5                     0               199  \n",
       "        7                     0               199  \n",
       "        9                     0               199  \n",
       "        12                    0               199  "
      ]
     },
     "execution_count": 40,
     "metadata": {},
     "output_type": "execute_result"
    }
   ],
   "source": [
    "# Создаем сводную таблицу для подсчета обьединенных данных по пользователю и месяцу\n",
    "revenue_per_month = (\n",
    "    total_data\n",
    "    .pivot_table(index=('user_id', 'month'), values=('distance', 'duration', 'minute_price', 'start_ride_price', 'subscription_fee'), aggfunc={'distance': ['count', 'sum'], 'duration': 'sum', 'minute_price': 'mean', 'start_ride_price': 'mean', 'subscription_fee': 'mean'})\n",
    ")\n",
    "\n",
    "# Переименовываем столбцы \n",
    "revenue_per_month.columns = ['count', 'total_distance', 'total_duration', 'minute_price', 'start_ride_price', 'subscription_fee']\n",
    "\n",
    "\n",
    "revenue_per_month.head(20)\n",
    "\n",
    "\n"
   ]
  },
  {
   "cell_type": "code",
   "execution_count": 41,
   "id": "37eb2de0",
   "metadata": {},
   "outputs": [
    {
     "data": {
      "text/html": [
       "<div>\n",
       "<style scoped>\n",
       "    .dataframe tbody tr th:only-of-type {\n",
       "        vertical-align: middle;\n",
       "    }\n",
       "\n",
       "    .dataframe tbody tr th {\n",
       "        vertical-align: top;\n",
       "    }\n",
       "\n",
       "    .dataframe thead th {\n",
       "        text-align: right;\n",
       "    }\n",
       "</style>\n",
       "<table border=\"1\" class=\"dataframe\">\n",
       "  <thead>\n",
       "    <tr style=\"text-align: right;\">\n",
       "      <th></th>\n",
       "      <th></th>\n",
       "      <th>count</th>\n",
       "      <th>total_distance</th>\n",
       "      <th>total_duration</th>\n",
       "      <th>minute_price</th>\n",
       "      <th>start_ride_price</th>\n",
       "      <th>subscription_fee</th>\n",
       "    </tr>\n",
       "    <tr>\n",
       "      <th>user_id</th>\n",
       "      <th>month</th>\n",
       "      <th></th>\n",
       "      <th></th>\n",
       "      <th></th>\n",
       "      <th></th>\n",
       "      <th></th>\n",
       "      <th></th>\n",
       "    </tr>\n",
       "  </thead>\n",
       "  <tbody>\n",
       "    <tr>\n",
       "      <th rowspan=\"6\" valign=\"top\">1</th>\n",
       "      <th>1</th>\n",
       "      <td>2</td>\n",
       "      <td>7027.51</td>\n",
       "      <td>42</td>\n",
       "      <td>6</td>\n",
       "      <td>0</td>\n",
       "      <td>199</td>\n",
       "    </tr>\n",
       "    <tr>\n",
       "      <th>4</th>\n",
       "      <td>1</td>\n",
       "      <td>754.16</td>\n",
       "      <td>7</td>\n",
       "      <td>6</td>\n",
       "      <td>0</td>\n",
       "      <td>199</td>\n",
       "    </tr>\n",
       "    <tr>\n",
       "      <th>8</th>\n",
       "      <td>2</td>\n",
       "      <td>6723.47</td>\n",
       "      <td>46</td>\n",
       "      <td>6</td>\n",
       "      <td>0</td>\n",
       "      <td>199</td>\n",
       "    </tr>\n",
       "    <tr>\n",
       "      <th>10</th>\n",
       "      <td>2</td>\n",
       "      <td>5809.91</td>\n",
       "      <td>32</td>\n",
       "      <td>6</td>\n",
       "      <td>0</td>\n",
       "      <td>199</td>\n",
       "    </tr>\n",
       "    <tr>\n",
       "      <th>11</th>\n",
       "      <td>3</td>\n",
       "      <td>7003.50</td>\n",
       "      <td>56</td>\n",
       "      <td>6</td>\n",
       "      <td>0</td>\n",
       "      <td>199</td>\n",
       "    </tr>\n",
       "    <tr>\n",
       "      <th>12</th>\n",
       "      <td>2</td>\n",
       "      <td>6751.63</td>\n",
       "      <td>28</td>\n",
       "      <td>6</td>\n",
       "      <td>0</td>\n",
       "      <td>199</td>\n",
       "    </tr>\n",
       "  </tbody>\n",
       "</table>\n",
       "</div>"
      ],
      "text/plain": [
       "               count  total_distance  total_duration  minute_price  \\\n",
       "user_id month                                                        \n",
       "1       1          2         7027.51              42             6   \n",
       "        4          1          754.16               7             6   \n",
       "        8          2         6723.47              46             6   \n",
       "        10         2         5809.91              32             6   \n",
       "        11         3         7003.50              56             6   \n",
       "        12         2         6751.63              28             6   \n",
       "\n",
       "               start_ride_price  subscription_fee  \n",
       "user_id month                                      \n",
       "1       1                     0               199  \n",
       "        4                     0               199  \n",
       "        8                     0               199  \n",
       "        10                    0               199  \n",
       "        11                    0               199  \n",
       "        12                    0               199  "
      ]
     },
     "execution_count": 41,
     "metadata": {},
     "output_type": "execute_result"
    }
   ],
   "source": [
    "revenue_per_month.query('user_id == 1')"
   ]
  },
  {
   "cell_type": "markdown",
   "id": "258443d4",
   "metadata": {},
   "source": [
    "# 5.2 в этот же датафрейм добавьте столбец с помесячной выручкой, которую принёс каждый пользователь."
   ]
  },
  {
   "cell_type": "code",
   "execution_count": 42,
   "id": "343cc259",
   "metadata": {},
   "outputs": [
    {
     "name": "stdout",
     "output_type": "stream",
     "text": [
      "Записи с 2021-01-01 00:00:00 по 2021-12-30 00:00:00\n",
      "Выручка за год составила: 3878641\n"
     ]
    }
   ],
   "source": [
    "# Добавляем столбец с выручкой\n",
    "revenue_per_month['revenue'] = (\n",
    "    revenue_per_month['start_ride_price'] * revenue_per_month['count'] +\n",
    "    revenue_per_month['minute_price'] * revenue_per_month['total_duration'] +\n",
    "    revenue_per_month['subscription_fee']\n",
    ")\n",
    "\n",
    "# Выводим информацию о временном периоде и общую выручку за год\n",
    "print('Записи с', total_data['date'].min(), 'по', total_data['date'].max())\n",
    "print('Выручка за год составила:', revenue_per_month['revenue'].sum())\n"
   ]
  },
  {
   "cell_type": "markdown",
   "id": "1ef24f97",
   "metadata": {},
   "source": [
    "ВЫВОД:\n",
    "\n",
    "Из представленных данных мы провели анализ поездок пользователей на основе их типах подписок. Сначала мы обьединили данные о поездках для каждого пользователя за каждый месяц, вычислив суммарное расстояние, количество поездок и суммарное время. Затем мы добавили столбец с помесячной выручкой, учитывая цены как для пользователей с подпиской, так и для пользователей без нее. Выручка за год составила 3 878 641 руб."
   ]
  },
  {
   "cell_type": "markdown",
   "id": "41545ac0",
   "metadata": {},
   "source": [
    "#### Шаг 6. Проверка гипотез"
   ]
  },
  {
   "cell_type": "markdown",
   "id": "e9feb544",
   "metadata": {},
   "source": [
    "# 6.1 тратят ли пользователи с подпиской больше времени на поездки? "
   ]
  },
  {
   "cell_type": "markdown",
   "id": "67ce4ba8",
   "metadata": {},
   "source": [
    "ВЫДВИНЕМ ГИПОТЕЗЫ:\n",
    "\n",
    "Нулевая и альтернативная гипотезы:\n",
    "\n",
    "\n",
    "- Гипотеза Н0: Средняя продолжительность поездок с подпиской  и без подписки равна.\n",
    "\n",
    "\n",
    "- Гипотеза Н1: Средняя продолжительность поездок с подпиской больше, чем без подписки."
   ]
  },
  {
   "cell_type": "code",
   "execution_count": 43,
   "id": "4d5332ec",
   "metadata": {},
   "outputs": [
    {
     "name": "stdout",
     "output_type": "stream",
     "text": [
      "1.2804098316645618e-34\n",
      "Отвергаем нулевую гипотезу\n"
     ]
    }
   ],
   "source": [
    "# Выполняем t-тест для сравнения средней продолжительности поездок для пользователей с подпиской ultra и без подписки free\n",
    "results = st.ttest_ind(ultra_data['duration'], free_data['duration'], alternative='greater')\n",
    "\n",
    "print(results.pvalue)\n",
    "\n",
    "# Проверяем статистическую значимость результатов\n",
    "alpha = 0.05\n",
    "if results.pvalue < alpha:\n",
    "    print('Отвергаем нулевую гипотезу')\n",
    "else:\n",
    "    print('Не получилось отвергнуть нулевую гипотезу')\n"
   ]
  },
  {
   "cell_type": "markdown",
   "id": "d87c5b78",
   "metadata": {},
   "source": [
    "ВЫВОД:\n",
    "\n",
    "Нулевая гипотеза отвергнута\n",
    "\n",
    "Это говорит о том, что средняя продолжительность поездки для пользователей с подпиской больше, чем продолжительность поездок для пользователей без подписки, при выбранном уровне значимости в 5%."
   ]
  },
  {
   "cell_type": "markdown",
   "id": "2072f2ae",
   "metadata": {},
   "source": [
    "# 6.2 приемлемое растояние поездки с точки зрения износа самоката для пользователей с подпиской"
   ]
  },
  {
   "cell_type": "markdown",
   "id": "6ce31a9a",
   "metadata": {},
   "source": [
    "Приемлемое расстояние с точки зрения износа самоката — 3130 метров.\n",
    "\n",
    "Нулевая и альтернативная гипотезы:\n",
    "\n",
    "\n",
    "- Гипотеза Н0: Среднее расстояние поездок с использованием подписки равно оптимальному расстоянию в 3130 метров.\n",
    "\n",
    "\n",
    "- Гипотеза Н1: Среднее расстояние поездок с использованием подписки более 3130 метров."
   ]
  },
  {
   "cell_type": "code",
   "execution_count": 44,
   "id": "bd62f2b5",
   "metadata": {
    "scrolled": true
   },
   "outputs": [
    {
     "name": "stdout",
     "output_type": "stream",
     "text": [
      "0.9195362605842414\n",
      "Не получилось отвергнуть нулевую гипотезу\n"
     ]
    }
   ],
   "source": [
    "optimal_distance = 3130\n",
    "\n",
    "# Выполняем одновыборочный t-тест для проверки гипотезы.\n",
    "results = st.ttest_1samp(ultra_data['distance'], optimal_distance , alternative='greater')\n",
    "\n",
    "print(results.pvalue)\n",
    "\n",
    "# Проверяем статистическую значимость результатов\n",
    "alpha = 0.05\n",
    "if results.pvalue < alpha:\n",
    "    print('Отвергаем нулевую гипотезу')\n",
    "else:\n",
    "    print('Не получилось отвергнуть нулевую гипотезу')\n"
   ]
  },
  {
   "cell_type": "markdown",
   "id": "66078e8e",
   "metadata": {},
   "source": [
    "ВЫВОД:\n",
    "\n",
    "Не удалось отвергнуть гипотезу, это говорит о том, что среднее расстояние поездок с использованием подписки меньше или равно 3130 метров."
   ]
  },
  {
   "cell_type": "markdown",
   "id": "8c3edc6b",
   "metadata": {},
   "source": [
    "# 6.3 помесчячная выручка от пользователей с подпиской выше, чем выручка от пользователей без подписки? сделать выводы"
   ]
  },
  {
   "cell_type": "markdown",
   "id": "68265904",
   "metadata": {},
   "source": [
    "Нулевая и альтернативная гипотезы:\n",
    "\n",
    "- Гипотеза Н0: Месячна средняя выручка от поездок с разной подпиской равна.\n",
    "\n",
    "\n",
    "- Гипотеза Н1: Месячная средняя выручка от поездок с использованием подписки больше, чем выручка без ипользования подписки."
   ]
  },
  {
   "cell_type": "code",
   "execution_count": 45,
   "id": "779a6e5e",
   "metadata": {
    "scrolled": true
   },
   "outputs": [
    {
     "name": "stdout",
     "output_type": "stream",
     "text": [
      "1.8850394384715216e-31\n",
      "Отвергаем нулевую гипотезу\n"
     ]
    }
   ],
   "source": [
    "# Выполняем t-тест для сравнения месячной выручки от пользователей с подпиской и без подписки.\n",
    "results = st.ttest_ind(\n",
    "    revenue_per_month.loc[revenue_per_month['subscription_fee'] > 0, 'revenue'], \n",
    "    revenue_per_month.loc[revenue_per_month['subscription_fee'] == 0, 'revenue'], \n",
    "    equal_var=True, \n",
    "    alternative='greater')\n",
    "\n",
    "print(results.pvalue)\n",
    "\n",
    "# Проверяем статистическую значимость результатов\n",
    "alpha = 0.05\n",
    "if results.pvalue < alpha:\n",
    "    print('Отвергаем нулевую гипотезу')\n",
    "else:\n",
    "    print('Не получилось отвергнуть нулевую гипотезу')"
   ]
  },
  {
   "cell_type": "markdown",
   "id": "2cbb29a4",
   "metadata": {},
   "source": [
    "ВЫВОД:\n",
    "    \n",
    "\n",
    "Полученные результаты позволяют отвергнуть нулевую гипотезу. Это говорит о том, что средняя месячная выручка от пользователей с подпиской статистически превышает среднюю месячную выручку от пользователей без подписки, при уровне значимости 5%."
   ]
  },
  {
   "cell_type": "markdown",
   "id": "115f22ac",
   "metadata": {},
   "source": [
    "# 6.4 техническая команда сервиса обновила сервера, с которыми взаимодействует мобильное приложение. она надеется, что из-за этого количество обращений в техподдержку значимо снизилось. некоторый файл содержит для каждого пользователя данные о количестве обращений до обновления и после него. какой тест вам понадобился бы для проверки этой гипотезы?"
   ]
  },
  {
   "cell_type": "markdown",
   "id": "7a2d5ec5",
   "metadata": {},
   "source": [
    "Если в данных переменная измеряется дважды для одних и тех же объектов и обе выборки имеют одинаковые размеры, то можно использовать метод scipy.stats.ttest_rel(). Для проверки того, что среднее значение до изменения больше, чем истинное среднее значение после нужно указать параматер alternative='less'. Если же эти условия не выполняются, можно применить метод scipy.stats.ttest_ind(). В этом случае, так как выборки не равны нам нужно установить параметр equal_var=False."
   ]
  },
  {
   "cell_type": "markdown",
   "id": "ae5df2b2",
   "metadata": {},
   "source": [
    "Промежуточный вывод по проверке гипотез:\n",
    " - Пользователи с подпиской тратят больше времени на поездки, чем пользователи без подписки.\n",
    " - Нулевая гипотеза отвергнута. Это говорит о том, что средняя продолжительность поездки для пользователей с подпиской больше, чем продолжительность поездок для пользователей без подписки, при выбранном уровне значимости в 5%.\n",
    " \n",
    " \n",
    " - Пользователи с подпиской проезжают расстояние, не превышающее 3130 метров за одну поездку.\n",
    " - Не удалось отвергнуть гипотезу, это говорит о том, что среднее расстояние поездок с использованием подписки меньше или равно 3130 метров.\n",
    " \n",
    " \n",
    " - Помесячная выручка от пользователей с подпиской выше, чем выручка от пользователей без подписки\n",
    " - Отвергли нулевую гипотезу. Можно утверждать, что средняя выручка в месяц от пользователей с подпиской превышает среднюю выручку от пользователей без подписки при уровне значимости 5%.\n",
    "\n",
    "\n",
    " - Ответили на вопрос какой тест нам понадобился бы для проверки гипотезы.\n",
    " - Если в данных переменная измеряется дважды для одних и тех же объектов и обе выборки имеют одинаковые размеры, то можно использовать метод scipy.stats.ttest_rel(). Для проверки того, что среднее значение до изменения больше, чем истинное среднее значение после нужно указать параматер alternative='less'. Если же эти условия не выполняются, можно применить метод scipy.stats.ttest_ind(). В этом случае, так как выборки не равны нам нужно установить параметр equal_var=False.\n",
    " \n",
    "В заключении можно сделать вывод: \n",
    "- Пользователи с подпиской приносят больше выручки сервису аренды самокатов. Следовательно, руководству сервиса рекомендуется принять меры для того чтобы клиенты переходили на подписку."
   ]
  },
  {
   "cell_type": "markdown",
   "id": "b3560fc4",
   "metadata": {},
   "source": [
    "# Общий вывод:"
   ]
  },
  {
   "cell_type": "markdown",
   "id": "dde90f0c",
   "metadata": {},
   "source": [
    "\n",
    "\n",
    "В процессе исследования данных сервиса аренды самокатов \"GoFast\" были проведены несколько этапов анализа.\n",
    "\n",
    "- Предварительная обработка данных включала удаление дубликатов, округление значений расстояния и времени поездок, а также преобразование столбца с датами.\n",
    "\n",
    "\n",
    "- В ходе исследовательского анализа данных были выявлены основные характеристики пользователей. Большой спрос имеют пользователи которые проживают в южных городах, а возрастная структура пользователей средней и медианной возрастной группы составляет около 25 лет. Количество поездок в среднем составляет около 3130 метров, хотя наблюдаются аномальные значения с низкими продолжительностями, что может указывать на проблемы с данными.\n",
    "\n",
    "\n",
    "- Объединение данных о поездках и подписках позволило выявить влияние подписки на характеристики поездок. Пользователи с подпиской \"ultra\" имеют немного большие значения расстояния и времени поездок по сравнению с пользователями без подписки \"free\". Однако различия в данных не всегда являются статистически значимыми. Выводы указывают на то, что подписка влияет на характеристики поездок, хотя этот эффект не всегда является существенным. \n",
    "\n",
    "\n",
    "- Анализ поездок пользователей на основе их типах подписок. Сначала мы обьединили данные о поездках для каждого пользователя за каждый месяц, вычислив суммарное расстояние, количество поездок и суммарное время. Затем мы добавили столбец с помесячной выручкой, учитывая цены как для пользователей с подпиской, так и для пользователей без нее. Выручка за год составила 3 878 641 руб.\n",
    "\n",
    "\n",
    "Проверили гипотезы:\n",
    "- Пользователи с подпиской тратят больше времени на поездки, чем пользователи без подписки.\n",
    "- Нулевая гипотеза отвергнута. Это говорит о том, что средняя продолжительность поездки для пользователей с подпиской больше, чем продолжительность поездок для пользователей без подписки, при выбранном уровне значимости в 5%. Это может означать, что пользователи с подпиской предпочитают делать более длительные поездки, возможно, из-за более выгодных условий использования.\n",
    " \n",
    " \n",
    " - Пользователи с подпиской проезжают расстояние, не превышающее 3130 метров за одну поездку.\n",
    " - Не удалось отвергнуть гипотезу, это говорит о том, что среднее расстояние поездок с использованием подписки меньше или равно 3130 метров. Это может говорить о том, что условие 3130 метров является достаточным для обеих групп пользователей.\n",
    " \n",
    " \n",
    " - Помесячная выручка от пользователей с подпиской выше, чем выручка от пользователей без подписки\n",
    " - Отвергли нулевую гипотезу. Можно утверждать, что средняя выручка в месяц от пользователей с подпиской превышает среднюю выручку от пользователей без подписки при уровне значимости 5%. Это говорит о том, что компании выгоднее иметь пользователей с подпиской, так как они приносят больше выручки, возможно, благодаря регулярным ежемесячным платежам и более частому использованию услуг.\n",
    "\n",
    "\n",
    " - Ответили на вопрос какой тест нам понадобился бы для проверки гипотезы.\n",
    " - Если в данных переменная измеряется дважды для одних и тех же объектов и обе выборки имеют одинаковые размеры, то можно использовать метод scipy.stats.ttest_rel(). Для проверки того, что среднее значение до изменения больше, чем истинное среднее значение после нужно указать параматер alternative='less'. Если же эти условия не выполняются, можно применить метод scipy.stats.ttest_ind(). В этом случае, так как выборки не равны нам нужно установить параметр equal_var=False.\n",
    " \n",
    "В заключении можно сделать вывод: \n",
    "- Пользователи с подпиской приносят больше выручки сервису аренды самокатов. Следовательно, руководству сервиса рекомендуется принять меры для того чтобы клиенты переходили на подписку."
   ]
  }
 ],
 "metadata": {
  "ExecuteTimeLog": [
   {
    "duration": 1204,
    "start_time": "2024-04-23T15:14:53.302Z"
   },
   {
    "duration": 206,
    "start_time": "2024-04-23T15:31:26.777Z"
   },
   {
    "duration": 80,
    "start_time": "2024-04-23T15:35:12.857Z"
   },
   {
    "duration": 9,
    "start_time": "2024-04-23T15:35:17.433Z"
   },
   {
    "duration": 10,
    "start_time": "2024-04-23T15:35:58.643Z"
   },
   {
    "duration": 19,
    "start_time": "2024-04-23T15:36:17.488Z"
   },
   {
    "duration": 7,
    "start_time": "2024-04-23T15:37:09.116Z"
   },
   {
    "duration": 16,
    "start_time": "2024-04-23T15:37:14.219Z"
   },
   {
    "duration": 16,
    "start_time": "2024-04-23T15:37:24.004Z"
   },
   {
    "duration": 972,
    "start_time": "2024-04-23T15:37:46.939Z"
   },
   {
    "duration": 68,
    "start_time": "2024-04-23T15:37:47.913Z"
   },
   {
    "duration": 22,
    "start_time": "2024-04-23T15:37:47.983Z"
   },
   {
    "duration": 5,
    "start_time": "2024-04-23T15:38:05.656Z"
   },
   {
    "duration": 10,
    "start_time": "2024-04-23T15:38:26.083Z"
   },
   {
    "duration": 18,
    "start_time": "2024-04-23T15:38:40.861Z"
   },
   {
    "duration": 18,
    "start_time": "2024-04-23T15:42:15.865Z"
   },
   {
    "duration": 16,
    "start_time": "2024-04-23T15:42:35.506Z"
   },
   {
    "duration": 17,
    "start_time": "2024-04-23T15:42:42.011Z"
   },
   {
    "duration": 16,
    "start_time": "2024-04-23T15:42:46.697Z"
   },
   {
    "duration": 18,
    "start_time": "2024-04-23T15:43:11.719Z"
   },
   {
    "duration": 4,
    "start_time": "2024-04-23T15:44:07.095Z"
   },
   {
    "duration": 4,
    "start_time": "2024-04-23T15:45:05.744Z"
   },
   {
    "duration": 4,
    "start_time": "2024-04-23T15:50:22.714Z"
   },
   {
    "duration": 4311,
    "start_time": "2024-04-23T15:53:23.280Z"
   },
   {
    "duration": 4296,
    "start_time": "2024-04-23T15:53:43.845Z"
   },
   {
    "duration": 177,
    "start_time": "2024-04-23T15:57:12.594Z"
   },
   {
    "duration": 169,
    "start_time": "2024-04-23T15:57:17.573Z"
   },
   {
    "duration": 82,
    "start_time": "2024-04-23T15:58:57.992Z"
   },
   {
    "duration": 188,
    "start_time": "2024-04-23T15:59:05.673Z"
   },
   {
    "duration": 6,
    "start_time": "2024-04-23T16:00:33.758Z"
   },
   {
    "duration": 7,
    "start_time": "2024-04-23T16:04:26.837Z"
   },
   {
    "duration": 184,
    "start_time": "2024-04-23T16:15:39.591Z"
   },
   {
    "duration": 267,
    "start_time": "2024-04-23T16:16:38.587Z"
   },
   {
    "duration": 118,
    "start_time": "2024-04-23T16:16:49.801Z"
   },
   {
    "duration": 197,
    "start_time": "2024-04-23T16:16:57.454Z"
   },
   {
    "duration": 114,
    "start_time": "2024-04-23T16:17:04.290Z"
   },
   {
    "duration": 106,
    "start_time": "2024-04-23T16:29:21.456Z"
   },
   {
    "duration": 102,
    "start_time": "2024-04-23T16:29:25.636Z"
   },
   {
    "duration": 101,
    "start_time": "2024-04-23T16:29:38.030Z"
   },
   {
    "duration": 116,
    "start_time": "2024-04-23T16:29:41.685Z"
   },
   {
    "duration": 114,
    "start_time": "2024-04-23T16:29:51.560Z"
   },
   {
    "duration": 20,
    "start_time": "2024-04-23T16:37:41.256Z"
   },
   {
    "duration": 279,
    "start_time": "2024-04-23T16:42:18.045Z"
   },
   {
    "duration": 218,
    "start_time": "2024-04-23T16:43:02.165Z"
   },
   {
    "duration": 231,
    "start_time": "2024-04-23T16:45:45.172Z"
   },
   {
    "duration": 4,
    "start_time": "2024-04-23T16:53:08.163Z"
   },
   {
    "duration": 5,
    "start_time": "2024-04-23T16:53:32.983Z"
   },
   {
    "duration": 7,
    "start_time": "2024-04-23T16:53:51.172Z"
   },
   {
    "duration": 17,
    "start_time": "2024-04-23T16:54:59.524Z"
   },
   {
    "duration": 238,
    "start_time": "2024-04-23T16:57:50.278Z"
   },
   {
    "duration": 5,
    "start_time": "2024-04-23T17:35:54.451Z"
   },
   {
    "duration": 3,
    "start_time": "2024-04-23T17:35:56.308Z"
   },
   {
    "duration": 10,
    "start_time": "2024-04-23T17:41:05.217Z"
   },
   {
    "duration": 5,
    "start_time": "2024-04-23T17:41:13.586Z"
   },
   {
    "duration": 5,
    "start_time": "2024-04-23T17:41:29.674Z"
   },
   {
    "duration": 5,
    "start_time": "2024-04-23T17:41:35.065Z"
   },
   {
    "duration": 5,
    "start_time": "2024-04-23T17:41:40.648Z"
   },
   {
    "duration": 5,
    "start_time": "2024-04-23T17:42:07.209Z"
   },
   {
    "duration": 11,
    "start_time": "2024-04-23T17:42:38.963Z"
   },
   {
    "duration": 5,
    "start_time": "2024-04-23T17:42:56.277Z"
   },
   {
    "duration": 11,
    "start_time": "2024-04-23T17:42:59.067Z"
   },
   {
    "duration": 5,
    "start_time": "2024-04-23T17:50:34.317Z"
   },
   {
    "duration": 5,
    "start_time": "2024-04-23T17:55:32.199Z"
   },
   {
    "duration": 3,
    "start_time": "2024-04-23T17:55:47.780Z"
   },
   {
    "duration": 3,
    "start_time": "2024-04-23T17:56:54.517Z"
   },
   {
    "duration": 7,
    "start_time": "2024-04-23T17:57:27.165Z"
   },
   {
    "duration": 6,
    "start_time": "2024-04-23T18:00:06.539Z"
   },
   {
    "duration": 13,
    "start_time": "2024-04-23T18:01:03.611Z"
   },
   {
    "duration": 3,
    "start_time": "2024-04-23T18:09:27.127Z"
   },
   {
    "duration": 12,
    "start_time": "2024-04-23T18:13:13.947Z"
   },
   {
    "duration": 162,
    "start_time": "2024-04-23T18:26:17.308Z"
   },
   {
    "duration": 231,
    "start_time": "2024-04-23T18:26:39.875Z"
   },
   {
    "duration": 145,
    "start_time": "2024-04-23T18:26:47.709Z"
   },
   {
    "duration": 181,
    "start_time": "2024-04-23T19:44:20.937Z"
   },
   {
    "duration": 53,
    "start_time": "2024-04-24T09:25:17.229Z"
   },
   {
    "duration": 1419,
    "start_time": "2024-04-24T09:25:24.554Z"
   },
   {
    "duration": 308,
    "start_time": "2024-04-24T09:25:25.975Z"
   },
   {
    "duration": 26,
    "start_time": "2024-04-24T09:25:26.285Z"
   },
   {
    "duration": 186,
    "start_time": "2024-04-24T09:25:26.314Z"
   },
   {
    "duration": 7,
    "start_time": "2024-04-24T09:25:26.502Z"
   },
   {
    "duration": 30,
    "start_time": "2024-04-24T09:25:26.511Z"
   },
   {
    "duration": 380,
    "start_time": "2024-04-24T09:25:26.543Z"
   },
   {
    "duration": 9,
    "start_time": "2024-04-24T09:25:26.925Z"
   },
   {
    "duration": 38,
    "start_time": "2024-04-24T09:25:26.936Z"
   },
   {
    "duration": 10,
    "start_time": "2024-04-24T09:25:26.976Z"
   },
   {
    "duration": 12,
    "start_time": "2024-04-24T09:25:26.988Z"
   },
   {
    "duration": 3,
    "start_time": "2024-04-24T09:25:27.002Z"
   },
   {
    "duration": 7,
    "start_time": "2024-04-24T09:25:27.007Z"
   },
   {
    "duration": 12,
    "start_time": "2024-04-24T09:25:27.017Z"
   },
   {
    "duration": 56,
    "start_time": "2024-04-24T09:25:27.032Z"
   },
   {
    "duration": 18,
    "start_time": "2024-04-24T09:25:27.090Z"
   },
   {
    "duration": 229,
    "start_time": "2024-04-24T09:25:27.110Z"
   },
   {
    "duration": 328,
    "start_time": "2024-04-24T09:38:10.355Z"
   },
   {
    "duration": 207,
    "start_time": "2024-04-24T09:38:24.897Z"
   },
   {
    "duration": 210,
    "start_time": "2024-04-24T09:39:13.241Z"
   },
   {
    "duration": 30,
    "start_time": "2024-04-24T09:44:13.899Z"
   },
   {
    "duration": 230,
    "start_time": "2024-04-24T09:44:26.042Z"
   },
   {
    "duration": 207,
    "start_time": "2024-04-24T10:05:07.748Z"
   },
   {
    "duration": 87,
    "start_time": "2024-04-24T10:05:45.072Z"
   },
   {
    "duration": 272,
    "start_time": "2024-04-24T10:05:52.425Z"
   },
   {
    "duration": 187,
    "start_time": "2024-04-24T10:07:18.017Z"
   },
   {
    "duration": 198,
    "start_time": "2024-04-24T10:07:44.180Z"
   },
   {
    "duration": 187,
    "start_time": "2024-04-24T10:07:51.818Z"
   },
   {
    "duration": 187,
    "start_time": "2024-04-24T10:08:00.817Z"
   },
   {
    "duration": 128,
    "start_time": "2024-04-24T10:09:35.305Z"
   },
   {
    "duration": 134,
    "start_time": "2024-04-24T10:10:40.145Z"
   },
   {
    "duration": 110,
    "start_time": "2024-04-24T10:33:55.299Z"
   },
   {
    "duration": 120,
    "start_time": "2024-04-24T10:34:09.892Z"
   },
   {
    "duration": 158,
    "start_time": "2024-04-24T10:34:15.716Z"
   },
   {
    "duration": 103,
    "start_time": "2024-04-24T10:34:25.355Z"
   },
   {
    "duration": 96,
    "start_time": "2024-04-24T10:38:31.497Z"
   },
   {
    "duration": 95,
    "start_time": "2024-04-24T10:38:47.851Z"
   },
   {
    "duration": 171,
    "start_time": "2024-04-24T10:47:06.344Z"
   },
   {
    "duration": 292,
    "start_time": "2024-04-24T10:47:32.034Z"
   },
   {
    "duration": 185,
    "start_time": "2024-04-24T10:47:45.118Z"
   },
   {
    "duration": 185,
    "start_time": "2024-04-24T10:47:51.663Z"
   },
   {
    "duration": 189,
    "start_time": "2024-04-24T10:48:09.361Z"
   },
   {
    "duration": 190,
    "start_time": "2024-04-24T10:48:47.511Z"
   },
   {
    "duration": 189,
    "start_time": "2024-04-24T10:49:03.618Z"
   },
   {
    "duration": 98,
    "start_time": "2024-04-24T10:49:42.945Z"
   },
   {
    "duration": 179,
    "start_time": "2024-04-24T10:50:42.150Z"
   },
   {
    "duration": 13,
    "start_time": "2024-04-24T10:50:54.770Z"
   },
   {
    "duration": 166,
    "start_time": "2024-04-24T10:51:38.429Z"
   },
   {
    "duration": 100,
    "start_time": "2024-04-24T10:51:55.707Z"
   },
   {
    "duration": 177,
    "start_time": "2024-04-24T10:52:12.817Z"
   },
   {
    "duration": 1147,
    "start_time": "2024-04-24T10:52:49.808Z"
   },
   {
    "duration": 70,
    "start_time": "2024-04-24T10:52:50.957Z"
   },
   {
    "duration": 26,
    "start_time": "2024-04-24T10:52:51.029Z"
   },
   {
    "duration": 210,
    "start_time": "2024-04-24T10:52:51.057Z"
   },
   {
    "duration": 6,
    "start_time": "2024-04-24T10:52:51.269Z"
   },
   {
    "duration": 60,
    "start_time": "2024-04-24T10:52:51.277Z"
   },
   {
    "duration": 361,
    "start_time": "2024-04-24T10:52:51.339Z"
   },
   {
    "duration": 9,
    "start_time": "2024-04-24T10:52:51.702Z"
   },
   {
    "duration": 24,
    "start_time": "2024-04-24T10:52:51.713Z"
   },
   {
    "duration": 38,
    "start_time": "2024-04-24T10:52:51.738Z"
   },
   {
    "duration": 11,
    "start_time": "2024-04-24T10:52:51.779Z"
   },
   {
    "duration": 8,
    "start_time": "2024-04-24T10:52:51.792Z"
   },
   {
    "duration": 22,
    "start_time": "2024-04-24T10:52:51.802Z"
   },
   {
    "duration": 16,
    "start_time": "2024-04-24T10:52:51.828Z"
   },
   {
    "duration": 44,
    "start_time": "2024-04-24T10:52:51.846Z"
   },
   {
    "duration": 25,
    "start_time": "2024-04-24T10:52:51.892Z"
   },
   {
    "duration": 153,
    "start_time": "2024-04-24T10:52:51.918Z"
   },
   {
    "duration": 0,
    "start_time": "2024-04-24T10:52:52.074Z"
   },
   {
    "duration": 1207,
    "start_time": "2024-04-24T10:53:36.647Z"
   },
   {
    "duration": 70,
    "start_time": "2024-04-24T10:53:37.856Z"
   },
   {
    "duration": 25,
    "start_time": "2024-04-24T10:53:37.928Z"
   },
   {
    "duration": 185,
    "start_time": "2024-04-24T10:53:37.956Z"
   },
   {
    "duration": 7,
    "start_time": "2024-04-24T10:53:38.143Z"
   },
   {
    "duration": 35,
    "start_time": "2024-04-24T10:53:38.151Z"
   },
   {
    "duration": 337,
    "start_time": "2024-04-24T10:53:38.189Z"
   },
   {
    "duration": 10,
    "start_time": "2024-04-24T10:53:38.529Z"
   },
   {
    "duration": 41,
    "start_time": "2024-04-24T10:53:38.541Z"
   },
   {
    "duration": 9,
    "start_time": "2024-04-24T10:53:38.584Z"
   },
   {
    "duration": 26,
    "start_time": "2024-04-24T10:53:38.595Z"
   },
   {
    "duration": 4,
    "start_time": "2024-04-24T10:53:38.622Z"
   },
   {
    "duration": 7,
    "start_time": "2024-04-24T10:53:38.628Z"
   },
   {
    "duration": 8,
    "start_time": "2024-04-24T10:53:38.638Z"
   },
   {
    "duration": 37,
    "start_time": "2024-04-24T10:53:38.648Z"
   },
   {
    "duration": 20,
    "start_time": "2024-04-24T10:53:38.687Z"
   },
   {
    "duration": 234,
    "start_time": "2024-04-24T10:53:38.709Z"
   },
   {
    "duration": 116,
    "start_time": "2024-04-24T10:53:38.945Z"
   },
   {
    "duration": 18,
    "start_time": "2024-04-24T10:54:12.237Z"
   },
   {
    "duration": 108,
    "start_time": "2024-04-24T10:54:29.457Z"
   },
   {
    "duration": 18,
    "start_time": "2024-04-24T10:54:35.791Z"
   },
   {
    "duration": 96,
    "start_time": "2024-04-24T10:54:38.505Z"
   },
   {
    "duration": 209,
    "start_time": "2024-04-24T10:56:38.572Z"
   },
   {
    "duration": 271,
    "start_time": "2024-04-24T11:00:15.064Z"
   },
   {
    "duration": 139,
    "start_time": "2024-04-24T11:02:15.062Z"
   },
   {
    "duration": 5,
    "start_time": "2024-04-24T11:05:09.256Z"
   },
   {
    "duration": 4,
    "start_time": "2024-04-24T11:05:19.459Z"
   },
   {
    "duration": 5,
    "start_time": "2024-04-24T11:07:06.886Z"
   },
   {
    "duration": 25,
    "start_time": "2024-04-24T11:09:30.133Z"
   },
   {
    "duration": 18,
    "start_time": "2024-04-24T11:09:44.918Z"
   },
   {
    "duration": 14,
    "start_time": "2024-04-24T11:12:13.491Z"
   },
   {
    "duration": 692,
    "start_time": "2024-04-24T11:12:27.035Z"
   },
   {
    "duration": 16,
    "start_time": "2024-04-24T11:12:40.751Z"
   },
   {
    "duration": 20,
    "start_time": "2024-04-24T11:16:39.272Z"
   },
   {
    "duration": 10,
    "start_time": "2024-04-24T11:16:47.702Z"
   },
   {
    "duration": 11,
    "start_time": "2024-04-24T11:17:04.323Z"
   },
   {
    "duration": 15,
    "start_time": "2024-04-24T11:19:25.819Z"
   },
   {
    "duration": 19,
    "start_time": "2024-04-24T11:34:06.317Z"
   },
   {
    "duration": 348,
    "start_time": "2024-04-24T11:40:32.026Z"
   },
   {
    "duration": 354,
    "start_time": "2024-04-24T11:43:01.052Z"
   },
   {
    "duration": 352,
    "start_time": "2024-04-24T11:46:16.011Z"
   },
   {
    "duration": 361,
    "start_time": "2024-04-24T11:46:27.961Z"
   },
   {
    "duration": 334,
    "start_time": "2024-04-24T11:47:42.037Z"
   },
   {
    "duration": 403,
    "start_time": "2024-04-24T11:52:36.562Z"
   },
   {
    "duration": 11,
    "start_time": "2024-04-24T16:13:37.431Z"
   },
   {
    "duration": 832,
    "start_time": "2024-04-24T16:18:42.368Z"
   },
   {
    "duration": 922,
    "start_time": "2024-04-24T16:19:48.692Z"
   },
   {
    "duration": 860,
    "start_time": "2024-04-24T16:20:16.755Z"
   },
   {
    "duration": 965,
    "start_time": "2024-04-24T16:20:29.467Z"
   },
   {
    "duration": 795,
    "start_time": "2024-04-24T16:20:58.349Z"
   },
   {
    "duration": 952,
    "start_time": "2024-04-24T16:21:25.042Z"
   },
   {
    "duration": 291,
    "start_time": "2024-04-24T16:35:11.700Z"
   },
   {
    "duration": 929,
    "start_time": "2024-04-24T16:35:36.162Z"
   },
   {
    "duration": 838,
    "start_time": "2024-04-24T16:37:41.410Z"
   },
   {
    "duration": 12,
    "start_time": "2024-04-24T16:40:58.390Z"
   },
   {
    "duration": 339,
    "start_time": "2024-04-24T16:43:12.900Z"
   },
   {
    "duration": 805,
    "start_time": "2024-04-24T16:58:27.584Z"
   },
   {
    "duration": 676,
    "start_time": "2024-04-24T17:00:47.148Z"
   },
   {
    "duration": 726,
    "start_time": "2024-04-24T17:00:57.551Z"
   },
   {
    "duration": 735,
    "start_time": "2024-04-24T17:04:40.548Z"
   },
   {
    "duration": 683,
    "start_time": "2024-04-24T17:05:10.782Z"
   },
   {
    "duration": 720,
    "start_time": "2024-04-24T17:05:17.505Z"
   },
   {
    "duration": 646,
    "start_time": "2024-04-24T17:05:46.968Z"
   },
   {
    "duration": 8,
    "start_time": "2024-04-24T17:06:02.311Z"
   },
   {
    "duration": 627,
    "start_time": "2024-04-24T17:20:22.677Z"
   },
   {
    "duration": 700,
    "start_time": "2024-04-24T17:22:05.894Z"
   },
   {
    "duration": 656,
    "start_time": "2024-04-24T17:49:11.571Z"
   },
   {
    "duration": 644,
    "start_time": "2024-04-24T17:49:24.722Z"
   },
   {
    "duration": 641,
    "start_time": "2024-04-24T17:50:58.845Z"
   },
   {
    "duration": 376,
    "start_time": "2024-04-24T17:52:39.867Z"
   },
   {
    "duration": 421,
    "start_time": "2024-04-24T17:53:00.769Z"
   },
   {
    "duration": 394,
    "start_time": "2024-04-24T17:53:05.310Z"
   },
   {
    "duration": 359,
    "start_time": "2024-04-24T17:53:12.582Z"
   },
   {
    "duration": 460,
    "start_time": "2024-04-24T17:57:10.123Z"
   },
   {
    "duration": 424,
    "start_time": "2024-04-24T17:57:57.353Z"
   },
   {
    "duration": 9,
    "start_time": "2024-04-24T18:02:12.745Z"
   },
   {
    "duration": 216,
    "start_time": "2024-04-24T18:04:04.933Z"
   },
   {
    "duration": 425,
    "start_time": "2024-04-24T18:13:53.600Z"
   },
   {
    "duration": 427,
    "start_time": "2024-04-24T18:14:19.369Z"
   },
   {
    "duration": 602,
    "start_time": "2024-04-24T18:15:07.685Z"
   },
   {
    "duration": 481,
    "start_time": "2024-04-24T18:18:53.453Z"
   },
   {
    "duration": 488,
    "start_time": "2024-04-24T18:20:00.899Z"
   },
   {
    "duration": 77,
    "start_time": "2024-04-24T18:23:49.039Z"
   },
   {
    "duration": 1221,
    "start_time": "2024-04-24T18:26:13.242Z"
   },
   {
    "duration": 71,
    "start_time": "2024-04-24T18:26:14.466Z"
   },
   {
    "duration": 23,
    "start_time": "2024-04-24T18:26:14.539Z"
   },
   {
    "duration": 171,
    "start_time": "2024-04-24T18:26:14.564Z"
   },
   {
    "duration": 7,
    "start_time": "2024-04-24T18:26:14.738Z"
   },
   {
    "duration": 45,
    "start_time": "2024-04-24T18:26:14.747Z"
   },
   {
    "duration": 331,
    "start_time": "2024-04-24T18:26:14.794Z"
   },
   {
    "duration": 9,
    "start_time": "2024-04-24T18:26:15.126Z"
   },
   {
    "duration": 72,
    "start_time": "2024-04-24T18:26:15.137Z"
   },
   {
    "duration": 38,
    "start_time": "2024-04-24T18:26:15.211Z"
   },
   {
    "duration": 58,
    "start_time": "2024-04-24T18:26:15.251Z"
   },
   {
    "duration": 38,
    "start_time": "2024-04-24T18:26:15.311Z"
   },
   {
    "duration": 51,
    "start_time": "2024-04-24T18:26:15.351Z"
   },
   {
    "duration": 37,
    "start_time": "2024-04-24T18:26:15.406Z"
   },
   {
    "duration": 56,
    "start_time": "2024-04-24T18:26:15.445Z"
   },
   {
    "duration": 46,
    "start_time": "2024-04-24T18:26:15.503Z"
   },
   {
    "duration": 207,
    "start_time": "2024-04-24T18:26:15.551Z"
   },
   {
    "duration": 102,
    "start_time": "2024-04-24T18:26:15.772Z"
   },
   {
    "duration": 13,
    "start_time": "2024-04-24T18:26:15.877Z"
   },
   {
    "duration": 337,
    "start_time": "2024-04-24T18:26:15.893Z"
   },
   {
    "duration": 11,
    "start_time": "2024-04-24T18:26:16.232Z"
   },
   {
    "duration": 896,
    "start_time": "2024-04-24T18:26:16.244Z"
   },
   {
    "duration": 10,
    "start_time": "2024-04-24T18:26:17.143Z"
   },
   {
    "duration": 504,
    "start_time": "2024-04-24T18:26:17.155Z"
   },
   {
    "duration": 17,
    "start_time": "2024-04-24T19:00:34.424Z"
   },
   {
    "duration": 15,
    "start_time": "2024-04-24T19:00:47.680Z"
   },
   {
    "duration": 109,
    "start_time": "2024-04-24T19:16:02.716Z"
   },
   {
    "duration": 7,
    "start_time": "2024-04-24T19:17:03.240Z"
   },
   {
    "duration": 30,
    "start_time": "2024-04-24T19:56:09.882Z"
   },
   {
    "duration": 40,
    "start_time": "2024-04-24T19:56:27.118Z"
   },
   {
    "duration": 23,
    "start_time": "2024-04-24T19:56:42.115Z"
   },
   {
    "duration": 16,
    "start_time": "2024-04-24T19:59:13.850Z"
   },
   {
    "duration": 37,
    "start_time": "2024-04-24T19:59:22.213Z"
   },
   {
    "duration": 16,
    "start_time": "2024-04-24T19:59:45.609Z"
   },
   {
    "duration": 72,
    "start_time": "2024-04-24T20:01:42.818Z"
   },
   {
    "duration": 21,
    "start_time": "2024-04-24T20:01:47.373Z"
   },
   {
    "duration": 4,
    "start_time": "2024-04-24T20:02:54.023Z"
   },
   {
    "duration": 16,
    "start_time": "2024-04-24T20:04:44.784Z"
   },
   {
    "duration": 18,
    "start_time": "2024-04-24T20:05:12.775Z"
   },
   {
    "duration": 578,
    "start_time": "2024-04-24T20:11:13.391Z"
   },
   {
    "duration": 666,
    "start_time": "2024-04-24T20:11:31.823Z"
   },
   {
    "duration": 525,
    "start_time": "2024-04-24T20:11:37.113Z"
   },
   {
    "duration": 608,
    "start_time": "2024-04-24T20:16:45.438Z"
   },
   {
    "duration": 721,
    "start_time": "2024-04-24T20:17:16.705Z"
   },
   {
    "duration": 577,
    "start_time": "2024-04-24T20:17:50.922Z"
   },
   {
    "duration": 1270,
    "start_time": "2024-04-25T09:35:39.785Z"
   },
   {
    "duration": 230,
    "start_time": "2024-04-25T09:35:41.060Z"
   },
   {
    "duration": 28,
    "start_time": "2024-04-25T09:35:41.292Z"
   },
   {
    "duration": 173,
    "start_time": "2024-04-25T09:35:41.322Z"
   },
   {
    "duration": 7,
    "start_time": "2024-04-25T09:35:41.497Z"
   },
   {
    "duration": 43,
    "start_time": "2024-04-25T09:35:41.506Z"
   },
   {
    "duration": 281,
    "start_time": "2024-04-25T09:35:41.551Z"
   },
   {
    "duration": 8,
    "start_time": "2024-04-25T09:35:41.834Z"
   },
   {
    "duration": 40,
    "start_time": "2024-04-25T09:35:41.843Z"
   },
   {
    "duration": 11,
    "start_time": "2024-04-25T09:35:41.884Z"
   },
   {
    "duration": 11,
    "start_time": "2024-04-25T09:35:41.897Z"
   },
   {
    "duration": 3,
    "start_time": "2024-04-25T09:35:41.910Z"
   },
   {
    "duration": 7,
    "start_time": "2024-04-25T09:35:41.914Z"
   },
   {
    "duration": 9,
    "start_time": "2024-04-25T09:35:41.924Z"
   },
   {
    "duration": 42,
    "start_time": "2024-04-25T09:35:41.935Z"
   },
   {
    "duration": 19,
    "start_time": "2024-04-25T09:35:41.979Z"
   },
   {
    "duration": 201,
    "start_time": "2024-04-25T09:35:42.000Z"
   },
   {
    "duration": 98,
    "start_time": "2024-04-25T09:35:42.202Z"
   },
   {
    "duration": 12,
    "start_time": "2024-04-25T09:35:42.302Z"
   },
   {
    "duration": 334,
    "start_time": "2024-04-25T09:35:42.315Z"
   },
   {
    "duration": 12,
    "start_time": "2024-04-25T09:35:42.650Z"
   },
   {
    "duration": 823,
    "start_time": "2024-04-25T09:35:42.664Z"
   },
   {
    "duration": 10,
    "start_time": "2024-04-25T09:35:43.489Z"
   },
   {
    "duration": 489,
    "start_time": "2024-04-25T09:35:43.500Z"
   },
   {
    "duration": 15,
    "start_time": "2024-04-25T09:35:43.991Z"
   },
   {
    "duration": 12,
    "start_time": "2024-04-25T09:35:44.008Z"
   },
   {
    "duration": 6,
    "start_time": "2024-04-25T09:35:44.022Z"
   },
   {
    "duration": 44,
    "start_time": "2024-04-25T09:35:44.029Z"
   },
   {
    "duration": 12,
    "start_time": "2024-04-25T09:35:44.075Z"
   },
   {
    "duration": 15,
    "start_time": "2024-04-25T09:35:44.089Z"
   },
   {
    "duration": 12,
    "start_time": "2024-04-25T09:35:44.105Z"
   },
   {
    "duration": 594,
    "start_time": "2024-04-25T09:35:44.119Z"
   },
   {
    "duration": 33,
    "start_time": "2024-04-25T09:36:29.793Z"
   },
   {
    "duration": 31,
    "start_time": "2024-04-25T09:37:45.251Z"
   },
   {
    "duration": 9,
    "start_time": "2024-04-25T09:38:26.018Z"
   },
   {
    "duration": 9,
    "start_time": "2024-04-25T09:38:49.497Z"
   },
   {
    "duration": 9,
    "start_time": "2024-04-25T09:39:20.783Z"
   },
   {
    "duration": 8,
    "start_time": "2024-04-25T09:40:51.642Z"
   },
   {
    "duration": 111,
    "start_time": "2024-04-25T10:11:30.006Z"
   },
   {
    "duration": 148,
    "start_time": "2024-04-25T10:11:47.040Z"
   },
   {
    "duration": 11,
    "start_time": "2024-04-25T10:11:57.183Z"
   },
   {
    "duration": 14,
    "start_time": "2024-04-25T10:12:05.962Z"
   },
   {
    "duration": 18,
    "start_time": "2024-04-25T10:17:22.859Z"
   },
   {
    "duration": 39,
    "start_time": "2024-04-25T10:22:01.848Z"
   },
   {
    "duration": 12,
    "start_time": "2024-04-25T10:22:06.685Z"
   },
   {
    "duration": 33,
    "start_time": "2024-04-25T10:22:18.073Z"
   },
   {
    "duration": 14,
    "start_time": "2024-04-25T10:25:13.318Z"
   },
   {
    "duration": 13,
    "start_time": "2024-04-25T10:26:51.650Z"
   },
   {
    "duration": 7,
    "start_time": "2024-04-25T10:28:10.650Z"
   },
   {
    "duration": 14,
    "start_time": "2024-04-25T10:28:20.380Z"
   },
   {
    "duration": 15,
    "start_time": "2024-04-25T10:28:32.121Z"
   },
   {
    "duration": 10,
    "start_time": "2024-04-25T11:06:25.992Z"
   },
   {
    "duration": 46,
    "start_time": "2024-04-25T11:08:21.345Z"
   },
   {
    "duration": 48,
    "start_time": "2024-04-25T11:08:39.858Z"
   },
   {
    "duration": 9,
    "start_time": "2024-04-25T11:15:59.219Z"
   },
   {
    "duration": 15,
    "start_time": "2024-04-25T11:16:04.328Z"
   },
   {
    "duration": 8,
    "start_time": "2024-04-25T11:16:05.530Z"
   },
   {
    "duration": 13,
    "start_time": "2024-04-25T11:16:12.757Z"
   },
   {
    "duration": 13,
    "start_time": "2024-04-25T11:16:33.626Z"
   },
   {
    "duration": 12,
    "start_time": "2024-04-25T11:16:35.017Z"
   },
   {
    "duration": 9,
    "start_time": "2024-04-25T11:17:28.325Z"
   },
   {
    "duration": 695,
    "start_time": "2024-04-25T11:25:10.839Z"
   },
   {
    "duration": 746,
    "start_time": "2024-04-25T11:52:05.062Z"
   },
   {
    "duration": 13,
    "start_time": "2024-04-25T11:52:33.729Z"
   },
   {
    "duration": 6,
    "start_time": "2024-04-25T11:52:51.601Z"
   },
   {
    "duration": 50,
    "start_time": "2024-04-25T11:56:19.925Z"
   },
   {
    "duration": 55,
    "start_time": "2024-04-25T11:56:26.738Z"
   },
   {
    "duration": 45,
    "start_time": "2024-04-25T12:00:00.806Z"
   },
   {
    "duration": 258,
    "start_time": "2024-04-25T12:01:54.361Z"
   },
   {
    "duration": 49,
    "start_time": "2024-04-25T12:02:24.875Z"
   },
   {
    "duration": 49,
    "start_time": "2024-04-25T12:02:40.385Z"
   },
   {
    "duration": 10,
    "start_time": "2024-04-25T12:04:01.563Z"
   },
   {
    "duration": 7,
    "start_time": "2024-04-25T12:04:41.300Z"
   },
   {
    "duration": 17,
    "start_time": "2024-04-25T12:05:00.980Z"
   },
   {
    "duration": 29,
    "start_time": "2024-04-25T12:07:30.698Z"
   },
   {
    "duration": 13,
    "start_time": "2024-04-25T12:07:44.072Z"
   },
   {
    "duration": 17,
    "start_time": "2024-04-25T12:07:59.489Z"
   },
   {
    "duration": 6,
    "start_time": "2024-04-25T12:32:58.740Z"
   },
   {
    "duration": 14,
    "start_time": "2024-04-25T12:36:19.093Z"
   },
   {
    "duration": 12,
    "start_time": "2024-04-25T12:36:25.788Z"
   },
   {
    "duration": 6,
    "start_time": "2024-04-25T12:38:56.484Z"
   },
   {
    "duration": 5,
    "start_time": "2024-04-25T12:39:06.746Z"
   },
   {
    "duration": 6,
    "start_time": "2024-04-25T12:39:29.943Z"
   },
   {
    "duration": 6,
    "start_time": "2024-04-25T12:54:13.911Z"
   },
   {
    "duration": 5,
    "start_time": "2024-04-25T12:55:19.860Z"
   },
   {
    "duration": 5,
    "start_time": "2024-04-25T12:59:45.141Z"
   },
   {
    "duration": 12,
    "start_time": "2024-04-25T13:13:04.488Z"
   },
   {
    "duration": 7,
    "start_time": "2024-04-25T13:14:59.068Z"
   },
   {
    "duration": 1113,
    "start_time": "2024-04-25T13:19:05.806Z"
   },
   {
    "duration": 5,
    "start_time": "2024-04-25T13:50:00.549Z"
   },
   {
    "duration": 9,
    "start_time": "2024-04-25T13:50:53.822Z"
   },
   {
    "duration": 8,
    "start_time": "2024-04-25T13:51:01.337Z"
   },
   {
    "duration": 1172,
    "start_time": "2024-04-25T14:23:22.968Z"
   },
   {
    "duration": 70,
    "start_time": "2024-04-25T14:23:24.142Z"
   },
   {
    "duration": 23,
    "start_time": "2024-04-25T14:23:24.214Z"
   },
   {
    "duration": 152,
    "start_time": "2024-04-25T14:23:24.239Z"
   },
   {
    "duration": 8,
    "start_time": "2024-04-25T14:23:24.393Z"
   },
   {
    "duration": 30,
    "start_time": "2024-04-25T14:23:24.403Z"
   },
   {
    "duration": 346,
    "start_time": "2024-04-25T14:23:24.434Z"
   },
   {
    "duration": 8,
    "start_time": "2024-04-25T14:23:24.781Z"
   },
   {
    "duration": 23,
    "start_time": "2024-04-25T14:23:24.791Z"
   },
   {
    "duration": 9,
    "start_time": "2024-04-25T14:23:24.817Z"
   },
   {
    "duration": 36,
    "start_time": "2024-04-25T14:23:24.828Z"
   },
   {
    "duration": 4,
    "start_time": "2024-04-25T14:23:24.865Z"
   },
   {
    "duration": 8,
    "start_time": "2024-04-25T14:23:24.870Z"
   },
   {
    "duration": 11,
    "start_time": "2024-04-25T14:23:24.880Z"
   },
   {
    "duration": 23,
    "start_time": "2024-04-25T14:23:24.893Z"
   },
   {
    "duration": 22,
    "start_time": "2024-04-25T14:23:24.918Z"
   },
   {
    "duration": 221,
    "start_time": "2024-04-25T14:23:24.960Z"
   },
   {
    "duration": 104,
    "start_time": "2024-04-25T14:23:25.183Z"
   },
   {
    "duration": 13,
    "start_time": "2024-04-25T14:23:25.289Z"
   },
   {
    "duration": 330,
    "start_time": "2024-04-25T14:23:25.303Z"
   },
   {
    "duration": 9,
    "start_time": "2024-04-25T14:23:25.634Z"
   },
   {
    "duration": 911,
    "start_time": "2024-04-25T14:23:25.645Z"
   },
   {
    "duration": 9,
    "start_time": "2024-04-25T14:23:26.560Z"
   },
   {
    "duration": 463,
    "start_time": "2024-04-25T14:23:26.570Z"
   },
   {
    "duration": 14,
    "start_time": "2024-04-25T14:23:27.036Z"
   },
   {
    "duration": 20,
    "start_time": "2024-04-25T14:23:27.052Z"
   },
   {
    "duration": 24,
    "start_time": "2024-04-25T14:23:27.073Z"
   },
   {
    "duration": 6,
    "start_time": "2024-04-25T14:23:27.101Z"
   },
   {
    "duration": 28,
    "start_time": "2024-04-25T14:23:27.110Z"
   },
   {
    "duration": 32,
    "start_time": "2024-04-25T14:23:27.140Z"
   },
   {
    "duration": 14,
    "start_time": "2024-04-25T14:23:27.173Z"
   },
   {
    "duration": 12,
    "start_time": "2024-04-25T14:23:27.189Z"
   },
   {
    "duration": 584,
    "start_time": "2024-04-25T14:23:27.202Z"
   },
   {
    "duration": 34,
    "start_time": "2024-04-25T14:23:27.788Z"
   },
   {
    "duration": 10,
    "start_time": "2024-04-25T14:23:27.823Z"
   },
   {
    "duration": 33,
    "start_time": "2024-04-25T14:23:27.834Z"
   },
   {
    "duration": 10,
    "start_time": "2024-04-25T14:23:27.868Z"
   },
   {
    "duration": 9,
    "start_time": "2024-04-25T14:23:27.880Z"
   },
   {
    "duration": 205,
    "start_time": "2024-04-25T14:23:27.890Z"
   },
   {
    "duration": 11,
    "start_time": "2024-04-25T14:23:28.097Z"
   },
   {
    "duration": 7,
    "start_time": "2024-04-25T14:23:28.110Z"
   },
   {
    "duration": 6,
    "start_time": "2024-04-25T14:23:28.118Z"
   },
   {
    "duration": 5,
    "start_time": "2024-04-25T14:23:28.125Z"
   },
   {
    "duration": 35,
    "start_time": "2024-04-25T14:23:28.131Z"
   },
   {
    "duration": 1105,
    "start_time": "2024-04-25T14:32:05.360Z"
   },
   {
    "duration": 66,
    "start_time": "2024-04-25T14:32:06.467Z"
   },
   {
    "duration": 22,
    "start_time": "2024-04-25T14:32:06.534Z"
   },
   {
    "duration": 145,
    "start_time": "2024-04-25T14:32:06.558Z"
   },
   {
    "duration": 6,
    "start_time": "2024-04-25T14:32:06.705Z"
   },
   {
    "duration": 30,
    "start_time": "2024-04-25T14:32:06.712Z"
   },
   {
    "duration": 285,
    "start_time": "2024-04-25T14:32:06.743Z"
   },
   {
    "duration": 10,
    "start_time": "2024-04-25T14:32:07.030Z"
   },
   {
    "duration": 23,
    "start_time": "2024-04-25T14:32:07.041Z"
   },
   {
    "duration": 8,
    "start_time": "2024-04-25T14:32:07.067Z"
   },
   {
    "duration": 34,
    "start_time": "2024-04-25T14:32:07.077Z"
   },
   {
    "duration": 18,
    "start_time": "2024-04-25T14:32:07.113Z"
   },
   {
    "duration": 23,
    "start_time": "2024-04-25T14:32:07.132Z"
   },
   {
    "duration": 38,
    "start_time": "2024-04-25T14:32:07.156Z"
   },
   {
    "duration": 17,
    "start_time": "2024-04-25T14:32:07.196Z"
   },
   {
    "duration": 30,
    "start_time": "2024-04-25T14:32:07.214Z"
   },
   {
    "duration": 181,
    "start_time": "2024-04-25T14:32:07.245Z"
   },
   {
    "duration": 76,
    "start_time": "2024-04-25T14:32:07.427Z"
   },
   {
    "duration": 25,
    "start_time": "2024-04-25T14:32:07.504Z"
   },
   {
    "duration": 274,
    "start_time": "2024-04-25T14:32:07.530Z"
   },
   {
    "duration": 16,
    "start_time": "2024-04-25T14:32:07.805Z"
   },
   {
    "duration": 777,
    "start_time": "2024-04-25T14:32:07.822Z"
   },
   {
    "duration": 9,
    "start_time": "2024-04-25T14:32:08.600Z"
   },
   {
    "duration": 473,
    "start_time": "2024-04-25T14:32:08.611Z"
   },
   {
    "duration": 14,
    "start_time": "2024-04-25T14:32:09.086Z"
   },
   {
    "duration": 18,
    "start_time": "2024-04-25T14:32:09.102Z"
   },
   {
    "duration": 13,
    "start_time": "2024-04-25T14:32:09.122Z"
   },
   {
    "duration": 14,
    "start_time": "2024-04-25T14:32:09.138Z"
   },
   {
    "duration": 22,
    "start_time": "2024-04-25T14:32:09.154Z"
   },
   {
    "duration": 15,
    "start_time": "2024-04-25T14:32:09.178Z"
   },
   {
    "duration": 27,
    "start_time": "2024-04-25T14:32:09.194Z"
   },
   {
    "duration": 11,
    "start_time": "2024-04-25T14:32:09.223Z"
   },
   {
    "duration": 544,
    "start_time": "2024-04-25T14:32:09.236Z"
   },
   {
    "duration": 40,
    "start_time": "2024-04-25T14:32:09.781Z"
   },
   {
    "duration": 7,
    "start_time": "2024-04-25T14:32:09.823Z"
   },
   {
    "duration": 8,
    "start_time": "2024-04-25T14:32:09.831Z"
   },
   {
    "duration": 8,
    "start_time": "2024-04-25T14:32:09.840Z"
   },
   {
    "duration": 6,
    "start_time": "2024-04-25T14:32:09.849Z"
   },
   {
    "duration": 166,
    "start_time": "2024-04-25T14:32:09.857Z"
   },
   {
    "duration": 13,
    "start_time": "2024-04-25T14:32:10.024Z"
   },
   {
    "duration": 14,
    "start_time": "2024-04-25T14:32:10.038Z"
   },
   {
    "duration": 15,
    "start_time": "2024-04-25T14:32:10.053Z"
   },
   {
    "duration": 12,
    "start_time": "2024-04-25T14:32:10.069Z"
   },
   {
    "duration": 13,
    "start_time": "2024-04-25T14:32:10.082Z"
   },
   {
    "duration": 97,
    "start_time": "2024-04-25T14:41:44.140Z"
   },
   {
    "duration": 9,
    "start_time": "2024-04-25T14:41:51.480Z"
   },
   {
    "duration": 1062,
    "start_time": "2024-04-25T14:46:41.374Z"
   },
   {
    "duration": 67,
    "start_time": "2024-04-25T14:46:42.438Z"
   },
   {
    "duration": 22,
    "start_time": "2024-04-25T14:46:42.507Z"
   },
   {
    "duration": 150,
    "start_time": "2024-04-25T14:46:42.531Z"
   },
   {
    "duration": 5,
    "start_time": "2024-04-25T14:46:42.683Z"
   },
   {
    "duration": 35,
    "start_time": "2024-04-25T14:46:42.689Z"
   },
   {
    "duration": 271,
    "start_time": "2024-04-25T14:46:42.725Z"
   },
   {
    "duration": 8,
    "start_time": "2024-04-25T14:46:42.997Z"
   },
   {
    "duration": 32,
    "start_time": "2024-04-25T14:46:43.007Z"
   },
   {
    "duration": 8,
    "start_time": "2024-04-25T14:46:43.042Z"
   },
   {
    "duration": 10,
    "start_time": "2024-04-25T14:46:43.051Z"
   },
   {
    "duration": 3,
    "start_time": "2024-04-25T14:46:43.062Z"
   },
   {
    "duration": 9,
    "start_time": "2024-04-25T14:46:43.066Z"
   },
   {
    "duration": 16,
    "start_time": "2024-04-25T14:46:43.076Z"
   },
   {
    "duration": 46,
    "start_time": "2024-04-25T14:46:43.093Z"
   },
   {
    "duration": 19,
    "start_time": "2024-04-25T14:46:43.141Z"
   },
   {
    "duration": 211,
    "start_time": "2024-04-25T14:46:43.162Z"
   },
   {
    "duration": 85,
    "start_time": "2024-04-25T14:46:43.375Z"
   },
   {
    "duration": 12,
    "start_time": "2024-04-25T14:46:43.461Z"
   },
   {
    "duration": 302,
    "start_time": "2024-04-25T14:46:43.475Z"
   },
   {
    "duration": 7,
    "start_time": "2024-04-25T14:46:43.779Z"
   },
   {
    "duration": 810,
    "start_time": "2024-04-25T14:46:43.787Z"
   },
   {
    "duration": 10,
    "start_time": "2024-04-25T14:46:44.598Z"
   },
   {
    "duration": 453,
    "start_time": "2024-04-25T14:46:44.609Z"
   },
   {
    "duration": 14,
    "start_time": "2024-04-25T14:46:45.064Z"
   },
   {
    "duration": 38,
    "start_time": "2024-04-25T14:46:45.079Z"
   },
   {
    "duration": 43,
    "start_time": "2024-04-25T14:46:45.118Z"
   },
   {
    "duration": 12,
    "start_time": "2024-04-25T14:46:45.164Z"
   },
   {
    "duration": 49,
    "start_time": "2024-04-25T14:46:45.178Z"
   },
   {
    "duration": 18,
    "start_time": "2024-04-25T14:46:45.229Z"
   },
   {
    "duration": 37,
    "start_time": "2024-04-25T14:46:45.248Z"
   },
   {
    "duration": 12,
    "start_time": "2024-04-25T14:46:45.287Z"
   },
   {
    "duration": 511,
    "start_time": "2024-04-25T14:46:45.301Z"
   },
   {
    "duration": 32,
    "start_time": "2024-04-25T14:46:45.814Z"
   },
   {
    "duration": 7,
    "start_time": "2024-04-25T14:46:45.848Z"
   },
   {
    "duration": 29,
    "start_time": "2024-04-25T14:46:45.856Z"
   },
   {
    "duration": 9,
    "start_time": "2024-04-25T14:46:45.886Z"
   },
   {
    "duration": 12,
    "start_time": "2024-04-25T14:46:45.896Z"
   },
   {
    "duration": 138,
    "start_time": "2024-04-25T14:46:45.910Z"
   },
   {
    "duration": 13,
    "start_time": "2024-04-25T14:46:46.049Z"
   },
   {
    "duration": 37,
    "start_time": "2024-04-25T14:46:46.064Z"
   },
   {
    "duration": 22,
    "start_time": "2024-04-25T14:46:46.103Z"
   },
   {
    "duration": 27,
    "start_time": "2024-04-25T14:46:46.127Z"
   },
   {
    "duration": 17,
    "start_time": "2024-04-25T14:46:46.156Z"
   },
   {
    "duration": 1098,
    "start_time": "2024-04-25T14:49:24.881Z"
   },
   {
    "duration": 69,
    "start_time": "2024-04-25T14:49:25.980Z"
   },
   {
    "duration": 25,
    "start_time": "2024-04-25T14:49:26.050Z"
   },
   {
    "duration": 175,
    "start_time": "2024-04-25T14:49:26.078Z"
   },
   {
    "duration": 5,
    "start_time": "2024-04-25T14:49:26.255Z"
   },
   {
    "duration": 34,
    "start_time": "2024-04-25T14:49:26.261Z"
   },
   {
    "duration": 279,
    "start_time": "2024-04-25T14:49:26.297Z"
   },
   {
    "duration": 8,
    "start_time": "2024-04-25T14:49:26.579Z"
   },
   {
    "duration": 42,
    "start_time": "2024-04-25T14:49:26.589Z"
   },
   {
    "duration": 9,
    "start_time": "2024-04-25T14:49:26.634Z"
   },
   {
    "duration": 9,
    "start_time": "2024-04-25T14:49:26.645Z"
   },
   {
    "duration": 15,
    "start_time": "2024-04-25T14:49:26.655Z"
   },
   {
    "duration": 17,
    "start_time": "2024-04-25T14:49:26.671Z"
   },
   {
    "duration": 9,
    "start_time": "2024-04-25T14:49:26.690Z"
   },
   {
    "duration": 20,
    "start_time": "2024-04-25T14:49:26.700Z"
   },
   {
    "duration": 16,
    "start_time": "2024-04-25T14:49:26.722Z"
   },
   {
    "duration": 202,
    "start_time": "2024-04-25T14:49:26.740Z"
   },
   {
    "duration": 91,
    "start_time": "2024-04-25T14:49:26.943Z"
   },
   {
    "duration": 12,
    "start_time": "2024-04-25T14:49:27.035Z"
   },
   {
    "duration": 298,
    "start_time": "2024-04-25T14:49:27.049Z"
   },
   {
    "duration": 9,
    "start_time": "2024-04-25T14:49:27.348Z"
   },
   {
    "duration": 799,
    "start_time": "2024-04-25T14:49:27.358Z"
   },
   {
    "duration": 7,
    "start_time": "2024-04-25T14:49:28.159Z"
   },
   {
    "duration": 432,
    "start_time": "2024-04-25T14:49:28.168Z"
   },
   {
    "duration": 19,
    "start_time": "2024-04-25T14:49:28.602Z"
   },
   {
    "duration": 11,
    "start_time": "2024-04-25T14:49:28.623Z"
   },
   {
    "duration": 18,
    "start_time": "2024-04-25T14:49:28.636Z"
   },
   {
    "duration": 7,
    "start_time": "2024-04-25T14:49:28.656Z"
   },
   {
    "duration": 17,
    "start_time": "2024-04-25T14:49:28.664Z"
   },
   {
    "duration": 28,
    "start_time": "2024-04-25T14:49:28.682Z"
   },
   {
    "duration": 51,
    "start_time": "2024-04-25T14:49:28.711Z"
   },
   {
    "duration": 52,
    "start_time": "2024-04-25T14:49:28.763Z"
   },
   {
    "duration": 524,
    "start_time": "2024-04-25T14:49:28.816Z"
   },
   {
    "duration": 30,
    "start_time": "2024-04-25T14:49:29.342Z"
   },
   {
    "duration": 7,
    "start_time": "2024-04-25T14:49:29.374Z"
   },
   {
    "duration": 6,
    "start_time": "2024-04-25T14:49:29.382Z"
   },
   {
    "duration": 33,
    "start_time": "2024-04-25T14:49:29.390Z"
   },
   {
    "duration": 7,
    "start_time": "2024-04-25T14:49:29.424Z"
   },
   {
    "duration": 136,
    "start_time": "2024-04-25T14:49:29.432Z"
   },
   {
    "duration": 10,
    "start_time": "2024-04-25T14:49:29.570Z"
   },
   {
    "duration": 7,
    "start_time": "2024-04-25T14:49:29.582Z"
   },
   {
    "duration": 5,
    "start_time": "2024-04-25T14:49:29.590Z"
   },
   {
    "duration": 4,
    "start_time": "2024-04-25T14:49:29.621Z"
   },
   {
    "duration": 15,
    "start_time": "2024-04-25T14:49:29.627Z"
   },
   {
    "duration": 33,
    "start_time": "2024-04-25T19:00:48.673Z"
   },
   {
    "duration": 27,
    "start_time": "2024-04-25T19:00:56.357Z"
   },
   {
    "duration": 27,
    "start_time": "2024-04-25T19:01:01.787Z"
   },
   {
    "duration": 25,
    "start_time": "2024-04-25T19:01:27.828Z"
   },
   {
    "duration": 107,
    "start_time": "2024-04-25T19:14:15.852Z"
   },
   {
    "duration": 6,
    "start_time": "2024-04-25T19:15:47.451Z"
   },
   {
    "duration": 677,
    "start_time": "2024-04-25T19:25:24.102Z"
   },
   {
    "duration": 729,
    "start_time": "2024-04-25T19:25:32.299Z"
   },
   {
    "duration": 723,
    "start_time": "2024-04-25T19:25:45.083Z"
   },
   {
    "duration": 583,
    "start_time": "2024-04-25T19:26:10.070Z"
   },
   {
    "duration": 667,
    "start_time": "2024-04-25T19:26:18.549Z"
   },
   {
    "duration": 591,
    "start_time": "2024-04-25T19:26:27.871Z"
   },
   {
    "duration": 56,
    "start_time": "2024-04-25T19:26:51.290Z"
   },
   {
    "duration": 585,
    "start_time": "2024-04-25T19:27:02.323Z"
   },
   {
    "duration": 685,
    "start_time": "2024-04-25T19:27:12.733Z"
   },
   {
    "duration": 568,
    "start_time": "2024-04-25T19:27:19.630Z"
   },
   {
    "duration": 581,
    "start_time": "2024-04-25T19:27:32.974Z"
   },
   {
    "duration": 656,
    "start_time": "2024-04-25T19:27:43.827Z"
   },
   {
    "duration": 603,
    "start_time": "2024-04-25T19:27:51.769Z"
   },
   {
    "duration": 596,
    "start_time": "2024-04-25T19:27:59.209Z"
   },
   {
    "duration": 722,
    "start_time": "2024-04-25T19:28:16.526Z"
   },
   {
    "duration": 441,
    "start_time": "2024-04-25T19:29:51.151Z"
   },
   {
    "duration": 4,
    "start_time": "2024-04-25T19:43:40.511Z"
   },
   {
    "duration": 24,
    "start_time": "2024-04-25T19:44:24.826Z"
   },
   {
    "duration": 4,
    "start_time": "2024-04-25T19:45:11.731Z"
   },
   {
    "duration": 24,
    "start_time": "2024-04-25T19:45:23.085Z"
   },
   {
    "duration": 5,
    "start_time": "2024-04-25T19:45:29.857Z"
   },
   {
    "duration": 6,
    "start_time": "2024-04-25T19:56:40.076Z"
   },
   {
    "duration": 1138,
    "start_time": "2024-04-25T20:58:05.993Z"
   },
   {
    "duration": 72,
    "start_time": "2024-04-25T20:58:07.134Z"
   },
   {
    "duration": 30,
    "start_time": "2024-04-25T20:58:07.207Z"
   },
   {
    "duration": 147,
    "start_time": "2024-04-25T20:58:07.238Z"
   },
   {
    "duration": 5,
    "start_time": "2024-04-25T20:58:07.387Z"
   },
   {
    "duration": 24,
    "start_time": "2024-04-25T20:58:07.394Z"
   },
   {
    "duration": 317,
    "start_time": "2024-04-25T20:58:07.419Z"
   },
   {
    "duration": 8,
    "start_time": "2024-04-25T20:58:07.738Z"
   },
   {
    "duration": 33,
    "start_time": "2024-04-25T20:58:07.747Z"
   },
   {
    "duration": 16,
    "start_time": "2024-04-25T20:58:07.782Z"
   },
   {
    "duration": 19,
    "start_time": "2024-04-25T20:58:07.799Z"
   },
   {
    "duration": 7,
    "start_time": "2024-04-25T20:58:07.819Z"
   },
   {
    "duration": 17,
    "start_time": "2024-04-25T20:58:07.827Z"
   },
   {
    "duration": 27,
    "start_time": "2024-04-25T20:58:07.846Z"
   },
   {
    "duration": 20,
    "start_time": "2024-04-25T20:58:07.874Z"
   },
   {
    "duration": 21,
    "start_time": "2024-04-25T20:58:07.895Z"
   },
   {
    "duration": 206,
    "start_time": "2024-04-25T20:58:07.918Z"
   },
   {
    "duration": 94,
    "start_time": "2024-04-25T20:58:08.126Z"
   },
   {
    "duration": 12,
    "start_time": "2024-04-25T20:58:08.222Z"
   },
   {
    "duration": 295,
    "start_time": "2024-04-25T20:58:08.235Z"
   },
   {
    "duration": 8,
    "start_time": "2024-04-25T20:58:08.531Z"
   },
   {
    "duration": 796,
    "start_time": "2024-04-25T20:58:08.541Z"
   },
   {
    "duration": 26,
    "start_time": "2024-04-25T20:58:09.339Z"
   },
   {
    "duration": 452,
    "start_time": "2024-04-25T20:58:09.367Z"
   },
   {
    "duration": 15,
    "start_time": "2024-04-25T20:58:09.821Z"
   },
   {
    "duration": 25,
    "start_time": "2024-04-25T20:58:09.838Z"
   },
   {
    "duration": 14,
    "start_time": "2024-04-25T20:58:09.865Z"
   },
   {
    "duration": 6,
    "start_time": "2024-04-25T20:58:09.884Z"
   },
   {
    "duration": 17,
    "start_time": "2024-04-25T20:58:09.891Z"
   },
   {
    "duration": 12,
    "start_time": "2024-04-25T20:58:09.910Z"
   },
   {
    "duration": 55,
    "start_time": "2024-04-25T20:58:09.924Z"
   },
   {
    "duration": 11,
    "start_time": "2024-04-25T20:58:09.981Z"
   },
   {
    "duration": 549,
    "start_time": "2024-04-25T20:58:09.994Z"
   },
   {
    "duration": 43,
    "start_time": "2024-04-25T20:58:10.545Z"
   },
   {
    "duration": 9,
    "start_time": "2024-04-25T20:58:10.590Z"
   },
   {
    "duration": 29,
    "start_time": "2024-04-25T20:58:10.600Z"
   },
   {
    "duration": 10,
    "start_time": "2024-04-25T20:58:10.631Z"
   },
   {
    "duration": 21,
    "start_time": "2024-04-25T20:58:10.642Z"
   },
   {
    "duration": 5,
    "start_time": "2024-04-25T20:58:10.665Z"
   },
   {
    "duration": 180,
    "start_time": "2024-04-25T20:58:10.671Z"
   },
   {
    "duration": 16,
    "start_time": "2024-04-25T20:58:10.853Z"
   },
   {
    "duration": 8,
    "start_time": "2024-04-25T20:58:10.871Z"
   },
   {
    "duration": 7,
    "start_time": "2024-04-25T20:58:10.881Z"
   },
   {
    "duration": 6,
    "start_time": "2024-04-25T20:58:10.890Z"
   },
   {
    "duration": 9,
    "start_time": "2024-04-25T20:58:10.898Z"
   },
   {
    "duration": 1492,
    "start_time": "2024-04-26T09:20:33.389Z"
   },
   {
    "duration": 293,
    "start_time": "2024-04-26T09:20:34.883Z"
   },
   {
    "duration": 43,
    "start_time": "2024-04-26T09:20:35.177Z"
   },
   {
    "duration": 208,
    "start_time": "2024-04-26T09:20:35.222Z"
   },
   {
    "duration": 6,
    "start_time": "2024-04-26T09:20:35.432Z"
   },
   {
    "duration": 37,
    "start_time": "2024-04-26T09:20:35.440Z"
   },
   {
    "duration": 340,
    "start_time": "2024-04-26T09:20:35.479Z"
   },
   {
    "duration": 9,
    "start_time": "2024-04-26T09:20:35.821Z"
   },
   {
    "duration": 43,
    "start_time": "2024-04-26T09:20:35.831Z"
   },
   {
    "duration": 15,
    "start_time": "2024-04-26T09:20:35.878Z"
   },
   {
    "duration": 10,
    "start_time": "2024-04-26T09:20:35.895Z"
   },
   {
    "duration": 4,
    "start_time": "2024-04-26T09:20:35.907Z"
   },
   {
    "duration": 9,
    "start_time": "2024-04-26T09:20:35.913Z"
   },
   {
    "duration": 10,
    "start_time": "2024-04-26T09:20:35.924Z"
   },
   {
    "duration": 18,
    "start_time": "2024-04-26T09:20:35.969Z"
   },
   {
    "duration": 28,
    "start_time": "2024-04-26T09:20:35.989Z"
   },
   {
    "duration": 239,
    "start_time": "2024-04-26T09:20:36.019Z"
   },
   {
    "duration": 94,
    "start_time": "2024-04-26T09:20:36.260Z"
   },
   {
    "duration": 25,
    "start_time": "2024-04-26T09:20:36.356Z"
   },
   {
    "duration": 326,
    "start_time": "2024-04-26T09:20:36.383Z"
   },
   {
    "duration": 9,
    "start_time": "2024-04-26T09:20:36.711Z"
   },
   {
    "duration": 880,
    "start_time": "2024-04-26T09:20:36.722Z"
   },
   {
    "duration": 10,
    "start_time": "2024-04-26T09:20:37.604Z"
   },
   {
    "duration": 491,
    "start_time": "2024-04-26T09:20:37.615Z"
   },
   {
    "duration": 23,
    "start_time": "2024-04-26T09:20:38.108Z"
   },
   {
    "duration": 14,
    "start_time": "2024-04-26T09:20:38.133Z"
   },
   {
    "duration": 40,
    "start_time": "2024-04-26T09:20:38.149Z"
   },
   {
    "duration": 6,
    "start_time": "2024-04-26T09:20:38.194Z"
   },
   {
    "duration": 18,
    "start_time": "2024-04-26T09:20:38.202Z"
   },
   {
    "duration": 13,
    "start_time": "2024-04-26T09:20:38.222Z"
   },
   {
    "duration": 40,
    "start_time": "2024-04-26T09:20:38.237Z"
   },
   {
    "duration": 13,
    "start_time": "2024-04-26T09:20:38.279Z"
   },
   {
    "duration": 631,
    "start_time": "2024-04-26T09:20:38.294Z"
   },
   {
    "duration": 44,
    "start_time": "2024-04-26T09:20:38.927Z"
   },
   {
    "duration": 9,
    "start_time": "2024-04-26T09:20:38.972Z"
   },
   {
    "duration": 18,
    "start_time": "2024-04-26T09:20:38.983Z"
   },
   {
    "duration": 10,
    "start_time": "2024-04-26T09:20:39.003Z"
   },
   {
    "duration": 9,
    "start_time": "2024-04-26T09:20:39.015Z"
   },
   {
    "duration": 15,
    "start_time": "2024-04-26T09:20:39.026Z"
   },
   {
    "duration": 184,
    "start_time": "2024-04-26T09:20:39.043Z"
   },
   {
    "duration": 12,
    "start_time": "2024-04-26T09:20:39.229Z"
   },
   {
    "duration": 19,
    "start_time": "2024-04-26T09:20:39.242Z"
   },
   {
    "duration": 13,
    "start_time": "2024-04-26T09:20:39.263Z"
   },
   {
    "duration": 5,
    "start_time": "2024-04-26T09:20:39.277Z"
   },
   {
    "duration": 15,
    "start_time": "2024-04-26T09:20:39.284Z"
   },
   {
    "duration": 1140,
    "start_time": "2024-04-26T09:37:50.708Z"
   },
   {
    "duration": 67,
    "start_time": "2024-04-26T09:37:51.851Z"
   },
   {
    "duration": 36,
    "start_time": "2024-04-26T09:37:51.920Z"
   },
   {
    "duration": 181,
    "start_time": "2024-04-26T09:37:51.958Z"
   },
   {
    "duration": 8,
    "start_time": "2024-04-26T09:37:52.141Z"
   },
   {
    "duration": 45,
    "start_time": "2024-04-26T09:37:52.151Z"
   },
   {
    "duration": 307,
    "start_time": "2024-04-26T09:37:52.198Z"
   },
   {
    "duration": 9,
    "start_time": "2024-04-26T09:37:52.507Z"
   },
   {
    "duration": 22,
    "start_time": "2024-04-26T09:37:52.518Z"
   },
   {
    "duration": 31,
    "start_time": "2024-04-26T09:37:52.544Z"
   },
   {
    "duration": 7,
    "start_time": "2024-04-26T09:37:52.577Z"
   },
   {
    "duration": 8,
    "start_time": "2024-04-26T09:37:52.586Z"
   },
   {
    "duration": 23,
    "start_time": "2024-04-26T09:37:52.596Z"
   },
   {
    "duration": 11,
    "start_time": "2024-04-26T09:37:52.621Z"
   },
   {
    "duration": 17,
    "start_time": "2024-04-26T09:37:52.634Z"
   },
   {
    "duration": 26,
    "start_time": "2024-04-26T09:37:52.653Z"
   },
   {
    "duration": 202,
    "start_time": "2024-04-26T09:37:52.681Z"
   },
   {
    "duration": 97,
    "start_time": "2024-04-26T09:37:52.885Z"
   },
   {
    "duration": 14,
    "start_time": "2024-04-26T09:37:52.984Z"
   },
   {
    "duration": 331,
    "start_time": "2024-04-26T09:37:53.000Z"
   },
   {
    "duration": 10,
    "start_time": "2024-04-26T09:37:53.333Z"
   },
   {
    "duration": 822,
    "start_time": "2024-04-26T09:37:53.345Z"
   },
   {
    "duration": 9,
    "start_time": "2024-04-26T09:37:54.170Z"
   },
   {
    "duration": 480,
    "start_time": "2024-04-26T09:37:54.180Z"
   },
   {
    "duration": 21,
    "start_time": "2024-04-26T09:37:54.661Z"
   },
   {
    "duration": 12,
    "start_time": "2024-04-26T09:37:54.684Z"
   },
   {
    "duration": 24,
    "start_time": "2024-04-26T09:37:54.698Z"
   },
   {
    "duration": 5,
    "start_time": "2024-04-26T09:37:54.726Z"
   },
   {
    "duration": 17,
    "start_time": "2024-04-26T09:37:54.733Z"
   },
   {
    "duration": 39,
    "start_time": "2024-04-26T09:37:54.751Z"
   },
   {
    "duration": 14,
    "start_time": "2024-04-26T09:37:54.792Z"
   },
   {
    "duration": 12,
    "start_time": "2024-04-26T09:37:54.807Z"
   },
   {
    "duration": 586,
    "start_time": "2024-04-26T09:37:54.821Z"
   },
   {
    "duration": 33,
    "start_time": "2024-04-26T09:37:55.408Z"
   },
   {
    "duration": 8,
    "start_time": "2024-04-26T09:37:55.442Z"
   },
   {
    "duration": 24,
    "start_time": "2024-04-26T09:37:55.451Z"
   },
   {
    "duration": 10,
    "start_time": "2024-04-26T09:37:55.477Z"
   },
   {
    "duration": 14,
    "start_time": "2024-04-26T09:37:55.489Z"
   },
   {
    "duration": 6,
    "start_time": "2024-04-26T09:37:55.505Z"
   },
   {
    "duration": 176,
    "start_time": "2024-04-26T09:37:55.512Z"
   },
   {
    "duration": 11,
    "start_time": "2024-04-26T09:37:55.690Z"
   },
   {
    "duration": 8,
    "start_time": "2024-04-26T09:37:55.702Z"
   },
   {
    "duration": 5,
    "start_time": "2024-04-26T09:37:55.712Z"
   },
   {
    "duration": 16,
    "start_time": "2024-04-26T09:37:55.719Z"
   },
   {
    "duration": 32,
    "start_time": "2024-04-26T09:37:55.738Z"
   }
  ],
  "kernelspec": {
   "display_name": "Python 3 (ipykernel)",
   "language": "python",
   "name": "python3"
  },
  "language_info": {
   "codemirror_mode": {
    "name": "ipython",
    "version": 3
   },
   "file_extension": ".py",
   "mimetype": "text/x-python",
   "name": "python",
   "nbconvert_exporter": "python",
   "pygments_lexer": "ipython3",
   "version": "3.11.5"
  },
  "toc": {
   "base_numbering": 1,
   "nav_menu": {},
   "number_sections": true,
   "sideBar": true,
   "skip_h1_title": true,
   "title_cell": "Table of Contents",
   "title_sidebar": "Contents",
   "toc_cell": false,
   "toc_position": {},
   "toc_section_display": true,
   "toc_window_display": false
  }
 },
 "nbformat": 4,
 "nbformat_minor": 5
}
