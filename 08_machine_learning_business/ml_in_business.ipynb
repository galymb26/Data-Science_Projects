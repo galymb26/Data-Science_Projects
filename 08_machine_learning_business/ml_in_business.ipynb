{
 "cells": [
  {
   "cell_type": "markdown",
   "metadata": {},
   "source": [
    "# Выбор локации для скважины"
   ]
  },
  {
   "cell_type": "markdown",
   "metadata": {},
   "source": [
    "Допустим, вы работаете в добывающей компании «ГлавРосГосНефть». Нужно решить, где бурить новую скважину.\n",
    "\n",
    "Вам предоставлены пробы нефти в трёх регионах: в каждом 10 000 месторождений, где измерили качество нефти и объём её запасов. Постройте модель машинного обучения, которая поможет определить регион, где добыча принесёт наибольшую прибыль. Проанализируйте возможную прибыль и риски техникой *Bootstrap.*\n",
    "\n",
    "Шаги для выбора локации:\n",
    "\n",
    "- В избранном регионе ищут месторождения, для каждого определяют значения признаков;\n",
    "- Строят модель и оценивают объём запасов;\n",
    "- Выбирают месторождения с самым высокими оценками значений. Количество месторождений зависит от бюджета компании и стоимости разработки одной скважины;\n",
    "- Прибыль равна суммарной прибыли отобранных месторождений."
   ]
  },
  {
   "cell_type": "markdown",
   "metadata": {},
   "source": [
    "# Описание проекта\n",
    "\n",
    "**Требуется определить, где бурить новую скважину.**\n",
    "\n",
    "**В нашем распоряжении имеются пробы нефти в трёх регионах: в каждом 10 000 месторождений, где измерили качество нефти и объём её запасов. Построим модель машинного обучения, которая поможет определить регион, где добыча принесёт наибольшую прибыль. Проанализируем возможную прибыль и риски техникой Bootstrap.**\n",
    "\n",
    "**Шаги для выбора локации:**\n",
    "\n",
    "- **В избранном регионе ищут месторождения, для каждого определяют значения признаков;**\n",
    "\n",
    "- **Строят модель и оценивают объём запасов;**\n",
    "\n",
    "- **Выбирают месторождения с самым высокими оценками значений. Количество месторождений зависит от бюджета компании и стоимости разработки одной скважины;**\n",
    "\n",
    "- **Прибыль равна суммарной прибыли отобранных месторождений.**"
   ]
  },
  {
   "cell_type": "markdown",
   "metadata": {},
   "source": [
    "# Содержание проекта"
   ]
  },
  {
   "cell_type": "markdown",
   "metadata": {},
   "source": [
    "## Загрузка и подготовка данных"
   ]
  },
  {
   "cell_type": "markdown",
   "metadata": {},
   "source": [
    "\n",
    "- Импортируем необходимые библиотеки.\n",
    "\n",
    "- Загружаем данные по геологоразведке для всех трёх регионов.\n",
    "\n",
    "- Данные по первому региону. Данные по второму региону. Данные по третьему региону.\n",
    "\n",
    "- Построим визуализации, чтобы лучше понять распределение значений в каждом регионе."
   ]
  },
  {
   "cell_type": "markdown",
   "metadata": {},
   "source": [
    "## Обучение и проверка модели"
   ]
  },
  {
   "cell_type": "markdown",
   "metadata": {},
   "source": [
    "- Разделим данные на обучающую и валидационную выборки в пропорции 75:25.\n",
    "\n",
    "- Обучим модель и спрогнозируем значения для валидационной выборки.\n",
    "\n",
    "- Сохраним полученные прогнозы вместе с реальными значениями.\n",
    "\n",
    "- Выведем среднее предсказанное количество сырья и RMSE модели.\n",
    "\n",
    "- Проведем анализ полученных результатов."
   ]
  },
  {
   "cell_type": "markdown",
   "metadata": {},
   "source": [
    "## Подготовка к расчёту прибыли"
   ]
  },
  {
   "cell_type": "markdown",
   "metadata": {},
   "source": [
    "- Все ключевые значения для расчётов сохранить в отдельных переменных.\n",
    "\n",
    "- Рассчитать достаточный объём сырья для безубыточной разработки новой скважины. Сравнить полученный объём сырья со средним запасом в каждом регионе.\n",
    "\n",
    "- Написать выводы для подготовки расчёта прибыли."
   ]
  },
  {
   "cell_type": "markdown",
   "metadata": {},
   "source": [
    "## Создадим функцию для расчёта прибыли на основе отобранных скважин и прогнозов модели"
   ]
  },
  {
   "cell_type": "markdown",
   "metadata": {},
   "source": [
    "- Отбираем скважины с наивысшими предсказанными значениями.\n",
    "\n",
    "- Суммируем целевые объёмы нефти, соответствующие этим прогнозам.\n",
    "\n",
    "- Рассчитываем прибыль, исходя из общего объёма сырья."
   ]
  },
  {
   "cell_type": "markdown",
   "metadata": {},
   "source": [
    "## Расчёт прибыли и рисков "
   ]
  },
  {
   "cell_type": "markdown",
   "metadata": {},
   "source": [
    "- Применим технику Bootstrap с использованием 1000 выборок для определения распределения прибыли.\n",
    "\n",
    "- Рассчитаем среднее значение прибыли, 95%-й доверительный интервал и оценим вероятность убытков (отрицательной прибыли).\n",
    "\n",
    "- Сделаем выводы: выберем оптимальный регион для бурения и обоснуем этот выбор."
   ]
  },
  {
   "cell_type": "markdown",
   "metadata": {},
   "source": [
    "# 1. Загрузка и подготовка данных"
   ]
  },
  {
   "cell_type": "code",
   "execution_count": 1,
   "metadata": {},
   "outputs": [],
   "source": [
    "import os\n",
    "import warnings\n",
    "warnings.filterwarnings('ignore')\n",
    "import pandas as pd \n",
    "import numpy as np\n",
    "import seaborn as sns\n",
    "import matplotlib.pyplot as plt\n",
    "from sklearn.model_selection import train_test_split\n",
    "from sklearn.linear_model import LinearRegression\n",
    "from sklearn.preprocessing import StandardScaler\n",
    "from sklearn.metrics import mean_squared_error, r2_score \n",
    "\n",
    "STATE = np.random.RandomState(42)\n",
    "TEST_SIZE=0.25\n"
   ]
  },
  {
   "cell_type": "code",
   "execution_count": 2,
   "metadata": {},
   "outputs": [],
   "source": [
    "file_paths = ['/datasets/geo_data_0.csv', '/datasets/geo_data_1.csv', '/datasets/geo_data_2.csv']\n",
    "\n",
    "urls = [\n",
    "    'https://code.s3.yandex.net/datasets/geo_data_0.csv',\n",
    "    'https://code.s3.yandex.net/datasets/geo_data_1.csv',\n",
    "    'https://code.s3.yandex.net/datasets/geo_data_2.csv'\n",
    "]\n",
    "\n",
    "dfs = []\n",
    "\n",
    "for file_path, url in zip(file_paths, urls):\n",
    "    if os.path.exists(file_path):\n",
    "        df = pd.read_csv(file_path)\n",
    "    else:\n",
    "        df = pd.read_csv(url)\n",
    "    dfs.append(df)\n",
    "\n",
    "df0, df1, df2 = dfs"
   ]
  },
  {
   "cell_type": "code",
   "execution_count": 3,
   "metadata": {},
   "outputs": [],
   "source": [
    "def describe_dataframe(df):\n",
    "    print(\"Первые 10 строк набора данных:\")\n",
    "    display(df.head(10))\n",
    "    \n",
    "    print('_' * 80, '\\nИнформация о наборе данных:')\n",
    "    display(df.info())\n",
    "    \n",
    "    print('_' * 80, '\\nСтатистическая сводка (включая медиану):')\n",
    "    display(df.describe(percentiles=[0.5]).T)\n",
    "    \n",
    "    duplicate_count = df.duplicated().sum()\n",
    "    print('_' * 80, f\"\\nКоличество дубликатов: {duplicate_count}\")\n",
    "    \n",
    "    if duplicate_count > 0:\n",
    "        print(f\"Внимание: обнаружено {duplicate_count} дубликатов!\")\n",
    "    \n",
    "    print('_' * 80, '\\nГистограммы распределения данных:')\n",
    "    df.hist(figsize=(15, 7), bins=50, color='black')\n"
   ]
  },
  {
   "cell_type": "code",
   "execution_count": 4,
   "metadata": {},
   "outputs": [],
   "source": [
    "def corr_matrix(df):\n",
    "    # Выводим матрицу корреляций\n",
    "    print(\"Матрица корреляций данных:\")\n",
    "    corr_matrix = df.corr()\n",
    "    display(corr_matrix)\n",
    "    \n",
    "    print(\"\\nТепловая карта корреляций:\")\n",
    "    fig, ax = plt.subplots(figsize=(16, 8))\n",
    "    sns.heatmap(corr_matrix, annot=True, fmt=\".2f\", cmap=\"magma\", ax=ax)\n",
    "    \n",
    "    # Добавим заголовок и покажем график\n",
    "    ax.set_title(\"Тепловая карта корреляций\", fontsize=16)\n",
    "    plt.xticks(rotation=45)\n",
    "    plt.yticks(rotation=0)\n",
    "    plt.show()\n"
   ]
  },
  {
   "cell_type": "code",
   "execution_count": 5,
   "metadata": {},
   "outputs": [
    {
     "name": "stdout",
     "output_type": "stream",
     "text": [
      "Первые 10 строк набора данных:\n"
     ]
    },
    {
     "data": {
      "text/html": [
       "<div>\n",
       "<style scoped>\n",
       "    .dataframe tbody tr th:only-of-type {\n",
       "        vertical-align: middle;\n",
       "    }\n",
       "\n",
       "    .dataframe tbody tr th {\n",
       "        vertical-align: top;\n",
       "    }\n",
       "\n",
       "    .dataframe thead th {\n",
       "        text-align: right;\n",
       "    }\n",
       "</style>\n",
       "<table border=\"1\" class=\"dataframe\">\n",
       "  <thead>\n",
       "    <tr style=\"text-align: right;\">\n",
       "      <th></th>\n",
       "      <th>id</th>\n",
       "      <th>f0</th>\n",
       "      <th>f1</th>\n",
       "      <th>f2</th>\n",
       "      <th>product</th>\n",
       "    </tr>\n",
       "  </thead>\n",
       "  <tbody>\n",
       "    <tr>\n",
       "      <th>0</th>\n",
       "      <td>txEyH</td>\n",
       "      <td>0.705745</td>\n",
       "      <td>-0.497823</td>\n",
       "      <td>1.221170</td>\n",
       "      <td>105.280062</td>\n",
       "    </tr>\n",
       "    <tr>\n",
       "      <th>1</th>\n",
       "      <td>2acmU</td>\n",
       "      <td>1.334711</td>\n",
       "      <td>-0.340164</td>\n",
       "      <td>4.365080</td>\n",
       "      <td>73.037750</td>\n",
       "    </tr>\n",
       "    <tr>\n",
       "      <th>2</th>\n",
       "      <td>409Wp</td>\n",
       "      <td>1.022732</td>\n",
       "      <td>0.151990</td>\n",
       "      <td>1.419926</td>\n",
       "      <td>85.265647</td>\n",
       "    </tr>\n",
       "    <tr>\n",
       "      <th>3</th>\n",
       "      <td>iJLyR</td>\n",
       "      <td>-0.032172</td>\n",
       "      <td>0.139033</td>\n",
       "      <td>2.978566</td>\n",
       "      <td>168.620776</td>\n",
       "    </tr>\n",
       "    <tr>\n",
       "      <th>4</th>\n",
       "      <td>Xdl7t</td>\n",
       "      <td>1.988431</td>\n",
       "      <td>0.155413</td>\n",
       "      <td>4.751769</td>\n",
       "      <td>154.036647</td>\n",
       "    </tr>\n",
       "    <tr>\n",
       "      <th>5</th>\n",
       "      <td>wX4Hy</td>\n",
       "      <td>0.969570</td>\n",
       "      <td>0.489775</td>\n",
       "      <td>-0.735383</td>\n",
       "      <td>64.741541</td>\n",
       "    </tr>\n",
       "    <tr>\n",
       "      <th>6</th>\n",
       "      <td>tL6pL</td>\n",
       "      <td>0.645075</td>\n",
       "      <td>0.530656</td>\n",
       "      <td>1.780266</td>\n",
       "      <td>49.055285</td>\n",
       "    </tr>\n",
       "    <tr>\n",
       "      <th>7</th>\n",
       "      <td>BYPU6</td>\n",
       "      <td>-0.400648</td>\n",
       "      <td>0.808337</td>\n",
       "      <td>-5.624670</td>\n",
       "      <td>72.943292</td>\n",
       "    </tr>\n",
       "    <tr>\n",
       "      <th>8</th>\n",
       "      <td>j9Oui</td>\n",
       "      <td>0.643105</td>\n",
       "      <td>-0.551583</td>\n",
       "      <td>2.372141</td>\n",
       "      <td>113.356160</td>\n",
       "    </tr>\n",
       "    <tr>\n",
       "      <th>9</th>\n",
       "      <td>OLuZU</td>\n",
       "      <td>2.173381</td>\n",
       "      <td>0.563698</td>\n",
       "      <td>9.441852</td>\n",
       "      <td>127.910945</td>\n",
       "    </tr>\n",
       "  </tbody>\n",
       "</table>\n",
       "</div>"
      ],
      "text/plain": [
       "      id        f0        f1        f2     product\n",
       "0  txEyH  0.705745 -0.497823  1.221170  105.280062\n",
       "1  2acmU  1.334711 -0.340164  4.365080   73.037750\n",
       "2  409Wp  1.022732  0.151990  1.419926   85.265647\n",
       "3  iJLyR -0.032172  0.139033  2.978566  168.620776\n",
       "4  Xdl7t  1.988431  0.155413  4.751769  154.036647\n",
       "5  wX4Hy  0.969570  0.489775 -0.735383   64.741541\n",
       "6  tL6pL  0.645075  0.530656  1.780266   49.055285\n",
       "7  BYPU6 -0.400648  0.808337 -5.624670   72.943292\n",
       "8  j9Oui  0.643105 -0.551583  2.372141  113.356160\n",
       "9  OLuZU  2.173381  0.563698  9.441852  127.910945"
      ]
     },
     "metadata": {},
     "output_type": "display_data"
    },
    {
     "name": "stdout",
     "output_type": "stream",
     "text": [
      "________________________________________________________________________________ \n",
      "Информация о наборе данных:\n",
      "<class 'pandas.core.frame.DataFrame'>\n",
      "RangeIndex: 100000 entries, 0 to 99999\n",
      "Data columns (total 5 columns):\n",
      " #   Column   Non-Null Count   Dtype  \n",
      "---  ------   --------------   -----  \n",
      " 0   id       100000 non-null  object \n",
      " 1   f0       100000 non-null  float64\n",
      " 2   f1       100000 non-null  float64\n",
      " 3   f2       100000 non-null  float64\n",
      " 4   product  100000 non-null  float64\n",
      "dtypes: float64(4), object(1)\n",
      "memory usage: 3.8+ MB\n"
     ]
    },
    {
     "data": {
      "text/plain": [
       "None"
      ]
     },
     "metadata": {},
     "output_type": "display_data"
    },
    {
     "name": "stdout",
     "output_type": "stream",
     "text": [
      "________________________________________________________________________________ \n",
      "Статистическая сводка (включая медиану):\n"
     ]
    },
    {
     "data": {
      "text/html": [
       "<div>\n",
       "<style scoped>\n",
       "    .dataframe tbody tr th:only-of-type {\n",
       "        vertical-align: middle;\n",
       "    }\n",
       "\n",
       "    .dataframe tbody tr th {\n",
       "        vertical-align: top;\n",
       "    }\n",
       "\n",
       "    .dataframe thead th {\n",
       "        text-align: right;\n",
       "    }\n",
       "</style>\n",
       "<table border=\"1\" class=\"dataframe\">\n",
       "  <thead>\n",
       "    <tr style=\"text-align: right;\">\n",
       "      <th></th>\n",
       "      <th>count</th>\n",
       "      <th>mean</th>\n",
       "      <th>std</th>\n",
       "      <th>min</th>\n",
       "      <th>50%</th>\n",
       "      <th>max</th>\n",
       "    </tr>\n",
       "  </thead>\n",
       "  <tbody>\n",
       "    <tr>\n",
       "      <th>f0</th>\n",
       "      <td>100000.0</td>\n",
       "      <td>0.500419</td>\n",
       "      <td>0.871832</td>\n",
       "      <td>-1.408605</td>\n",
       "      <td>0.502360</td>\n",
       "      <td>2.362331</td>\n",
       "    </tr>\n",
       "    <tr>\n",
       "      <th>f1</th>\n",
       "      <td>100000.0</td>\n",
       "      <td>0.250143</td>\n",
       "      <td>0.504433</td>\n",
       "      <td>-0.848218</td>\n",
       "      <td>0.250252</td>\n",
       "      <td>1.343769</td>\n",
       "    </tr>\n",
       "    <tr>\n",
       "      <th>f2</th>\n",
       "      <td>100000.0</td>\n",
       "      <td>2.502647</td>\n",
       "      <td>3.248248</td>\n",
       "      <td>-12.088328</td>\n",
       "      <td>2.515969</td>\n",
       "      <td>16.003790</td>\n",
       "    </tr>\n",
       "    <tr>\n",
       "      <th>product</th>\n",
       "      <td>100000.0</td>\n",
       "      <td>92.500000</td>\n",
       "      <td>44.288691</td>\n",
       "      <td>0.000000</td>\n",
       "      <td>91.849972</td>\n",
       "      <td>185.364347</td>\n",
       "    </tr>\n",
       "  </tbody>\n",
       "</table>\n",
       "</div>"
      ],
      "text/plain": [
       "            count       mean        std        min        50%         max\n",
       "f0       100000.0   0.500419   0.871832  -1.408605   0.502360    2.362331\n",
       "f1       100000.0   0.250143   0.504433  -0.848218   0.250252    1.343769\n",
       "f2       100000.0   2.502647   3.248248 -12.088328   2.515969   16.003790\n",
       "product  100000.0  92.500000  44.288691   0.000000  91.849972  185.364347"
      ]
     },
     "metadata": {},
     "output_type": "display_data"
    },
    {
     "name": "stdout",
     "output_type": "stream",
     "text": [
      "________________________________________________________________________________ \n",
      "Количество дубликатов: 0\n",
      "________________________________________________________________________________ \n",
      "Гистограммы распределения данных:\n"
     ]
    },
    {
     "data": {
      "image/png": "[encoded data removed]",
      "text/plain": [
       "<Figure size 1080x504 with 4 Axes>"
      ]
     },
     "metadata": {
      "needs_background": "light"
     },
     "output_type": "display_data"
    }
   ],
   "source": [
    "describe_dataframe(df0)"
   ]
  },
  {
   "cell_type": "code",
   "execution_count": 6,
   "metadata": {},
   "outputs": [],
   "source": [
    "def check_id_uniqueness(df):\n",
    "    # Проверяем на наличие дубликатов по столбцу id\n",
    "    duplicate_ids = df['id'].duplicated().sum()\n",
    "    \n",
    "    if duplicate_ids > 0:\n",
    "        print(f\"обнаружено {duplicate_ids} дублирующихся id\")\n",
    "        print(\"Дублирующиеся записи:\")\n",
    "        display(df[df['id'].duplicated(keep=False)])\n",
    "    else:\n",
    "        print(\"Все id уникальны, дубликаты не обнаружены.\")\n"
   ]
  },
  {
   "cell_type": "code",
   "execution_count": 7,
   "metadata": {
    "scrolled": false
   },
   "outputs": [
    {
     "name": "stdout",
     "output_type": "stream",
     "text": [
      "Проверка уникальности ID для df0:\n",
      "обнаружено 10 дублирующихся id\n",
      "Дублирующиеся записи:\n"
     ]
    },
    {
     "data": {
      "text/html": [
       "<div>\n",
       "<style scoped>\n",
       "    .dataframe tbody tr th:only-of-type {\n",
       "        vertical-align: middle;\n",
       "    }\n",
       "\n",
       "    .dataframe tbody tr th {\n",
       "        vertical-align: top;\n",
       "    }\n",
       "\n",
       "    .dataframe thead th {\n",
       "        text-align: right;\n",
       "    }\n",
       "</style>\n",
       "<table border=\"1\" class=\"dataframe\">\n",
       "  <thead>\n",
       "    <tr style=\"text-align: right;\">\n",
       "      <th></th>\n",
       "      <th>id</th>\n",
       "      <th>f0</th>\n",
       "      <th>f1</th>\n",
       "      <th>f2</th>\n",
       "      <th>product</th>\n",
       "    </tr>\n",
       "  </thead>\n",
       "  <tbody>\n",
       "    <tr>\n",
       "      <th>931</th>\n",
       "      <td>HZww2</td>\n",
       "      <td>0.755284</td>\n",
       "      <td>0.368511</td>\n",
       "      <td>1.863211</td>\n",
       "      <td>30.681774</td>\n",
       "    </tr>\n",
       "    <tr>\n",
       "      <th>1364</th>\n",
       "      <td>bxg6G</td>\n",
       "      <td>0.411645</td>\n",
       "      <td>0.856830</td>\n",
       "      <td>-3.653440</td>\n",
       "      <td>73.604260</td>\n",
       "    </tr>\n",
       "    <tr>\n",
       "      <th>1949</th>\n",
       "      <td>QcMuo</td>\n",
       "      <td>0.506563</td>\n",
       "      <td>-0.323775</td>\n",
       "      <td>-2.215583</td>\n",
       "      <td>75.496502</td>\n",
       "    </tr>\n",
       "    <tr>\n",
       "      <th>3389</th>\n",
       "      <td>A5aEY</td>\n",
       "      <td>-0.039949</td>\n",
       "      <td>0.156872</td>\n",
       "      <td>0.209861</td>\n",
       "      <td>89.249364</td>\n",
       "    </tr>\n",
       "    <tr>\n",
       "      <th>7530</th>\n",
       "      <td>HZww2</td>\n",
       "      <td>1.061194</td>\n",
       "      <td>-0.373969</td>\n",
       "      <td>10.430210</td>\n",
       "      <td>158.828695</td>\n",
       "    </tr>\n",
       "    <tr>\n",
       "      <th>16633</th>\n",
       "      <td>fiKDv</td>\n",
       "      <td>0.157341</td>\n",
       "      <td>1.028359</td>\n",
       "      <td>5.585586</td>\n",
       "      <td>95.817889</td>\n",
       "    </tr>\n",
       "    <tr>\n",
       "      <th>21426</th>\n",
       "      <td>Tdehs</td>\n",
       "      <td>0.829407</td>\n",
       "      <td>0.298807</td>\n",
       "      <td>-0.049563</td>\n",
       "      <td>96.035308</td>\n",
       "    </tr>\n",
       "    <tr>\n",
       "      <th>41724</th>\n",
       "      <td>bxg6G</td>\n",
       "      <td>-0.823752</td>\n",
       "      <td>0.546319</td>\n",
       "      <td>3.630479</td>\n",
       "      <td>93.007798</td>\n",
       "    </tr>\n",
       "    <tr>\n",
       "      <th>42529</th>\n",
       "      <td>AGS9W</td>\n",
       "      <td>1.454747</td>\n",
       "      <td>-0.479651</td>\n",
       "      <td>0.683380</td>\n",
       "      <td>126.370504</td>\n",
       "    </tr>\n",
       "    <tr>\n",
       "      <th>51970</th>\n",
       "      <td>A5aEY</td>\n",
       "      <td>-0.180335</td>\n",
       "      <td>0.935548</td>\n",
       "      <td>-2.094773</td>\n",
       "      <td>33.020205</td>\n",
       "    </tr>\n",
       "    <tr>\n",
       "      <th>60140</th>\n",
       "      <td>TtcGQ</td>\n",
       "      <td>0.569276</td>\n",
       "      <td>-0.104876</td>\n",
       "      <td>6.440215</td>\n",
       "      <td>85.350186</td>\n",
       "    </tr>\n",
       "    <tr>\n",
       "      <th>63593</th>\n",
       "      <td>QcMuo</td>\n",
       "      <td>0.635635</td>\n",
       "      <td>-0.473422</td>\n",
       "      <td>0.862670</td>\n",
       "      <td>64.578675</td>\n",
       "    </tr>\n",
       "    <tr>\n",
       "      <th>64022</th>\n",
       "      <td>74z30</td>\n",
       "      <td>0.741456</td>\n",
       "      <td>0.459229</td>\n",
       "      <td>5.153109</td>\n",
       "      <td>140.771492</td>\n",
       "    </tr>\n",
       "    <tr>\n",
       "      <th>66136</th>\n",
       "      <td>74z30</td>\n",
       "      <td>1.084962</td>\n",
       "      <td>-0.312358</td>\n",
       "      <td>6.990771</td>\n",
       "      <td>127.643327</td>\n",
       "    </tr>\n",
       "    <tr>\n",
       "      <th>69163</th>\n",
       "      <td>AGS9W</td>\n",
       "      <td>-0.933795</td>\n",
       "      <td>0.116194</td>\n",
       "      <td>-3.655896</td>\n",
       "      <td>19.230453</td>\n",
       "    </tr>\n",
       "    <tr>\n",
       "      <th>75715</th>\n",
       "      <td>Tdehs</td>\n",
       "      <td>0.112079</td>\n",
       "      <td>0.430296</td>\n",
       "      <td>3.218993</td>\n",
       "      <td>60.964018</td>\n",
       "    </tr>\n",
       "    <tr>\n",
       "      <th>89582</th>\n",
       "      <td>bsk9y</td>\n",
       "      <td>0.398908</td>\n",
       "      <td>-0.400253</td>\n",
       "      <td>10.122376</td>\n",
       "      <td>163.433078</td>\n",
       "    </tr>\n",
       "    <tr>\n",
       "      <th>90815</th>\n",
       "      <td>fiKDv</td>\n",
       "      <td>0.049883</td>\n",
       "      <td>0.841313</td>\n",
       "      <td>6.394613</td>\n",
       "      <td>137.346586</td>\n",
       "    </tr>\n",
       "    <tr>\n",
       "      <th>92341</th>\n",
       "      <td>TtcGQ</td>\n",
       "      <td>0.110711</td>\n",
       "      <td>1.022689</td>\n",
       "      <td>0.911381</td>\n",
       "      <td>101.318008</td>\n",
       "    </tr>\n",
       "    <tr>\n",
       "      <th>97785</th>\n",
       "      <td>bsk9y</td>\n",
       "      <td>0.378429</td>\n",
       "      <td>0.005837</td>\n",
       "      <td>0.160827</td>\n",
       "      <td>160.637302</td>\n",
       "    </tr>\n",
       "  </tbody>\n",
       "</table>\n",
       "</div>"
      ],
      "text/plain": [
       "          id        f0        f1         f2     product\n",
       "931    HZww2  0.755284  0.368511   1.863211   30.681774\n",
       "1364   bxg6G  0.411645  0.856830  -3.653440   73.604260\n",
       "1949   QcMuo  0.506563 -0.323775  -2.215583   75.496502\n",
       "3389   A5aEY -0.039949  0.156872   0.209861   89.249364\n",
       "7530   HZww2  1.061194 -0.373969  10.430210  158.828695\n",
       "16633  fiKDv  0.157341  1.028359   5.585586   95.817889\n",
       "21426  Tdehs  0.829407  0.298807  -0.049563   96.035308\n",
       "41724  bxg6G -0.823752  0.546319   3.630479   93.007798\n",
       "42529  AGS9W  1.454747 -0.479651   0.683380  126.370504\n",
       "51970  A5aEY -0.180335  0.935548  -2.094773   33.020205\n",
       "60140  TtcGQ  0.569276 -0.104876   6.440215   85.350186\n",
       "63593  QcMuo  0.635635 -0.473422   0.862670   64.578675\n",
       "64022  74z30  0.741456  0.459229   5.153109  140.771492\n",
       "66136  74z30  1.084962 -0.312358   6.990771  127.643327\n",
       "69163  AGS9W -0.933795  0.116194  -3.655896   19.230453\n",
       "75715  Tdehs  0.112079  0.430296   3.218993   60.964018\n",
       "89582  bsk9y  0.398908 -0.400253  10.122376  163.433078\n",
       "90815  fiKDv  0.049883  0.841313   6.394613  137.346586\n",
       "92341  TtcGQ  0.110711  1.022689   0.911381  101.318008\n",
       "97785  bsk9y  0.378429  0.005837   0.160827  160.637302"
      ]
     },
     "metadata": {},
     "output_type": "display_data"
    },
    {
     "name": "stdout",
     "output_type": "stream",
     "text": [
      "\n",
      "Проверка уникальности ID для df1:\n",
      "обнаружено 4 дублирующихся id\n",
      "Дублирующиеся записи:\n"
     ]
    },
    {
     "data": {
      "text/html": [
       "<div>\n",
       "<style scoped>\n",
       "    .dataframe tbody tr th:only-of-type {\n",
       "        vertical-align: middle;\n",
       "    }\n",
       "\n",
       "    .dataframe tbody tr th {\n",
       "        vertical-align: top;\n",
       "    }\n",
       "\n",
       "    .dataframe thead th {\n",
       "        text-align: right;\n",
       "    }\n",
       "</style>\n",
       "<table border=\"1\" class=\"dataframe\">\n",
       "  <thead>\n",
       "    <tr style=\"text-align: right;\">\n",
       "      <th></th>\n",
       "      <th>id</th>\n",
       "      <th>f0</th>\n",
       "      <th>f1</th>\n",
       "      <th>f2</th>\n",
       "      <th>product</th>\n",
       "    </tr>\n",
       "  </thead>\n",
       "  <tbody>\n",
       "    <tr>\n",
       "      <th>1305</th>\n",
       "      <td>LHZR0</td>\n",
       "      <td>11.170835</td>\n",
       "      <td>-1.945066</td>\n",
       "      <td>3.002872</td>\n",
       "      <td>80.859783</td>\n",
       "    </tr>\n",
       "    <tr>\n",
       "      <th>2721</th>\n",
       "      <td>bfPNe</td>\n",
       "      <td>-9.494442</td>\n",
       "      <td>-5.463692</td>\n",
       "      <td>4.006042</td>\n",
       "      <td>110.992147</td>\n",
       "    </tr>\n",
       "    <tr>\n",
       "      <th>5849</th>\n",
       "      <td>5ltQ6</td>\n",
       "      <td>-3.435401</td>\n",
       "      <td>-12.296043</td>\n",
       "      <td>1.999796</td>\n",
       "      <td>57.085625</td>\n",
       "    </tr>\n",
       "    <tr>\n",
       "      <th>41906</th>\n",
       "      <td>LHZR0</td>\n",
       "      <td>-8.989672</td>\n",
       "      <td>-4.286607</td>\n",
       "      <td>2.009139</td>\n",
       "      <td>57.085625</td>\n",
       "    </tr>\n",
       "    <tr>\n",
       "      <th>47591</th>\n",
       "      <td>wt4Uk</td>\n",
       "      <td>-9.091098</td>\n",
       "      <td>-8.109279</td>\n",
       "      <td>-0.002314</td>\n",
       "      <td>3.179103</td>\n",
       "    </tr>\n",
       "    <tr>\n",
       "      <th>82178</th>\n",
       "      <td>bfPNe</td>\n",
       "      <td>-6.202799</td>\n",
       "      <td>-4.820045</td>\n",
       "      <td>2.995107</td>\n",
       "      <td>84.038886</td>\n",
       "    </tr>\n",
       "    <tr>\n",
       "      <th>82873</th>\n",
       "      <td>wt4Uk</td>\n",
       "      <td>10.259972</td>\n",
       "      <td>-9.376355</td>\n",
       "      <td>4.994297</td>\n",
       "      <td>134.766305</td>\n",
       "    </tr>\n",
       "    <tr>\n",
       "      <th>84461</th>\n",
       "      <td>5ltQ6</td>\n",
       "      <td>18.213839</td>\n",
       "      <td>2.191999</td>\n",
       "      <td>3.993869</td>\n",
       "      <td>107.813044</td>\n",
       "    </tr>\n",
       "  </tbody>\n",
       "</table>\n",
       "</div>"
      ],
      "text/plain": [
       "          id         f0         f1        f2     product\n",
       "1305   LHZR0  11.170835  -1.945066  3.002872   80.859783\n",
       "2721   bfPNe  -9.494442  -5.463692  4.006042  110.992147\n",
       "5849   5ltQ6  -3.435401 -12.296043  1.999796   57.085625\n",
       "41906  LHZR0  -8.989672  -4.286607  2.009139   57.085625\n",
       "47591  wt4Uk  -9.091098  -8.109279 -0.002314    3.179103\n",
       "82178  bfPNe  -6.202799  -4.820045  2.995107   84.038886\n",
       "82873  wt4Uk  10.259972  -9.376355  4.994297  134.766305\n",
       "84461  5ltQ6  18.213839   2.191999  3.993869  107.813044"
      ]
     },
     "metadata": {},
     "output_type": "display_data"
    },
    {
     "name": "stdout",
     "output_type": "stream",
     "text": [
      "\n",
      "Проверка уникальности ID для df2:\n",
      "обнаружено 4 дублирующихся id\n",
      "Дублирующиеся записи:\n"
     ]
    },
    {
     "data": {
      "text/html": [
       "<div>\n",
       "<style scoped>\n",
       "    .dataframe tbody tr th:only-of-type {\n",
       "        vertical-align: middle;\n",
       "    }\n",
       "\n",
       "    .dataframe tbody tr th {\n",
       "        vertical-align: top;\n",
       "    }\n",
       "\n",
       "    .dataframe thead th {\n",
       "        text-align: right;\n",
       "    }\n",
       "</style>\n",
       "<table border=\"1\" class=\"dataframe\">\n",
       "  <thead>\n",
       "    <tr style=\"text-align: right;\">\n",
       "      <th></th>\n",
       "      <th>id</th>\n",
       "      <th>f0</th>\n",
       "      <th>f1</th>\n",
       "      <th>f2</th>\n",
       "      <th>product</th>\n",
       "    </tr>\n",
       "  </thead>\n",
       "  <tbody>\n",
       "    <tr>\n",
       "      <th>11449</th>\n",
       "      <td>VF7Jo</td>\n",
       "      <td>2.122656</td>\n",
       "      <td>-0.858275</td>\n",
       "      <td>5.746001</td>\n",
       "      <td>181.716817</td>\n",
       "    </tr>\n",
       "    <tr>\n",
       "      <th>28039</th>\n",
       "      <td>xCHr8</td>\n",
       "      <td>1.633027</td>\n",
       "      <td>0.368135</td>\n",
       "      <td>-2.378367</td>\n",
       "      <td>6.120525</td>\n",
       "    </tr>\n",
       "    <tr>\n",
       "      <th>43233</th>\n",
       "      <td>xCHr8</td>\n",
       "      <td>-0.847066</td>\n",
       "      <td>2.101796</td>\n",
       "      <td>5.597130</td>\n",
       "      <td>184.388641</td>\n",
       "    </tr>\n",
       "    <tr>\n",
       "      <th>44378</th>\n",
       "      <td>Vcm5J</td>\n",
       "      <td>-1.229484</td>\n",
       "      <td>-2.439204</td>\n",
       "      <td>1.222909</td>\n",
       "      <td>137.968290</td>\n",
       "    </tr>\n",
       "    <tr>\n",
       "      <th>45404</th>\n",
       "      <td>KUPhW</td>\n",
       "      <td>0.231846</td>\n",
       "      <td>-1.698941</td>\n",
       "      <td>4.990775</td>\n",
       "      <td>11.716299</td>\n",
       "    </tr>\n",
       "    <tr>\n",
       "      <th>49564</th>\n",
       "      <td>VF7Jo</td>\n",
       "      <td>-0.883115</td>\n",
       "      <td>0.560537</td>\n",
       "      <td>0.723601</td>\n",
       "      <td>136.233420</td>\n",
       "    </tr>\n",
       "    <tr>\n",
       "      <th>55967</th>\n",
       "      <td>KUPhW</td>\n",
       "      <td>1.211150</td>\n",
       "      <td>3.176408</td>\n",
       "      <td>5.543540</td>\n",
       "      <td>132.831802</td>\n",
       "    </tr>\n",
       "    <tr>\n",
       "      <th>95090</th>\n",
       "      <td>Vcm5J</td>\n",
       "      <td>2.587702</td>\n",
       "      <td>1.986875</td>\n",
       "      <td>2.482245</td>\n",
       "      <td>92.327572</td>\n",
       "    </tr>\n",
       "  </tbody>\n",
       "</table>\n",
       "</div>"
      ],
      "text/plain": [
       "          id        f0        f1        f2     product\n",
       "11449  VF7Jo  2.122656 -0.858275  5.746001  181.716817\n",
       "28039  xCHr8  1.633027  0.368135 -2.378367    6.120525\n",
       "43233  xCHr8 -0.847066  2.101796  5.597130  184.388641\n",
       "44378  Vcm5J -1.229484 -2.439204  1.222909  137.968290\n",
       "45404  KUPhW  0.231846 -1.698941  4.990775   11.716299\n",
       "49564  VF7Jo -0.883115  0.560537  0.723601  136.233420\n",
       "55967  KUPhW  1.211150  3.176408  5.543540  132.831802\n",
       "95090  Vcm5J  2.587702  1.986875  2.482245   92.327572"
      ]
     },
     "metadata": {},
     "output_type": "display_data"
    }
   ],
   "source": [
    "# Проверяем уникальность id в каждом из датасетов\n",
    "print(\"Проверка уникальности ID для df0:\")\n",
    "check_id_uniqueness(df0)\n",
    "\n",
    "print(\"\\nПроверка уникальности ID для df1:\")\n",
    "check_id_uniqueness(df1)\n",
    "\n",
    "print(\"\\nПроверка уникальности ID для df2:\")\n",
    "check_id_uniqueness(df2)\n"
   ]
  },
  {
   "cell_type": "code",
   "execution_count": 8,
   "metadata": {},
   "outputs": [],
   "source": [
    "# Для df0\n",
    "df0 = df0.loc[df0.groupby('id')['product'].idxmax()]\n",
    "\n",
    "# Для df1\n",
    "df1 = df1.loc[df1.groupby('id')['product'].idxmax()]\n",
    "\n",
    "# Для df2\n",
    "df2 = df2.loc[df2.groupby('id')['product'].idxmax()]\n"
   ]
  },
  {
   "cell_type": "code",
   "execution_count": 9,
   "metadata": {},
   "outputs": [
    {
     "name": "stdout",
     "output_type": "stream",
     "text": [
      "Матрица корреляций данных:\n"
     ]
    },
    {
     "data": {
      "text/html": [
       "<div>\n",
       "<style scoped>\n",
       "    .dataframe tbody tr th:only-of-type {\n",
       "        vertical-align: middle;\n",
       "    }\n",
       "\n",
       "    .dataframe tbody tr th {\n",
       "        vertical-align: top;\n",
       "    }\n",
       "\n",
       "    .dataframe thead th {\n",
       "        text-align: right;\n",
       "    }\n",
       "</style>\n",
       "<table border=\"1\" class=\"dataframe\">\n",
       "  <thead>\n",
       "    <tr style=\"text-align: right;\">\n",
       "      <th></th>\n",
       "      <th>f0</th>\n",
       "      <th>f1</th>\n",
       "      <th>f2</th>\n",
       "      <th>product</th>\n",
       "    </tr>\n",
       "  </thead>\n",
       "  <tbody>\n",
       "    <tr>\n",
       "      <th>f0</th>\n",
       "      <td>1.000000</td>\n",
       "      <td>-0.440730</td>\n",
       "      <td>-0.003203</td>\n",
       "      <td>0.143508</td>\n",
       "    </tr>\n",
       "    <tr>\n",
       "      <th>f1</th>\n",
       "      <td>-0.440730</td>\n",
       "      <td>1.000000</td>\n",
       "      <td>0.001760</td>\n",
       "      <td>-0.192346</td>\n",
       "    </tr>\n",
       "    <tr>\n",
       "      <th>f2</th>\n",
       "      <td>-0.003203</td>\n",
       "      <td>0.001760</td>\n",
       "      <td>1.000000</td>\n",
       "      <td>0.483662</td>\n",
       "    </tr>\n",
       "    <tr>\n",
       "      <th>product</th>\n",
       "      <td>0.143508</td>\n",
       "      <td>-0.192346</td>\n",
       "      <td>0.483662</td>\n",
       "      <td>1.000000</td>\n",
       "    </tr>\n",
       "  </tbody>\n",
       "</table>\n",
       "</div>"
      ],
      "text/plain": [
       "               f0        f1        f2   product\n",
       "f0       1.000000 -0.440730 -0.003203  0.143508\n",
       "f1      -0.440730  1.000000  0.001760 -0.192346\n",
       "f2      -0.003203  0.001760  1.000000  0.483662\n",
       "product  0.143508 -0.192346  0.483662  1.000000"
      ]
     },
     "metadata": {},
     "output_type": "display_data"
    },
    {
     "name": "stdout",
     "output_type": "stream",
     "text": [
      "\n",
      "Тепловая карта корреляций:\n"
     ]
    },
    {
     "data": {
      "image/png": "[encoded data removed]",
      "text/plain": [
       "<Figure size 1152x576 with 2 Axes>"
      ]
     },
     "metadata": {
      "needs_background": "light"
     },
     "output_type": "display_data"
    }
   ],
   "source": [
    "corr_matrix(df0)"
   ]
  },
  {
   "cell_type": "code",
   "execution_count": 10,
   "metadata": {},
   "outputs": [
    {
     "name": "stdout",
     "output_type": "stream",
     "text": [
      "Первые 10 строк набора данных:\n"
     ]
    },
    {
     "data": {
      "text/html": [
       "<div>\n",
       "<style scoped>\n",
       "    .dataframe tbody tr th:only-of-type {\n",
       "        vertical-align: middle;\n",
       "    }\n",
       "\n",
       "    .dataframe tbody tr th {\n",
       "        vertical-align: top;\n",
       "    }\n",
       "\n",
       "    .dataframe thead th {\n",
       "        text-align: right;\n",
       "    }\n",
       "</style>\n",
       "<table border=\"1\" class=\"dataframe\">\n",
       "  <thead>\n",
       "    <tr style=\"text-align: right;\">\n",
       "      <th></th>\n",
       "      <th>id</th>\n",
       "      <th>f0</th>\n",
       "      <th>f1</th>\n",
       "      <th>f2</th>\n",
       "      <th>product</th>\n",
       "    </tr>\n",
       "  </thead>\n",
       "  <tbody>\n",
       "    <tr>\n",
       "      <th>79058</th>\n",
       "      <td>0022J</td>\n",
       "      <td>-1.757135</td>\n",
       "      <td>-8.432343</td>\n",
       "      <td>1.999313</td>\n",
       "      <td>53.906522</td>\n",
       "    </tr>\n",
       "    <tr>\n",
       "      <th>92381</th>\n",
       "      <td>003Gl</td>\n",
       "      <td>2.862304</td>\n",
       "      <td>-2.622592</td>\n",
       "      <td>1.999858</td>\n",
       "      <td>57.085625</td>\n",
       "    </tr>\n",
       "    <tr>\n",
       "      <th>14828</th>\n",
       "      <td>003Vx</td>\n",
       "      <td>3.480454</td>\n",
       "      <td>-16.404208</td>\n",
       "      <td>3.000960</td>\n",
       "      <td>80.859783</td>\n",
       "    </tr>\n",
       "    <tr>\n",
       "      <th>76401</th>\n",
       "      <td>004LG</td>\n",
       "      <td>5.632612</td>\n",
       "      <td>5.149203</td>\n",
       "      <td>3.004665</td>\n",
       "      <td>80.859783</td>\n",
       "    </tr>\n",
       "    <tr>\n",
       "      <th>20545</th>\n",
       "      <td>006oG</td>\n",
       "      <td>-4.954731</td>\n",
       "      <td>-11.776300</td>\n",
       "      <td>5.001760</td>\n",
       "      <td>137.945408</td>\n",
       "    </tr>\n",
       "    <tr>\n",
       "      <th>12213</th>\n",
       "      <td>008Zq</td>\n",
       "      <td>-8.150049</td>\n",
       "      <td>-7.282106</td>\n",
       "      <td>0.999069</td>\n",
       "      <td>30.132364</td>\n",
       "    </tr>\n",
       "    <tr>\n",
       "      <th>54272</th>\n",
       "      <td>00DUS</td>\n",
       "      <td>-10.505622</td>\n",
       "      <td>-2.174379</td>\n",
       "      <td>0.010245</td>\n",
       "      <td>3.179103</td>\n",
       "    </tr>\n",
       "    <tr>\n",
       "      <th>97084</th>\n",
       "      <td>00Fc3</td>\n",
       "      <td>-7.980383</td>\n",
       "      <td>-10.563682</td>\n",
       "      <td>4.996394</td>\n",
       "      <td>137.945408</td>\n",
       "    </tr>\n",
       "    <tr>\n",
       "      <th>18547</th>\n",
       "      <td>00Fmx</td>\n",
       "      <td>5.429347</td>\n",
       "      <td>-5.940010</td>\n",
       "      <td>2.995016</td>\n",
       "      <td>80.859783</td>\n",
       "    </tr>\n",
       "    <tr>\n",
       "      <th>67455</th>\n",
       "      <td>00HtC</td>\n",
       "      <td>-4.638493</td>\n",
       "      <td>-4.662175</td>\n",
       "      <td>1.006089</td>\n",
       "      <td>30.132364</td>\n",
       "    </tr>\n",
       "  </tbody>\n",
       "</table>\n",
       "</div>"
      ],
      "text/plain": [
       "          id         f0         f1        f2     product\n",
       "79058  0022J  -1.757135  -8.432343  1.999313   53.906522\n",
       "92381  003Gl   2.862304  -2.622592  1.999858   57.085625\n",
       "14828  003Vx   3.480454 -16.404208  3.000960   80.859783\n",
       "76401  004LG   5.632612   5.149203  3.004665   80.859783\n",
       "20545  006oG  -4.954731 -11.776300  5.001760  137.945408\n",
       "12213  008Zq  -8.150049  -7.282106  0.999069   30.132364\n",
       "54272  00DUS -10.505622  -2.174379  0.010245    3.179103\n",
       "97084  00Fc3  -7.980383 -10.563682  4.996394  137.945408\n",
       "18547  00Fmx   5.429347  -5.940010  2.995016   80.859783\n",
       "67455  00HtC  -4.638493  -4.662175  1.006089   30.132364"
      ]
     },
     "metadata": {},
     "output_type": "display_data"
    },
    {
     "name": "stdout",
     "output_type": "stream",
     "text": [
      "________________________________________________________________________________ \n",
      "Информация о наборе данных:\n",
      "<class 'pandas.core.frame.DataFrame'>\n",
      "Int64Index: 99996 entries, 79058 to 27003\n",
      "Data columns (total 5 columns):\n",
      " #   Column   Non-Null Count  Dtype  \n",
      "---  ------   --------------  -----  \n",
      " 0   id       99996 non-null  object \n",
      " 1   f0       99996 non-null  float64\n",
      " 2   f1       99996 non-null  float64\n",
      " 3   f2       99996 non-null  float64\n",
      " 4   product  99996 non-null  float64\n",
      "dtypes: float64(4), object(1)\n",
      "memory usage: 4.6+ MB\n"
     ]
    },
    {
     "data": {
      "text/plain": [
       "None"
      ]
     },
     "metadata": {},
     "output_type": "display_data"
    },
    {
     "name": "stdout",
     "output_type": "stream",
     "text": [
      "________________________________________________________________________________ \n",
      "Статистическая сводка (включая медиану):\n"
     ]
    },
    {
     "data": {
      "text/html": [
       "<div>\n",
       "<style scoped>\n",
       "    .dataframe tbody tr th:only-of-type {\n",
       "        vertical-align: middle;\n",
       "    }\n",
       "\n",
       "    .dataframe tbody tr th {\n",
       "        vertical-align: top;\n",
       "    }\n",
       "\n",
       "    .dataframe thead th {\n",
       "        text-align: right;\n",
       "    }\n",
       "</style>\n",
       "<table border=\"1\" class=\"dataframe\">\n",
       "  <thead>\n",
       "    <tr style=\"text-align: right;\">\n",
       "      <th></th>\n",
       "      <th>count</th>\n",
       "      <th>mean</th>\n",
       "      <th>std</th>\n",
       "      <th>min</th>\n",
       "      <th>50%</th>\n",
       "      <th>max</th>\n",
       "    </tr>\n",
       "  </thead>\n",
       "  <tbody>\n",
       "    <tr>\n",
       "      <th>f0</th>\n",
       "      <td>99996.0</td>\n",
       "      <td>1.141619</td>\n",
       "      <td>8.965953</td>\n",
       "      <td>-31.609576</td>\n",
       "      <td>1.153350</td>\n",
       "      <td>29.421755</td>\n",
       "    </tr>\n",
       "    <tr>\n",
       "      <th>f1</th>\n",
       "      <td>99996.0</td>\n",
       "      <td>-4.796476</td>\n",
       "      <td>5.119908</td>\n",
       "      <td>-26.358598</td>\n",
       "      <td>-4.813005</td>\n",
       "      <td>18.734063</td>\n",
       "    </tr>\n",
       "    <tr>\n",
       "      <th>f2</th>\n",
       "      <td>99996.0</td>\n",
       "      <td>2.494571</td>\n",
       "      <td>1.703585</td>\n",
       "      <td>-0.018144</td>\n",
       "      <td>2.011480</td>\n",
       "      <td>5.019721</td>\n",
       "    </tr>\n",
       "    <tr>\n",
       "      <th>product</th>\n",
       "      <td>99996.0</td>\n",
       "      <td>68.825739</td>\n",
       "      <td>45.944818</td>\n",
       "      <td>0.000000</td>\n",
       "      <td>57.085625</td>\n",
       "      <td>137.945408</td>\n",
       "    </tr>\n",
       "  </tbody>\n",
       "</table>\n",
       "</div>"
      ],
      "text/plain": [
       "           count       mean        std        min        50%         max\n",
       "f0       99996.0   1.141619   8.965953 -31.609576   1.153350   29.421755\n",
       "f1       99996.0  -4.796476   5.119908 -26.358598  -4.813005   18.734063\n",
       "f2       99996.0   2.494571   1.703585  -0.018144   2.011480    5.019721\n",
       "product  99996.0  68.825739  45.944818   0.000000  57.085625  137.945408"
      ]
     },
     "metadata": {},
     "output_type": "display_data"
    },
    {
     "name": "stdout",
     "output_type": "stream",
     "text": [
      "________________________________________________________________________________ \n",
      "Количество дубликатов: 0\n",
      "________________________________________________________________________________ \n",
      "Гистограммы распределения данных:\n"
     ]
    },
    {
     "data": {
      "image/png": "[encoded data removed]",
      "text/plain": [
       "<Figure size 1080x504 with 4 Axes>"
      ]
     },
     "metadata": {
      "needs_background": "light"
     },
     "output_type": "display_data"
    }
   ],
   "source": [
    "describe_dataframe(df1)"
   ]
  },
  {
   "cell_type": "code",
   "execution_count": 11,
   "metadata": {},
   "outputs": [
    {
     "name": "stdout",
     "output_type": "stream",
     "text": [
      "Матрица корреляций данных:\n"
     ]
    },
    {
     "data": {
      "text/html": [
       "<div>\n",
       "<style scoped>\n",
       "    .dataframe tbody tr th:only-of-type {\n",
       "        vertical-align: middle;\n",
       "    }\n",
       "\n",
       "    .dataframe tbody tr th {\n",
       "        vertical-align: top;\n",
       "    }\n",
       "\n",
       "    .dataframe thead th {\n",
       "        text-align: right;\n",
       "    }\n",
       "</style>\n",
       "<table border=\"1\" class=\"dataframe\">\n",
       "  <thead>\n",
       "    <tr style=\"text-align: right;\">\n",
       "      <th></th>\n",
       "      <th>f0</th>\n",
       "      <th>f1</th>\n",
       "      <th>f2</th>\n",
       "      <th>product</th>\n",
       "    </tr>\n",
       "  </thead>\n",
       "  <tbody>\n",
       "    <tr>\n",
       "      <th>f0</th>\n",
       "      <td>1.000000</td>\n",
       "      <td>0.182278</td>\n",
       "      <td>-0.001796</td>\n",
       "      <td>-0.030509</td>\n",
       "    </tr>\n",
       "    <tr>\n",
       "      <th>f1</th>\n",
       "      <td>0.182278</td>\n",
       "      <td>1.000000</td>\n",
       "      <td>-0.002609</td>\n",
       "      <td>-0.010168</td>\n",
       "    </tr>\n",
       "    <tr>\n",
       "      <th>f2</th>\n",
       "      <td>-0.001796</td>\n",
       "      <td>-0.002609</td>\n",
       "      <td>1.000000</td>\n",
       "      <td>0.999397</td>\n",
       "    </tr>\n",
       "    <tr>\n",
       "      <th>product</th>\n",
       "      <td>-0.030509</td>\n",
       "      <td>-0.010168</td>\n",
       "      <td>0.999397</td>\n",
       "      <td>1.000000</td>\n",
       "    </tr>\n",
       "  </tbody>\n",
       "</table>\n",
       "</div>"
      ],
      "text/plain": [
       "               f0        f1        f2   product\n",
       "f0       1.000000  0.182278 -0.001796 -0.030509\n",
       "f1       0.182278  1.000000 -0.002609 -0.010168\n",
       "f2      -0.001796 -0.002609  1.000000  0.999397\n",
       "product -0.030509 -0.010168  0.999397  1.000000"
      ]
     },
     "metadata": {},
     "output_type": "display_data"
    },
    {
     "name": "stdout",
     "output_type": "stream",
     "text": [
      "\n",
      "Тепловая карта корреляций:\n"
     ]
    },
    {
     "data": {
      "image/png": "[encoded data removed]",
      "text/plain": [
       "<Figure size 1152x576 with 2 Axes>"
      ]
     },
     "metadata": {
      "needs_background": "light"
     },
     "output_type": "display_data"
    }
   ],
   "source": [
    "corr_matrix(df1)"
   ]
  },
  {
   "cell_type": "code",
   "execution_count": 12,
   "metadata": {},
   "outputs": [
    {
     "name": "stdout",
     "output_type": "stream",
     "text": [
      "Первые 10 строк набора данных:\n"
     ]
    },
    {
     "data": {
      "text/html": [
       "<div>\n",
       "<style scoped>\n",
       "    .dataframe tbody tr th:only-of-type {\n",
       "        vertical-align: middle;\n",
       "    }\n",
       "\n",
       "    .dataframe tbody tr th {\n",
       "        vertical-align: top;\n",
       "    }\n",
       "\n",
       "    .dataframe thead th {\n",
       "        text-align: right;\n",
       "    }\n",
       "</style>\n",
       "<table border=\"1\" class=\"dataframe\">\n",
       "  <thead>\n",
       "    <tr style=\"text-align: right;\">\n",
       "      <th></th>\n",
       "      <th>id</th>\n",
       "      <th>f0</th>\n",
       "      <th>f1</th>\n",
       "      <th>f2</th>\n",
       "      <th>product</th>\n",
       "    </tr>\n",
       "  </thead>\n",
       "  <tbody>\n",
       "    <tr>\n",
       "      <th>68760</th>\n",
       "      <td>009Gl</td>\n",
       "      <td>0.557780</td>\n",
       "      <td>-1.771009</td>\n",
       "      <td>4.646146</td>\n",
       "      <td>130.621072</td>\n",
       "    </tr>\n",
       "    <tr>\n",
       "      <th>41673</th>\n",
       "      <td>00AuD</td>\n",
       "      <td>0.896418</td>\n",
       "      <td>0.296979</td>\n",
       "      <td>6.032145</td>\n",
       "      <td>112.891391</td>\n",
       "    </tr>\n",
       "    <tr>\n",
       "      <th>11522</th>\n",
       "      <td>00CaL</td>\n",
       "      <td>-1.022474</td>\n",
       "      <td>-0.744512</td>\n",
       "      <td>4.243409</td>\n",
       "      <td>132.792852</td>\n",
       "    </tr>\n",
       "    <tr>\n",
       "      <th>60440</th>\n",
       "      <td>00Cby</td>\n",
       "      <td>-1.183997</td>\n",
       "      <td>2.327663</td>\n",
       "      <td>2.691216</td>\n",
       "      <td>97.174303</td>\n",
       "    </tr>\n",
       "    <tr>\n",
       "      <th>74799</th>\n",
       "      <td>00NQN</td>\n",
       "      <td>-1.476102</td>\n",
       "      <td>0.455868</td>\n",
       "      <td>2.025839</td>\n",
       "      <td>85.888480</td>\n",
       "    </tr>\n",
       "    <tr>\n",
       "      <th>95796</th>\n",
       "      <td>00NhF</td>\n",
       "      <td>1.216645</td>\n",
       "      <td>0.523453</td>\n",
       "      <td>3.435961</td>\n",
       "      <td>47.605896</td>\n",
       "    </tr>\n",
       "    <tr>\n",
       "      <th>79279</th>\n",
       "      <td>00QNS</td>\n",
       "      <td>0.479007</td>\n",
       "      <td>-2.880751</td>\n",
       "      <td>5.264769</td>\n",
       "      <td>132.163234</td>\n",
       "    </tr>\n",
       "    <tr>\n",
       "      <th>37956</th>\n",
       "      <td>00aA3</td>\n",
       "      <td>1.793775</td>\n",
       "      <td>0.550489</td>\n",
       "      <td>0.367073</td>\n",
       "      <td>19.536303</td>\n",
       "    </tr>\n",
       "    <tr>\n",
       "      <th>19797</th>\n",
       "      <td>00c6N</td>\n",
       "      <td>1.665609</td>\n",
       "      <td>1.790063</td>\n",
       "      <td>0.885207</td>\n",
       "      <td>81.396249</td>\n",
       "    </tr>\n",
       "    <tr>\n",
       "      <th>86920</th>\n",
       "      <td>00eQE</td>\n",
       "      <td>3.878907</td>\n",
       "      <td>-0.366133</td>\n",
       "      <td>2.844216</td>\n",
       "      <td>120.228060</td>\n",
       "    </tr>\n",
       "  </tbody>\n",
       "</table>\n",
       "</div>"
      ],
      "text/plain": [
       "          id        f0        f1        f2     product\n",
       "68760  009Gl  0.557780 -1.771009  4.646146  130.621072\n",
       "41673  00AuD  0.896418  0.296979  6.032145  112.891391\n",
       "11522  00CaL -1.022474 -0.744512  4.243409  132.792852\n",
       "60440  00Cby -1.183997  2.327663  2.691216   97.174303\n",
       "74799  00NQN -1.476102  0.455868  2.025839   85.888480\n",
       "95796  00NhF  1.216645  0.523453  3.435961   47.605896\n",
       "79279  00QNS  0.479007 -2.880751  5.264769  132.163234\n",
       "37956  00aA3  1.793775  0.550489  0.367073   19.536303\n",
       "19797  00c6N  1.665609  1.790063  0.885207   81.396249\n",
       "86920  00eQE  3.878907 -0.366133  2.844216  120.228060"
      ]
     },
     "metadata": {},
     "output_type": "display_data"
    },
    {
     "name": "stdout",
     "output_type": "stream",
     "text": [
      "________________________________________________________________________________ \n",
      "Информация о наборе данных:\n",
      "<class 'pandas.core.frame.DataFrame'>\n",
      "Int64Index: 99996 entries, 68760 to 3442\n",
      "Data columns (total 5 columns):\n",
      " #   Column   Non-Null Count  Dtype  \n",
      "---  ------   --------------  -----  \n",
      " 0   id       99996 non-null  object \n",
      " 1   f0       99996 non-null  float64\n",
      " 2   f1       99996 non-null  float64\n",
      " 3   f2       99996 non-null  float64\n",
      " 4   product  99996 non-null  float64\n",
      "dtypes: float64(4), object(1)\n",
      "memory usage: 4.6+ MB\n"
     ]
    },
    {
     "data": {
      "text/plain": [
       "None"
      ]
     },
     "metadata": {},
     "output_type": "display_data"
    },
    {
     "name": "stdout",
     "output_type": "stream",
     "text": [
      "________________________________________________________________________________ \n",
      "Статистическая сводка (включая медиану):\n"
     ]
    },
    {
     "data": {
      "text/html": [
       "<div>\n",
       "<style scoped>\n",
       "    .dataframe tbody tr th:only-of-type {\n",
       "        vertical-align: middle;\n",
       "    }\n",
       "\n",
       "    .dataframe tbody tr th {\n",
       "        vertical-align: top;\n",
       "    }\n",
       "\n",
       "    .dataframe thead th {\n",
       "        text-align: right;\n",
       "    }\n",
       "</style>\n",
       "<table border=\"1\" class=\"dataframe\">\n",
       "  <thead>\n",
       "    <tr style=\"text-align: right;\">\n",
       "      <th></th>\n",
       "      <th>count</th>\n",
       "      <th>mean</th>\n",
       "      <th>std</th>\n",
       "      <th>min</th>\n",
       "      <th>50%</th>\n",
       "      <th>max</th>\n",
       "    </tr>\n",
       "  </thead>\n",
       "  <tbody>\n",
       "    <tr>\n",
       "      <th>f0</th>\n",
       "      <td>99996.0</td>\n",
       "      <td>0.001987</td>\n",
       "      <td>1.732050</td>\n",
       "      <td>-8.760004</td>\n",
       "      <td>0.009411</td>\n",
       "      <td>7.238262</td>\n",
       "    </tr>\n",
       "    <tr>\n",
       "      <th>f1</th>\n",
       "      <td>99996.0</td>\n",
       "      <td>-0.002093</td>\n",
       "      <td>1.730431</td>\n",
       "      <td>-7.084020</td>\n",
       "      <td>-0.009580</td>\n",
       "      <td>7.844801</td>\n",
       "    </tr>\n",
       "    <tr>\n",
       "      <th>f2</th>\n",
       "      <td>99996.0</td>\n",
       "      <td>2.495169</td>\n",
       "      <td>3.473466</td>\n",
       "      <td>-11.970335</td>\n",
       "      <td>2.484256</td>\n",
       "      <td>16.739402</td>\n",
       "    </tr>\n",
       "    <tr>\n",
       "      <th>product</th>\n",
       "      <td>99996.0</td>\n",
       "      <td>95.001336</td>\n",
       "      <td>44.748968</td>\n",
       "      <td>0.000000</td>\n",
       "      <td>94.925994</td>\n",
       "      <td>190.029838</td>\n",
       "    </tr>\n",
       "  </tbody>\n",
       "</table>\n",
       "</div>"
      ],
      "text/plain": [
       "           count       mean        std        min        50%         max\n",
       "f0       99996.0   0.001987   1.732050  -8.760004   0.009411    7.238262\n",
       "f1       99996.0  -0.002093   1.730431  -7.084020  -0.009580    7.844801\n",
       "f2       99996.0   2.495169   3.473466 -11.970335   2.484256   16.739402\n",
       "product  99996.0  95.001336  44.748968   0.000000  94.925994  190.029838"
      ]
     },
     "metadata": {},
     "output_type": "display_data"
    },
    {
     "name": "stdout",
     "output_type": "stream",
     "text": [
      "________________________________________________________________________________ \n",
      "Количество дубликатов: 0\n",
      "________________________________________________________________________________ \n",
      "Гистограммы распределения данных:\n"
     ]
    },
    {
     "data": {
      "image/png": "[encoded data removed]",
      "text/plain": [
       "<Figure size 1080x504 with 4 Axes>"
      ]
     },
     "metadata": {
      "needs_background": "light"
     },
     "output_type": "display_data"
    }
   ],
   "source": [
    "describe_dataframe(df2)"
   ]
  },
  {
   "cell_type": "code",
   "execution_count": 13,
   "metadata": {},
   "outputs": [
    {
     "name": "stdout",
     "output_type": "stream",
     "text": [
      "Матрица корреляций данных:\n"
     ]
    },
    {
     "data": {
      "text/html": [
       "<div>\n",
       "<style scoped>\n",
       "    .dataframe tbody tr th:only-of-type {\n",
       "        vertical-align: middle;\n",
       "    }\n",
       "\n",
       "    .dataframe tbody tr th {\n",
       "        vertical-align: top;\n",
       "    }\n",
       "\n",
       "    .dataframe thead th {\n",
       "        text-align: right;\n",
       "    }\n",
       "</style>\n",
       "<table border=\"1\" class=\"dataframe\">\n",
       "  <thead>\n",
       "    <tr style=\"text-align: right;\">\n",
       "      <th></th>\n",
       "      <th>f0</th>\n",
       "      <th>f1</th>\n",
       "      <th>f2</th>\n",
       "      <th>product</th>\n",
       "    </tr>\n",
       "  </thead>\n",
       "  <tbody>\n",
       "    <tr>\n",
       "      <th>f0</th>\n",
       "      <td>1.000000</td>\n",
       "      <td>0.000512</td>\n",
       "      <td>-0.000438</td>\n",
       "      <td>-0.001960</td>\n",
       "    </tr>\n",
       "    <tr>\n",
       "      <th>f1</th>\n",
       "      <td>0.000512</td>\n",
       "      <td>1.000000</td>\n",
       "      <td>0.000790</td>\n",
       "      <td>-0.001029</td>\n",
       "    </tr>\n",
       "    <tr>\n",
       "      <th>f2</th>\n",
       "      <td>-0.000438</td>\n",
       "      <td>0.000790</td>\n",
       "      <td>1.000000</td>\n",
       "      <td>0.445886</td>\n",
       "    </tr>\n",
       "    <tr>\n",
       "      <th>product</th>\n",
       "      <td>-0.001960</td>\n",
       "      <td>-0.001029</td>\n",
       "      <td>0.445886</td>\n",
       "      <td>1.000000</td>\n",
       "    </tr>\n",
       "  </tbody>\n",
       "</table>\n",
       "</div>"
      ],
      "text/plain": [
       "               f0        f1        f2   product\n",
       "f0       1.000000  0.000512 -0.000438 -0.001960\n",
       "f1       0.000512  1.000000  0.000790 -0.001029\n",
       "f2      -0.000438  0.000790  1.000000  0.445886\n",
       "product -0.001960 -0.001029  0.445886  1.000000"
      ]
     },
     "metadata": {},
     "output_type": "display_data"
    },
    {
     "name": "stdout",
     "output_type": "stream",
     "text": [
      "\n",
      "Тепловая карта корреляций:\n"
     ]
    },
    {
     "data": {
      "image/png": "[encoded data removed]",
      "text/plain": [
       "<Figure size 1152x576 with 2 Axes>"
      ]
     },
     "metadata": {
      "needs_background": "light"
     },
     "output_type": "display_data"
    }
   ],
   "source": [
    "corr_matrix(df2)"
   ]
  },
  {
   "cell_type": "markdown",
   "metadata": {},
   "source": [
    "**Вывод:**\n",
    "**В трёх наборах данных дубликатов не обнаружено. По числовым показателям можно сказать, что средние значения и медианы почти не отличаются, кроме столбца product в первом наборе. Но наблюдается большой разброс значений, что видно по стандартному отклонению, особенно в столбцах f0, f1 и f2. Гистограммы показывают, что распределение переменных в разных регионах сильно разнится. В первом наборе данных заметны аномалии в столбцах f2 и product, которые могут усложнить обучение модели.**"
   ]
  },
  {
   "cell_type": "markdown",
   "metadata": {},
   "source": [
    "# 2. Обучение и проверка модели"
   ]
  },
  {
   "cell_type": "code",
   "execution_count": 14,
   "metadata": {},
   "outputs": [],
   "source": [
    "# Преобразуем колонку 'id' в индекс\n",
    "df0.set_index('id', inplace=True)\n",
    "df1.set_index('id', inplace=True)\n",
    "df2.set_index('id', inplace=True)\n"
   ]
  },
  {
   "cell_type": "code",
   "execution_count": 15,
   "metadata": {},
   "outputs": [],
   "source": [
    "# Для df0\n",
    "target_0 = df0['product']\n",
    "features_0 = df0.drop(columns=['product'])\n",
    "\n",
    "# Для df1\n",
    "target_1 = df1['product']\n",
    "features_1 = df1.drop(columns=['product'])\n",
    "\n",
    "# Для df2\n",
    "target_2 = df2['product']\n",
    "features_2 = df2.drop(columns=['product'])\n"
   ]
  },
  {
   "cell_type": "code",
   "execution_count": 16,
   "metadata": {},
   "outputs": [
    {
     "name": "stdout",
     "output_type": "stream",
     "text": [
      "Доля валидационной выборки: 25.00%\n",
      "Доля обучающей выборки: 75.00%\n"
     ]
    }
   ],
   "source": [
    "# Разделяем данные на обучающую и валидационную выборки для df0\n",
    "features_train_0, features_valid_0, target_train_0, target_valid_0 = train_test_split(\n",
    "    features_0, target_0, test_size=TEST_SIZE, random_state=STATE\n",
    ")\n",
    "\n",
    "# Рассчитываем доли объектов в валидационной и обучающей выборках\n",
    "validation_ratio_0 = len(target_valid_0) / len(target_0)\n",
    "train_ratio_0 = len(target_train_0) / len(target_0)\n",
    "\n",
    "# Выводим результаты для удобства\n",
    "print(f\"Доля валидационной выборки: {validation_ratio_0:.2%}\")\n",
    "print(f\"Доля обучающей выборки: {train_ratio_0:.2%}\")\n"
   ]
  },
  {
   "cell_type": "code",
   "execution_count": 17,
   "metadata": {},
   "outputs": [],
   "source": [
    "# Применяем StandardScaler к обучающей и валидационной выборкам для df0\n",
    "scaler_0 = StandardScaler()\n",
    "features_train_0_scaled = scaler_0.fit_transform(features_train_0)  # Обучаем scaler на обучающей выборке\n",
    "features_valid_0_scaled = scaler_0.transform(features_valid_0) "
   ]
  },
  {
   "cell_type": "code",
   "execution_count": 18,
   "metadata": {},
   "outputs": [
    {
     "name": "stdout",
     "output_type": "stream",
     "text": [
      "Доля валидационной выборки: 25.00%\n",
      "Доля обучающей выборки: 75.00%\n"
     ]
    }
   ],
   "source": [
    "# Разделяем данные на обучающую и валидационную выборки для df1\n",
    "features_train_1, features_valid_1, target_train_1, target_valid_1 = train_test_split(\n",
    "    features_1, target_1, test_size=TEST_SIZE, random_state=STATE\n",
    ")\n",
    "\n",
    "# Рассчитываем доли объектов в валидационной и обучающей выборках\n",
    "validation_ratio_1 = len(target_valid_1) / len(target_1)\n",
    "train_ratio_1 = len(target_train_1) / len(target_1)\n",
    "\n",
    "# Выводим результаты для удобства\n",
    "print(f\"Доля валидационной выборки: {validation_ratio_1:.2%}\")\n",
    "print(f\"Доля обучающей выборки: {train_ratio_1:.2%}\")\n"
   ]
  },
  {
   "cell_type": "code",
   "execution_count": 19,
   "metadata": {},
   "outputs": [],
   "source": [
    "# Применяем StandardScaler к обучающей и валидационной выборкам для df1\n",
    "scaler_1 = StandardScaler()\n",
    "features_train_1_scaled = scaler_1.fit_transform(features_train_1)\n",
    "features_valid_1_scaled = scaler_1.transform(features_valid_1)"
   ]
  },
  {
   "cell_type": "code",
   "execution_count": 20,
   "metadata": {},
   "outputs": [
    {
     "name": "stdout",
     "output_type": "stream",
     "text": [
      "Доля валидационной выборки: 25.00%\n",
      "Доля обучающей выборки: 75.00%\n"
     ]
    }
   ],
   "source": [
    "# Разделяем данные на обучающую и валидационную выборки для df2\n",
    "features_train_2, features_valid_2, target_train_2, target_valid_2 = train_test_split(\n",
    "    features_2, target_2, test_size=TEST_SIZE, random_state=STATE\n",
    ")\n",
    "\n",
    "# Рассчитываем доли объектов в валидационной и обучающей выборках\n",
    "validation_ratio_2 = len(target_valid_2) / len(target_2)\n",
    "train_ratio_2 = len(target_train_2) / len(target_2)\n",
    "\n",
    "# Выводим результаты для удобства\n",
    "print(f\"Доля валидационной выборки: {validation_ratio_2:.2%}\")\n",
    "print(f\"Доля обучающей выборки: {train_ratio_2:.2%}\")\n"
   ]
  },
  {
   "cell_type": "code",
   "execution_count": 21,
   "metadata": {},
   "outputs": [],
   "source": [
    "# Применяем StandardScaler к обучающей и валидационной выборкам для df2\n",
    "scaler_2 = StandardScaler()\n",
    "features_train_2_scaled = scaler_2.fit_transform(features_train_2)\n",
    "features_valid_2_scaled = scaler_2.transform(features_valid_2)"
   ]
  },
  {
   "cell_type": "code",
   "execution_count": 22,
   "metadata": {},
   "outputs": [
    {
     "name": "stdout",
     "output_type": "stream",
     "text": [
      "RMSE для региона 0: 37.62\n",
      "Коэффициент детерминации (R²) для региона 0: 0.28\n"
     ]
    }
   ],
   "source": [
    "# Инициализируем модель линейной регрессии для региона 1\n",
    "linear_model_0 = LinearRegression()\n",
    "\n",
    "# Обучаем модель на обучающих данных\n",
    "linear_model_0.fit(features_train_0_scaled, target_train_0)\n",
    "\n",
    "# Делаем предсказания на валидационной выборке\n",
    "predictions_0 = linear_model_0.predict(features_valid_0_scaled)\n",
    "\n",
    "# Вычисляем RMSE для региона 1\n",
    "rmse_0 = mean_squared_error(target_valid_0, predictions_0) ** 0.5\n",
    "print(f'RMSE для региона 0: {rmse_0:.2f}')\n",
    "\n",
    "# Вычисляем коэффициент детерминации R² для региона 1\n",
    "r2_0 = r2_score(target_valid_0, predictions_0)\n",
    "print(f'Коэффициент детерминации (R²) для региона 0: {r2_0:.2f}')\n"
   ]
  },
  {
   "cell_type": "code",
   "execution_count": 23,
   "metadata": {},
   "outputs": [
    {
     "name": "stdout",
     "output_type": "stream",
     "text": [
      "RMSE для региона 1: 0.89\n",
      "Коэффициент детерминации (R²) для региона 1: 1.00\n"
     ]
    }
   ],
   "source": [
    "# Инициализируем модель линейной регрессии для региона 2\n",
    "linear_model_1 = LinearRegression()\n",
    "\n",
    "# Обучаем модель на обучающих данных\n",
    "linear_model_1.fit(features_train_1_scaled, target_train_1)\n",
    "\n",
    "# Делаем предсказания на валидационной выборке\n",
    "predictions_1 = linear_model_1.predict(features_valid_1_scaled)\n",
    "\n",
    "# Вычисляем RMSE для региона 2\n",
    "rmse_1 = mean_squared_error(target_valid_1, predictions_1) ** 0.5\n",
    "print(f'RMSE для региона 1: {rmse_1:.2f}')\n",
    "\n",
    "# Вычисляем коэффициент детерминации R² для региона 2\n",
    "r2_1 = r2_score(target_valid_1, predictions_1)\n",
    "print(f'Коэффициент детерминации (R²) для региона 1: {r2_1:.2f}')\n"
   ]
  },
  {
   "cell_type": "code",
   "execution_count": 24,
   "metadata": {},
   "outputs": [
    {
     "name": "stdout",
     "output_type": "stream",
     "text": [
      "RMSE для региона 2: 39.89\n",
      "Коэффициент детерминации (R²) для региона 2: 0.20\n"
     ]
    }
   ],
   "source": [
    "# Инициализируем модель линейной регрессии для региона 3\n",
    "linear_model_2 = LinearRegression()\n",
    "\n",
    "# Обучаем модель на обучающих данных\n",
    "linear_model_2.fit(features_train_2_scaled, target_train_2)\n",
    "\n",
    "# Делаем предсказания на валидационной выборке\n",
    "predictions_2 = linear_model_2.predict(features_valid_2_scaled)\n",
    "\n",
    "# Вычисляем RMSE для региона 3\n",
    "rmse_2 = mean_squared_error(target_valid_2, predictions_2) ** 0.5\n",
    "print(f'RMSE для региона 2: {rmse_2:.2f}')\n",
    "\n",
    "# Вычисляем коэффициент детерминации R² для региона 3\n",
    "r2_2 = r2_score(target_valid_2, predictions_2)\n",
    "print(f'Коэффициент детерминации (R²) для региона 2: {r2_2:.2f}')\n"
   ]
  },
  {
   "cell_type": "code",
   "execution_count": 25,
   "metadata": {},
   "outputs": [
    {
     "data": {
      "text/html": [
       "<div>\n",
       "<style scoped>\n",
       "    .dataframe tbody tr th:only-of-type {\n",
       "        vertical-align: middle;\n",
       "    }\n",
       "\n",
       "    .dataframe tbody tr th {\n",
       "        vertical-align: top;\n",
       "    }\n",
       "\n",
       "    .dataframe thead th {\n",
       "        text-align: right;\n",
       "    }\n",
       "</style>\n",
       "<table border=\"1\" class=\"dataframe\">\n",
       "  <thead>\n",
       "    <tr style=\"text-align: right;\">\n",
       "      <th>Регионы</th>\n",
       "      <th>Регион 1</th>\n",
       "      <th>Регион 2</th>\n",
       "      <th>Регион 3</th>\n",
       "    </tr>\n",
       "  </thead>\n",
       "  <tbody>\n",
       "    <tr>\n",
       "      <th>Средний объём предсказанного сырья</th>\n",
       "      <td>92.459090</td>\n",
       "      <td>68.739247</td>\n",
       "      <td>94.946385</td>\n",
       "    </tr>\n",
       "    <tr>\n",
       "      <th>RMSE модели</th>\n",
       "      <td>37.616311</td>\n",
       "      <td>0.890231</td>\n",
       "      <td>39.889492</td>\n",
       "    </tr>\n",
       "  </tbody>\n",
       "</table>\n",
       "</div>"
      ],
      "text/plain": [
       "Регионы                              Регион 1   Регион 2   Регион 3\n",
       "Средний объём предсказанного сырья  92.459090  68.739247  94.946385\n",
       "RMSE модели                         37.616311   0.890231  39.889492"
      ]
     },
     "metadata": {},
     "output_type": "display_data"
    }
   ],
   "source": [
    "# Создаём таблицу для сравнения средних предсказанных значений \n",
    "comparison_table = pd.DataFrame(index=['Средний объём предсказанного сырья', 'RMSE модели'], columns=['Регион 1', 'Регион 2', 'Регион 3'])\n",
    "\n",
    "# Заполняем таблицу данными для каждого региона\n",
    "comparison_table['Регион 1'] = predictions_0.mean(), rmse_0\n",
    "comparison_table['Регион 2'] = predictions_1.mean(), rmse_1\n",
    "comparison_table['Регион 3'] = predictions_2.mean(), rmse_2\n",
    "\n",
    "# Выводим таблицу для сравнения показателей\n",
    "comparison_table.columns.name = 'Регионы'\n",
    "display(comparison_table)\n"
   ]
  },
  {
   "cell_type": "markdown",
   "metadata": {},
   "source": [
    "**Вывод:**\n",
    "**Модели были успешно обучены и оценены с использованием метрики RMSE, которая измеряет величину среднеквадратичной ошибки предсказаний. Согласно результатам в сводной таблице, можно заметить значительное различие в значениях RMSE для второго региона по сравнению с остальными. Это связано с тем, что модель обучалась на данных с практически одинаковыми значениями, из-за чего величина ошибки остаётся практически стабильной и не изменяется сильно.**"
   ]
  },
  {
   "cell_type": "markdown",
   "metadata": {},
   "source": [
    "# 3. Подготовка к расчету прибыли"
   ]
  },
  {
   "cell_type": "code",
   "execution_count": 26,
   "metadata": {},
   "outputs": [],
   "source": [
    "WELLS_TOTAL = 500  # количество скважин, которые исследуют в каждом регионе при разведке\n",
    "TOP_WELLS_ML = 200  # число лучших скважин для разработки, выбранных с помощью модели машинного обучения\n",
    "TOTAL_BUDGET = 10e9  # бюджет на разработку выбранных скважин (в тыс. рублей) для региона\n",
    "INCOME_PER_BARREL = 450e3  # доход с одной тысячи баррелей сырья (в тыс. рублей)\n",
    "\n",
    "LOSS_THRESHOLD = 2.5 / 100  # допустимый порог риска убытков\n"
   ]
  },
  {
   "cell_type": "code",
   "execution_count": 27,
   "metadata": {},
   "outputs": [
    {
     "name": "stdout",
     "output_type": "stream",
     "text": [
      "Достаточный объём сырья для безубыточной разработки = 111.11 тыс. баррелей.\n",
      "\n",
      "Средний запас в df0 регионе = 92.50 тыс. баррелей.\n",
      "Процент скважин с объёмом больше чем порог = 36.58%\n",
      "Количество скважин с объёмом больше чем порог = 36581\n",
      "----------------------------------------\n",
      "\n",
      "Средний запас в df1 регионе = 68.83 тыс. баррелей.\n",
      "Процент скважин с объёмом больше чем порог = 16.54%\n",
      "Количество скважин с объёмом больше чем порог = 16537\n",
      "----------------------------------------\n",
      "\n",
      "Средний запас в df2 регионе = 95.00 тыс. баррелей.\n",
      "Процент скважин с объёмом больше чем порог = 38.18%\n",
      "Количество скважин с объёмом больше чем порог = 38177\n",
      "----------------------------------------\n"
     ]
    }
   ],
   "source": [
    "region_names = ['df0', 'df1', 'df2']\n",
    "datasets = [df0, df1, df2]\n",
    "\n",
    "break_even_volume = TOTAL_BUDGET / (INCOME_PER_BARREL * TOP_WELLS_ML)\n",
    "print(f'Достаточный объём сырья для безубыточной разработки = {break_even_volume:.2f} тыс. баррелей.')\n",
    "\n",
    "for name, dataset in zip(region_names, datasets):\n",
    "    print()\n",
    "    print(f'Средний запас в {name} регионе = {dataset[\"product\"].mean():.2f} тыс. баррелей.')\n",
    "    print(f'Процент скважин с объёмом больше чем порог = {len(dataset.query(\"product > @break_even_volume\")) / len(dataset):.2%}')\n",
    "    print(f'Количество скважин с объёмом больше чем порог = {len(dataset.query(\"product > @break_even_volume\"))}')\n",
    "    print('-' * 40)"
   ]
  },
  {
   "cell_type": "markdown",
   "metadata": {},
   "source": [
    "**Вывод:**\n",
    "**Для того чтобы разработка была рентабельной, выбранные скважины должны иметь запасы, значительно превышающие пороговое значение. В условиях текущей ситуации процент скважин с такими запасами во всех регионах составляет менее 40%. Точка безубыточности находится на уровне около 111.11 тыс. баррелей на скважину, в то время как средние запасы варьируются от 68 до 95 тыс. баррелей по регионам. Таким образом, из 500 исследованных скважин только 200 (или 40%) обладают объёмами, достаточными для преодоления порога.**"
   ]
  },
  {
   "cell_type": "markdown",
   "metadata": {},
   "source": [
    "# 4. Функция для расчёта прибыли по выбранным скважинам и предсказаниям модели:"
   ]
  },
  {
   "cell_type": "code",
   "execution_count": 28,
   "metadata": {},
   "outputs": [
    {
     "data": {
      "text/plain": [
       "id\n",
       "QFDWZ    442.281268\n",
       "xuWxm    428.463835\n",
       "R5IYz    418.798385\n",
       "lfgbR    390.490368\n",
       "he3xS    388.034045\n",
       "            ...    \n",
       "2GvnZ    313.478288\n",
       "na9uy    313.295735\n",
       "bsk9y    313.125602\n",
       "N3i8x    313.113015\n",
       "tU6pF    313.012838\n",
       "Length: 200, dtype: float64"
      ]
     },
     "execution_count": 28,
     "metadata": {},
     "output_type": "execute_result"
    }
   ],
   "source": [
    "# Для df0\n",
    "\n",
    "# Выберем скважины с максимальными значениями предсказаний\n",
    "predictions_0 = linear_model_0.predict(features_valid_0)\n",
    "\n",
    "# Выполним привязку индексов скважин к предсказаниям модели и отсортируем список по убыванию\n",
    "probs_sorted_0 = pd.Series(predictions_0, index=target_valid_0.index).sort_values(ascending=False)\n",
    "\n",
    "# Выберем 200 скважин с наибольшими предсказаниями\n",
    "selected_max_0 = probs_sorted_0[:200]\n",
    "selected_max_0\n"
   ]
  },
  {
   "cell_type": "code",
   "execution_count": 29,
   "metadata": {},
   "outputs": [
    {
     "name": "stdout",
     "output_type": "stream",
     "text": [
      "Суммарный запас сырья в 200 лучших скважинах: 66783.16 тыс. баррелей\n",
      "Прибыль для полученного объёма составит: 20052422556.36 тыс. рублей\n"
     ]
    }
   ],
   "source": [
    "# Рассчитаем суммарный объём сырья для 200 лучших скважин\n",
    "top_200_sum_0 = selected_max_0.sum()\n",
    "print(f'Суммарный запас сырья в 200 лучших скважинах: {top_200_sum_0:.2f} тыс. баррелей')\n",
    "\n",
    "# Рассчитаем прибыль для полученного объёма сырья\n",
    "profit_0 = (top_200_sum_0 * INCOME_PER_BARREL) - TOTAL_BUDGET\n",
    "print(f'Прибыль для полученного объёма составит: {profit_0:.2f} тыс. рублей')\n",
    "\n"
   ]
  },
  {
   "cell_type": "code",
   "execution_count": 30,
   "metadata": {},
   "outputs": [],
   "source": [
    "# Функция для расчёта прибыли по выбранным скважинам\n",
    "def profit(predictions, targets, well_count):\n",
    "    sorted_wells = pd.Series(predictions, index=targets.index).sort_values(ascending=False)\n",
    "    top_well_sum = sorted_wells[:well_count].sum()\n",
    "    profit = (top_well_sum * INCOME_PER_BARREL) - TOTAL_BUDGET\n",
    "    print(f'Суммарный запас сырья в {well_count} лучших скважинах: {top_well_sum:.2f} тыс. баррелей')\n",
    "    print(f'Прибыль для полученного объёма составит: {profit / 1000:.2f} млн. рублей')\n"
   ]
  },
  {
   "cell_type": "code",
   "execution_count": 31,
   "metadata": {},
   "outputs": [
    {
     "name": "stdout",
     "output_type": "stream",
     "text": [
      "Суммарный запас сырья в 200 лучших скважинах: 66783.16 тыс. баррелей\n",
      "Прибыль для полученного объёма составит: 20052422.56 млн. рублей\n"
     ]
    }
   ],
   "source": [
    "profit(predictions_0,target_valid_0,200)"
   ]
  },
  {
   "cell_type": "code",
   "execution_count": 32,
   "metadata": {},
   "outputs": [
    {
     "name": "stdout",
     "output_type": "stream",
     "text": [
      "Суммарный запас сырья в 200 лучших скважинах: 27753.40 тыс. баррелей\n",
      "Прибыль для полученного объёма составит: 2489028.64 млн. рублей\n"
     ]
    }
   ],
   "source": [
    "profit(predictions_1,target_valid_1,200)"
   ]
  },
  {
   "cell_type": "code",
   "execution_count": 33,
   "metadata": {},
   "outputs": [
    {
     "name": "stdout",
     "output_type": "stream",
     "text": [
      "Суммарный запас сырья в 200 лучших скважинах: 29538.20 тыс. баррелей\n",
      "Прибыль для полученного объёма составит: 3292188.34 млн. рублей\n"
     ]
    }
   ],
   "source": [
    "profit(predictions_2,target_valid_2,200)"
   ]
  },
  {
   "cell_type": "markdown",
   "metadata": {},
   "source": [
    "**Вывод:**\n",
    "**Все три региона демонстрируют потенциал для получения прибыли. Для более точного определения самого выгодного региона с учётом окупаемости инвестиций и рисков убытков проведём расчёт вероятностей в следующем разделе.**"
   ]
  },
  {
   "cell_type": "markdown",
   "metadata": {},
   "source": [
    " # 5. Расчёт прибыли и рисков"
   ]
  },
  {
   "cell_type": "code",
   "execution_count": 34,
   "metadata": {
    "scrolled": false
   },
   "outputs": [
    {
     "data": {
      "image/png": "[encoded data removed]",
      "text/plain": [
       "<Figure size 1152x360 with 1 Axes>"
      ]
     },
     "metadata": {
      "needs_background": "light"
     },
     "output_type": "display_data"
    },
    {
     "name": "stdout",
     "output_type": "stream",
     "text": [
      "Для региона df0:\n",
      "Средняя прибыль с 200 лучших скважин: 363 млн. руб.\n",
      "Доверительный интервал прибыли: -193 - 876 млн. руб.\n",
      "Риск убытков: 8.00%\n"
     ]
    },
    {
     "data": {
      "image/png": "[encoded data removed]",
      "text/plain": [
       "<Figure size 1152x360 with 1 Axes>"
      ]
     },
     "metadata": {
      "needs_background": "light"
     },
     "output_type": "display_data"
    },
    {
     "name": "stdout",
     "output_type": "stream",
     "text": [
      "Для региона df1:\n",
      "Средняя прибыль с 200 лучших скважин: 491 млн. руб.\n",
      "Доверительный интервал прибыли: 56 - 952 млн. руб.\n",
      "Риск убытков: 1.40%\n"
     ]
    },
    {
     "data": {
      "image/png": "[encoded data removed]",
      "text/plain": [
       "<Figure size 1152x360 with 1 Axes>"
      ]
     },
     "metadata": {
      "needs_background": "light"
     },
     "output_type": "display_data"
    },
    {
     "name": "stdout",
     "output_type": "stream",
     "text": [
      "Для региона df2:\n",
      "Средняя прибыль с 200 лучших скважин: 393 млн. руб.\n",
      "Доверительный интервал прибыли: -148 - 898 млн. руб.\n",
      "Риск убытков: 8.30%\n"
     ]
    }
   ],
   "source": [
    "# Функция для расчёта прибыли по выбранным скважинам\n",
    "def calculate_profit(fact_targets, well_count):\n",
    "    top_well_sum = fact_targets[:well_count].sum()\n",
    "    profit = (top_well_sum * INCOME_PER_BARREL) - TOTAL_BUDGET\n",
    "    return profit\n",
    "\n",
    "# Данные по регионам\n",
    "regions_data = {\n",
    "    'df0': {'predictions': pd.Series(predictions_0), 'targets': target_valid_0},\n",
    "    'df1': {'predictions': pd.Series(predictions_1), 'targets': target_valid_1},\n",
    "    'df2': {'predictions': pd.Series(predictions_2), 'targets': target_valid_2},\n",
    "}\n",
    "\n",
    "for region_name, data in regions_data.items():\n",
    "    predictions = data['predictions']\n",
    "    targets = data['targets']\n",
    "\n",
    "    predictions.index = targets.index\n",
    "\n",
    "    \n",
    "    profits = []\n",
    "\n",
    "    # Цикл для генерации 1000 выборок с Bootstrap\n",
    "    for _ in range(1000):\n",
    "        # Создаем случайную подвыборку с заменой из целей (targets) и предсказаний (predictions)\n",
    "        sample_indices = targets.sample(n=WELLS_TOTAL, replace=True, random_state=STATE).index\n",
    "        sample_predictions = predictions.loc[sample_indices]\n",
    "        sample_targets = targets.loc[sample_indices]\n",
    "\n",
    "        # Сортируем скважины по предсказаниям, но прибыль считаем по фактическим значениям\n",
    "        sorted_indices = sample_predictions.sort_values(ascending=False).index\n",
    "        top_fact_targets = sample_targets.loc[sorted_indices]\n",
    "\n",
    "        # Рассчитываем прибыль для этой подвыборки\n",
    "        profit = calculate_profit(top_fact_targets, TOP_WELLS_ML)\n",
    "        profits.append(profit)\n",
    "\n",
    "    # Преобразуем список значений в Pandas Series для анализа\n",
    "    profits = pd.Series(profits)\n",
    "\n",
    "    # Рассчитываем среднее значение прибыли, доверительные интервалы и риск убытков\n",
    "    mean_profit = profits.mean() / 1e6  # в млн. рублей\n",
    "    lower_bound = profits.quantile(.025) / 1e6  # нижняя граница 95%-го доверительного интервала\n",
    "    upper_bound = profits.quantile(.975) / 1e6  # верхняя граница 95%-го доверительного интервала\n",
    "    risk_of_loss = (profits < 0).mean() * 100  # риск убытков\n",
    "\n",
    "    # Построим гистограмму распределения прибыли для текущего региона\n",
    "    plt.figure(figsize=(16, 5))\n",
    "    profits.hist(bins=50, color='black', edgecolor='black', alpha=0.85)\n",
    "    plt.axvline(x=lower_bound * 1e6, color='violet', linestyle='-', linewidth=2)\n",
    "    plt.axvline(x=upper_bound * 1e6, color='gold', linestyle='-', linewidth=2)\n",
    "    plt.xlabel('Прибыль, руб.')\n",
    "    plt.ylabel('Количество скважин из 200')\n",
    "    plt.title(f'Распределение прибыли для региона {region_name}')\n",
    "    plt.grid(True)\n",
    "    plt.legend(['Нижняя граница 95%-го доверительного интервала', \n",
    "                'Верхняя граница 95%-го доверительного интервала', \n",
    "                f'Распределение прибыли для региона {region_name}'])\n",
    "    plt.show()\n",
    "\n",
    "    # Вывод результатов для каждого региона\n",
    "    print(f'Для региона {region_name}:')\n",
    "    print(f'Средняя прибыль с 200 лучших скважин: {mean_profit:.0f} млн. руб.')\n",
    "    print(f'Доверительный интервал прибыли: {lower_bound:.0f} - {upper_bound:.0f} млн. руб.')\n",
    "    print(f'Риск убытков: {risk_of_loss:.2f}%')\n"
   ]
  },
  {
   "cell_type": "markdown",
   "metadata": {},
   "source": [
    "**Вывод:**\n",
    "**Анализ показал, что наибольшая средняя прибыль прогнозируется во втором регионе, где она составляет 491 млн. рублей, с допустимым риском убытков в 1.40%. Первый и третий регионы также показали прибыль в 363 млн. рублей и 393 млн. рублей соответственно, но риск убытков в этих регионах составляет 8.00% и 8.30%, что значительно превышает допустимый порог риска в 2.5%. Несмотря на то, что средняя прибыль в первом и третьем регионах сравнительно высока, их высокий уровень риска делает их менее привлекательными для разработки. Таким образом, второй регион является наиболее перспективным с точки зрения прибыли при приемлемом уровне риска.**"
   ]
  },
  {
   "cell_type": "markdown",
   "metadata": {},
   "source": [
    "# 6. Вывод"
   ]
  },
  {
   "cell_type": "markdown",
   "metadata": {},
   "source": [
    "**Мы проанализировали данные по запасам нефти в трёх регионах, каждый из которых содержал сведения о 10 тысячах скважин. Первичный анализ показал, что средний объём запасов в этих регионах не обеспечивает окупаемость затрат на разработку. Для более точного прогнозирования перспектив разработки мы обучили модель линейной регрессии и использовали метод Bootstrap, разделив предсказанные значения прибыли на 1000 выборок для каждого региона. На основании результатов мы рассчитали 95%-й доверительный интервал для прибыли и ограничили допустимый риск убытков на уровне 2.5%.**\n",
    "\n",
    "**Анализ показал, что наибольшая средняя прибыль прогнозируется во втором регионе — 491 млн. рублей, при низком риске убытков в 1.40%. Первый и третий регионы имеют среднюю прибыль в 363 млн. рублей и 393 млн. рублей, однако риск убытков в этих регионах значительно выше — 8.00% и 8.30%. Это делает их менее привлекательными для разработки. Таким образом, второй регион выбран для дальнейшей разработки, так как он демонстрирует наибольшую прибыль при приемлемом уровне риска.**"
   ]
  }
 ],
 "metadata": {
  "ExecuteTimeLog": [
   {
    "duration": 1578,
    "start_time": "2024-10-10T12:39:22.963Z"
   },
   {
    "duration": 1898,
    "start_time": "2024-10-10T12:39:26.894Z"
   },
   {
    "duration": 4,
    "start_time": "2024-10-10T12:43:19.427Z"
   },
   {
    "duration": 426,
    "start_time": "2024-10-10T12:43:43.713Z"
   },
   {
    "duration": 421,
    "start_time": "2024-10-10T13:18:26.132Z"
   },
   {
    "duration": 4,
    "start_time": "2024-10-10T13:31:02.802Z"
   },
   {
    "duration": 5,
    "start_time": "2024-10-10T14:04:15.250Z"
   },
   {
    "duration": 190,
    "start_time": "2024-10-10T14:05:10.467Z"
   },
   {
    "duration": 5,
    "start_time": "2024-10-10T14:07:38.249Z"
   },
   {
    "duration": 895,
    "start_time": "2024-10-10T14:07:39.549Z"
   },
   {
    "duration": 5,
    "start_time": "2024-10-10T14:27:04.039Z"
   },
   {
    "duration": 1517,
    "start_time": "2024-10-10T14:27:11.957Z"
   },
   {
    "duration": 465,
    "start_time": "2024-10-10T14:27:13.477Z"
   },
   {
    "duration": 4,
    "start_time": "2024-10-10T14:27:13.944Z"
   },
   {
    "duration": 855,
    "start_time": "2024-10-10T14:27:13.950Z"
   },
   {
    "duration": 4,
    "start_time": "2024-10-10T14:30:27.097Z"
   },
   {
    "duration": 383,
    "start_time": "2024-10-10T14:31:13.146Z"
   },
   {
    "duration": 887,
    "start_time": "2024-10-10T14:33:20.976Z"
   },
   {
    "duration": 358,
    "start_time": "2024-10-10T14:33:31.639Z"
   },
   {
    "duration": 366,
    "start_time": "2024-10-10T14:33:54.033Z"
   },
   {
    "duration": 831,
    "start_time": "2024-10-10T14:33:56.047Z"
   },
   {
    "duration": 4,
    "start_time": "2024-10-10T14:48:21.902Z"
   },
   {
    "duration": 4,
    "start_time": "2024-10-10T14:55:18.901Z"
   },
   {
    "duration": 127,
    "start_time": "2024-10-10T14:55:43.833Z"
   },
   {
    "duration": 1154,
    "start_time": "2024-10-10T14:59:34.180Z"
   },
   {
    "duration": 1225,
    "start_time": "2024-10-10T15:00:12.631Z"
   },
   {
    "duration": 5,
    "start_time": "2024-10-10T15:00:40.365Z"
   },
   {
    "duration": 78,
    "start_time": "2024-10-10T15:00:50.617Z"
   },
   {
    "duration": 613,
    "start_time": "2024-10-10T15:04:20.483Z"
   },
   {
    "duration": 573,
    "start_time": "2024-10-10T15:05:15.842Z"
   },
   {
    "duration": 598,
    "start_time": "2024-10-10T15:05:21.576Z"
   },
   {
    "duration": 26,
    "start_time": "2024-10-10T15:07:07.213Z"
   },
   {
    "duration": 1563,
    "start_time": "2024-10-11T06:57:37.188Z"
   },
   {
    "duration": 925,
    "start_time": "2024-10-11T06:57:38.754Z"
   },
   {
    "duration": 4,
    "start_time": "2024-10-11T06:57:39.681Z"
   },
   {
    "duration": 11,
    "start_time": "2024-10-11T06:57:39.686Z"
   },
   {
    "duration": 743,
    "start_time": "2024-10-11T06:57:39.699Z"
   },
   {
    "duration": 398,
    "start_time": "2024-10-11T06:57:40.443Z"
   },
   {
    "duration": 780,
    "start_time": "2024-10-11T06:57:40.852Z"
   },
   {
    "duration": 385,
    "start_time": "2024-10-11T06:57:41.634Z"
   },
   {
    "duration": 763,
    "start_time": "2024-10-11T06:57:42.021Z"
   },
   {
    "duration": 358,
    "start_time": "2024-10-11T06:57:42.785Z"
   },
   {
    "duration": 539,
    "start_time": "2024-10-11T06:57:43.145Z"
   },
   {
    "duration": 501,
    "start_time": "2024-10-11T06:57:43.685Z"
   },
   {
    "duration": 560,
    "start_time": "2024-10-11T06:57:44.187Z"
   },
   {
    "duration": 12,
    "start_time": "2024-10-11T06:57:44.749Z"
   },
   {
    "duration": 16,
    "start_time": "2024-10-11T06:59:06.612Z"
   },
   {
    "duration": 18,
    "start_time": "2024-10-11T07:00:55.940Z"
   },
   {
    "duration": 17,
    "start_time": "2024-10-11T07:01:23.625Z"
   },
   {
    "duration": 279,
    "start_time": "2024-10-11T07:03:35.079Z"
   },
   {
    "duration": 321,
    "start_time": "2024-10-11T07:04:49.837Z"
   },
   {
    "duration": 35,
    "start_time": "2024-10-11T07:06:58.253Z"
   },
   {
    "duration": 1352,
    "start_time": "2024-10-11T07:07:03.487Z"
   },
   {
    "duration": 411,
    "start_time": "2024-10-11T07:07:04.842Z"
   },
   {
    "duration": 6,
    "start_time": "2024-10-11T07:07:05.254Z"
   },
   {
    "duration": 9,
    "start_time": "2024-10-11T07:07:05.262Z"
   },
   {
    "duration": 793,
    "start_time": "2024-10-11T07:07:05.273Z"
   },
   {
    "duration": 360,
    "start_time": "2024-10-11T07:07:06.067Z"
   },
   {
    "duration": 887,
    "start_time": "2024-10-11T07:07:06.430Z"
   },
   {
    "duration": 399,
    "start_time": "2024-10-11T07:07:07.319Z"
   },
   {
    "duration": 794,
    "start_time": "2024-10-11T07:07:07.720Z"
   },
   {
    "duration": 404,
    "start_time": "2024-10-11T07:07:08.516Z"
   },
   {
    "duration": 532,
    "start_time": "2024-10-11T07:07:08.922Z"
   },
   {
    "duration": 502,
    "start_time": "2024-10-11T07:07:09.455Z"
   },
   {
    "duration": 567,
    "start_time": "2024-10-11T07:07:09.958Z"
   },
   {
    "duration": 11,
    "start_time": "2024-10-11T07:07:10.527Z"
   },
   {
    "duration": 50,
    "start_time": "2024-10-11T07:07:10.539Z"
   },
   {
    "duration": 104,
    "start_time": "2024-10-11T07:07:10.591Z"
   },
   {
    "duration": 13,
    "start_time": "2024-10-11T07:07:54.967Z"
   },
   {
    "duration": 34,
    "start_time": "2024-10-11T07:11:21.172Z"
   },
   {
    "duration": 235,
    "start_time": "2024-10-11T07:11:36.624Z"
   },
   {
    "duration": 1410,
    "start_time": "2024-10-11T07:12:02.566Z"
   },
   {
    "duration": 443,
    "start_time": "2024-10-11T07:12:03.979Z"
   },
   {
    "duration": 4,
    "start_time": "2024-10-11T07:12:04.424Z"
   },
   {
    "duration": 12,
    "start_time": "2024-10-11T07:12:04.430Z"
   },
   {
    "duration": 863,
    "start_time": "2024-10-11T07:12:04.444Z"
   },
   {
    "duration": 403,
    "start_time": "2024-10-11T07:12:05.309Z"
   },
   {
    "duration": 860,
    "start_time": "2024-10-11T07:12:05.714Z"
   },
   {
    "duration": 354,
    "start_time": "2024-10-11T07:12:06.575Z"
   },
   {
    "duration": 877,
    "start_time": "2024-10-11T07:12:06.930Z"
   },
   {
    "duration": 409,
    "start_time": "2024-10-11T07:12:07.809Z"
   },
   {
    "duration": 578,
    "start_time": "2024-10-11T07:12:08.219Z"
   },
   {
    "duration": 535,
    "start_time": "2024-10-11T07:12:08.798Z"
   },
   {
    "duration": 535,
    "start_time": "2024-10-11T07:12:09.335Z"
   },
   {
    "duration": 9,
    "start_time": "2024-10-11T07:12:09.873Z"
   },
   {
    "duration": 132,
    "start_time": "2024-10-11T07:12:09.883Z"
   },
   {
    "duration": 0,
    "start_time": "2024-10-11T07:12:10.016Z"
   },
   {
    "duration": 24,
    "start_time": "2024-10-11T07:12:37.880Z"
   },
   {
    "duration": 20,
    "start_time": "2024-10-11T07:12:55.356Z"
   },
   {
    "duration": 33,
    "start_time": "2024-10-11T07:13:29.256Z"
   },
   {
    "duration": 22,
    "start_time": "2024-10-11T07:13:35.079Z"
   },
   {
    "duration": 1381,
    "start_time": "2024-10-11T07:13:43.772Z"
   },
   {
    "duration": 394,
    "start_time": "2024-10-11T07:13:45.156Z"
   },
   {
    "duration": 5,
    "start_time": "2024-10-11T07:13:45.551Z"
   },
   {
    "duration": 28,
    "start_time": "2024-10-11T07:13:45.558Z"
   },
   {
    "duration": 798,
    "start_time": "2024-10-11T07:13:45.588Z"
   },
   {
    "duration": 367,
    "start_time": "2024-10-11T07:13:46.388Z"
   },
   {
    "duration": 849,
    "start_time": "2024-10-11T07:13:46.757Z"
   },
   {
    "duration": 386,
    "start_time": "2024-10-11T07:13:47.608Z"
   },
   {
    "duration": 818,
    "start_time": "2024-10-11T07:13:47.995Z"
   },
   {
    "duration": 388,
    "start_time": "2024-10-11T07:13:48.814Z"
   },
   {
    "duration": 588,
    "start_time": "2024-10-11T07:13:49.203Z"
   },
   {
    "duration": 549,
    "start_time": "2024-10-11T07:13:49.793Z"
   },
   {
    "duration": 538,
    "start_time": "2024-10-11T07:13:50.344Z"
   },
   {
    "duration": 11,
    "start_time": "2024-10-11T07:13:50.884Z"
   },
   {
    "duration": 36,
    "start_time": "2024-10-11T07:13:50.896Z"
   },
   {
    "duration": 123,
    "start_time": "2024-10-11T07:13:50.933Z"
   },
   {
    "duration": 33,
    "start_time": "2024-10-11T07:14:05.641Z"
   },
   {
    "duration": 132,
    "start_time": "2024-10-11T07:14:25.128Z"
   },
   {
    "duration": 1378,
    "start_time": "2024-10-11T07:14:31.862Z"
   },
   {
    "duration": 416,
    "start_time": "2024-10-11T07:14:33.244Z"
   },
   {
    "duration": 5,
    "start_time": "2024-10-11T07:14:33.662Z"
   },
   {
    "duration": 20,
    "start_time": "2024-10-11T07:14:33.668Z"
   },
   {
    "duration": 811,
    "start_time": "2024-10-11T07:14:33.691Z"
   },
   {
    "duration": 415,
    "start_time": "2024-10-11T07:14:34.504Z"
   },
   {
    "duration": 849,
    "start_time": "2024-10-11T07:14:34.921Z"
   },
   {
    "duration": 339,
    "start_time": "2024-10-11T07:14:35.772Z"
   },
   {
    "duration": 770,
    "start_time": "2024-10-11T07:14:36.113Z"
   },
   {
    "duration": 378,
    "start_time": "2024-10-11T07:14:36.885Z"
   },
   {
    "duration": 568,
    "start_time": "2024-10-11T07:14:37.266Z"
   },
   {
    "duration": 571,
    "start_time": "2024-10-11T07:14:37.836Z"
   },
   {
    "duration": 539,
    "start_time": "2024-10-11T07:14:38.408Z"
   },
   {
    "duration": 10,
    "start_time": "2024-10-11T07:14:38.952Z"
   },
   {
    "duration": 175,
    "start_time": "2024-10-11T07:14:38.964Z"
   },
   {
    "duration": 0,
    "start_time": "2024-10-11T07:14:39.141Z"
   },
   {
    "duration": 35,
    "start_time": "2024-10-11T07:15:44.499Z"
   },
   {
    "duration": 264,
    "start_time": "2024-10-11T07:15:49.193Z"
   },
   {
    "duration": 1528,
    "start_time": "2024-10-11T07:15:54.530Z"
   },
   {
    "duration": 405,
    "start_time": "2024-10-11T07:15:56.061Z"
   },
   {
    "duration": 5,
    "start_time": "2024-10-11T07:15:56.467Z"
   },
   {
    "duration": 62,
    "start_time": "2024-10-11T07:15:56.474Z"
   },
   {
    "duration": 804,
    "start_time": "2024-10-11T07:15:56.539Z"
   },
   {
    "duration": 369,
    "start_time": "2024-10-11T07:15:57.345Z"
   },
   {
    "duration": 821,
    "start_time": "2024-10-11T07:15:57.715Z"
   },
   {
    "duration": 358,
    "start_time": "2024-10-11T07:15:58.538Z"
   },
   {
    "duration": 789,
    "start_time": "2024-10-11T07:15:58.897Z"
   },
   {
    "duration": 369,
    "start_time": "2024-10-11T07:15:59.688Z"
   },
   {
    "duration": 573,
    "start_time": "2024-10-11T07:16:00.059Z"
   },
   {
    "duration": 547,
    "start_time": "2024-10-11T07:16:00.633Z"
   },
   {
    "duration": 534,
    "start_time": "2024-10-11T07:16:01.181Z"
   },
   {
    "duration": 10,
    "start_time": "2024-10-11T07:16:01.717Z"
   },
   {
    "duration": 52,
    "start_time": "2024-10-11T07:16:01.728Z"
   },
   {
    "duration": 182,
    "start_time": "2024-10-11T07:16:01.781Z"
   },
   {
    "duration": 108,
    "start_time": "2024-10-11T07:17:53.186Z"
   },
   {
    "duration": 11,
    "start_time": "2024-10-11T07:20:58.028Z"
   },
   {
    "duration": 64,
    "start_time": "2024-10-11T07:21:00.520Z"
   },
   {
    "duration": 9,
    "start_time": "2024-10-11T07:21:03.040Z"
   },
   {
    "duration": 161,
    "start_time": "2024-10-11T07:23:11.298Z"
   },
   {
    "duration": 11,
    "start_time": "2024-10-11T07:23:13.089Z"
   },
   {
    "duration": 1358,
    "start_time": "2024-10-11T07:23:18.168Z"
   },
   {
    "duration": 419,
    "start_time": "2024-10-11T07:23:19.529Z"
   },
   {
    "duration": 5,
    "start_time": "2024-10-11T07:23:19.950Z"
   },
   {
    "duration": 9,
    "start_time": "2024-10-11T07:23:19.956Z"
   },
   {
    "duration": 814,
    "start_time": "2024-10-11T07:23:19.967Z"
   },
   {
    "duration": 411,
    "start_time": "2024-10-11T07:23:20.783Z"
   },
   {
    "duration": 826,
    "start_time": "2024-10-11T07:23:21.195Z"
   },
   {
    "duration": 403,
    "start_time": "2024-10-11T07:23:22.022Z"
   },
   {
    "duration": 755,
    "start_time": "2024-10-11T07:23:22.426Z"
   },
   {
    "duration": 342,
    "start_time": "2024-10-11T07:23:23.183Z"
   },
   {
    "duration": 540,
    "start_time": "2024-10-11T07:23:23.526Z"
   },
   {
    "duration": 541,
    "start_time": "2024-10-11T07:23:24.067Z"
   },
   {
    "duration": 534,
    "start_time": "2024-10-11T07:23:24.609Z"
   },
   {
    "duration": 14,
    "start_time": "2024-10-11T07:23:25.145Z"
   },
   {
    "duration": 46,
    "start_time": "2024-10-11T07:23:25.160Z"
   },
   {
    "duration": 252,
    "start_time": "2024-10-11T07:23:25.207Z"
   },
   {
    "duration": 99,
    "start_time": "2024-10-11T07:23:25.461Z"
   },
   {
    "duration": 9,
    "start_time": "2024-10-11T07:23:52.878Z"
   },
   {
    "duration": 3,
    "start_time": "2024-10-11T07:29:25.488Z"
   },
   {
    "duration": 27,
    "start_time": "2024-10-11T07:32:29.302Z"
   },
   {
    "duration": 25,
    "start_time": "2024-10-11T07:33:11.498Z"
   },
   {
    "duration": 129,
    "start_time": "2024-10-11T07:43:40.237Z"
   },
   {
    "duration": 17,
    "start_time": "2024-10-11T07:49:07.253Z"
   },
   {
    "duration": 19,
    "start_time": "2024-10-11T07:49:08.172Z"
   },
   {
    "duration": 18,
    "start_time": "2024-10-11T07:49:12.058Z"
   },
   {
    "duration": 1371,
    "start_time": "2024-10-11T07:49:18.646Z"
   },
   {
    "duration": 412,
    "start_time": "2024-10-11T07:49:20.021Z"
   },
   {
    "duration": 5,
    "start_time": "2024-10-11T07:49:20.435Z"
   },
   {
    "duration": 10,
    "start_time": "2024-10-11T07:49:20.442Z"
   },
   {
    "duration": 811,
    "start_time": "2024-10-11T07:49:20.454Z"
   },
   {
    "duration": 381,
    "start_time": "2024-10-11T07:49:21.267Z"
   },
   {
    "duration": 828,
    "start_time": "2024-10-11T07:49:21.653Z"
   },
   {
    "duration": 354,
    "start_time": "2024-10-11T07:49:22.483Z"
   },
   {
    "duration": 828,
    "start_time": "2024-10-11T07:49:22.839Z"
   },
   {
    "duration": 346,
    "start_time": "2024-10-11T07:49:23.671Z"
   },
   {
    "duration": 551,
    "start_time": "2024-10-11T07:49:24.019Z"
   },
   {
    "duration": 479,
    "start_time": "2024-10-11T07:49:24.572Z"
   },
   {
    "duration": 546,
    "start_time": "2024-10-11T07:49:25.053Z"
   },
   {
    "duration": 10,
    "start_time": "2024-10-11T07:49:25.601Z"
   },
   {
    "duration": 16,
    "start_time": "2024-10-11T07:49:25.613Z"
   },
   {
    "duration": 33,
    "start_time": "2024-10-11T07:49:25.631Z"
   },
   {
    "duration": 15,
    "start_time": "2024-10-11T07:49:25.665Z"
   },
   {
    "duration": 119,
    "start_time": "2024-10-11T07:49:25.682Z"
   },
   {
    "duration": 0,
    "start_time": "2024-10-11T07:49:25.803Z"
   },
   {
    "duration": 0,
    "start_time": "2024-10-11T07:49:25.804Z"
   },
   {
    "duration": 0,
    "start_time": "2024-10-11T07:49:25.805Z"
   },
   {
    "duration": 0,
    "start_time": "2024-10-11T07:49:25.806Z"
   },
   {
    "duration": 248,
    "start_time": "2024-10-11T07:51:49.210Z"
   },
   {
    "duration": 10,
    "start_time": "2024-10-11T07:51:52.407Z"
   },
   {
    "duration": 3,
    "start_time": "2024-10-11T07:51:55.498Z"
   },
   {
    "duration": 27,
    "start_time": "2024-10-11T07:51:56.127Z"
   },
   {
    "duration": 13,
    "start_time": "2024-10-11T07:51:59.513Z"
   },
   {
    "duration": 6,
    "start_time": "2024-10-11T07:55:56.859Z"
   },
   {
    "duration": 1419,
    "start_time": "2024-10-11T08:00:04.641Z"
   },
   {
    "duration": 404,
    "start_time": "2024-10-11T08:00:06.063Z"
   },
   {
    "duration": 4,
    "start_time": "2024-10-11T08:00:06.468Z"
   },
   {
    "duration": 29,
    "start_time": "2024-10-11T08:00:06.474Z"
   },
   {
    "duration": 877,
    "start_time": "2024-10-11T08:00:06.505Z"
   },
   {
    "duration": 380,
    "start_time": "2024-10-11T08:00:07.384Z"
   },
   {
    "duration": 845,
    "start_time": "2024-10-11T08:00:07.766Z"
   },
   {
    "duration": 383,
    "start_time": "2024-10-11T08:00:08.612Z"
   },
   {
    "duration": 783,
    "start_time": "2024-10-11T08:00:08.997Z"
   },
   {
    "duration": 356,
    "start_time": "2024-10-11T08:00:09.781Z"
   },
   {
    "duration": 529,
    "start_time": "2024-10-11T08:00:10.139Z"
   },
   {
    "duration": 511,
    "start_time": "2024-10-11T08:00:10.669Z"
   },
   {
    "duration": 533,
    "start_time": "2024-10-11T08:00:11.181Z"
   },
   {
    "duration": 10,
    "start_time": "2024-10-11T08:00:11.717Z"
   },
   {
    "duration": 25,
    "start_time": "2024-10-11T08:00:11.729Z"
   },
   {
    "duration": 16,
    "start_time": "2024-10-11T08:00:11.755Z"
   },
   {
    "duration": 15,
    "start_time": "2024-10-11T08:00:11.773Z"
   },
   {
    "duration": 366,
    "start_time": "2024-10-11T08:00:11.790Z"
   },
   {
    "duration": 96,
    "start_time": "2024-10-11T08:00:12.159Z"
   },
   {
    "duration": 7,
    "start_time": "2024-10-11T08:00:12.256Z"
   },
   {
    "duration": 36,
    "start_time": "2024-10-11T08:00:12.264Z"
   },
   {
    "duration": 54,
    "start_time": "2024-10-11T08:00:12.302Z"
   },
   {
    "duration": 8,
    "start_time": "2024-10-11T08:00:12.358Z"
   },
   {
    "duration": 113,
    "start_time": "2024-10-11T08:01:15.991Z"
   },
   {
    "duration": 6,
    "start_time": "2024-10-11T08:01:42.430Z"
   },
   {
    "duration": 9,
    "start_time": "2024-10-11T08:02:33.008Z"
   },
   {
    "duration": 9,
    "start_time": "2024-10-11T08:02:42.067Z"
   },
   {
    "duration": 20,
    "start_time": "2024-10-11T08:08:44.081Z"
   },
   {
    "duration": 16,
    "start_time": "2024-10-11T08:08:46.333Z"
   },
   {
    "duration": 16,
    "start_time": "2024-10-11T08:08:49.154Z"
   },
   {
    "duration": 21,
    "start_time": "2024-10-11T08:11:27.310Z"
   },
   {
    "duration": 17,
    "start_time": "2024-10-11T08:11:27.984Z"
   },
   {
    "duration": 18,
    "start_time": "2024-10-11T08:11:28.860Z"
   },
   {
    "duration": 11,
    "start_time": "2024-10-11T08:11:33.724Z"
   },
   {
    "duration": 1494,
    "start_time": "2024-10-11T08:11:40.250Z"
   },
   {
    "duration": 451,
    "start_time": "2024-10-11T08:11:41.748Z"
   },
   {
    "duration": 5,
    "start_time": "2024-10-11T08:11:42.200Z"
   },
   {
    "duration": 6,
    "start_time": "2024-10-11T08:11:42.208Z"
   },
   {
    "duration": 807,
    "start_time": "2024-10-11T08:11:42.216Z"
   },
   {
    "duration": 398,
    "start_time": "2024-10-11T08:11:43.024Z"
   },
   {
    "duration": 874,
    "start_time": "2024-10-11T08:11:43.424Z"
   },
   {
    "duration": 441,
    "start_time": "2024-10-11T08:11:44.299Z"
   },
   {
    "duration": 803,
    "start_time": "2024-10-11T08:11:44.742Z"
   },
   {
    "duration": 373,
    "start_time": "2024-10-11T08:11:45.555Z"
   },
   {
    "duration": 608,
    "start_time": "2024-10-11T08:11:45.930Z"
   },
   {
    "duration": 545,
    "start_time": "2024-10-11T08:11:46.539Z"
   },
   {
    "duration": 613,
    "start_time": "2024-10-11T08:11:47.086Z"
   },
   {
    "duration": 10,
    "start_time": "2024-10-11T08:11:47.700Z"
   },
   {
    "duration": 25,
    "start_time": "2024-10-11T08:11:47.711Z"
   },
   {
    "duration": 24,
    "start_time": "2024-10-11T08:11:47.738Z"
   },
   {
    "duration": 16,
    "start_time": "2024-10-11T08:11:47.764Z"
   },
   {
    "duration": 41,
    "start_time": "2024-10-11T08:11:47.782Z"
   },
   {
    "duration": 110,
    "start_time": "2024-10-11T08:11:47.859Z"
   },
   {
    "duration": 186,
    "start_time": "2024-10-11T08:11:47.971Z"
   },
   {
    "duration": 259,
    "start_time": "2024-10-11T08:11:48.159Z"
   },
   {
    "duration": 0,
    "start_time": "2024-10-11T08:11:48.420Z"
   },
   {
    "duration": 0,
    "start_time": "2024-10-11T08:11:48.421Z"
   },
   {
    "duration": 0,
    "start_time": "2024-10-11T08:11:48.422Z"
   },
   {
    "duration": 0,
    "start_time": "2024-10-11T08:11:48.423Z"
   },
   {
    "duration": 0,
    "start_time": "2024-10-11T08:11:48.424Z"
   },
   {
    "duration": 0,
    "start_time": "2024-10-11T08:11:48.425Z"
   },
   {
    "duration": 14,
    "start_time": "2024-10-11T08:16:27.364Z"
   },
   {
    "duration": 11,
    "start_time": "2024-10-11T08:17:01.516Z"
   },
   {
    "duration": 3,
    "start_time": "2024-10-11T08:17:10.148Z"
   },
   {
    "duration": 29,
    "start_time": "2024-10-11T08:17:10.508Z"
   },
   {
    "duration": 11,
    "start_time": "2024-10-11T08:17:11.963Z"
   },
   {
    "duration": 20,
    "start_time": "2024-10-11T08:17:12.246Z"
   },
   {
    "duration": 15,
    "start_time": "2024-10-11T08:18:08.310Z"
   },
   {
    "duration": 5,
    "start_time": "2024-10-11T08:18:09.079Z"
   },
   {
    "duration": 7,
    "start_time": "2024-10-11T08:18:10.530Z"
   },
   {
    "duration": 9,
    "start_time": "2024-10-11T08:18:11.186Z"
   },
   {
    "duration": 6,
    "start_time": "2024-10-11T08:18:44.783Z"
   },
   {
    "duration": 6,
    "start_time": "2024-10-11T08:19:53.573Z"
   },
   {
    "duration": 7,
    "start_time": "2024-10-11T08:19:54.420Z"
   },
   {
    "duration": 7,
    "start_time": "2024-10-11T08:19:54.942Z"
   },
   {
    "duration": 6,
    "start_time": "2024-10-11T09:28:36.870Z"
   },
   {
    "duration": 4,
    "start_time": "2024-10-11T09:28:38.031Z"
   },
   {
    "duration": 10,
    "start_time": "2024-10-11T09:28:39.129Z"
   },
   {
    "duration": 8,
    "start_time": "2024-10-11T09:28:40.454Z"
   },
   {
    "duration": 7,
    "start_time": "2024-10-11T09:28:58.700Z"
   },
   {
    "duration": 20,
    "start_time": "2024-10-11T09:36:08.915Z"
   },
   {
    "duration": 15,
    "start_time": "2024-10-11T09:37:27.545Z"
   },
   {
    "duration": 15,
    "start_time": "2024-10-11T09:38:19.590Z"
   },
   {
    "duration": 14,
    "start_time": "2024-10-11T09:39:16.544Z"
   },
   {
    "duration": 14,
    "start_time": "2024-10-11T09:39:24.805Z"
   },
   {
    "duration": 19,
    "start_time": "2024-10-11T09:40:08.557Z"
   },
   {
    "duration": 3,
    "start_time": "2024-10-11T09:41:44.493Z"
   },
   {
    "duration": 3,
    "start_time": "2024-10-11T09:42:40.542Z"
   },
   {
    "duration": 39,
    "start_time": "2024-10-11T09:43:19.360Z"
   },
   {
    "duration": 29,
    "start_time": "2024-10-11T09:44:56.056Z"
   },
   {
    "duration": 22,
    "start_time": "2024-10-11T09:52:41.091Z"
   },
   {
    "duration": 2736,
    "start_time": "2024-10-11T09:55:41.992Z"
   },
   {
    "duration": 2614,
    "start_time": "2024-10-11T09:58:29.128Z"
   },
   {
    "duration": 1389,
    "start_time": "2024-10-11T10:00:59.184Z"
   },
   {
    "duration": 420,
    "start_time": "2024-10-11T10:01:00.576Z"
   },
   {
    "duration": 5,
    "start_time": "2024-10-11T10:01:00.998Z"
   },
   {
    "duration": 16,
    "start_time": "2024-10-11T10:01:01.005Z"
   },
   {
    "duration": 832,
    "start_time": "2024-10-11T10:01:01.024Z"
   },
   {
    "duration": 371,
    "start_time": "2024-10-11T10:01:01.857Z"
   },
   {
    "duration": 851,
    "start_time": "2024-10-11T10:01:02.230Z"
   },
   {
    "duration": 343,
    "start_time": "2024-10-11T10:01:03.083Z"
   },
   {
    "duration": 783,
    "start_time": "2024-10-11T10:01:03.428Z"
   },
   {
    "duration": 399,
    "start_time": "2024-10-11T10:01:04.213Z"
   },
   {
    "duration": 542,
    "start_time": "2024-10-11T10:01:04.614Z"
   },
   {
    "duration": 520,
    "start_time": "2024-10-11T10:01:05.158Z"
   },
   {
    "duration": 549,
    "start_time": "2024-10-11T10:01:05.680Z"
   },
   {
    "duration": 10,
    "start_time": "2024-10-11T10:01:06.232Z"
   },
   {
    "duration": 23,
    "start_time": "2024-10-11T10:01:06.244Z"
   },
   {
    "duration": 28,
    "start_time": "2024-10-11T10:01:06.268Z"
   },
   {
    "duration": 19,
    "start_time": "2024-10-11T10:01:06.298Z"
   },
   {
    "duration": 38,
    "start_time": "2024-10-11T10:01:06.319Z"
   },
   {
    "duration": 200,
    "start_time": "2024-10-11T10:01:06.359Z"
   },
   {
    "duration": 203,
    "start_time": "2024-10-11T10:01:06.561Z"
   },
   {
    "duration": 188,
    "start_time": "2024-10-11T10:01:06.766Z"
   },
   {
    "duration": 6,
    "start_time": "2024-10-11T10:01:06.956Z"
   },
   {
    "duration": 45,
    "start_time": "2024-10-11T10:01:06.963Z"
   },
   {
    "duration": 146,
    "start_time": "2024-10-11T10:01:07.009Z"
   },
   {
    "duration": 5,
    "start_time": "2024-10-11T10:01:07.156Z"
   },
   {
    "duration": 24,
    "start_time": "2024-10-11T10:01:07.163Z"
   },
   {
    "duration": 117,
    "start_time": "2024-10-11T10:01:07.188Z"
   },
   {
    "duration": 30,
    "start_time": "2024-10-11T10:01:07.307Z"
   },
   {
    "duration": 8,
    "start_time": "2024-10-11T10:01:07.339Z"
   },
   {
    "duration": 4106,
    "start_time": "2024-10-11T10:01:07.349Z"
   },
   {
    "duration": 4,
    "start_time": "2024-10-11T10:03:49.831Z"
   },
   {
    "duration": 8,
    "start_time": "2024-10-11T10:03:50.303Z"
   },
   {
    "duration": 8,
    "start_time": "2024-10-11T10:03:50.790Z"
   },
   {
    "duration": 6,
    "start_time": "2024-10-11T10:03:51.222Z"
   },
   {
    "duration": 118,
    "start_time": "2024-10-11T10:04:18.640Z"
   },
   {
    "duration": 2558,
    "start_time": "2024-10-11T10:04:42.081Z"
   },
   {
    "duration": 2735,
    "start_time": "2024-10-11T10:05:13.688Z"
   },
   {
    "duration": 2552,
    "start_time": "2024-10-11T10:06:14.084Z"
   },
   {
    "duration": 1447,
    "start_time": "2024-10-11T10:14:26.929Z"
   },
   {
    "duration": 417,
    "start_time": "2024-10-11T10:14:28.379Z"
   },
   {
    "duration": 5,
    "start_time": "2024-10-11T10:14:28.797Z"
   },
   {
    "duration": 18,
    "start_time": "2024-10-11T10:14:28.804Z"
   },
   {
    "duration": 797,
    "start_time": "2024-10-11T10:14:28.824Z"
   },
   {
    "duration": 390,
    "start_time": "2024-10-11T10:14:29.623Z"
   },
   {
    "duration": 842,
    "start_time": "2024-10-11T10:14:30.015Z"
   },
   {
    "duration": 357,
    "start_time": "2024-10-11T10:14:30.859Z"
   },
   {
    "duration": 805,
    "start_time": "2024-10-11T10:14:31.218Z"
   },
   {
    "duration": 390,
    "start_time": "2024-10-11T10:14:32.025Z"
   },
   {
    "duration": 583,
    "start_time": "2024-10-11T10:14:32.416Z"
   },
   {
    "duration": 580,
    "start_time": "2024-10-11T10:14:33.001Z"
   },
   {
    "duration": 579,
    "start_time": "2024-10-11T10:14:33.583Z"
   },
   {
    "duration": 24,
    "start_time": "2024-10-11T10:14:34.164Z"
   },
   {
    "duration": 17,
    "start_time": "2024-10-11T10:14:34.190Z"
   },
   {
    "duration": 17,
    "start_time": "2024-10-11T10:14:34.209Z"
   },
   {
    "duration": 44,
    "start_time": "2024-10-11T10:14:34.228Z"
   },
   {
    "duration": 80,
    "start_time": "2024-10-11T10:14:34.275Z"
   },
   {
    "duration": 113,
    "start_time": "2024-10-11T10:14:34.358Z"
   },
   {
    "duration": 106,
    "start_time": "2024-10-11T10:14:34.553Z"
   },
   {
    "duration": 101,
    "start_time": "2024-10-11T10:14:34.661Z"
   },
   {
    "duration": 91,
    "start_time": "2024-10-11T10:14:34.763Z"
   },
   {
    "duration": 38,
    "start_time": "2024-10-11T10:14:34.856Z"
   },
   {
    "duration": 60,
    "start_time": "2024-10-11T10:14:34.895Z"
   },
   {
    "duration": 106,
    "start_time": "2024-10-11T10:14:34.957Z"
   },
   {
    "duration": 7,
    "start_time": "2024-10-11T10:14:35.064Z"
   },
   {
    "duration": 19,
    "start_time": "2024-10-11T10:14:35.072Z"
   },
   {
    "duration": 24,
    "start_time": "2024-10-11T10:14:35.094Z"
   },
   {
    "duration": 12,
    "start_time": "2024-10-11T10:14:35.120Z"
   },
   {
    "duration": 2921,
    "start_time": "2024-10-11T10:14:35.133Z"
   },
   {
    "duration": 1509,
    "start_time": "2024-10-11T10:19:32.864Z"
   },
   {
    "duration": 429,
    "start_time": "2024-10-11T10:19:34.375Z"
   },
   {
    "duration": 5,
    "start_time": "2024-10-11T10:19:34.806Z"
   },
   {
    "duration": 21,
    "start_time": "2024-10-11T10:19:34.812Z"
   },
   {
    "duration": 780,
    "start_time": "2024-10-11T10:19:34.835Z"
   },
   {
    "duration": 412,
    "start_time": "2024-10-11T10:19:35.617Z"
   },
   {
    "duration": 877,
    "start_time": "2024-10-11T10:19:36.031Z"
   },
   {
    "duration": 443,
    "start_time": "2024-10-11T10:19:36.910Z"
   },
   {
    "duration": 815,
    "start_time": "2024-10-11T10:19:37.356Z"
   },
   {
    "duration": 370,
    "start_time": "2024-10-11T10:19:38.173Z"
   },
   {
    "duration": 565,
    "start_time": "2024-10-11T10:19:38.544Z"
   },
   {
    "duration": 538,
    "start_time": "2024-10-11T10:19:39.110Z"
   },
   {
    "duration": 560,
    "start_time": "2024-10-11T10:19:39.653Z"
   },
   {
    "duration": 11,
    "start_time": "2024-10-11T10:19:40.216Z"
   },
   {
    "duration": 36,
    "start_time": "2024-10-11T10:19:40.228Z"
   },
   {
    "duration": 21,
    "start_time": "2024-10-11T10:19:40.266Z"
   },
   {
    "duration": 16,
    "start_time": "2024-10-11T10:19:40.289Z"
   },
   {
    "duration": 149,
    "start_time": "2024-10-11T10:19:40.307Z"
   },
   {
    "duration": 106,
    "start_time": "2024-10-11T10:19:40.458Z"
   },
   {
    "duration": 190,
    "start_time": "2024-10-11T10:19:40.567Z"
   },
   {
    "duration": 195,
    "start_time": "2024-10-11T10:19:40.759Z"
   },
   {
    "duration": 12,
    "start_time": "2024-10-11T10:19:40.956Z"
   },
   {
    "duration": 61,
    "start_time": "2024-10-11T10:19:40.971Z"
   },
   {
    "duration": 20,
    "start_time": "2024-10-11T10:19:41.034Z"
   },
   {
    "duration": 105,
    "start_time": "2024-10-11T10:19:41.056Z"
   },
   {
    "duration": 99,
    "start_time": "2024-10-11T10:19:41.164Z"
   },
   {
    "duration": 9,
    "start_time": "2024-10-11T10:19:41.264Z"
   },
   {
    "duration": 8,
    "start_time": "2024-10-11T10:19:41.274Z"
   },
   {
    "duration": 5,
    "start_time": "2024-10-11T10:19:41.284Z"
   },
   {
    "duration": 2840,
    "start_time": "2024-10-11T10:19:41.291Z"
   },
   {
    "duration": 1362,
    "start_time": "2024-10-11T10:20:10.067Z"
   },
   {
    "duration": 405,
    "start_time": "2024-10-11T10:20:11.431Z"
   },
   {
    "duration": 5,
    "start_time": "2024-10-11T10:20:11.838Z"
   },
   {
    "duration": 12,
    "start_time": "2024-10-11T10:20:11.844Z"
   },
   {
    "duration": 829,
    "start_time": "2024-10-11T10:20:11.857Z"
   },
   {
    "duration": 374,
    "start_time": "2024-10-11T10:20:12.688Z"
   },
   {
    "duration": 866,
    "start_time": "2024-10-11T10:20:13.064Z"
   },
   {
    "duration": 381,
    "start_time": "2024-10-11T10:20:13.932Z"
   },
   {
    "duration": 835,
    "start_time": "2024-10-11T10:20:14.315Z"
   },
   {
    "duration": 342,
    "start_time": "2024-10-11T10:20:15.152Z"
   },
   {
    "duration": 598,
    "start_time": "2024-10-11T10:20:15.495Z"
   },
   {
    "duration": 525,
    "start_time": "2024-10-11T10:20:16.095Z"
   },
   {
    "duration": 517,
    "start_time": "2024-10-11T10:20:16.622Z"
   },
   {
    "duration": 13,
    "start_time": "2024-10-11T10:20:17.143Z"
   },
   {
    "duration": 19,
    "start_time": "2024-10-11T10:20:17.158Z"
   },
   {
    "duration": 18,
    "start_time": "2024-10-11T10:20:17.179Z"
   },
   {
    "duration": 17,
    "start_time": "2024-10-11T10:20:17.200Z"
   },
   {
    "duration": 135,
    "start_time": "2024-10-11T10:20:17.219Z"
   },
   {
    "duration": 105,
    "start_time": "2024-10-11T10:20:17.356Z"
   },
   {
    "duration": 195,
    "start_time": "2024-10-11T10:20:17.463Z"
   },
   {
    "duration": 104,
    "start_time": "2024-10-11T10:20:17.660Z"
   },
   {
    "duration": 88,
    "start_time": "2024-10-11T10:20:17.766Z"
   },
   {
    "duration": 55,
    "start_time": "2024-10-11T10:20:17.855Z"
   },
   {
    "duration": 43,
    "start_time": "2024-10-11T10:20:17.912Z"
   },
   {
    "duration": 96,
    "start_time": "2024-10-11T10:20:17.957Z"
   },
   {
    "duration": 97,
    "start_time": "2024-10-11T10:20:18.056Z"
   },
   {
    "duration": 8,
    "start_time": "2024-10-11T10:20:18.155Z"
   },
   {
    "duration": 6,
    "start_time": "2024-10-11T10:20:18.165Z"
   },
   {
    "duration": 6,
    "start_time": "2024-10-11T10:20:18.173Z"
   },
   {
    "duration": 2740,
    "start_time": "2024-10-11T10:20:18.180Z"
   },
   {
    "duration": 1397,
    "start_time": "2024-10-11T10:20:55.511Z"
   },
   {
    "duration": 440,
    "start_time": "2024-10-11T10:20:56.910Z"
   },
   {
    "duration": 6,
    "start_time": "2024-10-11T10:20:57.351Z"
   },
   {
    "duration": 30,
    "start_time": "2024-10-11T10:20:57.358Z"
   },
   {
    "duration": 765,
    "start_time": "2024-10-11T10:20:57.391Z"
   },
   {
    "duration": 361,
    "start_time": "2024-10-11T10:20:58.158Z"
   },
   {
    "duration": 841,
    "start_time": "2024-10-11T10:20:58.521Z"
   },
   {
    "duration": 343,
    "start_time": "2024-10-11T10:20:59.364Z"
   },
   {
    "duration": 793,
    "start_time": "2024-10-11T10:20:59.708Z"
   },
   {
    "duration": 389,
    "start_time": "2024-10-11T10:21:00.502Z"
   },
   {
    "duration": 589,
    "start_time": "2024-10-11T10:21:00.893Z"
   },
   {
    "duration": 518,
    "start_time": "2024-10-11T10:21:01.484Z"
   },
   {
    "duration": 586,
    "start_time": "2024-10-11T10:21:02.004Z"
   },
   {
    "duration": 10,
    "start_time": "2024-10-11T10:21:02.593Z"
   },
   {
    "duration": 47,
    "start_time": "2024-10-11T10:21:02.606Z"
   },
   {
    "duration": 16,
    "start_time": "2024-10-11T10:21:02.655Z"
   },
   {
    "duration": 55,
    "start_time": "2024-10-11T10:21:02.672Z"
   },
   {
    "duration": 34,
    "start_time": "2024-10-11T10:21:02.729Z"
   },
   {
    "duration": 195,
    "start_time": "2024-10-11T10:21:02.764Z"
   },
   {
    "duration": 200,
    "start_time": "2024-10-11T10:21:02.961Z"
   },
   {
    "duration": 98,
    "start_time": "2024-10-11T10:21:03.164Z"
   },
   {
    "duration": 138,
    "start_time": "2024-10-11T10:21:03.264Z"
   },
   {
    "duration": 44,
    "start_time": "2024-10-11T10:21:03.403Z"
   },
   {
    "duration": 18,
    "start_time": "2024-10-11T10:21:03.448Z"
   },
   {
    "duration": 6,
    "start_time": "2024-10-11T10:21:03.554Z"
   },
   {
    "duration": 92,
    "start_time": "2024-10-11T10:21:03.562Z"
   },
   {
    "duration": 11,
    "start_time": "2024-10-11T10:21:03.656Z"
   },
   {
    "duration": 7,
    "start_time": "2024-10-11T10:21:03.669Z"
   },
   {
    "duration": 20,
    "start_time": "2024-10-11T10:21:03.678Z"
   },
   {
    "duration": 2645,
    "start_time": "2024-10-11T10:21:03.700Z"
   },
   {
    "duration": 348,
    "start_time": "2024-10-11T10:24:02.201Z"
   },
   {
    "duration": 74,
    "start_time": "2024-10-11T10:27:28.223Z"
   },
   {
    "duration": 72,
    "start_time": "2024-10-11T10:28:13.871Z"
   },
   {
    "duration": 700,
    "start_time": "2024-10-11T10:29:32.411Z"
   },
   {
    "duration": 3,
    "start_time": "2024-10-11T10:32:33.341Z"
   },
   {
    "duration": 17,
    "start_time": "2024-10-11T10:32:51.442Z"
   },
   {
    "duration": 3770,
    "start_time": "2024-10-11T10:33:40.105Z"
   },
   {
    "duration": 3937,
    "start_time": "2024-10-11T10:33:56.099Z"
   },
   {
    "duration": 1406,
    "start_time": "2024-10-11T10:35:07.623Z"
   },
   {
    "duration": 427,
    "start_time": "2024-10-11T10:35:09.031Z"
   },
   {
    "duration": 5,
    "start_time": "2024-10-11T10:35:09.459Z"
   },
   {
    "duration": 34,
    "start_time": "2024-10-11T10:35:09.466Z"
   },
   {
    "duration": 785,
    "start_time": "2024-10-11T10:35:09.503Z"
   },
   {
    "duration": 429,
    "start_time": "2024-10-11T10:35:10.290Z"
   },
   {
    "duration": 855,
    "start_time": "2024-10-11T10:35:10.721Z"
   },
   {
    "duration": 348,
    "start_time": "2024-10-11T10:35:11.577Z"
   },
   {
    "duration": 832,
    "start_time": "2024-10-11T10:35:11.927Z"
   },
   {
    "duration": 378,
    "start_time": "2024-10-11T10:35:12.761Z"
   },
   {
    "duration": 587,
    "start_time": "2024-10-11T10:35:13.141Z"
   },
   {
    "duration": 558,
    "start_time": "2024-10-11T10:35:13.730Z"
   },
   {
    "duration": 582,
    "start_time": "2024-10-11T10:35:14.290Z"
   },
   {
    "duration": 10,
    "start_time": "2024-10-11T10:35:14.874Z"
   },
   {
    "duration": 23,
    "start_time": "2024-10-11T10:35:14.886Z"
   },
   {
    "duration": 23,
    "start_time": "2024-10-11T10:35:14.911Z"
   },
   {
    "duration": 26,
    "start_time": "2024-10-11T10:35:14.936Z"
   },
   {
    "duration": 99,
    "start_time": "2024-10-11T10:35:14.963Z"
   },
   {
    "duration": 37,
    "start_time": "2024-10-11T10:35:15.154Z"
   },
   {
    "duration": 261,
    "start_time": "2024-10-11T10:35:15.193Z"
   },
   {
    "duration": 114,
    "start_time": "2024-10-11T10:35:15.456Z"
   },
   {
    "duration": 6,
    "start_time": "2024-10-11T10:35:15.572Z"
   },
   {
    "duration": 39,
    "start_time": "2024-10-11T10:35:15.579Z"
   },
   {
    "duration": 38,
    "start_time": "2024-10-11T10:35:15.619Z"
   },
   {
    "duration": 7,
    "start_time": "2024-10-11T10:35:15.659Z"
   },
   {
    "duration": 6,
    "start_time": "2024-10-11T10:35:15.754Z"
   },
   {
    "duration": 18,
    "start_time": "2024-10-11T10:35:15.761Z"
   },
   {
    "duration": 7,
    "start_time": "2024-10-11T10:35:15.781Z"
   },
   {
    "duration": 17,
    "start_time": "2024-10-11T10:35:15.789Z"
   },
   {
    "duration": 4049,
    "start_time": "2024-10-11T10:35:15.807Z"
   },
   {
    "duration": 1391,
    "start_time": "2024-10-11T10:37:26.361Z"
   },
   {
    "duration": 396,
    "start_time": "2024-10-11T10:37:27.754Z"
   },
   {
    "duration": 5,
    "start_time": "2024-10-11T10:37:28.152Z"
   },
   {
    "duration": 7,
    "start_time": "2024-10-11T10:37:28.158Z"
   },
   {
    "duration": 902,
    "start_time": "2024-10-11T10:37:28.166Z"
   },
   {
    "duration": 370,
    "start_time": "2024-10-11T10:37:29.070Z"
   },
   {
    "duration": 856,
    "start_time": "2024-10-11T10:37:29.442Z"
   },
   {
    "duration": 385,
    "start_time": "2024-10-11T10:37:30.300Z"
   },
   {
    "duration": 809,
    "start_time": "2024-10-11T10:37:30.687Z"
   },
   {
    "duration": 405,
    "start_time": "2024-10-11T10:37:31.498Z"
   },
   {
    "duration": 591,
    "start_time": "2024-10-11T10:37:31.905Z"
   },
   {
    "duration": 529,
    "start_time": "2024-10-11T10:37:32.497Z"
   },
   {
    "duration": 554,
    "start_time": "2024-10-11T10:37:33.028Z"
   },
   {
    "duration": 11,
    "start_time": "2024-10-11T10:37:33.584Z"
   },
   {
    "duration": 32,
    "start_time": "2024-10-11T10:37:33.596Z"
   },
   {
    "duration": 24,
    "start_time": "2024-10-11T10:37:33.629Z"
   },
   {
    "duration": 17,
    "start_time": "2024-10-11T10:37:33.654Z"
   },
   {
    "duration": 83,
    "start_time": "2024-10-11T10:37:33.672Z"
   },
   {
    "duration": 107,
    "start_time": "2024-10-11T10:37:33.757Z"
   },
   {
    "duration": 212,
    "start_time": "2024-10-11T10:37:33.867Z"
   },
   {
    "duration": 76,
    "start_time": "2024-10-11T10:37:34.082Z"
   },
   {
    "duration": 120,
    "start_time": "2024-10-11T10:37:34.160Z"
   },
   {
    "duration": 51,
    "start_time": "2024-10-11T10:37:34.281Z"
   },
   {
    "duration": 20,
    "start_time": "2024-10-11T10:37:34.334Z"
   },
   {
    "duration": 9,
    "start_time": "2024-10-11T10:37:34.356Z"
   },
   {
    "duration": 99,
    "start_time": "2024-10-11T10:37:34.454Z"
   },
   {
    "duration": 24,
    "start_time": "2024-10-11T10:37:34.555Z"
   },
   {
    "duration": 11,
    "start_time": "2024-10-11T10:37:34.581Z"
   },
   {
    "duration": 12,
    "start_time": "2024-10-11T10:37:34.594Z"
   },
   {
    "duration": 3932,
    "start_time": "2024-10-11T10:37:34.607Z"
   },
   {
    "duration": 56,
    "start_time": "2024-10-11T17:52:16.024Z"
   },
   {
    "duration": 1797,
    "start_time": "2024-10-11T17:52:23.091Z"
   },
   {
    "duration": 1005,
    "start_time": "2024-10-11T17:52:24.890Z"
   },
   {
    "duration": 6,
    "start_time": "2024-10-11T17:52:25.897Z"
   },
   {
    "duration": 17,
    "start_time": "2024-10-11T17:52:25.906Z"
   },
   {
    "duration": 889,
    "start_time": "2024-10-11T17:52:25.925Z"
   },
   {
    "duration": 494,
    "start_time": "2024-10-11T17:52:26.817Z"
   },
   {
    "duration": 969,
    "start_time": "2024-10-11T17:52:27.313Z"
   },
   {
    "duration": 382,
    "start_time": "2024-10-11T17:52:28.284Z"
   },
   {
    "duration": 901,
    "start_time": "2024-10-11T17:52:28.668Z"
   },
   {
    "duration": 362,
    "start_time": "2024-10-11T17:52:29.572Z"
   },
   {
    "duration": 22,
    "start_time": "2024-10-11T17:52:29.935Z"
   },
   {
    "duration": 13,
    "start_time": "2024-10-11T17:52:29.958Z"
   },
   {
    "duration": 60,
    "start_time": "2024-10-11T17:52:29.973Z"
   },
   {
    "duration": 66,
    "start_time": "2024-10-11T17:52:30.035Z"
   },
   {
    "duration": 59,
    "start_time": "2024-10-11T17:52:30.103Z"
   },
   {
    "duration": 93,
    "start_time": "2024-10-11T17:52:30.164Z"
   },
   {
    "duration": 197,
    "start_time": "2024-10-11T17:52:30.259Z"
   },
   {
    "duration": 201,
    "start_time": "2024-10-11T17:52:30.459Z"
   },
   {
    "duration": 29,
    "start_time": "2024-10-11T17:52:30.755Z"
   },
   {
    "duration": 14,
    "start_time": "2024-10-11T17:52:30.786Z"
   },
   {
    "duration": 94,
    "start_time": "2024-10-11T17:52:30.801Z"
   },
   {
    "duration": 66,
    "start_time": "2024-10-11T17:52:30.897Z"
   },
   {
    "duration": 5,
    "start_time": "2024-10-11T17:52:31.056Z"
   },
   {
    "duration": 36,
    "start_time": "2024-10-11T17:52:31.063Z"
   },
   {
    "duration": 35,
    "start_time": "2024-10-11T17:52:31.101Z"
   },
   {
    "duration": 17,
    "start_time": "2024-10-11T17:52:31.138Z"
   },
   {
    "duration": 14,
    "start_time": "2024-10-11T17:52:31.157Z"
   },
   {
    "duration": 6301,
    "start_time": "2024-10-11T17:52:31.175Z"
   },
   {
    "duration": 5,
    "start_time": "2024-10-11T17:53:51.365Z"
   },
   {
    "duration": 13,
    "start_time": "2024-10-11T18:06:48.397Z"
   },
   {
    "duration": 12,
    "start_time": "2024-10-11T18:07:03.337Z"
   },
   {
    "duration": 13,
    "start_time": "2024-10-11T18:07:32.037Z"
   },
   {
    "duration": 1500,
    "start_time": "2024-10-11T18:15:35.618Z"
   },
   {
    "duration": 484,
    "start_time": "2024-10-11T18:15:37.121Z"
   },
   {
    "duration": 7,
    "start_time": "2024-10-11T18:15:37.608Z"
   },
   {
    "duration": 12,
    "start_time": "2024-10-11T18:15:37.621Z"
   },
   {
    "duration": 925,
    "start_time": "2024-10-11T18:15:37.635Z"
   },
   {
    "duration": 403,
    "start_time": "2024-10-11T18:15:38.562Z"
   },
   {
    "duration": 963,
    "start_time": "2024-10-11T18:15:38.967Z"
   },
   {
    "duration": 394,
    "start_time": "2024-10-11T18:15:39.932Z"
   },
   {
    "duration": 909,
    "start_time": "2024-10-11T18:15:40.328Z"
   },
   {
    "duration": 390,
    "start_time": "2024-10-11T18:15:41.240Z"
   },
   {
    "duration": 11,
    "start_time": "2024-10-11T18:15:41.632Z"
   },
   {
    "duration": 18,
    "start_time": "2024-10-11T18:15:41.645Z"
   },
   {
    "duration": 64,
    "start_time": "2024-10-11T18:15:41.665Z"
   },
   {
    "duration": 41,
    "start_time": "2024-10-11T18:15:41.731Z"
   },
   {
    "duration": 79,
    "start_time": "2024-10-11T18:15:41.774Z"
   },
   {
    "duration": 14,
    "start_time": "2024-10-11T18:15:41.855Z"
   },
   {
    "duration": 62,
    "start_time": "2024-10-11T18:15:41.871Z"
   },
   {
    "duration": 27,
    "start_time": "2024-10-11T18:15:41.934Z"
   },
   {
    "duration": 100,
    "start_time": "2024-10-11T18:15:41.963Z"
   },
   {
    "duration": 191,
    "start_time": "2024-10-11T18:15:42.065Z"
   },
   {
    "duration": 198,
    "start_time": "2024-10-11T18:15:42.259Z"
   },
   {
    "duration": 107,
    "start_time": "2024-10-11T18:15:42.459Z"
   },
   {
    "duration": 4,
    "start_time": "2024-10-11T18:15:42.567Z"
   },
   {
    "duration": 98,
    "start_time": "2024-10-11T18:15:42.572Z"
   },
   {
    "duration": 185,
    "start_time": "2024-10-11T18:15:42.672Z"
   },
   {
    "duration": 4,
    "start_time": "2024-10-11T18:15:42.858Z"
   },
   {
    "duration": 7,
    "start_time": "2024-10-11T18:15:42.864Z"
   },
   {
    "duration": 11,
    "start_time": "2024-10-11T18:15:42.875Z"
   },
   {
    "duration": 10,
    "start_time": "2024-10-11T18:15:42.887Z"
   },
   {
    "duration": 10,
    "start_time": "2024-10-11T18:15:42.899Z"
   },
   {
    "duration": 6377,
    "start_time": "2024-10-11T18:15:42.911Z"
   },
   {
    "duration": 70,
    "start_time": "2024-10-11T18:17:49.156Z"
   },
   {
    "duration": 65,
    "start_time": "2024-10-11T18:17:59.392Z"
   },
   {
    "duration": 8369,
    "start_time": "2024-10-11T18:29:49.615Z"
   },
   {
    "duration": 106,
    "start_time": "2024-10-11T18:35:42.017Z"
   },
   {
    "duration": 1587,
    "start_time": "2024-10-11T18:37:32.133Z"
   },
   {
    "duration": 462,
    "start_time": "2024-10-11T18:37:33.722Z"
   },
   {
    "duration": 5,
    "start_time": "2024-10-11T18:37:34.186Z"
   },
   {
    "duration": 32,
    "start_time": "2024-10-11T18:37:34.193Z"
   },
   {
    "duration": 907,
    "start_time": "2024-10-11T18:37:34.227Z"
   },
   {
    "duration": 429,
    "start_time": "2024-10-11T18:37:35.135Z"
   },
   {
    "duration": 949,
    "start_time": "2024-10-11T18:37:35.566Z"
   },
   {
    "duration": 404,
    "start_time": "2024-10-11T18:37:36.517Z"
   },
   {
    "duration": 928,
    "start_time": "2024-10-11T18:37:36.923Z"
   },
   {
    "duration": 377,
    "start_time": "2024-10-11T18:37:37.855Z"
   },
   {
    "duration": 21,
    "start_time": "2024-10-11T18:37:38.234Z"
   },
   {
    "duration": 10,
    "start_time": "2024-10-11T18:37:38.257Z"
   },
   {
    "duration": 55,
    "start_time": "2024-10-11T18:37:38.268Z"
   },
   {
    "duration": 30,
    "start_time": "2024-10-11T18:37:38.326Z"
   },
   {
    "duration": 55,
    "start_time": "2024-10-11T18:37:38.358Z"
   },
   {
    "duration": 13,
    "start_time": "2024-10-11T18:37:38.415Z"
   },
   {
    "duration": 77,
    "start_time": "2024-10-11T18:37:38.430Z"
   },
   {
    "duration": 14,
    "start_time": "2024-10-11T18:37:38.509Z"
   },
   {
    "duration": 131,
    "start_time": "2024-10-11T18:37:38.525Z"
   },
   {
    "duration": 197,
    "start_time": "2024-10-11T18:37:38.659Z"
   },
   {
    "duration": 196,
    "start_time": "2024-10-11T18:37:38.859Z"
   },
   {
    "duration": 100,
    "start_time": "2024-10-11T18:37:39.058Z"
   },
   {
    "duration": 3,
    "start_time": "2024-10-11T18:37:39.160Z"
   },
   {
    "duration": 95,
    "start_time": "2024-10-11T18:37:39.165Z"
   },
   {
    "duration": 98,
    "start_time": "2024-10-11T18:37:39.262Z"
   },
   {
    "duration": 94,
    "start_time": "2024-10-11T18:37:39.363Z"
   },
   {
    "duration": 39,
    "start_time": "2024-10-11T18:37:39.458Z"
   },
   {
    "duration": 18,
    "start_time": "2024-10-11T18:37:39.498Z"
   },
   {
    "duration": 26,
    "start_time": "2024-10-11T18:37:39.518Z"
   },
   {
    "duration": 10,
    "start_time": "2024-10-11T18:37:39.546Z"
   },
   {
    "duration": 8446,
    "start_time": "2024-10-11T18:37:39.558Z"
   },
   {
    "duration": 4,
    "start_time": "2024-10-11T18:40:01.315Z"
   },
   {
    "duration": 1177,
    "start_time": "2024-10-11T18:40:22.069Z"
   },
   {
    "duration": 1579,
    "start_time": "2024-10-11T18:40:30.158Z"
   },
   {
    "duration": 470,
    "start_time": "2024-10-11T18:40:31.739Z"
   },
   {
    "duration": 5,
    "start_time": "2024-10-11T18:40:32.211Z"
   },
   {
    "duration": 17,
    "start_time": "2024-10-11T18:40:32.218Z"
   },
   {
    "duration": 918,
    "start_time": "2024-10-11T18:40:32.237Z"
   },
   {
    "duration": 5,
    "start_time": "2024-10-11T18:40:33.157Z"
   },
   {
    "duration": 199,
    "start_time": "2024-10-11T18:40:33.164Z"
   },
   {
    "duration": 402,
    "start_time": "2024-10-11T18:40:33.365Z"
   },
   {
    "duration": 941,
    "start_time": "2024-10-11T18:40:33.769Z"
   },
   {
    "duration": 436,
    "start_time": "2024-10-11T18:40:34.712Z"
   },
   {
    "duration": 870,
    "start_time": "2024-10-11T18:40:35.149Z"
   },
   {
    "duration": 414,
    "start_time": "2024-10-11T18:40:36.021Z"
   },
   {
    "duration": 20,
    "start_time": "2024-10-11T18:40:36.437Z"
   },
   {
    "duration": 65,
    "start_time": "2024-10-11T18:40:36.460Z"
   },
   {
    "duration": 49,
    "start_time": "2024-10-11T18:40:36.527Z"
   },
   {
    "duration": 78,
    "start_time": "2024-10-11T18:40:36.578Z"
   },
   {
    "duration": 75,
    "start_time": "2024-10-11T18:40:36.658Z"
   },
   {
    "duration": 14,
    "start_time": "2024-10-11T18:40:36.734Z"
   },
   {
    "duration": 50,
    "start_time": "2024-10-11T18:40:36.750Z"
   },
   {
    "duration": 13,
    "start_time": "2024-10-11T18:40:36.802Z"
   },
   {
    "duration": 43,
    "start_time": "2024-10-11T18:40:36.817Z"
   },
   {
    "duration": 293,
    "start_time": "2024-10-11T18:40:36.863Z"
   },
   {
    "duration": 197,
    "start_time": "2024-10-11T18:40:37.159Z"
   },
   {
    "duration": 100,
    "start_time": "2024-10-11T18:40:37.359Z"
   },
   {
    "duration": 44,
    "start_time": "2024-10-11T18:40:37.460Z"
   },
   {
    "duration": 97,
    "start_time": "2024-10-11T18:40:37.505Z"
   },
   {
    "duration": 157,
    "start_time": "2024-10-11T18:40:37.604Z"
   },
   {
    "duration": 5,
    "start_time": "2024-10-11T18:40:37.762Z"
   },
   {
    "duration": 24,
    "start_time": "2024-10-11T18:40:37.768Z"
   },
   {
    "duration": 45,
    "start_time": "2024-10-11T18:40:37.794Z"
   },
   {
    "duration": 15,
    "start_time": "2024-10-11T18:40:37.841Z"
   },
   {
    "duration": 13,
    "start_time": "2024-10-11T18:40:37.858Z"
   },
   {
    "duration": 8511,
    "start_time": "2024-10-11T18:40:37.873Z"
   },
   {
    "duration": 5,
    "start_time": "2024-10-11T18:41:31.456Z"
   },
   {
    "duration": 1194,
    "start_time": "2024-10-11T18:41:31.937Z"
   },
   {
    "duration": 1620,
    "start_time": "2024-10-11T18:42:03.929Z"
   },
   {
    "duration": 451,
    "start_time": "2024-10-11T18:42:05.552Z"
   },
   {
    "duration": 5,
    "start_time": "2024-10-11T18:42:06.005Z"
   },
   {
    "duration": 46,
    "start_time": "2024-10-11T18:42:06.012Z"
   },
   {
    "duration": 900,
    "start_time": "2024-10-11T18:42:06.060Z"
   },
   {
    "duration": 4,
    "start_time": "2024-10-11T18:42:06.961Z"
   },
   {
    "duration": 172,
    "start_time": "2024-10-11T18:42:06.967Z"
   },
   {
    "duration": 417,
    "start_time": "2024-10-11T18:42:07.141Z"
   },
   {
    "duration": 959,
    "start_time": "2024-10-11T18:42:07.560Z"
   },
   {
    "duration": 416,
    "start_time": "2024-10-11T18:42:08.522Z"
   },
   {
    "duration": 853,
    "start_time": "2024-10-11T18:42:08.939Z"
   },
   {
    "duration": 427,
    "start_time": "2024-10-11T18:42:09.794Z"
   },
   {
    "duration": 12,
    "start_time": "2024-10-11T18:42:10.223Z"
   },
   {
    "duration": 20,
    "start_time": "2024-10-11T18:42:10.237Z"
   },
   {
    "duration": 50,
    "start_time": "2024-10-11T18:42:10.258Z"
   },
   {
    "duration": 13,
    "start_time": "2024-10-11T18:42:10.310Z"
   },
   {
    "duration": 59,
    "start_time": "2024-10-11T18:42:10.325Z"
   },
   {
    "duration": 12,
    "start_time": "2024-10-11T18:42:10.386Z"
   },
   {
    "duration": 61,
    "start_time": "2024-10-11T18:42:10.400Z"
   },
   {
    "duration": 13,
    "start_time": "2024-10-11T18:42:10.463Z"
   },
   {
    "duration": 81,
    "start_time": "2024-10-11T18:42:10.477Z"
   },
   {
    "duration": 195,
    "start_time": "2024-10-11T18:42:10.561Z"
   },
   {
    "duration": 197,
    "start_time": "2024-10-11T18:42:10.759Z"
   },
   {
    "duration": 99,
    "start_time": "2024-10-11T18:42:10.958Z"
   },
   {
    "duration": 4,
    "start_time": "2024-10-11T18:42:11.059Z"
   },
   {
    "duration": 104,
    "start_time": "2024-10-11T18:42:11.064Z"
   },
   {
    "duration": 90,
    "start_time": "2024-10-11T18:42:11.170Z"
   },
   {
    "duration": 7,
    "start_time": "2024-10-11T18:42:11.264Z"
   },
   {
    "duration": 86,
    "start_time": "2024-10-11T18:42:11.273Z"
   },
   {
    "duration": 12,
    "start_time": "2024-10-11T18:42:11.361Z"
   },
   {
    "duration": 11,
    "start_time": "2024-10-11T18:42:11.375Z"
   },
   {
    "duration": 15,
    "start_time": "2024-10-11T18:42:11.388Z"
   },
   {
    "duration": 8484,
    "start_time": "2024-10-11T18:42:11.405Z"
   },
   {
    "duration": 1535,
    "start_time": "2024-10-11T18:50:54.363Z"
   },
   {
    "duration": 454,
    "start_time": "2024-10-11T18:50:55.900Z"
   },
   {
    "duration": 6,
    "start_time": "2024-10-11T18:50:56.355Z"
   },
   {
    "duration": 7,
    "start_time": "2024-10-11T18:50:56.363Z"
   },
   {
    "duration": 898,
    "start_time": "2024-10-11T18:50:56.373Z"
   },
   {
    "duration": 4,
    "start_time": "2024-10-11T18:50:57.273Z"
   },
   {
    "duration": 163,
    "start_time": "2024-10-11T18:50:57.279Z"
   },
   {
    "duration": 23842,
    "start_time": "2024-10-11T18:50:57.455Z"
   },
   {
    "duration": 448,
    "start_time": "2024-10-11T18:51:21.299Z"
   },
   {
    "duration": 947,
    "start_time": "2024-10-11T18:51:21.749Z"
   },
   {
    "duration": 450,
    "start_time": "2024-10-11T18:51:22.698Z"
   },
   {
    "duration": 911,
    "start_time": "2024-10-11T18:51:23.150Z"
   },
   {
    "duration": 390,
    "start_time": "2024-10-11T18:51:24.063Z"
   },
   {
    "duration": 31,
    "start_time": "2024-10-11T18:51:24.457Z"
   },
   {
    "duration": 11,
    "start_time": "2024-10-11T18:51:24.490Z"
   },
   {
    "duration": 68,
    "start_time": "2024-10-11T18:51:24.503Z"
   },
   {
    "duration": 15,
    "start_time": "2024-10-11T18:51:24.573Z"
   },
   {
    "duration": 139,
    "start_time": "2024-10-11T18:51:24.589Z"
   },
   {
    "duration": 14,
    "start_time": "2024-10-11T18:51:24.729Z"
   },
   {
    "duration": 58,
    "start_time": "2024-10-11T18:51:24.745Z"
   },
   {
    "duration": 13,
    "start_time": "2024-10-11T18:51:24.805Z"
   },
   {
    "duration": 41,
    "start_time": "2024-10-11T18:51:24.820Z"
   },
   {
    "duration": 193,
    "start_time": "2024-10-11T18:51:24.866Z"
   },
   {
    "duration": 194,
    "start_time": "2024-10-11T18:51:25.062Z"
   },
   {
    "duration": 99,
    "start_time": "2024-10-11T18:51:25.259Z"
   },
   {
    "duration": 12,
    "start_time": "2024-10-11T18:51:25.360Z"
   },
   {
    "duration": 193,
    "start_time": "2024-10-11T18:51:25.373Z"
   },
   {
    "duration": 189,
    "start_time": "2024-10-11T18:51:25.568Z"
   },
   {
    "duration": 5,
    "start_time": "2024-10-11T18:51:25.758Z"
   },
   {
    "duration": 13,
    "start_time": "2024-10-11T18:51:25.765Z"
   },
   {
    "duration": 22,
    "start_time": "2024-10-11T18:51:25.780Z"
   },
   {
    "duration": 11,
    "start_time": "2024-10-11T18:51:25.804Z"
   },
   {
    "duration": 11,
    "start_time": "2024-10-11T18:51:25.856Z"
   },
   {
    "duration": 8419,
    "start_time": "2024-10-11T18:51:25.869Z"
   },
   {
    "duration": 1779,
    "start_time": "2024-10-11T18:55:33.132Z"
   },
   {
    "duration": 493,
    "start_time": "2024-10-11T18:55:34.914Z"
   },
   {
    "duration": 5,
    "start_time": "2024-10-11T18:55:35.409Z"
   },
   {
    "duration": 10,
    "start_time": "2024-10-11T18:55:35.416Z"
   },
   {
    "duration": 918,
    "start_time": "2024-10-11T18:55:35.429Z"
   },
   {
    "duration": 8,
    "start_time": "2024-10-11T18:55:36.349Z"
   },
   {
    "duration": 200,
    "start_time": "2024-10-11T18:55:36.359Z"
   },
   {
    "duration": 23227,
    "start_time": "2024-10-11T18:55:36.561Z"
   },
   {
    "duration": 438,
    "start_time": "2024-10-11T18:55:59.789Z"
   },
   {
    "duration": 963,
    "start_time": "2024-10-11T18:56:00.229Z"
   },
   {
    "duration": 429,
    "start_time": "2024-10-11T18:56:01.195Z"
   },
   {
    "duration": 942,
    "start_time": "2024-10-11T18:56:01.626Z"
   },
   {
    "duration": 368,
    "start_time": "2024-10-11T18:56:02.570Z"
   },
   {
    "duration": 35,
    "start_time": "2024-10-11T18:56:02.941Z"
   },
   {
    "duration": 48,
    "start_time": "2024-10-11T18:56:02.979Z"
   },
   {
    "duration": 69,
    "start_time": "2024-10-11T18:56:03.029Z"
   },
   {
    "duration": 19,
    "start_time": "2024-10-11T18:56:03.100Z"
   },
   {
    "duration": 82,
    "start_time": "2024-10-11T18:56:03.121Z"
   },
   {
    "duration": 30,
    "start_time": "2024-10-11T18:56:03.204Z"
   },
   {
    "duration": 74,
    "start_time": "2024-10-11T18:56:03.237Z"
   },
   {
    "duration": 15,
    "start_time": "2024-10-11T18:56:03.313Z"
   },
   {
    "duration": 124,
    "start_time": "2024-10-11T18:56:03.330Z"
   },
   {
    "duration": 197,
    "start_time": "2024-10-11T18:56:03.457Z"
   },
   {
    "duration": 99,
    "start_time": "2024-10-11T18:56:03.657Z"
   },
   {
    "duration": 110,
    "start_time": "2024-10-11T18:56:03.758Z"
   },
   {
    "duration": 17,
    "start_time": "2024-10-11T18:56:03.870Z"
   },
   {
    "duration": 210,
    "start_time": "2024-10-11T18:56:03.889Z"
   },
   {
    "duration": 62,
    "start_time": "2024-10-11T18:56:04.100Z"
   },
   {
    "duration": 108,
    "start_time": "2024-10-11T18:56:04.164Z"
   },
   {
    "duration": 19,
    "start_time": "2024-10-11T18:56:04.274Z"
   },
   {
    "duration": 25,
    "start_time": "2024-10-11T18:56:04.295Z"
   },
   {
    "duration": 32,
    "start_time": "2024-10-11T18:56:04.322Z"
   },
   {
    "duration": 10,
    "start_time": "2024-10-11T18:56:04.355Z"
   },
   {
    "duration": 8532,
    "start_time": "2024-10-11T18:56:04.367Z"
   }
  ],
  "kernelspec": {
   "display_name": "Python 3 (ipykernel)",
   "language": "python",
   "name": "python3"
  },
  "language_info": {
   "codemirror_mode": {
    "name": "ipython",
    "version": 3
   },
   "file_extension": ".py",
   "mimetype": "text/x-python",
   "name": "python",
   "nbconvert_exporter": "python",
   "pygments_lexer": "ipython3",
   "version": "3.11.5"
  },
  "toc": {
   "base_numbering": 1,
   "nav_menu": {},
   "number_sections": true,
   "sideBar": true,
   "skip_h1_title": true,
   "title_cell": "Table of Contents",
   "title_sidebar": "Contents",
   "toc_cell": false,
   "toc_position": {},
   "toc_section_display": true,
   "toc_window_display": false
  }
 },
 "nbformat": 4,
 "nbformat_minor": 2
}
