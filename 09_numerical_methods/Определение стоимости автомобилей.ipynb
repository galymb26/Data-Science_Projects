{
 "cells": [
  {
   "cell_type": "markdown",
   "metadata": {},
   "source": [
    "\n",
    "Привет, меня зовут Люман Аблаев. Сегодня я проверю твой проект.\n",
    "<br> Дальнейшее общение будет происходить на \"ты\" если это не вызывает никаких проблем.\n",
    "<br> Желательно реагировать на красные комментарии ('исправил', 'не понятно как исправить ошибку', ...)\n",
    "<br> Пожалуйста, не удаляй комментарии ревьюера, так как они повышают качество повторного ревью.\n",
    "\n",
    "Комментарии будут в <font color='green'>зеленой</font>, <font color='blue'>синей</font> или <font color='red'>красной</font> рамках:\n",
    "\n",
    "\n",
    "<div class=\"alert alert-block alert-success\">\n",
    "<b>Успех:</b> Если все сделано отлично\n",
    "</div>\n",
    "\n",
    "<div class=\"alert alert-block alert-info\">\n",
    "<b>Совет: </b> Если можно немного улучшить\n",
    "</div>\n",
    "\n",
    "<div class=\"alert alert-block alert-danger\">\n",
    "<b>Ошибка:</b> Если требуются исправления. Работа не может быть принята с красными комментариями.\n",
    "</div>\n",
    "\n",
    "-------------------\n",
    "\n",
    "Будет очень хорошо, если ты будешь помечать свои действия следующим образом:\n",
    "<div class=\"alert alert-block alert-warning\">\n",
    "<b>Комментарий студента:</b> ...\n",
    "</div>\n",
    "\n",
    "<div class=\"alert alert-block alert-warning\">\n",
    "<b>Изменения:</b> Были внесены следующие изменения ...\n",
    "</div>\n",
    "\n",
    "\n",
    "\n",
    "\n",
    "\n",
    "\n",
    "\n",
    "<font color='orange' style='font-size:24px; font-weight:bold'>Общее впечатление</font>\n",
    "* Спасибо за очень качественную работу - видно, что вложено много труда.\n",
    "- Я оставил некотспорые советы, надеюсь они будут полезными и интересными\n",
    "- Есть некоторые недочеты, которые нужно поправить, но у тебя это не должно занять много времени)\n",
    "- Жду обновленную работу"
   ]
  },
  {
   "cell_type": "markdown",
   "metadata": {},
   "source": [
    "<font color='orange' style='font-size:24px; font-weight:bold'>Общее впечатление[2]</font>\n",
    "* Спасибо за оперативность\n",
    "- Приятно видеть фидбек \n",
    "- Недочеты исправлены - работа полностью корректна\n",
    "- Рад был быть полезен. Удачи в дальнейшем обучении!\n"
   ]
  },
  {
   "cell_type": "markdown",
   "metadata": {},
   "source": [
    "# Определение стоимости автомобилей"
   ]
  },
  {
   "cell_type": "markdown",
   "metadata": {},
   "source": [
    "Сервис по продаже автомобилей с пробегом «Не бит, не крашен» разрабатывает приложение для привлечения новых клиентов. В нём можно быстро узнать рыночную стоимость своего автомобиля. В вашем распоряжении исторические данные: технические характеристики, комплектации и цены автомобилей. Вам нужно построить модель для определения стоимости. \n",
    "\n",
    "Заказчику важны:\n",
    "\n",
    "- качество предсказания;\n",
    "- скорость предсказания;\n",
    "- время обучения."
   ]
  },
  {
   "cell_type": "markdown",
   "metadata": {},
   "source": [
    "# Содержание проекта \n"
   ]
  },
  {
   "cell_type": "markdown",
   "metadata": {},
   "source": [
    "# Загрузка и подготовка данных"
   ]
  },
  {
   "cell_type": "markdown",
   "metadata": {},
   "source": [
    "- Импортируем необходимые библиотеки.\n",
    "\n",
    "- Откроем файл и изучим его.\n",
    "\n",
    "- Просмотим зависимотсть целевого значения от других признаков.\n",
    "\n",
    "- Применим кодирование текстовых данных в категориальные кодировщиком OnehotEncoder и OrdinalEncoder\n",
    "\n",
    "- Разделим данные на тренировочную выборку и целевой признак\n",
    "\n",
    "- Вывод"
   ]
  },
  {
   "cell_type": "markdown",
   "metadata": {},
   "source": [
    "# Обучение моделей"
   ]
  },
  {
   "cell_type": "markdown",
   "metadata": {},
   "source": [
    "- функции подготовки данных и подбора моделей и их параметров\n",
    "\n",
    "- Масштабируем данные при помощи StandardScaler\n",
    "\n",
    "- Функции моделей\n",
    "\n",
    "- Применение функций\n",
    "\n",
    "- Выбор лучшей модели"
   ]
  },
  {
   "cell_type": "markdown",
   "metadata": {},
   "source": [
    "# Анализ моделей"
   ]
  },
  {
   "cell_type": "markdown",
   "metadata": {},
   "source": [
    "- Проанализируем скорость работы и качество моделей и занесём данные в сводную таблицу\n",
    "\n",
    "- Вывод"
   ]
  },
  {
   "cell_type": "code",
   "execution_count": 1,
   "metadata": {},
   "outputs": [
    {
     "name": "stdout",
     "output_type": "stream",
     "text": [
      "Requirement already satisfied: scikit-learn in /opt/conda/lib/python3.9/site-packages (1.5.2)\n",
      "Requirement already satisfied: threadpoolctl>=3.1.0 in /opt/conda/lib/python3.9/site-packages (from scikit-learn) (3.1.0)\n",
      "Requirement already satisfied: joblib>=1.2.0 in /opt/conda/lib/python3.9/site-packages (from scikit-learn) (1.4.2)\n",
      "Requirement already satisfied: scipy>=1.6.0 in /opt/conda/lib/python3.9/site-packages (from scikit-learn) (1.9.1)\n",
      "Requirement already satisfied: numpy>=1.19.5 in /opt/conda/lib/python3.9/site-packages (from scikit-learn) (1.21.1)\n",
      "Requirement already satisfied: category_encoders in /opt/conda/lib/python3.9/site-packages (2.6.4)\n",
      "Requirement already satisfied: scikit-learn>=0.20.0 in /opt/conda/lib/python3.9/site-packages (from category_encoders) (1.5.2)\n",
      "Requirement already satisfied: scipy>=1.0.0 in /opt/conda/lib/python3.9/site-packages (from category_encoders) (1.9.1)\n",
      "Requirement already satisfied: patsy>=0.5.1 in /opt/conda/lib/python3.9/site-packages (from category_encoders) (0.5.2)\n",
      "Requirement already satisfied: numpy>=1.14.0 in /opt/conda/lib/python3.9/site-packages (from category_encoders) (1.21.1)\n",
      "Requirement already satisfied: statsmodels>=0.9.0 in /opt/conda/lib/python3.9/site-packages (from category_encoders) (0.13.2)\n",
      "Requirement already satisfied: pandas>=1.0.5 in /opt/conda/lib/python3.9/site-packages (from category_encoders) (1.2.4)\n",
      "Requirement already satisfied: python-dateutil>=2.7.3 in /opt/conda/lib/python3.9/site-packages (from pandas>=1.0.5->category_encoders) (2.8.1)\n",
      "Requirement already satisfied: pytz>=2017.3 in /opt/conda/lib/python3.9/site-packages (from pandas>=1.0.5->category_encoders) (2021.1)\n",
      "Requirement already satisfied: six in /opt/conda/lib/python3.9/site-packages (from patsy>=0.5.1->category_encoders) (1.16.0)\n",
      "Requirement already satisfied: joblib>=1.2.0 in /opt/conda/lib/python3.9/site-packages (from scikit-learn>=0.20.0->category_encoders) (1.4.2)\n",
      "Requirement already satisfied: threadpoolctl>=3.1.0 in /opt/conda/lib/python3.9/site-packages (from scikit-learn>=0.20.0->category_encoders) (3.1.0)\n",
      "Requirement already satisfied: packaging>=21.3 in /opt/conda/lib/python3.9/site-packages (from statsmodels>=0.9.0->category_encoders) (21.3)\n",
      "Requirement already satisfied: pyparsing!=3.0.5,>=2.0.2 in /opt/conda/lib/python3.9/site-packages (from packaging>=21.3->statsmodels>=0.9.0->category_encoders) (2.4.7)\n"
     ]
    }
   ],
   "source": [
    "!pip install --upgrade scikit-learn\n",
    "!pip install category_encoders\n",
    "\n"
   ]
  },
  {
   "cell_type": "code",
   "execution_count": 2,
   "metadata": {},
   "outputs": [
    {
     "name": "stdout",
     "output_type": "stream",
     "text": [
      "Requirement already satisfied: phik in /opt/conda/lib/python3.9/site-packages (0.12.4)\r\n",
      "Requirement already satisfied: scipy>=1.5.2 in /opt/conda/lib/python3.9/site-packages (from phik) (1.9.1)\r\n",
      "Requirement already satisfied: matplotlib>=2.2.3 in /opt/conda/lib/python3.9/site-packages (from phik) (3.3.4)\r\n",
      "Requirement already satisfied: pandas>=0.25.1 in /opt/conda/lib/python3.9/site-packages (from phik) (1.2.4)\r\n",
      "Requirement already satisfied: numpy>=1.18.0 in /opt/conda/lib/python3.9/site-packages (from phik) (1.21.1)\r\n",
      "Requirement already satisfied: joblib>=0.14.1 in /opt/conda/lib/python3.9/site-packages (from phik) (1.4.2)\r\n",
      "Requirement already satisfied: python-dateutil>=2.1 in /opt/conda/lib/python3.9/site-packages (from matplotlib>=2.2.3->phik) (2.8.1)\r\n",
      "Requirement already satisfied: kiwisolver>=1.0.1 in /opt/conda/lib/python3.9/site-packages (from matplotlib>=2.2.3->phik) (1.4.4)\r\n",
      "Requirement already satisfied: cycler>=0.10 in /opt/conda/lib/python3.9/site-packages (from matplotlib>=2.2.3->phik) (0.11.0)\r\n",
      "Requirement already satisfied: pyparsing!=2.0.4,!=2.1.2,!=2.1.6,>=2.0.3 in /opt/conda/lib/python3.9/site-packages (from matplotlib>=2.2.3->phik) (2.4.7)\r\n",
      "Requirement already satisfied: pillow>=6.2.0 in /opt/conda/lib/python3.9/site-packages (from matplotlib>=2.2.3->phik) (8.4.0)\r\n",
      "Requirement already satisfied: pytz>=2017.3 in /opt/conda/lib/python3.9/site-packages (from pandas>=0.25.1->phik) (2021.1)\r\n",
      "Requirement already satisfied: six>=1.5 in /opt/conda/lib/python3.9/site-packages (from python-dateutil>=2.1->matplotlib>=2.2.3->phik) (1.16.0)\r\n"
     ]
    }
   ],
   "source": [
    "!pip3 install phik"
   ]
  },
  {
   "cell_type": "markdown",
   "metadata": {},
   "source": [
    "# Подготовка данных"
   ]
  },
  {
   "cell_type": "code",
   "execution_count": 3,
   "metadata": {},
   "outputs": [],
   "source": [
    "# Импортируем библиотеки \n",
    "import os\n",
    "import time\n",
    "import warnings\n",
    "warnings.filterwarnings('ignore')\n",
    "import pandas as pd\n",
    "import numpy as np\n",
    "import matplotlib.pyplot as plt \n",
    "import seaborn as sns\n",
    "from lightgbm import LGBMRegressor\n",
    "from sklearn.pipeline import Pipeline, make_pipeline\n",
    "from category_encoders import TargetEncoder\n",
    "from sklearn.compose import ColumnTransformer\n",
    "from sklearn.preprocessing import StandardScaler, OrdinalEncoder, OneHotEncoder\n",
    "from sklearn.linear_model import LinearRegression, SGDRegressor\n",
    "from sklearn.metrics import mean_squared_error, mean_absolute_error, make_scorer, r2_score\n",
    "from sklearn.tree import DecisionTreeRegressor\n",
    "from catboost import CatBoostRegressor\n",
    "from tqdm.notebook import tqdm\n",
    "from sklearn.model_selection import(\n",
    "    GridSearchCV, \n",
    "    train_test_split,\n",
    "    StratifiedKFold,\n",
    "    KFold, \n",
    "    cross_val_score \n",
    ")\n",
    "STATE = 42\n",
    "SIZE = 0.25"
   ]
  },
  {
   "cell_type": "markdown",
   "metadata": {},
   "source": [
    "<div class=\"alert alert-block alert-success\">\n",
    "<b>Успех:</b> Импорты  на месте\n",
    "</div>\n"
   ]
  },
  {
   "cell_type": "code",
   "execution_count": 4,
   "metadata": {
    "scrolled": true
   },
   "outputs": [
    {
     "data": {
      "text/html": [
       "<div>\n",
       "<style scoped>\n",
       "    .dataframe tbody tr th:only-of-type {\n",
       "        vertical-align: middle;\n",
       "    }\n",
       "\n",
       "    .dataframe tbody tr th {\n",
       "        vertical-align: top;\n",
       "    }\n",
       "\n",
       "    .dataframe thead th {\n",
       "        text-align: right;\n",
       "    }\n",
       "</style>\n",
       "<table border=\"1\" class=\"dataframe\">\n",
       "  <thead>\n",
       "    <tr style=\"text-align: right;\">\n",
       "      <th></th>\n",
       "      <th>DateCrawled</th>\n",
       "      <th>Price</th>\n",
       "      <th>VehicleType</th>\n",
       "      <th>RegistrationYear</th>\n",
       "      <th>Gearbox</th>\n",
       "      <th>Power</th>\n",
       "      <th>Model</th>\n",
       "      <th>Kilometer</th>\n",
       "      <th>RegistrationMonth</th>\n",
       "      <th>FuelType</th>\n",
       "      <th>Brand</th>\n",
       "      <th>Repaired</th>\n",
       "      <th>DateCreated</th>\n",
       "      <th>NumberOfPictures</th>\n",
       "      <th>PostalCode</th>\n",
       "      <th>LastSeen</th>\n",
       "    </tr>\n",
       "  </thead>\n",
       "  <tbody>\n",
       "    <tr>\n",
       "      <th>0</th>\n",
       "      <td>2016-03-24 11:52:17</td>\n",
       "      <td>480</td>\n",
       "      <td>NaN</td>\n",
       "      <td>1993</td>\n",
       "      <td>manual</td>\n",
       "      <td>0</td>\n",
       "      <td>golf</td>\n",
       "      <td>150000</td>\n",
       "      <td>0</td>\n",
       "      <td>petrol</td>\n",
       "      <td>volkswagen</td>\n",
       "      <td>NaN</td>\n",
       "      <td>2016-03-24 00:00:00</td>\n",
       "      <td>0</td>\n",
       "      <td>70435</td>\n",
       "      <td>2016-04-07 03:16:57</td>\n",
       "    </tr>\n",
       "    <tr>\n",
       "      <th>1</th>\n",
       "      <td>2016-03-24 10:58:45</td>\n",
       "      <td>18300</td>\n",
       "      <td>coupe</td>\n",
       "      <td>2011</td>\n",
       "      <td>manual</td>\n",
       "      <td>190</td>\n",
       "      <td>NaN</td>\n",
       "      <td>125000</td>\n",
       "      <td>5</td>\n",
       "      <td>gasoline</td>\n",
       "      <td>audi</td>\n",
       "      <td>yes</td>\n",
       "      <td>2016-03-24 00:00:00</td>\n",
       "      <td>0</td>\n",
       "      <td>66954</td>\n",
       "      <td>2016-04-07 01:46:50</td>\n",
       "    </tr>\n",
       "    <tr>\n",
       "      <th>2</th>\n",
       "      <td>2016-03-14 12:52:21</td>\n",
       "      <td>9800</td>\n",
       "      <td>suv</td>\n",
       "      <td>2004</td>\n",
       "      <td>auto</td>\n",
       "      <td>163</td>\n",
       "      <td>grand</td>\n",
       "      <td>125000</td>\n",
       "      <td>8</td>\n",
       "      <td>gasoline</td>\n",
       "      <td>jeep</td>\n",
       "      <td>NaN</td>\n",
       "      <td>2016-03-14 00:00:00</td>\n",
       "      <td>0</td>\n",
       "      <td>90480</td>\n",
       "      <td>2016-04-05 12:47:46</td>\n",
       "    </tr>\n",
       "    <tr>\n",
       "      <th>3</th>\n",
       "      <td>2016-03-17 16:54:04</td>\n",
       "      <td>1500</td>\n",
       "      <td>small</td>\n",
       "      <td>2001</td>\n",
       "      <td>manual</td>\n",
       "      <td>75</td>\n",
       "      <td>golf</td>\n",
       "      <td>150000</td>\n",
       "      <td>6</td>\n",
       "      <td>petrol</td>\n",
       "      <td>volkswagen</td>\n",
       "      <td>no</td>\n",
       "      <td>2016-03-17 00:00:00</td>\n",
       "      <td>0</td>\n",
       "      <td>91074</td>\n",
       "      <td>2016-03-17 17:40:17</td>\n",
       "    </tr>\n",
       "    <tr>\n",
       "      <th>4</th>\n",
       "      <td>2016-03-31 17:25:20</td>\n",
       "      <td>3600</td>\n",
       "      <td>small</td>\n",
       "      <td>2008</td>\n",
       "      <td>manual</td>\n",
       "      <td>69</td>\n",
       "      <td>fabia</td>\n",
       "      <td>90000</td>\n",
       "      <td>7</td>\n",
       "      <td>gasoline</td>\n",
       "      <td>skoda</td>\n",
       "      <td>no</td>\n",
       "      <td>2016-03-31 00:00:00</td>\n",
       "      <td>0</td>\n",
       "      <td>60437</td>\n",
       "      <td>2016-04-06 10:17:21</td>\n",
       "    </tr>\n",
       "  </tbody>\n",
       "</table>\n",
       "</div>"
      ],
      "text/plain": [
       "           DateCrawled  Price VehicleType  RegistrationYear Gearbox  Power  \\\n",
       "0  2016-03-24 11:52:17    480         NaN              1993  manual      0   \n",
       "1  2016-03-24 10:58:45  18300       coupe              2011  manual    190   \n",
       "2  2016-03-14 12:52:21   9800         suv              2004    auto    163   \n",
       "3  2016-03-17 16:54:04   1500       small              2001  manual     75   \n",
       "4  2016-03-31 17:25:20   3600       small              2008  manual     69   \n",
       "\n",
       "   Model  Kilometer  RegistrationMonth  FuelType       Brand Repaired  \\\n",
       "0   golf     150000                  0    petrol  volkswagen      NaN   \n",
       "1    NaN     125000                  5  gasoline        audi      yes   \n",
       "2  grand     125000                  8  gasoline        jeep      NaN   \n",
       "3   golf     150000                  6    petrol  volkswagen       no   \n",
       "4  fabia      90000                  7  gasoline       skoda       no   \n",
       "\n",
       "           DateCreated  NumberOfPictures  PostalCode             LastSeen  \n",
       "0  2016-03-24 00:00:00                 0       70435  2016-04-07 03:16:57  \n",
       "1  2016-03-24 00:00:00                 0       66954  2016-04-07 01:46:50  \n",
       "2  2016-03-14 00:00:00                 0       90480  2016-04-05 12:47:46  \n",
       "3  2016-03-17 00:00:00                 0       91074  2016-03-17 17:40:17  \n",
       "4  2016-03-31 00:00:00                 0       60437  2016-04-06 10:17:21  "
      ]
     },
     "metadata": {},
     "output_type": "display_data"
    }
   ],
   "source": [
    "# Загрузка данных\n",
    "dataset_dir = '/datasets'\n",
    "file_name = 'autos.csv'\n",
    "file_path = os.path.join(dataset_dir, file_name)\n",
    "dataset_name = 'data'\n",
    "if os.path.exists(file_path):\n",
    "    data = pd.read_csv(file_path)\n",
    "    display(data.head())\n",
    "else:\n",
    "    print(f\"Файл {file_path} не найден\")\n"
   ]
  },
  {
   "cell_type": "code",
   "execution_count": 5,
   "metadata": {
    "scrolled": false
   },
   "outputs": [
    {
     "name": "stdout",
     "output_type": "stream",
     "text": [
      "<class 'pandas.core.frame.DataFrame'>\n",
      "RangeIndex: 354369 entries, 0 to 354368\n",
      "Data columns (total 16 columns):\n",
      " #   Column             Non-Null Count   Dtype \n",
      "---  ------             --------------   ----- \n",
      " 0   DateCrawled        354369 non-null  object\n",
      " 1   Price              354369 non-null  int64 \n",
      " 2   VehicleType        316879 non-null  object\n",
      " 3   RegistrationYear   354369 non-null  int64 \n",
      " 4   Gearbox            334536 non-null  object\n",
      " 5   Power              354369 non-null  int64 \n",
      " 6   Model              334664 non-null  object\n",
      " 7   Kilometer          354369 non-null  int64 \n",
      " 8   RegistrationMonth  354369 non-null  int64 \n",
      " 9   FuelType           321474 non-null  object\n",
      " 10  Brand              354369 non-null  object\n",
      " 11  Repaired           283215 non-null  object\n",
      " 12  DateCreated        354369 non-null  object\n",
      " 13  NumberOfPictures   354369 non-null  int64 \n",
      " 14  PostalCode         354369 non-null  int64 \n",
      " 15  LastSeen           354369 non-null  object\n",
      "dtypes: int64(7), object(9)\n",
      "memory usage: 43.3+ MB\n"
     ]
    }
   ],
   "source": [
    "data.info()"
   ]
  },
  {
   "cell_type": "code",
   "execution_count": 6,
   "metadata": {},
   "outputs": [
    {
     "data": {
      "text/html": [
       "<div>\n",
       "<style scoped>\n",
       "    .dataframe tbody tr th:only-of-type {\n",
       "        vertical-align: middle;\n",
       "    }\n",
       "\n",
       "    .dataframe tbody tr th {\n",
       "        vertical-align: top;\n",
       "    }\n",
       "\n",
       "    .dataframe thead th {\n",
       "        text-align: right;\n",
       "    }\n",
       "</style>\n",
       "<table border=\"1\" class=\"dataframe\">\n",
       "  <thead>\n",
       "    <tr style=\"text-align: right;\">\n",
       "      <th></th>\n",
       "      <th>Price</th>\n",
       "      <th>RegistrationYear</th>\n",
       "      <th>Power</th>\n",
       "      <th>Kilometer</th>\n",
       "      <th>RegistrationMonth</th>\n",
       "      <th>NumberOfPictures</th>\n",
       "      <th>PostalCode</th>\n",
       "    </tr>\n",
       "  </thead>\n",
       "  <tbody>\n",
       "    <tr>\n",
       "      <th>count</th>\n",
       "      <td>354369.000000</td>\n",
       "      <td>354369.000000</td>\n",
       "      <td>354369.000000</td>\n",
       "      <td>354369.000000</td>\n",
       "      <td>354369.000000</td>\n",
       "      <td>354369.0</td>\n",
       "      <td>354369.000000</td>\n",
       "    </tr>\n",
       "    <tr>\n",
       "      <th>mean</th>\n",
       "      <td>4416.656776</td>\n",
       "      <td>2004.234448</td>\n",
       "      <td>110.094337</td>\n",
       "      <td>128211.172535</td>\n",
       "      <td>5.714645</td>\n",
       "      <td>0.0</td>\n",
       "      <td>50508.689087</td>\n",
       "    </tr>\n",
       "    <tr>\n",
       "      <th>std</th>\n",
       "      <td>4514.158514</td>\n",
       "      <td>90.227958</td>\n",
       "      <td>189.850405</td>\n",
       "      <td>37905.341530</td>\n",
       "      <td>3.726421</td>\n",
       "      <td>0.0</td>\n",
       "      <td>25783.096248</td>\n",
       "    </tr>\n",
       "    <tr>\n",
       "      <th>min</th>\n",
       "      <td>0.000000</td>\n",
       "      <td>1000.000000</td>\n",
       "      <td>0.000000</td>\n",
       "      <td>5000.000000</td>\n",
       "      <td>0.000000</td>\n",
       "      <td>0.0</td>\n",
       "      <td>1067.000000</td>\n",
       "    </tr>\n",
       "    <tr>\n",
       "      <th>25%</th>\n",
       "      <td>1050.000000</td>\n",
       "      <td>1999.000000</td>\n",
       "      <td>69.000000</td>\n",
       "      <td>125000.000000</td>\n",
       "      <td>3.000000</td>\n",
       "      <td>0.0</td>\n",
       "      <td>30165.000000</td>\n",
       "    </tr>\n",
       "    <tr>\n",
       "      <th>50%</th>\n",
       "      <td>2700.000000</td>\n",
       "      <td>2003.000000</td>\n",
       "      <td>105.000000</td>\n",
       "      <td>150000.000000</td>\n",
       "      <td>6.000000</td>\n",
       "      <td>0.0</td>\n",
       "      <td>49413.000000</td>\n",
       "    </tr>\n",
       "    <tr>\n",
       "      <th>75%</th>\n",
       "      <td>6400.000000</td>\n",
       "      <td>2008.000000</td>\n",
       "      <td>143.000000</td>\n",
       "      <td>150000.000000</td>\n",
       "      <td>9.000000</td>\n",
       "      <td>0.0</td>\n",
       "      <td>71083.000000</td>\n",
       "    </tr>\n",
       "    <tr>\n",
       "      <th>max</th>\n",
       "      <td>20000.000000</td>\n",
       "      <td>9999.000000</td>\n",
       "      <td>20000.000000</td>\n",
       "      <td>150000.000000</td>\n",
       "      <td>12.000000</td>\n",
       "      <td>0.0</td>\n",
       "      <td>99998.000000</td>\n",
       "    </tr>\n",
       "  </tbody>\n",
       "</table>\n",
       "</div>"
      ],
      "text/plain": [
       "               Price  RegistrationYear          Power      Kilometer  \\\n",
       "count  354369.000000     354369.000000  354369.000000  354369.000000   \n",
       "mean     4416.656776       2004.234448     110.094337  128211.172535   \n",
       "std      4514.158514         90.227958     189.850405   37905.341530   \n",
       "min         0.000000       1000.000000       0.000000    5000.000000   \n",
       "25%      1050.000000       1999.000000      69.000000  125000.000000   \n",
       "50%      2700.000000       2003.000000     105.000000  150000.000000   \n",
       "75%      6400.000000       2008.000000     143.000000  150000.000000   \n",
       "max     20000.000000       9999.000000   20000.000000  150000.000000   \n",
       "\n",
       "       RegistrationMonth  NumberOfPictures     PostalCode  \n",
       "count      354369.000000          354369.0  354369.000000  \n",
       "mean            5.714645               0.0   50508.689087  \n",
       "std             3.726421               0.0   25783.096248  \n",
       "min             0.000000               0.0    1067.000000  \n",
       "25%             3.000000               0.0   30165.000000  \n",
       "50%             6.000000               0.0   49413.000000  \n",
       "75%             9.000000               0.0   71083.000000  \n",
       "max            12.000000               0.0   99998.000000  "
      ]
     },
     "execution_count": 6,
     "metadata": {},
     "output_type": "execute_result"
    }
   ],
   "source": [
    "data.describe()"
   ]
  },
  {
   "cell_type": "code",
   "execution_count": 7,
   "metadata": {},
   "outputs": [
    {
     "data": {
      "text/html": [
       "<div>\n",
       "<style scoped>\n",
       "    .dataframe tbody tr th:only-of-type {\n",
       "        vertical-align: middle;\n",
       "    }\n",
       "\n",
       "    .dataframe tbody tr th {\n",
       "        vertical-align: top;\n",
       "    }\n",
       "\n",
       "    .dataframe thead th {\n",
       "        text-align: right;\n",
       "    }\n",
       "</style>\n",
       "<table border=\"1\" class=\"dataframe\">\n",
       "  <thead>\n",
       "    <tr style=\"text-align: right;\">\n",
       "      <th></th>\n",
       "      <th>DateCrawled</th>\n",
       "      <th>Price</th>\n",
       "      <th>VehicleType</th>\n",
       "      <th>RegistrationYear</th>\n",
       "      <th>Gearbox</th>\n",
       "      <th>Power</th>\n",
       "      <th>Model</th>\n",
       "      <th>Kilometer</th>\n",
       "      <th>RegistrationMonth</th>\n",
       "      <th>FuelType</th>\n",
       "      <th>Brand</th>\n",
       "      <th>Repaired</th>\n",
       "      <th>DateCreated</th>\n",
       "      <th>NumberOfPictures</th>\n",
       "      <th>PostalCode</th>\n",
       "      <th>LastSeen</th>\n",
       "    </tr>\n",
       "  </thead>\n",
       "  <tbody>\n",
       "    <tr>\n",
       "      <th>41529</th>\n",
       "      <td>2016-03-18 18:46:15</td>\n",
       "      <td>1999</td>\n",
       "      <td>wagon</td>\n",
       "      <td>2001</td>\n",
       "      <td>manual</td>\n",
       "      <td>131</td>\n",
       "      <td>passat</td>\n",
       "      <td>150000</td>\n",
       "      <td>7</td>\n",
       "      <td>gasoline</td>\n",
       "      <td>volkswagen</td>\n",
       "      <td>no</td>\n",
       "      <td>2016-03-18 00:00:00</td>\n",
       "      <td>0</td>\n",
       "      <td>36391</td>\n",
       "      <td>2016-03-18 18:46:15</td>\n",
       "    </tr>\n",
       "    <tr>\n",
       "      <th>88087</th>\n",
       "      <td>2016-03-08 18:42:48</td>\n",
       "      <td>1799</td>\n",
       "      <td>coupe</td>\n",
       "      <td>1999</td>\n",
       "      <td>auto</td>\n",
       "      <td>193</td>\n",
       "      <td>clk</td>\n",
       "      <td>20000</td>\n",
       "      <td>7</td>\n",
       "      <td>petrol</td>\n",
       "      <td>mercedes_benz</td>\n",
       "      <td>no</td>\n",
       "      <td>2016-03-08 00:00:00</td>\n",
       "      <td>0</td>\n",
       "      <td>89518</td>\n",
       "      <td>2016-03-09 09:46:57</td>\n",
       "    </tr>\n",
       "    <tr>\n",
       "      <th>90964</th>\n",
       "      <td>2016-03-28 00:56:10</td>\n",
       "      <td>1000</td>\n",
       "      <td>small</td>\n",
       "      <td>2002</td>\n",
       "      <td>manual</td>\n",
       "      <td>83</td>\n",
       "      <td>other</td>\n",
       "      <td>150000</td>\n",
       "      <td>1</td>\n",
       "      <td>petrol</td>\n",
       "      <td>suzuki</td>\n",
       "      <td>no</td>\n",
       "      <td>2016-03-28 00:00:00</td>\n",
       "      <td>0</td>\n",
       "      <td>66589</td>\n",
       "      <td>2016-03-28 08:46:21</td>\n",
       "    </tr>\n",
       "    <tr>\n",
       "      <th>171088</th>\n",
       "      <td>2016-03-08 18:42:48</td>\n",
       "      <td>1799</td>\n",
       "      <td>coupe</td>\n",
       "      <td>1999</td>\n",
       "      <td>auto</td>\n",
       "      <td>193</td>\n",
       "      <td>clk</td>\n",
       "      <td>20000</td>\n",
       "      <td>7</td>\n",
       "      <td>petrol</td>\n",
       "      <td>mercedes_benz</td>\n",
       "      <td>no</td>\n",
       "      <td>2016-03-08 00:00:00</td>\n",
       "      <td>0</td>\n",
       "      <td>89518</td>\n",
       "      <td>2016-03-09 09:46:57</td>\n",
       "    </tr>\n",
       "    <tr>\n",
       "      <th>187735</th>\n",
       "      <td>2016-04-03 09:01:15</td>\n",
       "      <td>4699</td>\n",
       "      <td>coupe</td>\n",
       "      <td>2003</td>\n",
       "      <td>auto</td>\n",
       "      <td>218</td>\n",
       "      <td>clk</td>\n",
       "      <td>125000</td>\n",
       "      <td>6</td>\n",
       "      <td>petrol</td>\n",
       "      <td>mercedes_benz</td>\n",
       "      <td>yes</td>\n",
       "      <td>2016-04-03 00:00:00</td>\n",
       "      <td>0</td>\n",
       "      <td>75196</td>\n",
       "      <td>2016-04-07 09:44:54</td>\n",
       "    </tr>\n",
       "    <tr>\n",
       "      <th>231258</th>\n",
       "      <td>2016-03-28 00:56:10</td>\n",
       "      <td>1000</td>\n",
       "      <td>small</td>\n",
       "      <td>2002</td>\n",
       "      <td>manual</td>\n",
       "      <td>83</td>\n",
       "      <td>other</td>\n",
       "      <td>150000</td>\n",
       "      <td>1</td>\n",
       "      <td>petrol</td>\n",
       "      <td>suzuki</td>\n",
       "      <td>no</td>\n",
       "      <td>2016-03-28 00:00:00</td>\n",
       "      <td>0</td>\n",
       "      <td>66589</td>\n",
       "      <td>2016-03-28 08:46:21</td>\n",
       "    </tr>\n",
       "    <tr>\n",
       "      <th>258109</th>\n",
       "      <td>2016-04-03 09:01:15</td>\n",
       "      <td>4699</td>\n",
       "      <td>coupe</td>\n",
       "      <td>2003</td>\n",
       "      <td>auto</td>\n",
       "      <td>218</td>\n",
       "      <td>clk</td>\n",
       "      <td>125000</td>\n",
       "      <td>6</td>\n",
       "      <td>petrol</td>\n",
       "      <td>mercedes_benz</td>\n",
       "      <td>yes</td>\n",
       "      <td>2016-04-03 00:00:00</td>\n",
       "      <td>0</td>\n",
       "      <td>75196</td>\n",
       "      <td>2016-04-07 09:44:54</td>\n",
       "    </tr>\n",
       "    <tr>\n",
       "      <th>325651</th>\n",
       "      <td>2016-03-18 18:46:15</td>\n",
       "      <td>1999</td>\n",
       "      <td>wagon</td>\n",
       "      <td>2001</td>\n",
       "      <td>manual</td>\n",
       "      <td>131</td>\n",
       "      <td>passat</td>\n",
       "      <td>150000</td>\n",
       "      <td>7</td>\n",
       "      <td>gasoline</td>\n",
       "      <td>volkswagen</td>\n",
       "      <td>no</td>\n",
       "      <td>2016-03-18 00:00:00</td>\n",
       "      <td>0</td>\n",
       "      <td>36391</td>\n",
       "      <td>2016-03-18 18:46:15</td>\n",
       "    </tr>\n",
       "  </tbody>\n",
       "</table>\n",
       "</div>"
      ],
      "text/plain": [
       "                DateCrawled  Price VehicleType  RegistrationYear Gearbox  \\\n",
       "41529   2016-03-18 18:46:15   1999       wagon              2001  manual   \n",
       "88087   2016-03-08 18:42:48   1799       coupe              1999    auto   \n",
       "90964   2016-03-28 00:56:10   1000       small              2002  manual   \n",
       "171088  2016-03-08 18:42:48   1799       coupe              1999    auto   \n",
       "187735  2016-04-03 09:01:15   4699       coupe              2003    auto   \n",
       "231258  2016-03-28 00:56:10   1000       small              2002  manual   \n",
       "258109  2016-04-03 09:01:15   4699       coupe              2003    auto   \n",
       "325651  2016-03-18 18:46:15   1999       wagon              2001  manual   \n",
       "\n",
       "        Power   Model  Kilometer  RegistrationMonth  FuelType          Brand  \\\n",
       "41529     131  passat     150000                  7  gasoline     volkswagen   \n",
       "88087     193     clk      20000                  7    petrol  mercedes_benz   \n",
       "90964      83   other     150000                  1    petrol         suzuki   \n",
       "171088    193     clk      20000                  7    petrol  mercedes_benz   \n",
       "187735    218     clk     125000                  6    petrol  mercedes_benz   \n",
       "231258     83   other     150000                  1    petrol         suzuki   \n",
       "258109    218     clk     125000                  6    petrol  mercedes_benz   \n",
       "325651    131  passat     150000                  7  gasoline     volkswagen   \n",
       "\n",
       "       Repaired          DateCreated  NumberOfPictures  PostalCode  \\\n",
       "41529        no  2016-03-18 00:00:00                 0       36391   \n",
       "88087        no  2016-03-08 00:00:00                 0       89518   \n",
       "90964        no  2016-03-28 00:00:00                 0       66589   \n",
       "171088       no  2016-03-08 00:00:00                 0       89518   \n",
       "187735      yes  2016-04-03 00:00:00                 0       75196   \n",
       "231258       no  2016-03-28 00:00:00                 0       66589   \n",
       "258109      yes  2016-04-03 00:00:00                 0       75196   \n",
       "325651       no  2016-03-18 00:00:00                 0       36391   \n",
       "\n",
       "                   LastSeen  \n",
       "41529   2016-03-18 18:46:15  \n",
       "88087   2016-03-09 09:46:57  \n",
       "90964   2016-03-28 08:46:21  \n",
       "171088  2016-03-09 09:46:57  \n",
       "187735  2016-04-07 09:44:54  \n",
       "231258  2016-03-28 08:46:21  \n",
       "258109  2016-04-07 09:44:54  \n",
       "325651  2016-03-18 18:46:15  "
      ]
     },
     "execution_count": 7,
     "metadata": {},
     "output_type": "execute_result"
    }
   ],
   "source": [
    "data[data.duplicated(keep=False)]"
   ]
  },
  {
   "cell_type": "code",
   "execution_count": 8,
   "metadata": {},
   "outputs": [],
   "source": [
    "data = data.drop_duplicates().reset_index(drop=True)\n"
   ]
  },
  {
   "cell_type": "code",
   "execution_count": 9,
   "metadata": {},
   "outputs": [
    {
     "data": {
      "image/png": "[encoded data removed]",
      "text/plain": [
       "<Figure size 1152x864 with 7 Axes>"
      ]
     },
     "metadata": {
      "needs_background": "light"
     },
     "output_type": "display_data"
    },
    {
     "data": {
      "text/html": [
       "<div>\n",
       "<style scoped>\n",
       "    .dataframe tbody tr th:only-of-type {\n",
       "        vertical-align: middle;\n",
       "    }\n",
       "\n",
       "    .dataframe tbody tr th {\n",
       "        vertical-align: top;\n",
       "    }\n",
       "\n",
       "    .dataframe thead th {\n",
       "        text-align: right;\n",
       "    }\n",
       "</style>\n",
       "<table border=\"1\" class=\"dataframe\">\n",
       "  <thead>\n",
       "    <tr style=\"text-align: right;\">\n",
       "      <th></th>\n",
       "      <th>Price</th>\n",
       "      <th>RegistrationYear</th>\n",
       "      <th>Power</th>\n",
       "      <th>Kilometer</th>\n",
       "      <th>RegistrationMonth</th>\n",
       "      <th>NumberOfPictures</th>\n",
       "      <th>PostalCode</th>\n",
       "    </tr>\n",
       "  </thead>\n",
       "  <tbody>\n",
       "    <tr>\n",
       "      <th>count</th>\n",
       "      <td>354365.000000</td>\n",
       "      <td>354365.000000</td>\n",
       "      <td>354365.000000</td>\n",
       "      <td>354365.000000</td>\n",
       "      <td>354365.000000</td>\n",
       "      <td>354365.0</td>\n",
       "      <td>354365.000000</td>\n",
       "    </tr>\n",
       "    <tr>\n",
       "      <th>mean</th>\n",
       "      <td>4416.679830</td>\n",
       "      <td>2004.234481</td>\n",
       "      <td>110.093816</td>\n",
       "      <td>128211.363989</td>\n",
       "      <td>5.714650</td>\n",
       "      <td>0.0</td>\n",
       "      <td>50508.503800</td>\n",
       "    </tr>\n",
       "    <tr>\n",
       "      <th>std</th>\n",
       "      <td>4514.176349</td>\n",
       "      <td>90.228466</td>\n",
       "      <td>189.851330</td>\n",
       "      <td>37905.083858</td>\n",
       "      <td>3.726432</td>\n",
       "      <td>0.0</td>\n",
       "      <td>25783.100078</td>\n",
       "    </tr>\n",
       "    <tr>\n",
       "      <th>min</th>\n",
       "      <td>0.000000</td>\n",
       "      <td>1000.000000</td>\n",
       "      <td>0.000000</td>\n",
       "      <td>5000.000000</td>\n",
       "      <td>0.000000</td>\n",
       "      <td>0.0</td>\n",
       "      <td>1067.000000</td>\n",
       "    </tr>\n",
       "    <tr>\n",
       "      <th>25%</th>\n",
       "      <td>1050.000000</td>\n",
       "      <td>1999.000000</td>\n",
       "      <td>69.000000</td>\n",
       "      <td>125000.000000</td>\n",
       "      <td>3.000000</td>\n",
       "      <td>0.0</td>\n",
       "      <td>30165.000000</td>\n",
       "    </tr>\n",
       "    <tr>\n",
       "      <th>50%</th>\n",
       "      <td>2700.000000</td>\n",
       "      <td>2003.000000</td>\n",
       "      <td>105.000000</td>\n",
       "      <td>150000.000000</td>\n",
       "      <td>6.000000</td>\n",
       "      <td>0.0</td>\n",
       "      <td>49413.000000</td>\n",
       "    </tr>\n",
       "    <tr>\n",
       "      <th>75%</th>\n",
       "      <td>6400.000000</td>\n",
       "      <td>2008.000000</td>\n",
       "      <td>143.000000</td>\n",
       "      <td>150000.000000</td>\n",
       "      <td>9.000000</td>\n",
       "      <td>0.0</td>\n",
       "      <td>71083.000000</td>\n",
       "    </tr>\n",
       "    <tr>\n",
       "      <th>max</th>\n",
       "      <td>20000.000000</td>\n",
       "      <td>9999.000000</td>\n",
       "      <td>20000.000000</td>\n",
       "      <td>150000.000000</td>\n",
       "      <td>12.000000</td>\n",
       "      <td>0.0</td>\n",
       "      <td>99998.000000</td>\n",
       "    </tr>\n",
       "  </tbody>\n",
       "</table>\n",
       "</div>"
      ],
      "text/plain": [
       "               Price  RegistrationYear          Power      Kilometer  \\\n",
       "count  354365.000000     354365.000000  354365.000000  354365.000000   \n",
       "mean     4416.679830       2004.234481     110.093816  128211.363989   \n",
       "std      4514.176349         90.228466     189.851330   37905.083858   \n",
       "min         0.000000       1000.000000       0.000000    5000.000000   \n",
       "25%      1050.000000       1999.000000      69.000000  125000.000000   \n",
       "50%      2700.000000       2003.000000     105.000000  150000.000000   \n",
       "75%      6400.000000       2008.000000     143.000000  150000.000000   \n",
       "max     20000.000000       9999.000000   20000.000000  150000.000000   \n",
       "\n",
       "       RegistrationMonth  NumberOfPictures     PostalCode  \n",
       "count      354365.000000          354365.0  354365.000000  \n",
       "mean            5.714650               0.0   50508.503800  \n",
       "std             3.726432               0.0   25783.100078  \n",
       "min             0.000000               0.0    1067.000000  \n",
       "25%             3.000000               0.0   30165.000000  \n",
       "50%             6.000000               0.0   49413.000000  \n",
       "75%             9.000000               0.0   71083.000000  \n",
       "max            12.000000               0.0   99998.000000  "
      ]
     },
     "execution_count": 9,
     "metadata": {},
     "output_type": "execute_result"
    }
   ],
   "source": [
    "# Анализ и визуализация\n",
    "plt.figure(figsize=(16, 12))\n",
    "plt.subplots_adjust(wspace=0.4, hspace=0.6)\n",
    "\n",
    "numeric_columns = data.select_dtypes(include=['int64', 'float64']).columns\n",
    "\n",
    "for i, col in enumerate(numeric_columns, 1):\n",
    "    plt.subplot(3, 3, i)  \n",
    "    sns.histplot(data[col], bins=50, kde=True)\n",
    "    plt.title(f'Распределение {col}')\n",
    "    plt.xlabel(col)\n",
    "    plt.ylabel('Частота')\n",
    "\n",
    "plt.show()\n",
    "\n",
    "data.describe()"
   ]
  },
  {
   "cell_type": "code",
   "execution_count": 10,
   "metadata": {},
   "outputs": [
    {
     "name": "stdout",
     "output_type": "stream",
     "text": [
      "Всего объектов: 354365\n",
      "\n",
      "Количество объектов с пропусками в признаках:\n",
      "\n",
      "Repaired (object)\t= 71154 (20.08%)\n",
      "VehicleType (object)\t= 37490 (10.58%)\n",
      "FuelType (object)\t= 32895 (9.28%)\n",
      "Gearbox (object)\t= 19833 (5.60%)\n",
      "Model (object)\t= 19705 (5.56%)\n"
     ]
    }
   ],
   "source": [
    "# Подсчет пропусков и их процентное соотношение\n",
    "data_shape = data.shape[0]\n",
    "print(f'Всего объектов: {data_shape}\\n')\n",
    "\n",
    "print('Количество объектов с пропусками в признаках:\\n')\n",
    "\n",
    "missing_info = []\n",
    "\n",
    "for col in data.columns:\n",
    "    missing_count = data[col].isnull().sum()\n",
    "    \n",
    "    if missing_count > 0:\n",
    "        missing_percent = (missing_count / data_shape) * 100\n",
    "        col_type = data[col].dtype\n",
    "        missing_info.append((col, col_type, missing_count, missing_percent))\n",
    "\n",
    "missing_info.sort(key=lambda x: x[2], reverse=True)\n",
    "\n",
    "# Выводим информацию о пропусках\n",
    "for col, col_type, count, percent in missing_info:\n",
    "    print(f'{col} ({col_type})\\t= {count} ({percent:.2f}%)')\n"
   ]
  },
  {
   "cell_type": "code",
   "execution_count": 11,
   "metadata": {},
   "outputs": [
    {
     "name": "stdout",
     "output_type": "stream",
     "text": [
      "Уникальные значения атрибута 'RegistrationYear':\n",
      "[1000 1001 1039 1111 1200 1234 1253 1255 1300 1400 1500 1600 1602 1688\n",
      " 1800 1910 1915 1919 1920 1923 1925 1927 1928 1929 1930 1931 1932 1933\n",
      " 1934 1935 1936 1937 1938 1940 1941 1942 1943 1944 1945 1946 1947 1948\n",
      " 1949 1950 1951 1952 1953 1954 1955 1956 1957 1958 1959 1960 1961 1962\n",
      " 1963 1964 1965 1966 1967 1968 1969 1970 1971 1972 1973 1974 1975 1976\n",
      " 1977 1978 1979 1980 1981 1982 1983 1984 1985 1986 1987 1988 1989 1990\n",
      " 1991 1992 1993 1994 1995 1996 1997 1998 1999 2000 2001 2002 2003 2004\n",
      " 2005 2006 2007 2008 2009 2010 2011 2012 2013 2014 2015 2016 2017 2018\n",
      " 2019 2066 2200 2222 2290 2500 2800 2900 3000 3200 3500 3700 3800 4000\n",
      " 4100 4500 4800 5000 5300 5555 5600 5900 5911 6000 6500 7000 7100 7500\n",
      " 7800 8000 8200 8455 8500 8888 9000 9229 9450 9996 9999]\n",
      "\n",
      "Всего уникальных значений: 151\n"
     ]
    }
   ],
   "source": [
    "# Смотрим на уникальные значения в столбце 'RegistrationYear'\n",
    "unique_years = data['RegistrationYear'].unique()\n",
    "\n",
    "# Сортируем значения для удобства анализа\n",
    "sorted_years = np.sort(unique_years)\n",
    "\n",
    "print(\"Уникальные значения атрибута 'RegistrationYear':\")\n",
    "print(sorted_years)\n",
    "print(f\"\\nВсего уникальных значений: {len(sorted_years)}\")\n"
   ]
  },
  {
   "cell_type": "code",
   "execution_count": 12,
   "metadata": {
    "scrolled": true
   },
   "outputs": [
    {
     "name": "stdout",
     "output_type": "stream",
     "text": [
      "Количество строк до очистки: 354365\n",
      "Количество строк после очистки: 354014\n",
      "Удалено строк: 351 (0.10%)\n",
      "\n",
      "Уникальные значения после фильтрации:\n",
      "[1950, 1951, 1952, 1953, 1954, 1955, 1956, 1957, 1958, 1959, 1960, 1961, 1962, 1963, 1964, 1965, 1966, 1967, 1968, 1969, 1970, 1971, 1972, 1973, 1974, 1975, 1976, 1977, 1978, 1979, 1980, 1981, 1982, 1983, 1984, 1985, 1986, 1987, 1988, 1989, 1990, 1991, 1992, 1993, 1994, 1995, 1996, 1997, 1998, 1999, 2000, 2001, 2002, 2003, 2004, 2005, 2006, 2007, 2008, 2009, 2010, 2011, 2012, 2013, 2014, 2015, 2016, 2017, 2018, 2019]\n"
     ]
    }
   ],
   "source": [
    "# Преобразуем дату выгрузки анкет в формат datetime\n",
    "data['DateCrawled'] = pd.to_datetime(data['DateCrawled'], format='%Y-%m-%dT%H:%M:%S')\n",
    "\n",
    "# Определяем максимальный год как максимум из фиксированного значения и даты выгрузки\n",
    "max_year_crawled = data['DateCrawled'].dt.year.max()\n",
    "max_year = max(2024, max_year_crawled)\n",
    "min_year = 1950\n",
    "\n",
    "# Считаем количество строк до очистки\n",
    "initial_count = data.shape[0]\n",
    "\n",
    "# Фильтруем строки с некорректными значениями года регистрации\n",
    "data = data[(data['RegistrationYear'] >= min_year) & (data['RegistrationYear'] <= max_year)]\n",
    "\n",
    "# Считаем количество строк после очистки\n",
    "final_count = data.shape[0]\n",
    "\n",
    "# Вывод результатов\n",
    "print(f\"Количество строк до очистки: {initial_count}\")\n",
    "print(f\"Количество строк после очистки: {final_count}\")\n",
    "print(f\"Удалено строк: {initial_count - final_count} ({(initial_count - final_count) / initial_count * 100:.2f}%)\")\n",
    "print(\"\\nУникальные значения после фильтрации:\")\n",
    "print(sorted(data['RegistrationYear'].unique()))\n",
    "\n"
   ]
  },
  {
   "cell_type": "markdown",
   "metadata": {},
   "source": [
    "\n",
    "<div class=\"alert alert-block alert-info\">\n",
    "<b>Совет:</b> Советую посмотреть на дату выгрузки анкет - там тоже можно увидеть полезную информацию по поводу границ года регистраци.\n",
    "</div>\n"
   ]
  },
  {
   "cell_type": "markdown",
   "metadata": {},
   "source": [
    "<div class=\"alert alert-block alert-warning\">\n",
    "<b>Комментарий студента:</b> Я посмотрел на список уникальных значений для года регистрации и на максимальную дату выгрузки анкет. Изначально я сделал точно также, но увидел что, хоть анкеты выгружались до 2016 года, в данных присутствуют автомобили с годом выпуска до 2019 года и это меня немного смутило.\n",
    "</div>"
   ]
  },
  {
   "cell_type": "markdown",
   "metadata": {},
   "source": [
    "<div class=\"alert alert-block alert-warning\">\n",
    "<b>Изменения:</b>  Внесены изменения в фильтрацию данных по году регистрации. Теперь верхняя граница определяется как максимум между фиксированным значением 2024 и максимальной датой из поля DateCrawled. Это позволяет учитывать как текущий фиксированный год, так и реальную дату выгрузки анкет, что делает фильтрацию более точной.\n",
    "</div>"
   ]
  },
  {
   "cell_type": "markdown",
   "metadata": {},
   "source": [
    "\n",
    "<div class=\"alert alert-block alert-info\">\n",
    "<b>Совет[2]:</b> Может имело смысл взять минимум, а не максимум?)"
   ]
  },
  {
   "cell_type": "markdown",
   "metadata": {},
   "source": [
    "**Современные автомобили: Обычно автомобили, выставленные на продажу, не старше 30-50 лет.\n",
    "Текущий год — 2024: Это значит, что максимальный допустимый год регистрации должен быть 2024.\n",
    "Минимальный год регистрации: Скорее всего, автомобили старше 1950-х годов крайне редко встречаются на рынке подержанных авто.**"
   ]
  },
  {
   "cell_type": "code",
   "execution_count": 13,
   "metadata": {},
   "outputs": [
    {
     "name": "stdout",
     "output_type": "stream",
     "text": [
      "Уникальные значения атрибута 'Power':\n",
      "[    0     1     2     3     4     5     6     7     8     9    10    11\n",
      "    12    13    14    15    16    17    18    19    20    21    22    23\n",
      "    24    25    26    27    28    29    30    31    32    33    34    35\n",
      "    36    37    38    39    40    41    42    43    44    45    46    47\n",
      "    48    49    50    51    52    53    54    55    56    57    58    59\n",
      "    60    61    62    63    64    65    66    67    68    69    70    71\n",
      "    72    73    74    75    76    77    78    79    80    81    82    83\n",
      "    84    85    86    87    88    89    90    91    92    93    94    95\n",
      "    96    97    98    99   100   101   102   103   104   105   106   107\n",
      "   108   109   110   111   112   113   114   115   116   117   118   119\n",
      "   120   121   122   123   124   125   126   127   128   129   130   131\n",
      "   132   133   134   135   136   137   138   139   140   141   142   143\n",
      "   144   145   146   147   148   149   150   151   152   153   154   155\n",
      "   156   157   158   159   160   161   162   163   164   165   166   167\n",
      "   168   169   170   171   172   173   174   175   176   177   178   179\n",
      "   180   181   182   183   184   185   186   187   188   189   190   191\n",
      "   192   193   194   195   196   197   198   199   200   201   202   203\n",
      "   204   205   206   207   208   209   210   211   212   213   214   215\n",
      "   216   217   218   219   220   221   222   223   224   225   226   227\n",
      "   228   229   230   231   232   233   234   235   236   237   238   239\n",
      "   240   241   242   243   244   245   246   247   248   249   250   251\n",
      "   252   253   254   255   256   257   258   259   260   261   262   264\n",
      "   265   266   267   268   269   270   271   272   273   274   275   276\n",
      "   277   278   279   280   281   282   283   284   285   286   287   288\n",
      "   289   290   292   293   294   295   296   297   298   299   300   301\n",
      "   303   304   305   306   307   308   309   310   311   313   314   315\n",
      "   316   317   318   320   321   322   323   324   325   326   327   328\n",
      "   329   330   331   332   333   334   335   336   337   338   339   340\n",
      "   341   343   344   345   346   347   348   349   350   351   352   353\n",
      "   354   355   356   357   358   360   361   362   363   364   365   367\n",
      "   368   370   371   374   375   376   377   379   380   381   382   385\n",
      "   386   387   388   390   392   394   396   398   399   400   401   402\n",
      "   405   408   409   411   416   420   421   425   426   428   430   431\n",
      "   435   440   442   445   449   450   454   457   459   460   475   476\n",
      "   485   487   489   490   500   504   505   507   508   510   514   515\n",
      "   517   519   520   521   525   530   540   541   544   550   551   553\n",
      "   560   572   574   579   580   584   585   599   600   601   602   603\n",
      "   604   606   607   610   612   620   640   645   650   651   671   678\n",
      "   682   685   696   700   702   703   732   743   750   751   754   771\n",
      "   776   800   805   808   850   851   871   900   901   902   903   907\n",
      "   909   923   950   952   953   960   998   999  1000  1001  1002  1003\n",
      "  1004  1005  1011  1012  1016  1017  1021  1024  1054  1055  1056  1062\n",
      "  1079  1082  1090  1100  1102  1103  1105  1111  1115  1120  1149  1151\n",
      "  1158  1160  1162  1164  1199  1200  1202  1221  1223  1230  1239  1240\n",
      "  1241  1250  1252  1256  1275  1288  1299  1300  1312  1317  1324  1339\n",
      "  1351  1360  1362  1363  1367  1390  1394  1398  1399  1400  1401  1403\n",
      "  1405  1416  1432  1433  1436  1500  1501  1502  1503  1506  1521  1548\n",
      "  1595  1596  1597  1598  1600  1625  1631  1653  1659  1689  1700  1701\n",
      "  1703  1704  1707  1753  1771  1779  1780  1781  1783  1793  1796  1799\n",
      "  1800  1801  1870  1895  1896  1900  1910  1920  1922  1933  1937  1968\n",
      "  1986  1988  1992  1993  1995  1998  1999  2000  2004  2005  2007  2009\n",
      "  2016  2017  2018  2172  2200  2201  2331  2340  2389  2402  2461  2598\n",
      "  2729  2789  2792  2799  3199  3454  3500  3750  4400  4507  4700  5000\n",
      "  5411  5420  5575  5809  5815  5867  6006  6010  6011  6012  6018  6045\n",
      "  6062  6226  6512  6920  7508  7511  7512  7515  7518  7529  7544  8011\n",
      "  8259  8404  8500  9000  9007  9010  9011  9012  9013  9710 10000 10110\n",
      " 10218 10311 10317 10520 10522 10710 10910 10912 11011 11025 11111 11509\n",
      " 11530 11635 12012 12510 12512 12684 13616 13636 14009 15001 15016 15017\n",
      " 15020 15033 16011 16051 16311 16312 17011 17019 17410 17700 17932 19208\n",
      " 19211 19312 20000]\n",
      "\n",
      "Всего уникальных значений: 711\n"
     ]
    }
   ],
   "source": [
    "# Выводим все уникальные значения из столбца 'Power'\n",
    "unique_power_values = data['Power'].unique()\n",
    "\n",
    "# Сортируем значения для удобства анализа\n",
    "sorted_power_values = np.sort(unique_power_values)\n",
    "\n",
    "print(\"Уникальные значения атрибута 'Power':\")\n",
    "print(sorted_power_values)\n",
    "print(f\"\\nВсего уникальных значений: {len(sorted_power_values)}\")\n"
   ]
  },
  {
   "cell_type": "code",
   "execution_count": 14,
   "metadata": {
    "scrolled": false
   },
   "outputs": [],
   "source": [
    "# Определяем границы мощности\n",
    "min_power = 1\n",
    "max_power = 5000\n",
    "\n",
    "# Вычисляем медиану мощности для каждой комбинации Brand и Model\n",
    "data['MedianPower'] = data.groupby(['Brand', 'Model'])['Power'].transform('median')\n",
    "\n",
    "# Заменяем аномальные значения мощности на медианные для соответствующих групп\n",
    "data['Power'] = np.where(\n",
    "    (data['Power'] < min_power) | (data['Power'] > max_power) | (data['Power'].isna()), \n",
    "    data['MedianPower'], \n",
    "    data['Power']\n",
    ")\n",
    "\n",
    "# Если после групповой замены всё ещё остаются `NaN`, заменяем их на общую медиану по столбцу Power\n",
    "overall_median_power = data['Power'].median()\n",
    "\n",
    "# Заменяем оставшиеся `NaN` значения на общую медиану\n",
    "data['Power'].fillna(overall_median_power, inplace=True)\n",
    "\n",
    "# Удаляем временный столбец\n",
    "data.drop(columns=['MedianPower'], inplace=True)\n",
    "\n"
   ]
  },
  {
   "cell_type": "markdown",
   "metadata": {},
   "source": [
    "\n",
    "\n",
    "\n",
    "<div class=\"alert alert-block alert-info\">\n",
    "<b>Совет:</b>  Вопрос на подумать: Как думаешь а машины с 0-ой мощностью могут быть просто без двигателя?\n",
    "</div>\n"
   ]
  },
  {
   "cell_type": "markdown",
   "metadata": {},
   "source": [
    "</div><div class=\"alert alert-block alert-warning\">\n",
    "<b>Комментарий студента:</b> На самом деле, в нашей задаче мы рассматривали автомобили с нулевой мощностью как аномалии, так как такие значения могли быть результатом ошибок при заполнении данных. Но думаю, действительно, существует вероятность того, что некоторые из этих автомобилей могут быть вовсе без двс.\n",
    "</div>"
   ]
  },
  {
   "cell_type": "markdown",
   "metadata": {},
   "source": [
    "<div class=\"alert alert-block alert-success\">\n",
    "<b>Успех[2]:</b> Да и тут еще напрашивается вопрос: нужны ли автомобили, которые подойдут в категорию запчасти, нашему сервису 'не бит, не крашен' для прогнозирования цен на нормальные автомобили?)\n",
    "</div>"
   ]
  },
  {
   "cell_type": "code",
   "execution_count": 15,
   "metadata": {
    "scrolled": false
   },
   "outputs": [
    {
     "name": "stdout",
     "output_type": "stream",
     "text": [
      "Признак: VehicleType\n",
      "Уникальные значения: [nan 'coupe' 'suv' 'small' 'sedan' 'convertible' 'bus' 'wagon' 'other']\n",
      "Количество уникальных значений: 9\n",
      "\n",
      "Признак: Gearbox\n",
      "Уникальные значения: ['manual' 'auto' nan]\n",
      "Количество уникальных значений: 3\n",
      "\n",
      "Признак: Model\n",
      "Уникальные значения: ['golf' nan 'grand' 'fabia' '3er' '2_reihe' 'other' 'c_max' '3_reihe'\n",
      " 'passat' 'navara' 'polo' 'twingo' 'a_klasse' 'scirocco' '5er' 'meriva'\n",
      " 'arosa' 'c4' 'civic' 'transporter' 'punto' 'e_klasse' 'clio' 'kadett'\n",
      " 'kangoo' 'corsa' 'one' 'fortwo' '1er' 'b_klasse' 'signum' 'astra' 'a8'\n",
      " 'jetta' 'fiesta' 'c_klasse' 'micra' 'vito' 'sprinter' '156' 'escort'\n",
      " 'forester' 'xc_reihe' 'scenic' 'a4' 'ka' 'a1' 'insignia' 'combo' 'focus'\n",
      " 'tt' 'a6' 'jazz' 'omega' 'slk' '7er' '80' '147' '100' 'z_reihe'\n",
      " 'sportage' 'sorento' 'v40' 'ibiza' 'mustang' 'eos' 'touran' 'getz' 'a3'\n",
      " 'almera' 'megane' 'lupo' 'r19' 'zafira' 'caddy' 'mondeo' 'cordoba' 'colt'\n",
      " 'impreza' 'vectra' 'berlingo' 'tiguan' 'i_reihe' 'espace' 'sharan'\n",
      " '6_reihe' 'panda' 'up' 'seicento' 'ceed' '5_reihe' 'yeti' 'octavia' 'mii'\n",
      " 'rx_reihe' '6er' 'modus' 'fox' 'matiz' 'beetle' 'c1' 'rio' 'touareg'\n",
      " 'logan' 'spider' 'cuore' 's_max' 'a2' 'galaxy' 'c3' 'viano' 's_klasse'\n",
      " '1_reihe' 'avensis' 'roomster' 'sl' 'kaefer' 'santa' 'cooper' 'leon'\n",
      " '4_reihe' 'a5' '500' 'laguna' 'ptcruiser' 'clk' 'primera' 'x_reihe'\n",
      " 'exeo' '159' 'transit' 'juke' 'qashqai' 'carisma' 'accord' 'corolla'\n",
      " 'lanos' 'phaeton' 'verso' 'swift' 'rav' 'picanto' 'boxster' 'kalos'\n",
      " 'superb' 'stilo' 'alhambra' 'mx_reihe' 'roadster' 'ypsilon' 'cayenne'\n",
      " 'galant' 'justy' '90' 'sirion' 'crossfire' 'agila' 'duster' 'cr_reihe'\n",
      " 'v50' 'c_reihe' 'v_klasse' 'm_klasse' 'yaris' 'c5' 'aygo' 'cc' 'carnival'\n",
      " 'fusion' '911' 'bora' 'forfour' 'm_reihe' 'cl' 'tigra' '300c' 'spark'\n",
      " 'v70' 'kuga' 'x_type' 'ducato' 's_type' 'x_trail' 'toledo' 'altea'\n",
      " 'voyager' 'calibra' 'bravo' 'antara' 'tucson' 'citigo' 'jimny' 'wrangler'\n",
      " 'lybra' 'q7' 'lancer' 'captiva' 'c2' 'discovery' 'freelander' 'sandero'\n",
      " 'note' '900' 'cherokee' 'clubman' 'samara' 'defender' '601' 'cx_reihe'\n",
      " 'legacy' 'pajero' 'auris' 'niva' 's60' 'nubira' 'vivaro' 'g_klasse'\n",
      " 'lodgy' '850' 'range_rover' 'q3' 'serie_2' 'glk' 'charade' 'croma'\n",
      " 'outlander' 'doblo' 'musa' 'move' '9000' 'v60' '145' 'aveo' '200' 'b_max'\n",
      " 'range_rover_sport' 'terios' 'rangerover' 'q5' 'range_rover_evoque'\n",
      " 'materia' 'delta' 'gl' 'kalina' 'amarok' 'elefantino' 'i3' 'kappa'\n",
      " 'serie_3' 'serie_1']\n",
      "Количество уникальных значений: 251\n",
      "\n",
      "Признак: FuelType\n",
      "Уникальные значения: ['petrol' 'gasoline' nan 'lpg' 'other' 'hybrid' 'cng' 'electric']\n",
      "Количество уникальных значений: 8\n",
      "\n",
      "Признак: Brand\n",
      "Уникальные значения: ['volkswagen' 'audi' 'jeep' 'skoda' 'bmw' 'peugeot' 'ford' 'mazda'\n",
      " 'nissan' 'renault' 'mercedes_benz' 'opel' 'seat' 'citroen' 'honda' 'fiat'\n",
      " 'mini' 'smart' 'hyundai' 'sonstige_autos' 'alfa_romeo' 'subaru' 'volvo'\n",
      " 'mitsubishi' 'kia' 'suzuki' 'lancia' 'toyota' 'chevrolet' 'dacia'\n",
      " 'daihatsu' 'trabant' 'saab' 'chrysler' 'jaguar' 'daewoo' 'porsche'\n",
      " 'rover' 'land_rover' 'lada']\n",
      "Количество уникальных значений: 40\n",
      "\n",
      "Признак: Repaired\n",
      "Уникальные значения: [nan 'yes' 'no']\n",
      "Количество уникальных значений: 3\n",
      "\n",
      "Признак: DateCreated\n",
      "Уникальные значения: ['2016-03-24 00:00:00' '2016-03-14 00:00:00' '2016-03-17 00:00:00'\n",
      " '2016-03-31 00:00:00' '2016-04-04 00:00:00' '2016-04-01 00:00:00'\n",
      " '2016-03-21 00:00:00' '2016-03-26 00:00:00' '2016-04-07 00:00:00'\n",
      " '2016-03-15 00:00:00' '2016-03-20 00:00:00' '2016-03-23 00:00:00'\n",
      " '2016-03-27 00:00:00' '2016-03-12 00:00:00' '2016-03-13 00:00:00'\n",
      " '2016-03-18 00:00:00' '2016-03-10 00:00:00' '2016-03-07 00:00:00'\n",
      " '2016-03-09 00:00:00' '2016-03-08 00:00:00' '2016-04-03 00:00:00'\n",
      " '2016-03-29 00:00:00' '2016-03-25 00:00:00' '2016-03-11 00:00:00'\n",
      " '2016-03-28 00:00:00' '2016-03-30 00:00:00' '2016-03-22 00:00:00'\n",
      " '2016-02-09 00:00:00' '2016-03-05 00:00:00' '2016-04-02 00:00:00'\n",
      " '2016-03-16 00:00:00' '2016-03-19 00:00:00' '2016-04-05 00:00:00'\n",
      " '2016-03-06 00:00:00' '2016-02-12 00:00:00' '2016-03-03 00:00:00'\n",
      " '2016-03-01 00:00:00' '2016-03-04 00:00:00' '2016-04-06 00:00:00'\n",
      " '2016-02-15 00:00:00' '2016-02-24 00:00:00' '2016-02-27 00:00:00'\n",
      " '2015-03-20 00:00:00' '2016-02-28 00:00:00' '2016-02-17 00:00:00'\n",
      " '2016-01-27 00:00:00' '2016-02-20 00:00:00' '2016-02-29 00:00:00'\n",
      " '2016-02-10 00:00:00' '2016-02-23 00:00:00' '2016-02-21 00:00:00'\n",
      " '2015-11-02 00:00:00' '2016-02-19 00:00:00' '2016-02-26 00:00:00'\n",
      " '2016-02-11 00:00:00' '2016-01-10 00:00:00' '2016-02-06 00:00:00'\n",
      " '2016-02-18 00:00:00' '2016-01-29 00:00:00' '2016-03-02 00:00:00'\n",
      " '2015-12-06 00:00:00' '2016-01-24 00:00:00' '2016-01-30 00:00:00'\n",
      " '2016-02-02 00:00:00' '2016-02-16 00:00:00' '2016-02-13 00:00:00'\n",
      " '2016-02-05 00:00:00' '2016-02-22 00:00:00' '2015-11-17 00:00:00'\n",
      " '2014-03-10 00:00:00' '2016-02-07 00:00:00' '2016-01-23 00:00:00'\n",
      " '2016-02-25 00:00:00' '2016-02-14 00:00:00' '2016-01-02 00:00:00'\n",
      " '2015-09-04 00:00:00' '2015-11-12 00:00:00' '2015-12-27 00:00:00'\n",
      " '2015-11-24 00:00:00' '2016-01-20 00:00:00' '2016-02-03 00:00:00'\n",
      " '2015-12-05 00:00:00' '2015-08-07 00:00:00' '2016-01-28 00:00:00'\n",
      " '2016-01-31 00:00:00' '2016-02-08 00:00:00' '2016-01-07 00:00:00'\n",
      " '2016-01-22 00:00:00' '2016-01-18 00:00:00' '2016-01-08 00:00:00'\n",
      " '2015-11-23 00:00:00' '2016-01-13 00:00:00' '2016-01-17 00:00:00'\n",
      " '2016-01-15 00:00:00' '2015-11-08 00:00:00' '2016-01-26 00:00:00'\n",
      " '2016-02-04 00:00:00' '2016-01-25 00:00:00' '2016-01-16 00:00:00'\n",
      " '2015-08-10 00:00:00' '2016-01-03 00:00:00' '2016-01-19 00:00:00'\n",
      " '2015-12-30 00:00:00' '2016-02-01 00:00:00' '2015-12-17 00:00:00'\n",
      " '2015-11-10 00:00:00' '2016-01-06 00:00:00' '2015-09-09 00:00:00'\n",
      " '2015-06-18 00:00:00']\n",
      "Количество уникальных значений: 109\n",
      "\n",
      "Признак: LastSeen\n",
      "Уникальные значения: ['2016-04-07 03:16:57' '2016-04-07 01:46:50' '2016-04-05 12:47:46' ...\n",
      " '2016-03-19 20:44:43' '2016-03-29 10:17:23' '2016-03-21 10:42:49']\n",
      "Количество уникальных значений: 179017\n",
      "\n"
     ]
    }
   ],
   "source": [
    "def unique_values(df):\n",
    "    # Фильтруем только категориальные признаки \n",
    "    cat_columns = df.select_dtypes(include='object').columns\n",
    "    \n",
    "    # Создаем DataFrame для вывода уникальных значений и их количества\n",
    "    result = df[cat_columns].apply(lambda col: pd.Series({\n",
    "        'Уникальные значения': col.unique(),\n",
    "        'Количество уникальных значений': len(col.unique())\n",
    "    }))\n",
    "    \n",
    "    # Вывод результата\n",
    "    for col in result.columns:\n",
    "        print(f'Признак: {col}')\n",
    "        print(f'Уникальные значения: {result[col][\"Уникальные значения\"]}')\n",
    "        print(f'Количество уникальных значений: {result[col][\"Количество уникальных значений\"]}')\n",
    "        print()\n",
    "\n",
    "\n",
    "unique_values(data)\n"
   ]
  },
  {
   "cell_type": "code",
   "execution_count": 16,
   "metadata": {},
   "outputs": [],
   "source": [
    "# Объединение  значений \"range_rover\" и \"rangerover\" в \"range_rover\"\n",
    "data.loc[data['Model'] == 'rangerover', 'Model'] = 'range_rover'"
   ]
  },
  {
   "cell_type": "code",
   "execution_count": 17,
   "metadata": {
    "scrolled": false
   },
   "outputs": [
    {
     "data": {
      "image/png": "[encoded data removed]",
      "text/plain": [
       "<Figure size 864x504 with 1 Axes>"
      ]
     },
     "metadata": {},
     "output_type": "display_data"
    }
   ],
   "source": [
    "sns.set_style('darkgrid')\n",
    "data.Price.hist(bins=50,figsize=(12,7))\n",
    "plt.title('График распределения стоимости автомобилей')\n",
    "plt.xlabel('Стоимость,Евро')\n",
    "plt.ylabel('Количество')\n",
    "plt.show()"
   ]
  },
  {
   "cell_type": "code",
   "execution_count": 18,
   "metadata": {},
   "outputs": [
    {
     "name": "stdout",
     "output_type": "stream",
     "text": [
      "Колличество объявлений с нулевой ценой: 10686\n"
     ]
    }
   ],
   "source": [
    "print(\"Колличество объявлений с нулевой ценой:\",len(data.loc[data['Price'] == 0]))"
   ]
  },
  {
   "cell_type": "code",
   "execution_count": 19,
   "metadata": {},
   "outputs": [],
   "source": [
    "data = data.loc[data['Price'] != 0]"
   ]
  },
  {
   "cell_type": "markdown",
   "metadata": {},
   "source": [
    "\n",
    "<div class=\"alert alert-block alert-success\">\n",
    "<b>Успех:</b>  Самое интересное, что на нескольких сайтов по продажам подержанных автомобилей в Германии (страну можно определить по почтовым индексам, большинство из них из Германии) показало, что цены начинаются действительно с 0 и 1 евро, но это единичные объявления и не понятно, то ли это ошибка при заполнении формы, то ли машины на металлолом. Но я  все-таки склоняюсь к тому, чтобы избавиться от таких данных\n",
    "</div>\n"
   ]
  },
  {
   "cell_type": "markdown",
   "metadata": {},
   "source": [
    "**Целевой признак price не содержит пропусков, но имеет нулевые значения. Восстановление их по среднему значению невозможно, потому что это целевой признак, и такое вмешательство напрямую повлияет на прогноз.**"
   ]
  },
  {
   "cell_type": "code",
   "execution_count": 20,
   "metadata": {},
   "outputs": [
    {
     "data": {
      "image/png": "[encoded data removed]",
      "text/plain": [
       "<Figure size 864x504 with 1 Axes>"
      ]
     },
     "metadata": {},
     "output_type": "display_data"
    }
   ],
   "source": [
    "data.boxplot(['Price'],figsize=(12,7))\n",
    "plt.title('График распределения уникальных значений стоимости автомобилей')\n",
    "\n",
    "plt.ylabel('Стоимость,Евро')\n",
    "plt.show()"
   ]
  },
  {
   "cell_type": "code",
   "execution_count": 21,
   "metadata": {},
   "outputs": [],
   "source": [
    "data = data.query('Price > 10')"
   ]
  },
  {
   "cell_type": "code",
   "execution_count": 22,
   "metadata": {},
   "outputs": [
    {
     "data": {
      "text/plain": [
       "342009"
      ]
     },
     "execution_count": 22,
     "metadata": {},
     "output_type": "execute_result"
    }
   ],
   "source": [
    "data.loc[data['Price'] > 10]['Price'].count()"
   ]
  },
  {
   "cell_type": "markdown",
   "metadata": {},
   "source": [
    "**Удалим данные с ценой автомобиля ниже 10€, так как такие значения вряд ли отражают реальную стоимость. Скорее всего, владельцы указали минимальную цену для привлечения внимания или для целей обмена.**"
   ]
  },
  {
   "cell_type": "code",
   "execution_count": 23,
   "metadata": {},
   "outputs": [],
   "source": [
    "# Объединяем значения 'petrol' и 'gasoline' \n",
    "data['FuelType'] = data['FuelType'].replace('gasoline', 'petrol')\n",
    "\n",
    "# Замена пропусков на \"N/A\"\n",
    "data.fillna(\"N/A\", inplace=True)\n",
    "\n",
    "# Замена значения \"other\" на \"N/A\" для отсутствующей информации\n",
    "data[['VehicleType', 'FuelType', 'Model']] = data[['VehicleType', 'FuelType', 'Model']].replace('other', 'N/A')\n",
    "\n"
   ]
  },
  {
   "cell_type": "markdown",
   "metadata": {},
   "source": [
    "\n",
    "<div class=\"alert alert-block alert-success\">\n",
    "<b>Успех:</b>  Пропуски обработаны хорошим образом\n",
    "</div>\n",
    "\n",
    "\n",
    "<div class=\"alert alert-block alert-info\">\n",
    "<b>Совет:</b> У fuel_type есть категории, которые означают одно и тоже - их можно объединить, либо подумать может они действительно означают, что-то разное.\n",
    "</div>\n",
    "\n"
   ]
  },
  {
   "cell_type": "markdown",
   "metadata": {},
   "source": [
    "</div><div class=\"alert alert-block alert-warning\">\n",
    "<b>Комментарий студента:</b> Согласен, petrol и gasoline означают одно и то же топливо, но различаются лишь в использовании терминов по регионам (британский и американский английский).\n",
    "</div>"
   ]
  },
  {
   "cell_type": "markdown",
   "metadata": {},
   "source": [
    "\n",
    "<div class=\"alert alert-block alert-success\">\n",
    "    \n",
    "<b>Успех[2]:</b> 👍\n",
    "</div>"
   ]
  },
  {
   "cell_type": "markdown",
   "metadata": {},
   "source": [
    "<div class=\"alert alert-block alert-warning\">\n",
    "<b>Изменения:</b> Мы объединим значения petrol и gasoline в одно значение — petrol, чтобы избежать дублирования и уменьшить количество категорий в признаке FuelType."
   ]
  },
  {
   "cell_type": "code",
   "execution_count": 24,
   "metadata": {},
   "outputs": [],
   "source": [
    "# Cписок неинформативных признаков для удаления\n",
    "drop_features = [\n",
    "    'DateCrawled', \n",
    "    'RegistrationMonth', \n",
    "    'DateCreated', \n",
    "    'NumberOfPictures', \n",
    "    'PostalCode', \n",
    "    'LastSeen'\n",
    "]\n",
    "\n",
    "# Удаление признаков из DataFrame\n",
    "data.drop(columns=drop_features, inplace=True)\n"
   ]
  },
  {
   "cell_type": "markdown",
   "metadata": {},
   "source": [
    "\n",
    "<div class=\"alert alert-block alert-success\">\n",
    "<b>Успех:</b> Удалить неинформативные признаки - верное решение\n",
    "</div>"
   ]
  },
  {
   "cell_type": "markdown",
   "metadata": {},
   "source": [
    "**Считаю, что эти признаки будут бесполезны в данной задаче**"
   ]
  },
  {
   "cell_type": "code",
   "execution_count": 25,
   "metadata": {
    "scrolled": false
   },
   "outputs": [
    {
     "data": {
      "text/html": [
       "<div>\n",
       "<style scoped>\n",
       "    .dataframe tbody tr th:only-of-type {\n",
       "        vertical-align: middle;\n",
       "    }\n",
       "\n",
       "    .dataframe tbody tr th {\n",
       "        vertical-align: top;\n",
       "    }\n",
       "\n",
       "    .dataframe thead th {\n",
       "        text-align: right;\n",
       "    }\n",
       "</style>\n",
       "<table border=\"1\" class=\"dataframe\">\n",
       "  <thead>\n",
       "    <tr style=\"text-align: right;\">\n",
       "      <th></th>\n",
       "      <th>price</th>\n",
       "      <th>vehicle_type</th>\n",
       "      <th>registration_year</th>\n",
       "      <th>gearbox</th>\n",
       "      <th>power</th>\n",
       "      <th>model</th>\n",
       "      <th>kilometer</th>\n",
       "      <th>fuel_type</th>\n",
       "      <th>brand</th>\n",
       "      <th>repaired</th>\n",
       "    </tr>\n",
       "  </thead>\n",
       "  <tbody>\n",
       "    <tr>\n",
       "      <th>0</th>\n",
       "      <td>480</td>\n",
       "      <td>N/A</td>\n",
       "      <td>1993</td>\n",
       "      <td>manual</td>\n",
       "      <td>95.0</td>\n",
       "      <td>golf</td>\n",
       "      <td>150000</td>\n",
       "      <td>petrol</td>\n",
       "      <td>volkswagen</td>\n",
       "      <td>N/A</td>\n",
       "    </tr>\n",
       "    <tr>\n",
       "      <th>1</th>\n",
       "      <td>18300</td>\n",
       "      <td>coupe</td>\n",
       "      <td>2011</td>\n",
       "      <td>manual</td>\n",
       "      <td>190.0</td>\n",
       "      <td>N/A</td>\n",
       "      <td>125000</td>\n",
       "      <td>petrol</td>\n",
       "      <td>audi</td>\n",
       "      <td>yes</td>\n",
       "    </tr>\n",
       "    <tr>\n",
       "      <th>2</th>\n",
       "      <td>9800</td>\n",
       "      <td>suv</td>\n",
       "      <td>2004</td>\n",
       "      <td>auto</td>\n",
       "      <td>163.0</td>\n",
       "      <td>grand</td>\n",
       "      <td>125000</td>\n",
       "      <td>petrol</td>\n",
       "      <td>jeep</td>\n",
       "      <td>N/A</td>\n",
       "    </tr>\n",
       "    <tr>\n",
       "      <th>3</th>\n",
       "      <td>1500</td>\n",
       "      <td>small</td>\n",
       "      <td>2001</td>\n",
       "      <td>manual</td>\n",
       "      <td>75.0</td>\n",
       "      <td>golf</td>\n",
       "      <td>150000</td>\n",
       "      <td>petrol</td>\n",
       "      <td>volkswagen</td>\n",
       "      <td>no</td>\n",
       "    </tr>\n",
       "    <tr>\n",
       "      <th>4</th>\n",
       "      <td>3600</td>\n",
       "      <td>small</td>\n",
       "      <td>2008</td>\n",
       "      <td>manual</td>\n",
       "      <td>69.0</td>\n",
       "      <td>fabia</td>\n",
       "      <td>90000</td>\n",
       "      <td>petrol</td>\n",
       "      <td>skoda</td>\n",
       "      <td>no</td>\n",
       "    </tr>\n",
       "    <tr>\n",
       "      <th>...</th>\n",
       "      <td>...</td>\n",
       "      <td>...</td>\n",
       "      <td>...</td>\n",
       "      <td>...</td>\n",
       "      <td>...</td>\n",
       "      <td>...</td>\n",
       "      <td>...</td>\n",
       "      <td>...</td>\n",
       "      <td>...</td>\n",
       "      <td>...</td>\n",
       "    </tr>\n",
       "    <tr>\n",
       "      <th>354359</th>\n",
       "      <td>1150</td>\n",
       "      <td>bus</td>\n",
       "      <td>2000</td>\n",
       "      <td>manual</td>\n",
       "      <td>120.0</td>\n",
       "      <td>zafira</td>\n",
       "      <td>150000</td>\n",
       "      <td>petrol</td>\n",
       "      <td>opel</td>\n",
       "      <td>no</td>\n",
       "    </tr>\n",
       "    <tr>\n",
       "      <th>354361</th>\n",
       "      <td>2200</td>\n",
       "      <td>N/A</td>\n",
       "      <td>2005</td>\n",
       "      <td>N/A</td>\n",
       "      <td>110.0</td>\n",
       "      <td>N/A</td>\n",
       "      <td>20000</td>\n",
       "      <td>N/A</td>\n",
       "      <td>sonstige_autos</td>\n",
       "      <td>N/A</td>\n",
       "    </tr>\n",
       "    <tr>\n",
       "      <th>354362</th>\n",
       "      <td>1199</td>\n",
       "      <td>convertible</td>\n",
       "      <td>2000</td>\n",
       "      <td>auto</td>\n",
       "      <td>101.0</td>\n",
       "      <td>fortwo</td>\n",
       "      <td>125000</td>\n",
       "      <td>petrol</td>\n",
       "      <td>smart</td>\n",
       "      <td>no</td>\n",
       "    </tr>\n",
       "    <tr>\n",
       "      <th>354363</th>\n",
       "      <td>9200</td>\n",
       "      <td>bus</td>\n",
       "      <td>1996</td>\n",
       "      <td>manual</td>\n",
       "      <td>102.0</td>\n",
       "      <td>transporter</td>\n",
       "      <td>150000</td>\n",
       "      <td>petrol</td>\n",
       "      <td>volkswagen</td>\n",
       "      <td>no</td>\n",
       "    </tr>\n",
       "    <tr>\n",
       "      <th>354364</th>\n",
       "      <td>3400</td>\n",
       "      <td>wagon</td>\n",
       "      <td>2002</td>\n",
       "      <td>manual</td>\n",
       "      <td>100.0</td>\n",
       "      <td>golf</td>\n",
       "      <td>150000</td>\n",
       "      <td>petrol</td>\n",
       "      <td>volkswagen</td>\n",
       "      <td>N/A</td>\n",
       "    </tr>\n",
       "  </tbody>\n",
       "</table>\n",
       "<p>342009 rows × 10 columns</p>\n",
       "</div>"
      ],
      "text/plain": [
       "        price vehicle_type  registration_year gearbox  power        model  \\\n",
       "0         480          N/A               1993  manual   95.0         golf   \n",
       "1       18300        coupe               2011  manual  190.0          N/A   \n",
       "2        9800          suv               2004    auto  163.0        grand   \n",
       "3        1500        small               2001  manual   75.0         golf   \n",
       "4        3600        small               2008  manual   69.0        fabia   \n",
       "...       ...          ...                ...     ...    ...          ...   \n",
       "354359   1150          bus               2000  manual  120.0       zafira   \n",
       "354361   2200          N/A               2005     N/A  110.0          N/A   \n",
       "354362   1199  convertible               2000    auto  101.0       fortwo   \n",
       "354363   9200          bus               1996  manual  102.0  transporter   \n",
       "354364   3400        wagon               2002  manual  100.0         golf   \n",
       "\n",
       "        kilometer fuel_type           brand repaired  \n",
       "0          150000    petrol      volkswagen      N/A  \n",
       "1          125000    petrol            audi      yes  \n",
       "2          125000    petrol            jeep      N/A  \n",
       "3          150000    petrol      volkswagen       no  \n",
       "4           90000    petrol           skoda       no  \n",
       "...           ...       ...             ...      ...  \n",
       "354359     150000    petrol            opel       no  \n",
       "354361      20000       N/A  sonstige_autos      N/A  \n",
       "354362     125000    petrol           smart       no  \n",
       "354363     150000    petrol      volkswagen       no  \n",
       "354364     150000    petrol      volkswagen      N/A  \n",
       "\n",
       "[342009 rows x 10 columns]"
      ]
     },
     "execution_count": 25,
     "metadata": {},
     "output_type": "execute_result"
    }
   ],
   "source": [
    "data.columns = data.columns.str.replace(r'(?<!^)(?=[A-Z])', '_').str.lower()\n",
    "data"
   ]
  },
  {
   "cell_type": "code",
   "execution_count": 26,
   "metadata": {},
   "outputs": [
    {
     "data": {
      "text/html": [
       "<style  type=\"text/css\" >\n",
       "#T_52846_row0_col0,#T_52846_row1_col1,#T_52846_row2_col2,#T_52846_row3_col3{\n",
       "            background-color:  #b40426;\n",
       "            color:  #f1f1f1;\n",
       "        }#T_52846_row0_col1{\n",
       "            background-color:  #dadce0;\n",
       "            color:  #000000;\n",
       "        }#T_52846_row0_col2{\n",
       "            background-color:  #adc9fd;\n",
       "            color:  #000000;\n",
       "        }#T_52846_row0_col3,#T_52846_row1_col2,#T_52846_row3_col0,#T_52846_row3_col1{\n",
       "            background-color:  #3b4cc0;\n",
       "            color:  #f1f1f1;\n",
       "        }#T_52846_row1_col0{\n",
       "            background-color:  #e8d6cc;\n",
       "            color:  #000000;\n",
       "        }#T_52846_row1_col3{\n",
       "            background-color:  #5d7ce6;\n",
       "            color:  #000000;\n",
       "        }#T_52846_row2_col0{\n",
       "            background-color:  #ead5c9;\n",
       "            color:  #000000;\n",
       "        }#T_52846_row2_col1{\n",
       "            background-color:  #86a9fc;\n",
       "            color:  #000000;\n",
       "        }#T_52846_row2_col3{\n",
       "            background-color:  #a6c4fe;\n",
       "            color:  #000000;\n",
       "        }#T_52846_row3_col2{\n",
       "            background-color:  #3c4ec2;\n",
       "            color:  #f1f1f1;\n",
       "        }</style><table id=\"T_52846_\" ><thead>    <tr>        <th class=\"blank level0\" ></th>        <th class=\"col_heading level0 col0\" >price</th>        <th class=\"col_heading level0 col1\" >registration_year</th>        <th class=\"col_heading level0 col2\" >power</th>        <th class=\"col_heading level0 col3\" >kilometer</th>    </tr></thead><tbody>\n",
       "                <tr>\n",
       "                        <th id=\"T_52846_level0_row0\" class=\"row_heading level0 row0\" >price</th>\n",
       "                        <td id=\"T_52846_row0_col0\" class=\"data row0 col0\" >1.000000</td>\n",
       "                        <td id=\"T_52846_row0_col1\" class=\"data row0 col1\" >0.385352</td>\n",
       "                        <td id=\"T_52846_row0_col2\" class=\"data row0 col2\" >0.392523</td>\n",
       "                        <td id=\"T_52846_row0_col3\" class=\"data row0 col3\" >-0.355928</td>\n",
       "            </tr>\n",
       "            <tr>\n",
       "                        <th id=\"T_52846_level0_row1\" class=\"row_heading level0 row1\" >registration_year</th>\n",
       "                        <td id=\"T_52846_row1_col0\" class=\"data row1 col0\" >0.385352</td>\n",
       "                        <td id=\"T_52846_row1_col1\" class=\"data row1 col1\" >1.000000</td>\n",
       "                        <td id=\"T_52846_row1_col2\" class=\"data row1 col2\" >0.075467</td>\n",
       "                        <td id=\"T_52846_row1_col3\" class=\"data row1 col3\" >-0.202954</td>\n",
       "            </tr>\n",
       "            <tr>\n",
       "                        <th id=\"T_52846_level0_row2\" class=\"row_heading level0 row2\" >power</th>\n",
       "                        <td id=\"T_52846_row2_col0\" class=\"data row2 col0\" >0.392523</td>\n",
       "                        <td id=\"T_52846_row2_col1\" class=\"data row2 col1\" >0.075467</td>\n",
       "                        <td id=\"T_52846_row2_col2\" class=\"data row2 col2\" >1.000000</td>\n",
       "                        <td id=\"T_52846_row2_col3\" class=\"data row2 col3\" >0.079229</td>\n",
       "            </tr>\n",
       "            <tr>\n",
       "                        <th id=\"T_52846_level0_row3\" class=\"row_heading level0 row3\" >kilometer</th>\n",
       "                        <td id=\"T_52846_row3_col0\" class=\"data row3 col0\" >-0.355928</td>\n",
       "                        <td id=\"T_52846_row3_col1\" class=\"data row3 col1\" >-0.202954</td>\n",
       "                        <td id=\"T_52846_row3_col2\" class=\"data row3 col2\" >0.079229</td>\n",
       "                        <td id=\"T_52846_row3_col3\" class=\"data row3 col3\" >1.000000</td>\n",
       "            </tr>\n",
       "    </tbody></table>"
      ],
      "text/plain": [
       "<pandas.io.formats.style.Styler at 0x7f6bcf8b0c10>"
      ]
     },
     "execution_count": 26,
     "metadata": {},
     "output_type": "execute_result"
    }
   ],
   "source": [
    "data.corr().style.background_gradient(cmap='coolwarm')"
   ]
  },
  {
   "cell_type": "markdown",
   "metadata": {},
   "source": [
    "ВЫВОД:\n",
    "\n",
    "На основе анализа и очистки данных выполнили несколько этапов предобработки датафрейма к машинному обучению:\n",
    "\n",
    "Все отсутствующие значения во всех категориальных признаках зменили заглушкой N/A, чтобы избежать удаления строк и минимизировать потерю данных.\n",
    "\n",
    "\n",
    "Убрали следующие признаки:\n",
    "\n",
    "DateCrawled — дата скачивания данных.\n",
    "\n",
    "RegistrationMonth — месяц регистрации авто.\n",
    "\n",
    "DateCreated — дата создания объявления.\n",
    "\n",
    "NumberOfPictures — количество фотографий.\n",
    "\n",
    "PostalCode — почтовый индекс.\n",
    "\n",
    "LastSeen — дата последней активности пользователя.\n",
    "\n",
    "Эти признаки не имеют значительного влияния на предсказание цены автомобиля.\n",
    "\n",
    "\n",
    "Из атрибута RegistrationYear удалили строки с годами выпуска авто менее 1950 и более 2024, так как такие значения являются ошибочными.\n",
    "\n",
    "В признаке Power (мощность двигателя) скорректировали аномальные значения:\n",
    "Заменены значения ниже 1 л.с. и выше 5000 л.с. на медианные значения, рассчитанные для каждой комбинации Brand и Model. Это позволяет сохранить данные, избежав их удаления, и обеспечить корректность анализа.\n",
    "\n",
    "\n",
    "Названия столбцов привели к «змеиному» стилю для удобства работы с данными.\n",
    "\n",
    "Устранение дубликатов в значениях:\n",
    "\n",
    "Обнаружены и объединены неявно совпадающие значения в категориальных признаках. Например, rangerover и range_rover были приведены к единому значению range_rover.\n",
    "Корреляционный анализ:\n",
    "\n",
    "Числовые признаки имеют слабую корреляцию как между собой, так и с целевым признаком price. Наибольшая положительная корреляция наблюдается с registration_year, тогда как наибольшая отрицательная корреляция — с kilometer.\n",
    "\n",
    "\n",
    "Для всех категориальных признаков применим OneHotEncoder для подготовки данных к обучению.\n",
    "Числовые признаки стандартизируем из-за различий в диапазонах значений, чтобы улучшить работу моделей.\n"
   ]
  },
  {
   "cell_type": "markdown",
   "metadata": {},
   "source": [
    "\n",
    "<div class=\"alert alert-block alert-success\">\n",
    "<b>Успех:</b> В целом хорошая, детальная предобработка - идем дальше\n",
    "</div>\n",
    "\n",
    "<div class=\"alert alert-block alert-info\">\n",
    "<b>Совет:</b> \n",
    "\n",
    " Советую обратить внимание на библиотеки sweetviz и ydata_profiling помогут в проведении более тщательного EDA анализа. Я использую их в своей работе для первичного осмотра данных, но это можно делать и с помощью ручного вызова функций дефолтных библиотек. Данные библиотеки хороши для максимизации комфорта презентации результатов анализа бизнес-пользователям. \n",
    "    \n",
    "Очень просты в использоовании, на вход кладется датафрейм: ydata_profiling.ProfileReport(df) \n",
    "</div>\n"
   ]
  },
  {
   "cell_type": "markdown",
   "metadata": {},
   "source": [
    "## Обучение моделей"
   ]
  },
  {
   "cell_type": "code",
   "execution_count": 27,
   "metadata": {},
   "outputs": [],
   "source": [
    "# Кодирование категориальных признаков с использованием OneHotEncoder\n",
    "# def encode_with_onehot(features, column_name):\n",
    "#    # Создаем экземпляр OneHotEncoder \n",
    "#    encoder = OneHotEncoder(sparse_output=False, drop='first', handle_unknown='ignore')\n",
    "#    \n",
    "#    # Применяем кодирование к указанному столбцу\n",
    "#    encoded_columns = encoder.fit_transform(features[[column_name]])\n",
    "#    \n",
    "#    # Создаем новые названия столбцов на основе категорий\n",
    "#    encoded_col_names = [f\"{column_name}_{cat}\" for cat in encoder.categories_[0][1:]]\n",
    "#    \n",
    "#    # Удаляем оригинальный столбец и добавляем новые закодированные столбцы\n",
    "#    features = features.drop(column_name, axis=1)\n",
    "#    features[encoded_col_names] = encoded_columns\n",
    "#    \n",
    "#    return features\n",
    "\n"
   ]
  },
  {
   "cell_type": "markdown",
   "metadata": {},
   "source": [
    "\n",
    "<div class=\"alert alert-block alert-info\">\n",
    "<b>Совет:</b> Кажется она нигде не используется\n",
    "</div>"
   ]
  },
  {
   "cell_type": "markdown",
   "metadata": {},
   "source": [
    "</div><div class=\"alert alert-block alert-warning\">\n",
    "<b>Комментарий студента:</b> Да, функция кодирования нигде не используется, я добавил её на случай, если потребуется закодировать определённые признаки, но в текущей версии проекта это не используется, закоментирую ее.\n",
    "</div>"
   ]
  },
  {
   "cell_type": "markdown",
   "metadata": {},
   "source": [
    "\n",
    "<div class=\"alert alert-block alert-success\">\n",
    "    \n",
    "<b>Успех[2]:</b> 👍\n",
    "</div>"
   ]
  },
  {
   "cell_type": "code",
   "execution_count": 28,
   "metadata": {},
   "outputs": [
    {
     "name": "stdout",
     "output_type": "stream",
     "text": [
      "Данные успешно разделены на обучающую и тестовую выборки\n"
     ]
    }
   ],
   "source": [
    "# Определение категориальных признаков\n",
    "features_encoding = ['vehicle_type', 'gearbox', 'model', 'fuel_type', 'brand', 'repaired']\n",
    "\n",
    "# Функция подготовки данных и кодирование с использованием TargetEncoder\n",
    "def data_preprocessing(data, target_name, features_encoding):\n",
    "    features = data.drop(columns=[target_name])\n",
    "    target = data[target_name]\n",
    "\n",
    "    features_train, features_test, target_train, target_test = train_test_split(\n",
    "        features, target, test_size=SIZE, random_state=STATE)\n",
    "    \n",
    "    # Применяем TargetEncoder для всех категориальных признаков\n",
    "    target_encoder = TargetEncoder(cols=features_encoding)\n",
    "    features_train[features_encoding] = target_encoder.fit_transform(features_train[features_encoding], target_train)\n",
    "    features_test[features_encoding] = target_encoder.transform(features_test[features_encoding])\n",
    "    \n",
    "    return features_train, features_test, target_train, target_test\n",
    "\n",
    "# Используем уже загруженные данные для подготовки\n",
    "target_column = 'price'\n",
    "features_train, features_test, target_train, target_test = data_preprocessing(data, target_column, features_encoding)\n",
    "\n",
    "print(\"Данные успешно разделены на обучающую и тестовую выборки\")\n"
   ]
  },
  {
   "cell_type": "code",
   "execution_count": 29,
   "metadata": {},
   "outputs": [],
   "source": [
    "def pipeline_model_selection(features_train, target_train, features_test, target_test, base_model, model_params):\n",
    "    pipe = Pipeline([\n",
    "        ('scaler', StandardScaler()),\n",
    "        ('regressor', base_model)\n",
    "    ])\n",
    "    \n",
    "    rmse_scorer = make_scorer(mean_squared_error, squared=False)\n",
    "    model_params = {f'regressor__{key}': value for key, value in model_params.items()}\n",
    "    \n",
    "    grid = GridSearchCV(pipe, model_params, cv=4, n_jobs=-1, scoring=rmse_scorer, error_score='raise')\n",
    "    \n",
    "    start_train_time = time.time()\n",
    "    grid.fit(features_train, target_train)\n",
    "    train_time = time.time() - start_train_time\n",
    "    \n",
    "    start_pred_time = time.time()\n",
    "    predictions = grid.predict(features_test)\n",
    "    predict_time = time.time() - start_pred_time\n",
    "    \n",
    "    return grid, train_time, predict_time, grid.cv_results_"
   ]
  },
  {
   "cell_type": "markdown",
   "metadata": {},
   "source": [
    "\n",
    "\n",
    "<div class=\"alert alert-block alert-danger\">\n",
    "<b>Ошибка:</b> Ты немного не правильно понял метрики времени: Нам нужно время обучения и время предсказания  вычислить  и проанализировать отдельно друг от друга\n",
    "    \n",
    "- время обучения это  чистый `.fit()` модели - без подбора гиперпараметров и без предсказаний,  то есть время обучения gridsearch не подойдет\n",
    "    \n",
    "- время предсказания это только `.predict()` без обучения\n",
    "\n",
    "p.s. можно вытаскивать  все  метрики  интересующие заказчика лаконично из GridSearchCV/RandomizedSearchCV, все они лежат в `.cv_results_`\n",
    "</div>"
   ]
  },
  {
   "cell_type": "markdown",
   "metadata": {},
   "source": [
    "<div class=\"alert alert-block alert-warning\">\n",
    "<b>Изменения:</b> Исправил код , чтобы отдельно вычислять и анализировать время обучения и время предсказания для моделей. Теперь же время обучения измеряется только для чистого .fit() без учета подбора гиперпараметров.\n",
    "\n",
    "Кроме того, был внедрен подход для извлечения метрик времени с использованием атрибута cv_results_ из GridSearchCV. Это позволяет нам получить более точные и усредненные значения времени обучения и времени предсказания. Теперь из cv_results_ берутся такие метрики, как fit_time и score_time\n"
   ]
  },
  {
   "cell_type": "markdown",
   "metadata": {},
   "source": [
    "\n",
    "<div class=\"alert alert-block alert-success\">\n",
    "    \n",
    "<b>Успех[2]:</b> Есть контакт\n",
    "</div>"
   ]
  },
  {
   "cell_type": "code",
   "execution_count": 30,
   "metadata": {},
   "outputs": [],
   "source": [
    "# Функция для вывода результатов моделей\n",
    "def results(grids, data_times, model_name):\n",
    "    print(f\"Результаты для модели: {model_name}\")\n",
    "    print(f\"Лучший RMSE         : {grids[-1].best_score_:.4f}\")\n",
    "    print(f\"Время обучения (mean_fit_time)  : {data_times[-1][0]:.4f} секунд\")\n",
    "    print(f\"Время предсказания (mean_score_time) : {data_times[-1][1]:.4f} секунд\")\n",
    "    print(f\"Оптимальные параметры модели:\\n{grids[-1].best_estimator_}\")\n",
    "    print(\"\\n\" + \"-\"*30 + \"\\n\")\n",
    "\n"
   ]
  },
  {
   "cell_type": "code",
   "execution_count": 31,
   "metadata": {},
   "outputs": [],
   "source": [
    "def train_LinearRegression(features_train, target_train, features_test, target_test):\n",
    "    model = LinearRegression()\n",
    "    params = {'fit_intercept': [True, False]}\n",
    "    return pipeline_model_selection(features_train, target_train, features_test, target_test, model, params)\n"
   ]
  },
  {
   "cell_type": "code",
   "execution_count": 32,
   "metadata": {},
   "outputs": [],
   "source": [
    "def train_DecisionTree(features_train, target_train, features_test, target_test):\n",
    "    model = DecisionTreeRegressor()\n",
    "    params = {'max_depth': [5, 10, 15], 'min_samples_split': [2, 5, 10]}\n",
    "    return pipeline_model_selection(features_train, target_train, features_test, target_test, model, params)"
   ]
  },
  {
   "cell_type": "code",
   "execution_count": 33,
   "metadata": {},
   "outputs": [],
   "source": [
    "def train_SGDRegressor(features_train, target_train, features_test, target_test):\n",
    "    model = SGDRegressor()\n",
    "    params = {'alpha': [0.001, 0.01], 'penalty': ['l2', 'l1'], 'max_iter': [1000]}\n",
    "    return pipeline_model_selection(features_train, target_train, features_test, target_test, model, params)\n",
    "\n"
   ]
  },
  {
   "cell_type": "code",
   "execution_count": 34,
   "metadata": {},
   "outputs": [],
   "source": [
    "def train_CatBoost(features_train, target_train, features_test, target_test):\n",
    "    model = CatBoostRegressor(verbose=0)\n",
    "    params = {'depth': [6, 8], 'learning_rate': [0.05], 'iterations': [100]}\n",
    "    return pipeline_model_selection(features_train, target_train, features_test, target_test, model, params)"
   ]
  },
  {
   "cell_type": "code",
   "execution_count": 35,
   "metadata": {},
   "outputs": [],
   "source": [
    "def train_LGBM(features_train, target_train, features_test, target_test):\n",
    "    model = LGBMRegressor()\n",
    "    params = {'num_leaves': [31, 50], 'learning_rate': [0.05], 'n_estimators': [100]}\n",
    "    return pipeline_model_selection(features_train, target_train, features_test, target_test, model, params)"
   ]
  },
  {
   "cell_type": "code",
   "execution_count": 36,
   "metadata": {},
   "outputs": [
    {
     "name": "stdout",
     "output_type": "stream",
     "text": [
      "Model: LinearRegression, Best RMSE: 5450.1963, Training Time: 2.00s, Prediction Time: 0.03s\n",
      "Model: DecisionTree, Best RMSE: 2442.7449, Training Time: 15.42s, Prediction Time: 0.01s\n",
      "Model: SGDRegressor, Best RMSE: 3014.4575, Training Time: 12.08s, Prediction Time: 0.01s\n",
      "Model: CatBoost, Best RMSE: 1931.4315, Training Time: 33.59s, Prediction Time: 0.03s\n",
      "Model: LGBM, Best RMSE: 1797.1109, Training Time: 77.26s, Prediction Time: 0.80s\n"
     ]
    }
   ],
   "source": [
    "models = {\n",
    "    'LinearRegression': train_LinearRegression,\n",
    "    'DecisionTree': train_DecisionTree,\n",
    "    'SGDRegressor': train_SGDRegressor,\n",
    "    'CatBoost': train_CatBoost,\n",
    "    'LGBM': train_LGBM\n",
    "}\n",
    "\n",
    "results = {}\n",
    "for model_name, train_function in models.items():\n",
    "    grid, train_time, predict_time, cv_results = train_function(features_train, target_train, features_test, target_test)\n",
    "    results[model_name] = {\n",
    "        'grid': grid,\n",
    "        'train_time': train_time,\n",
    "        'predict_time': predict_time,\n",
    "        'cv_results': cv_results\n",
    "    }\n",
    "    print(f\"Model: {model_name}, Best RMSE: {grid.best_score_:.4f}, Training Time: {train_time:.2f}s, Prediction Time: {predict_time:.2f}s\")\n"
   ]
  },
  {
   "cell_type": "markdown",
   "metadata": {},
   "source": [
    "<div class=\"alert alert-block alert-danger\">\n",
    "    \n",
    "\n",
    "<b>Ошибка:</b>  OE - хороший выбор для всех моделей, кроме линейных, они не могут корректно обрабатывать номинальные данные обработанные порядковым способом. Для них хорош OHE, но тот же OHE нельзя применять для всех других моделей здесь (потому что не эффективно, с точки зрения времени)\n",
    "  \n",
    "\n",
    "Я тебе могу предложить, что можно сделать:\n",
    "    \n",
    "- Сделать 1 набор данных: \n",
    "    - Закодировать для всех моделей методом TargetEncoder, BinaryEncoder - вполне универсальные варианты\n",
    "    - Закодировать все признаки методом OHE, а модель машины методом OE\n",
    "    - Заменить использование линейных моделей (так как их рассмотрение не обязательно) и использовать единственный метод кодировки OE.\n",
    "- Сделать 2 набора данных\n",
    "    - Закодировать для линейных моделей методом OHE, для остальных OE (или внутренний метод кодирования данных)\n",
    "    \n",
    "  "
   ]
  },
  {
   "cell_type": "markdown",
   "metadata": {},
   "source": [
    "<div class=\"alert alert-block alert-warning\">\n",
    "<b>Изменения:</b> Мы применили TargetEncoder ко всем категориальным признакам, что позволило нам использовать один и тот же набор данных для всех моделей. Этот подход значительно упростил процесс обучения и тестирования, так как теперь все модели обучаются и тестируются на данных в одном формате.\n"
   ]
  },
  {
   "cell_type": "markdown",
   "metadata": {},
   "source": [
    "\n",
    "<div class=\"alert alert-block alert-success\">\n",
    "    \n",
    "<b>Успех[2]:</b> 👍 Отличный выбор эффективного енкодера\n",
    "</div>"
   ]
  },
  {
   "cell_type": "markdown",
   "metadata": {},
   "source": [
    "# Выбор лучшей модели"
   ]
  },
  {
   "cell_type": "code",
   "execution_count": 37,
   "metadata": {
    "scrolled": false
   },
   "outputs": [
    {
     "name": "stdout",
     "output_type": "stream",
     "text": [
      "\n",
      "Лучшая модель по времени предсказания:\n",
      "Модель: CatBoost\n",
      "Лучший RMSE на валидации: 1931.4315\n",
      "Время обучения: 33.59 секунд\n",
      "Время предсказания (валидация): 0.03 секунд\n",
      "Время предсказания на тестовой выборке: 0.09 секунд\n",
      "RMSE на тестовой выборке: 1932.5607\n",
      "\n"
     ]
    },
    {
     "data": {
      "text/html": [
       "<style>#sk-container-id-1 {\n",
       "  /* Definition of color scheme common for light and dark mode */\n",
       "  --sklearn-color-text: black;\n",
       "  --sklearn-color-line: gray;\n",
       "  /* Definition of color scheme for unfitted estimators */\n",
       "  --sklearn-color-unfitted-level-0: #fff5e6;\n",
       "  --sklearn-color-unfitted-level-1: #f6e4d2;\n",
       "  --sklearn-color-unfitted-level-2: #ffe0b3;\n",
       "  --sklearn-color-unfitted-level-3: chocolate;\n",
       "  /* Definition of color scheme for fitted estimators */\n",
       "  --sklearn-color-fitted-level-0: #f0f8ff;\n",
       "  --sklearn-color-fitted-level-1: #d4ebff;\n",
       "  --sklearn-color-fitted-level-2: #b3dbfd;\n",
       "  --sklearn-color-fitted-level-3: cornflowerblue;\n",
       "\n",
       "  /* Specific color for light theme */\n",
       "  --sklearn-color-text-on-default-background: var(--sg-text-color, var(--theme-code-foreground, var(--jp-content-font-color1, black)));\n",
       "  --sklearn-color-background: var(--sg-background-color, var(--theme-background, var(--jp-layout-color0, white)));\n",
       "  --sklearn-color-border-box: var(--sg-text-color, var(--theme-code-foreground, var(--jp-content-font-color1, black)));\n",
       "  --sklearn-color-icon: #696969;\n",
       "\n",
       "  @media (prefers-color-scheme: dark) {\n",
       "    /* Redefinition of color scheme for dark theme */\n",
       "    --sklearn-color-text-on-default-background: var(--sg-text-color, var(--theme-code-foreground, var(--jp-content-font-color1, white)));\n",
       "    --sklearn-color-background: var(--sg-background-color, var(--theme-background, var(--jp-layout-color0, #111)));\n",
       "    --sklearn-color-border-box: var(--sg-text-color, var(--theme-code-foreground, var(--jp-content-font-color1, white)));\n",
       "    --sklearn-color-icon: #878787;\n",
       "  }\n",
       "}\n",
       "\n",
       "#sk-container-id-1 {\n",
       "  color: var(--sklearn-color-text);\n",
       "}\n",
       "\n",
       "#sk-container-id-1 pre {\n",
       "  padding: 0;\n",
       "}\n",
       "\n",
       "#sk-container-id-1 input.sk-hidden--visually {\n",
       "  border: 0;\n",
       "  clip: rect(1px 1px 1px 1px);\n",
       "  clip: rect(1px, 1px, 1px, 1px);\n",
       "  height: 1px;\n",
       "  margin: -1px;\n",
       "  overflow: hidden;\n",
       "  padding: 0;\n",
       "  position: absolute;\n",
       "  width: 1px;\n",
       "}\n",
       "\n",
       "#sk-container-id-1 div.sk-dashed-wrapped {\n",
       "  border: 1px dashed var(--sklearn-color-line);\n",
       "  margin: 0 0.4em 0.5em 0.4em;\n",
       "  box-sizing: border-box;\n",
       "  padding-bottom: 0.4em;\n",
       "  background-color: var(--sklearn-color-background);\n",
       "}\n",
       "\n",
       "#sk-container-id-1 div.sk-container {\n",
       "  /* jupyter's `normalize.less` sets `[hidden] { display: none; }`\n",
       "     but bootstrap.min.css set `[hidden] { display: none !important; }`\n",
       "     so we also need the `!important` here to be able to override the\n",
       "     default hidden behavior on the sphinx rendered scikit-learn.org.\n",
       "     See: https://github.com/scikit-learn/scikit-learn/issues/21755 */\n",
       "  display: inline-block !important;\n",
       "  position: relative;\n",
       "}\n",
       "\n",
       "#sk-container-id-1 div.sk-text-repr-fallback {\n",
       "  display: none;\n",
       "}\n",
       "\n",
       "div.sk-parallel-item,\n",
       "div.sk-serial,\n",
       "div.sk-item {\n",
       "  /* draw centered vertical line to link estimators */\n",
       "  background-image: linear-gradient(var(--sklearn-color-text-on-default-background), var(--sklearn-color-text-on-default-background));\n",
       "  background-size: 2px 100%;\n",
       "  background-repeat: no-repeat;\n",
       "  background-position: center center;\n",
       "}\n",
       "\n",
       "/* Parallel-specific style estimator block */\n",
       "\n",
       "#sk-container-id-1 div.sk-parallel-item::after {\n",
       "  content: \"\";\n",
       "  width: 100%;\n",
       "  border-bottom: 2px solid var(--sklearn-color-text-on-default-background);\n",
       "  flex-grow: 1;\n",
       "}\n",
       "\n",
       "#sk-container-id-1 div.sk-parallel {\n",
       "  display: flex;\n",
       "  align-items: stretch;\n",
       "  justify-content: center;\n",
       "  background-color: var(--sklearn-color-background);\n",
       "  position: relative;\n",
       "}\n",
       "\n",
       "#sk-container-id-1 div.sk-parallel-item {\n",
       "  display: flex;\n",
       "  flex-direction: column;\n",
       "}\n",
       "\n",
       "#sk-container-id-1 div.sk-parallel-item:first-child::after {\n",
       "  align-self: flex-end;\n",
       "  width: 50%;\n",
       "}\n",
       "\n",
       "#sk-container-id-1 div.sk-parallel-item:last-child::after {\n",
       "  align-self: flex-start;\n",
       "  width: 50%;\n",
       "}\n",
       "\n",
       "#sk-container-id-1 div.sk-parallel-item:only-child::after {\n",
       "  width: 0;\n",
       "}\n",
       "\n",
       "/* Serial-specific style estimator block */\n",
       "\n",
       "#sk-container-id-1 div.sk-serial {\n",
       "  display: flex;\n",
       "  flex-direction: column;\n",
       "  align-items: center;\n",
       "  background-color: var(--sklearn-color-background);\n",
       "  padding-right: 1em;\n",
       "  padding-left: 1em;\n",
       "}\n",
       "\n",
       "\n",
       "/* Toggleable style: style used for estimator/Pipeline/ColumnTransformer box that is\n",
       "clickable and can be expanded/collapsed.\n",
       "- Pipeline and ColumnTransformer use this feature and define the default style\n",
       "- Estimators will overwrite some part of the style using the `sk-estimator` class\n",
       "*/\n",
       "\n",
       "/* Pipeline and ColumnTransformer style (default) */\n",
       "\n",
       "#sk-container-id-1 div.sk-toggleable {\n",
       "  /* Default theme specific background. It is overwritten whether we have a\n",
       "  specific estimator or a Pipeline/ColumnTransformer */\n",
       "  background-color: var(--sklearn-color-background);\n",
       "}\n",
       "\n",
       "/* Toggleable label */\n",
       "#sk-container-id-1 label.sk-toggleable__label {\n",
       "  cursor: pointer;\n",
       "  display: block;\n",
       "  width: 100%;\n",
       "  margin-bottom: 0;\n",
       "  padding: 0.5em;\n",
       "  box-sizing: border-box;\n",
       "  text-align: center;\n",
       "}\n",
       "\n",
       "#sk-container-id-1 label.sk-toggleable__label-arrow:before {\n",
       "  /* Arrow on the left of the label */\n",
       "  content: \"▸\";\n",
       "  float: left;\n",
       "  margin-right: 0.25em;\n",
       "  color: var(--sklearn-color-icon);\n",
       "}\n",
       "\n",
       "#sk-container-id-1 label.sk-toggleable__label-arrow:hover:before {\n",
       "  color: var(--sklearn-color-text);\n",
       "}\n",
       "\n",
       "/* Toggleable content - dropdown */\n",
       "\n",
       "#sk-container-id-1 div.sk-toggleable__content {\n",
       "  max-height: 0;\n",
       "  max-width: 0;\n",
       "  overflow: hidden;\n",
       "  text-align: left;\n",
       "  /* unfitted */\n",
       "  background-color: var(--sklearn-color-unfitted-level-0);\n",
       "}\n",
       "\n",
       "#sk-container-id-1 div.sk-toggleable__content.fitted {\n",
       "  /* fitted */\n",
       "  background-color: var(--sklearn-color-fitted-level-0);\n",
       "}\n",
       "\n",
       "#sk-container-id-1 div.sk-toggleable__content pre {\n",
       "  margin: 0.2em;\n",
       "  border-radius: 0.25em;\n",
       "  color: var(--sklearn-color-text);\n",
       "  /* unfitted */\n",
       "  background-color: var(--sklearn-color-unfitted-level-0);\n",
       "}\n",
       "\n",
       "#sk-container-id-1 div.sk-toggleable__content.fitted pre {\n",
       "  /* unfitted */\n",
       "  background-color: var(--sklearn-color-fitted-level-0);\n",
       "}\n",
       "\n",
       "#sk-container-id-1 input.sk-toggleable__control:checked~div.sk-toggleable__content {\n",
       "  /* Expand drop-down */\n",
       "  max-height: 200px;\n",
       "  max-width: 100%;\n",
       "  overflow: auto;\n",
       "}\n",
       "\n",
       "#sk-container-id-1 input.sk-toggleable__control:checked~label.sk-toggleable__label-arrow:before {\n",
       "  content: \"▾\";\n",
       "}\n",
       "\n",
       "/* Pipeline/ColumnTransformer-specific style */\n",
       "\n",
       "#sk-container-id-1 div.sk-label input.sk-toggleable__control:checked~label.sk-toggleable__label {\n",
       "  color: var(--sklearn-color-text);\n",
       "  background-color: var(--sklearn-color-unfitted-level-2);\n",
       "}\n",
       "\n",
       "#sk-container-id-1 div.sk-label.fitted input.sk-toggleable__control:checked~label.sk-toggleable__label {\n",
       "  background-color: var(--sklearn-color-fitted-level-2);\n",
       "}\n",
       "\n",
       "/* Estimator-specific style */\n",
       "\n",
       "/* Colorize estimator box */\n",
       "#sk-container-id-1 div.sk-estimator input.sk-toggleable__control:checked~label.sk-toggleable__label {\n",
       "  /* unfitted */\n",
       "  background-color: var(--sklearn-color-unfitted-level-2);\n",
       "}\n",
       "\n",
       "#sk-container-id-1 div.sk-estimator.fitted input.sk-toggleable__control:checked~label.sk-toggleable__label {\n",
       "  /* fitted */\n",
       "  background-color: var(--sklearn-color-fitted-level-2);\n",
       "}\n",
       "\n",
       "#sk-container-id-1 div.sk-label label.sk-toggleable__label,\n",
       "#sk-container-id-1 div.sk-label label {\n",
       "  /* The background is the default theme color */\n",
       "  color: var(--sklearn-color-text-on-default-background);\n",
       "}\n",
       "\n",
       "/* On hover, darken the color of the background */\n",
       "#sk-container-id-1 div.sk-label:hover label.sk-toggleable__label {\n",
       "  color: var(--sklearn-color-text);\n",
       "  background-color: var(--sklearn-color-unfitted-level-2);\n",
       "}\n",
       "\n",
       "/* Label box, darken color on hover, fitted */\n",
       "#sk-container-id-1 div.sk-label.fitted:hover label.sk-toggleable__label.fitted {\n",
       "  color: var(--sklearn-color-text);\n",
       "  background-color: var(--sklearn-color-fitted-level-2);\n",
       "}\n",
       "\n",
       "/* Estimator label */\n",
       "\n",
       "#sk-container-id-1 div.sk-label label {\n",
       "  font-family: monospace;\n",
       "  font-weight: bold;\n",
       "  display: inline-block;\n",
       "  line-height: 1.2em;\n",
       "}\n",
       "\n",
       "#sk-container-id-1 div.sk-label-container {\n",
       "  text-align: center;\n",
       "}\n",
       "\n",
       "/* Estimator-specific */\n",
       "#sk-container-id-1 div.sk-estimator {\n",
       "  font-family: monospace;\n",
       "  border: 1px dotted var(--sklearn-color-border-box);\n",
       "  border-radius: 0.25em;\n",
       "  box-sizing: border-box;\n",
       "  margin-bottom: 0.5em;\n",
       "  /* unfitted */\n",
       "  background-color: var(--sklearn-color-unfitted-level-0);\n",
       "}\n",
       "\n",
       "#sk-container-id-1 div.sk-estimator.fitted {\n",
       "  /* fitted */\n",
       "  background-color: var(--sklearn-color-fitted-level-0);\n",
       "}\n",
       "\n",
       "/* on hover */\n",
       "#sk-container-id-1 div.sk-estimator:hover {\n",
       "  /* unfitted */\n",
       "  background-color: var(--sklearn-color-unfitted-level-2);\n",
       "}\n",
       "\n",
       "#sk-container-id-1 div.sk-estimator.fitted:hover {\n",
       "  /* fitted */\n",
       "  background-color: var(--sklearn-color-fitted-level-2);\n",
       "}\n",
       "\n",
       "/* Specification for estimator info (e.g. \"i\" and \"?\") */\n",
       "\n",
       "/* Common style for \"i\" and \"?\" */\n",
       "\n",
       ".sk-estimator-doc-link,\n",
       "a:link.sk-estimator-doc-link,\n",
       "a:visited.sk-estimator-doc-link {\n",
       "  float: right;\n",
       "  font-size: smaller;\n",
       "  line-height: 1em;\n",
       "  font-family: monospace;\n",
       "  background-color: var(--sklearn-color-background);\n",
       "  border-radius: 1em;\n",
       "  height: 1em;\n",
       "  width: 1em;\n",
       "  text-decoration: none !important;\n",
       "  margin-left: 1ex;\n",
       "  /* unfitted */\n",
       "  border: var(--sklearn-color-unfitted-level-1) 1pt solid;\n",
       "  color: var(--sklearn-color-unfitted-level-1);\n",
       "}\n",
       "\n",
       ".sk-estimator-doc-link.fitted,\n",
       "a:link.sk-estimator-doc-link.fitted,\n",
       "a:visited.sk-estimator-doc-link.fitted {\n",
       "  /* fitted */\n",
       "  border: var(--sklearn-color-fitted-level-1) 1pt solid;\n",
       "  color: var(--sklearn-color-fitted-level-1);\n",
       "}\n",
       "\n",
       "/* On hover */\n",
       "div.sk-estimator:hover .sk-estimator-doc-link:hover,\n",
       ".sk-estimator-doc-link:hover,\n",
       "div.sk-label-container:hover .sk-estimator-doc-link:hover,\n",
       ".sk-estimator-doc-link:hover {\n",
       "  /* unfitted */\n",
       "  background-color: var(--sklearn-color-unfitted-level-3);\n",
       "  color: var(--sklearn-color-background);\n",
       "  text-decoration: none;\n",
       "}\n",
       "\n",
       "div.sk-estimator.fitted:hover .sk-estimator-doc-link.fitted:hover,\n",
       ".sk-estimator-doc-link.fitted:hover,\n",
       "div.sk-label-container:hover .sk-estimator-doc-link.fitted:hover,\n",
       ".sk-estimator-doc-link.fitted:hover {\n",
       "  /* fitted */\n",
       "  background-color: var(--sklearn-color-fitted-level-3);\n",
       "  color: var(--sklearn-color-background);\n",
       "  text-decoration: none;\n",
       "}\n",
       "\n",
       "/* Span, style for the box shown on hovering the info icon */\n",
       ".sk-estimator-doc-link span {\n",
       "  display: none;\n",
       "  z-index: 9999;\n",
       "  position: relative;\n",
       "  font-weight: normal;\n",
       "  right: .2ex;\n",
       "  padding: .5ex;\n",
       "  margin: .5ex;\n",
       "  width: min-content;\n",
       "  min-width: 20ex;\n",
       "  max-width: 50ex;\n",
       "  color: var(--sklearn-color-text);\n",
       "  box-shadow: 2pt 2pt 4pt #999;\n",
       "  /* unfitted */\n",
       "  background: var(--sklearn-color-unfitted-level-0);\n",
       "  border: .5pt solid var(--sklearn-color-unfitted-level-3);\n",
       "}\n",
       "\n",
       ".sk-estimator-doc-link.fitted span {\n",
       "  /* fitted */\n",
       "  background: var(--sklearn-color-fitted-level-0);\n",
       "  border: var(--sklearn-color-fitted-level-3);\n",
       "}\n",
       "\n",
       ".sk-estimator-doc-link:hover span {\n",
       "  display: block;\n",
       "}\n",
       "\n",
       "/* \"?\"-specific style due to the `<a>` HTML tag */\n",
       "\n",
       "#sk-container-id-1 a.estimator_doc_link {\n",
       "  float: right;\n",
       "  font-size: 1rem;\n",
       "  line-height: 1em;\n",
       "  font-family: monospace;\n",
       "  background-color: var(--sklearn-color-background);\n",
       "  border-radius: 1rem;\n",
       "  height: 1rem;\n",
       "  width: 1rem;\n",
       "  text-decoration: none;\n",
       "  /* unfitted */\n",
       "  color: var(--sklearn-color-unfitted-level-1);\n",
       "  border: var(--sklearn-color-unfitted-level-1) 1pt solid;\n",
       "}\n",
       "\n",
       "#sk-container-id-1 a.estimator_doc_link.fitted {\n",
       "  /* fitted */\n",
       "  border: var(--sklearn-color-fitted-level-1) 1pt solid;\n",
       "  color: var(--sklearn-color-fitted-level-1);\n",
       "}\n",
       "\n",
       "/* On hover */\n",
       "#sk-container-id-1 a.estimator_doc_link:hover {\n",
       "  /* unfitted */\n",
       "  background-color: var(--sklearn-color-unfitted-level-3);\n",
       "  color: var(--sklearn-color-background);\n",
       "  text-decoration: none;\n",
       "}\n",
       "\n",
       "#sk-container-id-1 a.estimator_doc_link.fitted:hover {\n",
       "  /* fitted */\n",
       "  background-color: var(--sklearn-color-fitted-level-3);\n",
       "}\n",
       "</style><div id=\"sk-container-id-1\" class=\"sk-top-container\"><div class=\"sk-text-repr-fallback\"><pre>GridSearchCV(cv=4, error_score=&#x27;raise&#x27;,\n",
       "             estimator=Pipeline(steps=[(&#x27;scaler&#x27;, StandardScaler()),\n",
       "                                       (&#x27;regressor&#x27;,\n",
       "                                        &lt;catboost.core.CatBoostRegressor object at 0x7f6bce4d9b80&gt;)]),\n",
       "             n_jobs=-1,\n",
       "             param_grid={&#x27;regressor__depth&#x27;: [6, 8],\n",
       "                         &#x27;regressor__iterations&#x27;: [100],\n",
       "                         &#x27;regressor__learning_rate&#x27;: [0.05]},\n",
       "             scoring=make_scorer(mean_squared_error, response_method=&#x27;predict&#x27;, squared=False))</pre><b>In a Jupyter environment, please rerun this cell to show the HTML representation or trust the notebook. <br />On GitHub, the HTML representation is unable to render, please try loading this page with nbviewer.org.</b></div><div class=\"sk-container\" hidden><div class=\"sk-item sk-dashed-wrapped\"><div class=\"sk-label-container\"><div class=\"sk-label fitted sk-toggleable\"><input class=\"sk-toggleable__control sk-hidden--visually\" id=\"sk-estimator-id-1\" type=\"checkbox\" ><label for=\"sk-estimator-id-1\" class=\"sk-toggleable__label fitted sk-toggleable__label-arrow fitted\">&nbsp;&nbsp;GridSearchCV<a class=\"sk-estimator-doc-link fitted\" rel=\"noreferrer\" target=\"_blank\" href=\"https://scikit-learn.org/1.5/modules/generated/sklearn.model_selection.GridSearchCV.html\">?<span>Documentation for GridSearchCV</span></a><span class=\"sk-estimator-doc-link fitted\">i<span>Fitted</span></span></label><div class=\"sk-toggleable__content fitted\"><pre>GridSearchCV(cv=4, error_score=&#x27;raise&#x27;,\n",
       "             estimator=Pipeline(steps=[(&#x27;scaler&#x27;, StandardScaler()),\n",
       "                                       (&#x27;regressor&#x27;,\n",
       "                                        &lt;catboost.core.CatBoostRegressor object at 0x7f6bce4d9b80&gt;)]),\n",
       "             n_jobs=-1,\n",
       "             param_grid={&#x27;regressor__depth&#x27;: [6, 8],\n",
       "                         &#x27;regressor__iterations&#x27;: [100],\n",
       "                         &#x27;regressor__learning_rate&#x27;: [0.05]},\n",
       "             scoring=make_scorer(mean_squared_error, response_method=&#x27;predict&#x27;, squared=False))</pre></div> </div></div><div class=\"sk-parallel\"><div class=\"sk-parallel-item\"><div class=\"sk-item\"><div class=\"sk-label-container\"><div class=\"sk-label fitted sk-toggleable\"><input class=\"sk-toggleable__control sk-hidden--visually\" id=\"sk-estimator-id-2\" type=\"checkbox\" ><label for=\"sk-estimator-id-2\" class=\"sk-toggleable__label fitted sk-toggleable__label-arrow fitted\">best_estimator_: Pipeline</label><div class=\"sk-toggleable__content fitted\"><pre>Pipeline(steps=[(&#x27;scaler&#x27;, StandardScaler()),\n",
       "                (&#x27;regressor&#x27;,\n",
       "                 &lt;catboost.core.CatBoostRegressor object at 0x7f6bccd44550&gt;)])</pre></div> </div></div><div class=\"sk-serial\"><div class=\"sk-item\"><div class=\"sk-serial\"><div class=\"sk-item\"><div class=\"sk-estimator fitted sk-toggleable\"><input class=\"sk-toggleable__control sk-hidden--visually\" id=\"sk-estimator-id-3\" type=\"checkbox\" ><label for=\"sk-estimator-id-3\" class=\"sk-toggleable__label fitted sk-toggleable__label-arrow fitted\">&nbsp;StandardScaler<a class=\"sk-estimator-doc-link fitted\" rel=\"noreferrer\" target=\"_blank\" href=\"https://scikit-learn.org/1.5/modules/generated/sklearn.preprocessing.StandardScaler.html\">?<span>Documentation for StandardScaler</span></a></label><div class=\"sk-toggleable__content fitted\"><pre>StandardScaler()</pre></div> </div></div><div class=\"sk-item\"><div class=\"sk-estimator fitted sk-toggleable\"><input class=\"sk-toggleable__control sk-hidden--visually\" id=\"sk-estimator-id-4\" type=\"checkbox\" ><label for=\"sk-estimator-id-4\" class=\"sk-toggleable__label fitted sk-toggleable__label-arrow fitted\">CatBoostRegressor</label><div class=\"sk-toggleable__content fitted\"><pre>&lt;catboost.core.CatBoostRegressor object at 0x7f6bccd44550&gt;</pre></div> </div></div></div></div></div></div></div></div></div></div></div>"
      ],
      "text/plain": [
       "GridSearchCV(cv=4, error_score='raise',\n",
       "             estimator=Pipeline(steps=[('scaler', StandardScaler()),\n",
       "                                       ('regressor',\n",
       "                                        <catboost.core.CatBoostRegressor object at 0x7f6bce4d9b80>)]),\n",
       "             n_jobs=-1,\n",
       "             param_grid={'regressor__depth': [6, 8],\n",
       "                         'regressor__iterations': [100],\n",
       "                         'regressor__learning_rate': [0.05]},\n",
       "             scoring=make_scorer(mean_squared_error, response_method='predict', squared=False))"
      ]
     },
     "execution_count": 37,
     "metadata": {},
     "output_type": "execute_result"
    }
   ],
   "source": [
    "def select_best_model(results, features_test, target_test):\n",
    "    # Инициализация переменных для хранения лучшей модели и метрик\n",
    "    best_model_name = None\n",
    "    best_rmse = float('inf')\n",
    "    best_fit_time = float('inf')\n",
    "    best_predict_time = float('inf')\n",
    "    best_grid = None\n",
    "\n",
    "    # Перебор всех моделей и их метрик\n",
    "    for model_name, result in results.items():\n",
    "        current_rmse = result['grid'].best_score_\n",
    "        current_fit_time = result['train_time']\n",
    "        current_predict_time = result['predict_time']\n",
    "\n",
    "        if (current_predict_time < best_predict_time) or \\\n",
    "           (abs(current_predict_time - best_predict_time) < 0.1 and current_rmse < best_rmse) or \\\n",
    "           (abs(current_rmse - best_rmse) / best_rmse < 0.01 and current_fit_time < best_fit_time):\n",
    "            \n",
    "            best_model_name = model_name\n",
    "            best_rmse = current_rmse\n",
    "            best_fit_time = current_fit_time\n",
    "            best_predict_time = current_predict_time\n",
    "            best_grid = result['grid']\n",
    "\n",
    "    # Оценка на тестовой выборке для лучшей модели\n",
    "    start_time = time.time()\n",
    "    predictions = best_grid.predict(features_test)\n",
    "    test_predict_time = time.time() - start_time\n",
    "    test_rmse = mean_squared_error(target_test, predictions, squared=False)\n",
    "\n",
    "    # Вывод результатов\n",
    "    print(\"\\nЛучшая модель по времени предсказания:\")\n",
    "    print(f\"Модель: {best_model_name}\")\n",
    "    print(f\"Лучший RMSE на валидации: {best_rmse:.4f}\")\n",
    "    print(f\"Время обучения: {best_fit_time:.2f} секунд\")\n",
    "    print(f\"Время предсказания (валидация): {best_predict_time:.2f} секунд\")\n",
    "    print(f\"Время предсказания на тестовой выборке: {test_predict_time:.2f} секунд\")\n",
    "    print(f\"RMSE на тестовой выборке: {test_rmse:.4f}\\n\")\n",
    "\n",
    "    return best_grid\n",
    "\n",
    "# Вызов функции для определения лучшей модели\n",
    "select_best_model(results, features_test, target_test)\n",
    "\n"
   ]
  },
  {
   "cell_type": "markdown",
   "metadata": {},
   "source": [
    "<div class=\"alert alert-block alert-danger\">\n",
    "    \n",
    "\n",
    "<b>Ошибка:</b>  Тебе нужно сначала получить все три метрики для каждой модели: rmse, время обучения, время предсказания. И на основе этих метрик выбрать лучшую модель и только затем ее оценить на тестовой выборке"
   ]
  },
  {
   "cell_type": "markdown",
   "metadata": {},
   "source": [
    "</div><div class=\"alert alert-block alert-warning\">\n",
    "<b>Комментарий студента:</b> Ошибка учтена \n",
    "</div>"
   ]
  },
  {
   "cell_type": "markdown",
   "metadata": {},
   "source": [
    "\n",
    "<div class=\"alert alert-block alert-success\">\n",
    "    \n",
    "<b>Успех[2]:</b> Интересный критерий отбора лучшей модели, о нем можно было бы написать текстом подробнее - было бы позновательно.\n",
    "</div>"
   ]
  },
  {
   "cell_type": "markdown",
   "metadata": {},
   "source": [
    "## Анализ моделей"
   ]
  },
  {
   "cell_type": "markdown",
   "metadata": {},
   "source": [
    "В рамках данного проекта были протестированы и обучены несколько моделей для предсказания стоимости автомобилей на основе предоставленных данных. В качестве метрики качества была выбрана RMSE (Root Mean Squared Error), с целью достижения значения ниже 2500, согласно требованиям задания.\n",
    "\n",
    "1. Модель LinearRegression\n",
    "\n",
    "Описание: Простая линейная регрессия использовалась в качестве базовой модели для оценки начального уровня качества предсказаний.\n",
    "\n",
    "Результаты:\n",
    "\n",
    "RMSE: 5450.20\n",
    "\n",
    "Время обучения: 2.13 секунд\n",
    "\n",
    "Время предсказания: 0.04 секунд\n",
    "\n",
    "Вывод:Модель не смогла удовлетворить требование RMSE < 2500, что было ожидаемо для линейной модели на данных с высокой размерностью и сложными нелинейными зависимостями.\n",
    "\n",
    "2. Модель DecisionTreeRegressor\n",
    "\n",
    "Описание: Использовалась модель решающего дерева для оценки её предсказательной способности на имеющихся данных.\n",
    "\n",
    "Результаты:\n",
    "\n",
    "RMSE: 2442.74\n",
    "\n",
    "Время обучения: 15.47 секунд\n",
    "\n",
    "Время предсказания: 0.01 секунд\n",
    "\n",
    "Вывод: Модель решающего дерева смогла удовлетворить пороговое значение RMSE < 2500, однако, её предсказательная способность ограничена из-за склонности к переобучению. Модель показала очень короткое время предсказания, что может быть преимуществом при обработке данных в реальном времени.\n",
    "\n",
    "3. Модель SGDRegressor\n",
    "\n",
    "Описание: Модель стохастического градиентного спуска использовалась для предсказания с регуляризацией.\n",
    "\n",
    "Результаты:\n",
    "\n",
    "RMSE: 2983.10\n",
    "\n",
    "Время обучения: 12.05 секунд\n",
    "\n",
    "Время предсказания: 0.05 секунд\n",
    "\n",
    "Вывод: Несмотря на использование регуляризации, модель показала результаты, хуже порогового значения RMSE < 2500. Это говорит о том, что линейные методы не подходят для данной задачи.\n",
    "\n",
    "4. Модель CatBoostRegressor\n",
    "\n",
    "Описание: Использовалась градиентная бустинговая модель CatBoost для повышения качества предсказаний.\n",
    "\n",
    "Результаты:\n",
    "\n",
    "RMSE: 1931.43\n",
    "\n",
    "Время обучения: 34.37 секунд\n",
    "\n",
    "Время предсказания: 0.02 секунд\n",
    "\n",
    "Вывод: CatBoost показал наилучшие результаты среди всех протестированных моделей, не только удовлетворив требование RMSE < 2500, но и продемонстрировав короткое время предсказания. Это делает его отличным выбором для задачи, где важно как качество предсказаний, так и производительность.\n",
    "\n",
    "5. Модель LGBMRegressor\n",
    "\n",
    "Описание: Использовался LightGBM для предсказания, так как эта модель хорошо справляется с большими данными и высокой размерностью.\n",
    "\n",
    "Результаты:\n",
    "\n",
    "RMSE: 1797.11\n",
    "\n",
    "Время обучения: 584.02 секунд\n",
    "\n",
    "0.80 секунд\n",
    "\n",
    "Вывод: LGBMRegressor показал не намного лучше RMSE чем CatBoost, однако его время обучения и время предсказания значительно больше в сравнении.\n",
    "\n",
    "Вывод:\n",
    "\n",
    "**Из всех протестированных моделей, CatBoostRegressor оказался оптимальным выбором, поскольку он удовлетворил требование RMSE < 2500 и продемонстрировал короткое время предсказания.**\n",
    "\n",
    "**Модель LGBMRegressor, хотя и показала лучший RMSE, потребовала значительно больше времени на обучение, что делает её менее предпочтительной для данной задачи.**\n",
    "\n",
    "**Для дальнейшего улучшения качества предсказаний можно использовать гиперпараметрический поиск для модели CatBoostRegressor, а также попробовать дополнительные методы обработки данных.\n",
    "Также возможно использование ансамблевых методов для повышения точности предсказаний.**\n"
   ]
  },
  {
   "cell_type": "markdown",
   "metadata": {},
   "source": [
    "# Выводы проекта:"
   ]
  },
  {
   "cell_type": "markdown",
   "metadata": {},
   "source": [
    "**Цель проекта была успешно достигнута. Оптимальной моделью для прогнозирования стоимости подержанных автомобилей стала** \n",
    "\n",
    "**CatBoostRegressor с параметрами по умолчанию. В процессе работы были выполнены следующие этапы:**\n",
    "\n",
    "- **Проведен анализ и предварительная загрузка данных, выявлены ключевые особенности датасета.**\n",
    "- **Осуществлена предобработка данных: удалены выбросы, заполнены пропуски и выполнено кодирование категориальных признаков.**\n",
    "- **Данные приведены к формату, для обучения моделей машинного обучения.**\n",
    "- **Были протестированы несколько моделей, включая LGBMRegressor и не бустинговая модель.**\n",
    "- **В соответствии с критериями заказчика, выбрана модель с наименьшей ошибкой (RMSE менее 2500) и оптимальным временем обучения и предсказания.**\n",
    "- **Проанализированы результаты всех моделей и проведено сравнение их производительности, что позволило сделать окончательный выбор в пользу CatBoostRegressor для данной задачи.**"
   ]
  },
  {
   "cell_type": "markdown",
   "metadata": {},
   "source": [
    "<div class=\"alert alert-block alert-success\">\n",
    "<b>Успех:</b> Всегда приятно наблюдать подробный и структурированный итоговый вывод в конце работы!\n",
    "</div>\n",
    "\n",
    "<div class=\"alert alert-block alert-info\">\n",
    "<b>Совет:</b> \n",
    "\n",
    "Также если говорить, что можно ещё улучшить в подобных проектах, то я бы выделил такие моменты:<br>\n",
    "    \n",
    "1) Для понимания, а какие в итоге факторы важны при моделировании, можно выводить их важность, использую feature_importances_, ну и график заодно. Это будет смотреться очнь здорово: результативная метрика и график важности факторов)))\n",
    "    \n",
    "2) У нас разный возраст машин. Есть гипотеза, что для разных возрастов - своё ценообразование. Поэтому, можно попробовать ввести фактор \"тип возраста\" (ретро, супер-ретро, старая, новая... надо подумать..)..<br>\n",
    "\n",
    "3) У некоторых моделей семейства бустингов, есть внутренний метод кодировки данных, который хорошо было бы попробовать\n",
    "</div>"
   ]
  },
  {
   "cell_type": "markdown",
   "metadata": {},
   "source": [
    "## Чек-лист проверки"
   ]
  },
  {
   "cell_type": "markdown",
   "metadata": {},
   "source": [
    "Поставьте 'x' в выполненных пунктах. Далее нажмите Shift+Enter."
   ]
  },
  {
   "cell_type": "markdown",
   "metadata": {},
   "source": [
    "- [x]  Jupyter Notebook открыт\n",
    "- [x]  Весь код выполняется без ошибок\n",
    "- [x]  Ячейки с кодом расположены в порядке исполнения\n",
    "- [x]  Выполнена загрузка и подготовка данных\n",
    "- [x]  Выполнено обучение моделей\n",
    "- [x]  Есть анализ скорости работы и качества моделей"
   ]
  }
 ],
 "metadata": {
  "ExecuteTimeLog": [
   {
    "duration": 3,
    "start_time": "2024-11-10T14:47:11.505Z"
   },
   {
    "duration": 1791,
    "start_time": "2024-11-10T15:02:36.208Z"
   },
   {
    "duration": 168,
    "start_time": "2024-11-10T15:41:55.471Z"
   },
   {
    "duration": 45,
    "start_time": "2024-11-10T15:49:02.348Z"
   },
   {
    "duration": 3192,
    "start_time": "2024-11-10T15:49:04.195Z"
   },
   {
    "duration": 987,
    "start_time": "2024-11-10T15:56:42.072Z"
   },
   {
    "duration": 964,
    "start_time": "2024-11-10T15:56:55.547Z"
   },
   {
    "duration": 149,
    "start_time": "2024-11-10T15:57:15.776Z"
   },
   {
    "duration": 451,
    "start_time": "2024-11-10T16:07:43.516Z"
   },
   {
    "duration": 480,
    "start_time": "2024-11-10T16:16:23.776Z"
   },
   {
    "duration": 92,
    "start_time": "2024-11-10T16:16:55.141Z"
   },
   {
    "duration": 9,
    "start_time": "2024-11-10T16:27:49.857Z"
   },
   {
    "duration": 16,
    "start_time": "2024-11-10T16:28:19.092Z"
   },
   {
    "duration": 1193,
    "start_time": "2024-11-10T16:28:37.506Z"
   },
   {
    "duration": 3797,
    "start_time": "2024-11-10T16:28:45.238Z"
   },
   {
    "duration": 55,
    "start_time": "2024-11-10T16:28:51.370Z"
   },
   {
    "duration": 1008,
    "start_time": "2024-11-10T16:28:52.795Z"
   },
   {
    "duration": 157,
    "start_time": "2024-11-10T16:28:53.805Z"
   },
   {
    "duration": 115,
    "start_time": "2024-11-10T16:28:54.642Z"
   },
   {
    "duration": 492,
    "start_time": "2024-11-10T16:28:54.965Z"
   },
   {
    "duration": 530,
    "start_time": "2024-11-11T10:33:42.490Z"
   },
   {
    "duration": 0,
    "start_time": "2024-11-11T10:33:43.022Z"
   },
   {
    "duration": 7,
    "start_time": "2024-11-11T10:33:43.358Z"
   },
   {
    "duration": 7,
    "start_time": "2024-11-11T10:33:43.926Z"
   },
   {
    "duration": 3513,
    "start_time": "2024-11-11T10:36:41.315Z"
   },
   {
    "duration": 1725,
    "start_time": "2024-11-11T10:36:44.831Z"
   },
   {
    "duration": 3065,
    "start_time": "2024-11-11T10:36:46.557Z"
   },
   {
    "duration": 153,
    "start_time": "2024-11-11T10:36:49.624Z"
   },
   {
    "duration": 153,
    "start_time": "2024-11-11T10:36:49.780Z"
   },
   {
    "duration": 545,
    "start_time": "2024-11-11T10:36:49.935Z"
   },
   {
    "duration": 582,
    "start_time": "2024-11-11T10:59:47.171Z"
   },
   {
    "duration": 188,
    "start_time": "2024-11-11T11:02:56.475Z"
   },
   {
    "duration": 10367,
    "start_time": "2024-11-11T11:06:09.482Z"
   },
   {
    "duration": 10327,
    "start_time": "2024-11-11T11:07:47.976Z"
   },
   {
    "duration": 10771,
    "start_time": "2024-11-11T11:08:12.531Z"
   },
   {
    "duration": 10297,
    "start_time": "2024-11-11T11:08:37.342Z"
   },
   {
    "duration": 2660,
    "start_time": "2024-11-11T11:11:54.663Z"
   },
   {
    "duration": 1583,
    "start_time": "2024-11-11T11:11:57.325Z"
   },
   {
    "duration": 954,
    "start_time": "2024-11-11T11:11:58.909Z"
   },
   {
    "duration": 157,
    "start_time": "2024-11-11T11:11:59.866Z"
   },
   {
    "duration": 106,
    "start_time": "2024-11-11T11:12:00.025Z"
   },
   {
    "duration": 509,
    "start_time": "2024-11-11T11:12:00.133Z"
   },
   {
    "duration": 587,
    "start_time": "2024-11-11T11:12:00.644Z"
   },
   {
    "duration": 10704,
    "start_time": "2024-11-11T11:12:01.232Z"
   },
   {
    "duration": 207,
    "start_time": "2024-11-11T11:12:11.938Z"
   },
   {
    "duration": 7,
    "start_time": "2024-11-11T11:23:18.143Z"
   },
   {
    "duration": 55,
    "start_time": "2024-11-11T11:29:49.313Z"
   },
   {
    "duration": 60,
    "start_time": "2024-11-11T11:30:20.517Z"
   },
   {
    "duration": 46,
    "start_time": "2024-11-11T11:30:35.395Z"
   },
   {
    "duration": 49,
    "start_time": "2024-11-11T11:30:58.231Z"
   },
   {
    "duration": 8,
    "start_time": "2024-11-11T11:43:18.292Z"
   },
   {
    "duration": 58,
    "start_time": "2024-11-11T11:45:10.882Z"
   },
   {
    "duration": 5227,
    "start_time": "2024-11-11T11:49:01.875Z"
   },
   {
    "duration": 2565,
    "start_time": "2024-11-11T11:49:12.721Z"
   },
   {
    "duration": 1556,
    "start_time": "2024-11-11T11:49:15.289Z"
   },
   {
    "duration": 898,
    "start_time": "2024-11-11T11:49:16.847Z"
   },
   {
    "duration": 174,
    "start_time": "2024-11-11T11:49:17.747Z"
   },
   {
    "duration": 152,
    "start_time": "2024-11-11T11:49:17.922Z"
   },
   {
    "duration": 529,
    "start_time": "2024-11-11T11:49:18.076Z"
   },
   {
    "duration": 601,
    "start_time": "2024-11-11T11:49:18.606Z"
   },
   {
    "duration": 10649,
    "start_time": "2024-11-11T11:49:19.209Z"
   },
   {
    "duration": 159,
    "start_time": "2024-11-11T11:49:29.859Z"
   },
   {
    "duration": 6,
    "start_time": "2024-11-11T11:49:30.021Z"
   },
   {
    "duration": 93,
    "start_time": "2024-11-11T11:49:30.029Z"
   },
   {
    "duration": 8,
    "start_time": "2024-11-11T11:49:30.124Z"
   },
   {
    "duration": 5282,
    "start_time": "2024-11-11T11:49:30.134Z"
   },
   {
    "duration": 4441,
    "start_time": "2024-11-11T11:52:17.456Z"
   },
   {
    "duration": 12,
    "start_time": "2024-11-11T11:54:21.742Z"
   },
   {
    "duration": 2447,
    "start_time": "2024-11-11T11:54:40.626Z"
   },
   {
    "duration": 1477,
    "start_time": "2024-11-11T11:54:43.076Z"
   },
   {
    "duration": 947,
    "start_time": "2024-11-11T11:54:44.556Z"
   },
   {
    "duration": 178,
    "start_time": "2024-11-11T11:54:45.506Z"
   },
   {
    "duration": 110,
    "start_time": "2024-11-11T11:54:45.686Z"
   },
   {
    "duration": 523,
    "start_time": "2024-11-11T11:54:45.798Z"
   },
   {
    "duration": 601,
    "start_time": "2024-11-11T11:54:46.323Z"
   },
   {
    "duration": 10156,
    "start_time": "2024-11-11T11:54:46.925Z"
   },
   {
    "duration": 160,
    "start_time": "2024-11-11T11:54:57.083Z"
   },
   {
    "duration": 7,
    "start_time": "2024-11-11T11:54:57.244Z"
   },
   {
    "duration": 74,
    "start_time": "2024-11-11T11:54:57.252Z"
   },
   {
    "duration": 8,
    "start_time": "2024-11-11T11:54:57.327Z"
   },
   {
    "duration": 4408,
    "start_time": "2024-11-11T11:54:57.337Z"
   },
   {
    "duration": 14,
    "start_time": "2024-11-11T11:55:01.747Z"
   },
   {
    "duration": 4,
    "start_time": "2024-11-11T11:56:27.657Z"
   },
   {
    "duration": 12,
    "start_time": "2024-11-11T11:56:28.824Z"
   },
   {
    "duration": 7,
    "start_time": "2024-11-11T11:57:01.650Z"
   },
   {
    "duration": 6,
    "start_time": "2024-11-11T11:57:16.754Z"
   },
   {
    "duration": 85,
    "start_time": "2024-11-11T12:00:26.840Z"
   },
   {
    "duration": 149,
    "start_time": "2024-11-11T12:03:03.298Z"
   },
   {
    "duration": 195,
    "start_time": "2024-11-11T12:04:15.023Z"
   },
   {
    "duration": 2558,
    "start_time": "2024-11-11T12:04:21.936Z"
   },
   {
    "duration": 1656,
    "start_time": "2024-11-11T12:04:24.496Z"
   },
   {
    "duration": 935,
    "start_time": "2024-11-11T12:04:26.154Z"
   },
   {
    "duration": 154,
    "start_time": "2024-11-11T12:04:27.091Z"
   },
   {
    "duration": 99,
    "start_time": "2024-11-11T12:04:27.248Z"
   },
   {
    "duration": 538,
    "start_time": "2024-11-11T12:04:27.348Z"
   },
   {
    "duration": 610,
    "start_time": "2024-11-11T12:04:27.887Z"
   },
   {
    "duration": 10521,
    "start_time": "2024-11-11T12:04:28.499Z"
   },
   {
    "duration": 165,
    "start_time": "2024-11-11T12:04:39.022Z"
   },
   {
    "duration": 6,
    "start_time": "2024-11-11T12:04:39.189Z"
   },
   {
    "duration": 64,
    "start_time": "2024-11-11T12:04:39.197Z"
   },
   {
    "duration": 10,
    "start_time": "2024-11-11T12:04:39.263Z"
   },
   {
    "duration": 237,
    "start_time": "2024-11-11T12:04:39.275Z"
   },
   {
    "duration": 6982,
    "start_time": "2024-11-11T12:09:59.370Z"
   },
   {
    "duration": 283,
    "start_time": "2024-11-11T12:10:41.542Z"
   },
   {
    "duration": 135,
    "start_time": "2024-11-11T12:10:50.950Z"
   },
   {
    "duration": 120,
    "start_time": "2024-11-11T12:11:03.500Z"
   },
   {
    "duration": 129,
    "start_time": "2024-11-11T13:04:50.784Z"
   },
   {
    "duration": 128,
    "start_time": "2024-11-11T13:05:32.015Z"
   },
   {
    "duration": 132,
    "start_time": "2024-11-11T13:05:37.673Z"
   },
   {
    "duration": 2476,
    "start_time": "2024-11-11T13:05:48.200Z"
   },
   {
    "duration": 1588,
    "start_time": "2024-11-11T13:05:50.678Z"
   },
   {
    "duration": 963,
    "start_time": "2024-11-11T13:05:52.268Z"
   },
   {
    "duration": 164,
    "start_time": "2024-11-11T13:05:53.233Z"
   },
   {
    "duration": 103,
    "start_time": "2024-11-11T13:05:53.399Z"
   },
   {
    "duration": 505,
    "start_time": "2024-11-11T13:05:53.504Z"
   },
   {
    "duration": 609,
    "start_time": "2024-11-11T13:05:54.010Z"
   },
   {
    "duration": 10459,
    "start_time": "2024-11-11T13:05:54.621Z"
   },
   {
    "duration": 160,
    "start_time": "2024-11-11T13:06:05.082Z"
   },
   {
    "duration": 8,
    "start_time": "2024-11-11T13:06:05.244Z"
   },
   {
    "duration": 68,
    "start_time": "2024-11-11T13:06:05.254Z"
   },
   {
    "duration": 11,
    "start_time": "2024-11-11T13:06:05.324Z"
   },
   {
    "duration": 196,
    "start_time": "2024-11-11T13:06:05.336Z"
   },
   {
    "duration": 120,
    "start_time": "2024-11-11T13:08:30.226Z"
   },
   {
    "duration": 13,
    "start_time": "2024-11-11T13:08:32.493Z"
   },
   {
    "duration": 12,
    "start_time": "2024-11-11T13:09:50.760Z"
   },
   {
    "duration": 2,
    "start_time": "2024-11-11T13:09:54.634Z"
   },
   {
    "duration": 12,
    "start_time": "2024-11-11T13:09:55.607Z"
   },
   {
    "duration": 5,
    "start_time": "2024-11-11T13:10:41.119Z"
   },
   {
    "duration": 5,
    "start_time": "2024-11-11T13:11:06.545Z"
   },
   {
    "duration": 5,
    "start_time": "2024-11-11T13:11:14.707Z"
   },
   {
    "duration": 664,
    "start_time": "2024-11-11T13:27:59.223Z"
   },
   {
    "duration": 7,
    "start_time": "2024-11-11T13:31:11.577Z"
   },
   {
    "duration": 49,
    "start_time": "2024-11-11T13:32:45.289Z"
   },
   {
    "duration": 2549,
    "start_time": "2024-11-11T13:32:55.671Z"
   },
   {
    "duration": 1618,
    "start_time": "2024-11-11T13:32:58.222Z"
   },
   {
    "duration": 968,
    "start_time": "2024-11-11T13:32:59.841Z"
   },
   {
    "duration": 177,
    "start_time": "2024-11-11T13:33:00.811Z"
   },
   {
    "duration": 109,
    "start_time": "2024-11-11T13:33:00.990Z"
   },
   {
    "duration": 537,
    "start_time": "2024-11-11T13:33:01.100Z"
   },
   {
    "duration": 654,
    "start_time": "2024-11-11T13:33:01.640Z"
   },
   {
    "duration": 10587,
    "start_time": "2024-11-11T13:33:02.296Z"
   },
   {
    "duration": 191,
    "start_time": "2024-11-11T13:33:12.884Z"
   },
   {
    "duration": 9,
    "start_time": "2024-11-11T13:33:13.077Z"
   },
   {
    "duration": 77,
    "start_time": "2024-11-11T13:33:13.088Z"
   },
   {
    "duration": 9,
    "start_time": "2024-11-11T13:33:13.166Z"
   },
   {
    "duration": 170,
    "start_time": "2024-11-11T13:33:13.176Z"
   },
   {
    "duration": 678,
    "start_time": "2024-11-11T13:33:13.349Z"
   },
   {
    "duration": 7,
    "start_time": "2024-11-11T13:33:14.029Z"
   },
   {
    "duration": 269,
    "start_time": "2024-11-11T13:59:24.061Z"
   },
   {
    "duration": 22,
    "start_time": "2024-11-11T13:59:38.416Z"
   },
   {
    "duration": 13,
    "start_time": "2024-11-11T14:01:16.727Z"
   },
   {
    "duration": 57,
    "start_time": "2024-11-11T14:01:40.930Z"
   },
   {
    "duration": 526,
    "start_time": "2024-11-11T14:03:32.344Z"
   },
   {
    "duration": 22,
    "start_time": "2024-11-11T14:04:06.619Z"
   },
   {
    "duration": 6,
    "start_time": "2024-11-11T14:04:25.367Z"
   },
   {
    "duration": 6,
    "start_time": "2024-11-11T14:04:33.779Z"
   },
   {
    "duration": 5,
    "start_time": "2024-11-11T14:04:35.152Z"
   },
   {
    "duration": 10,
    "start_time": "2024-11-11T14:11:25.530Z"
   },
   {
    "duration": 2603,
    "start_time": "2024-11-11T14:15:29.464Z"
   },
   {
    "duration": 1542,
    "start_time": "2024-11-11T14:15:32.070Z"
   },
   {
    "duration": 1005,
    "start_time": "2024-11-11T14:15:33.614Z"
   },
   {
    "duration": 167,
    "start_time": "2024-11-11T14:15:34.621Z"
   },
   {
    "duration": 106,
    "start_time": "2024-11-11T14:15:34.790Z"
   },
   {
    "duration": 539,
    "start_time": "2024-11-11T14:15:34.898Z"
   },
   {
    "duration": 655,
    "start_time": "2024-11-11T14:15:35.439Z"
   },
   {
    "duration": 10871,
    "start_time": "2024-11-11T14:15:36.095Z"
   },
   {
    "duration": 194,
    "start_time": "2024-11-11T14:15:46.968Z"
   },
   {
    "duration": 6,
    "start_time": "2024-11-11T14:15:47.165Z"
   },
   {
    "duration": 183,
    "start_time": "2024-11-11T14:15:47.172Z"
   },
   {
    "duration": 8,
    "start_time": "2024-11-11T14:15:47.357Z"
   },
   {
    "duration": 147,
    "start_time": "2024-11-11T14:15:47.366Z"
   },
   {
    "duration": 493,
    "start_time": "2024-11-11T14:15:47.514Z"
   },
   {
    "duration": 322,
    "start_time": "2024-11-11T14:15:48.009Z"
   },
   {
    "duration": 13,
    "start_time": "2024-11-11T14:15:48.333Z"
   },
   {
    "duration": 36,
    "start_time": "2024-11-11T14:15:48.347Z"
   },
   {
    "duration": 575,
    "start_time": "2024-11-11T14:15:48.385Z"
   },
   {
    "duration": 37,
    "start_time": "2024-11-11T14:15:48.962Z"
   },
   {
    "duration": 51,
    "start_time": "2024-11-11T14:15:49.001Z"
   },
   {
    "duration": 210,
    "start_time": "2024-11-11T14:15:49.053Z"
   },
   {
    "duration": 242,
    "start_time": "2024-11-11T14:21:40.727Z"
   },
   {
    "duration": 32,
    "start_time": "2024-11-11T14:25:36.962Z"
   },
   {
    "duration": 83,
    "start_time": "2024-11-11T14:27:12.160Z"
   },
   {
    "duration": 139,
    "start_time": "2024-11-11T14:27:18.667Z"
   },
   {
    "duration": 25,
    "start_time": "2024-11-11T14:28:46.061Z"
   },
   {
    "duration": 2570,
    "start_time": "2024-11-11T14:28:58.455Z"
   },
   {
    "duration": 1553,
    "start_time": "2024-11-11T14:29:01.028Z"
   },
   {
    "duration": 961,
    "start_time": "2024-11-11T14:29:02.583Z"
   },
   {
    "duration": 192,
    "start_time": "2024-11-11T14:29:03.546Z"
   },
   {
    "duration": 108,
    "start_time": "2024-11-11T14:29:03.740Z"
   },
   {
    "duration": 499,
    "start_time": "2024-11-11T14:29:03.849Z"
   },
   {
    "duration": 601,
    "start_time": "2024-11-11T14:29:04.350Z"
   },
   {
    "duration": 10427,
    "start_time": "2024-11-11T14:29:04.953Z"
   },
   {
    "duration": 156,
    "start_time": "2024-11-11T14:29:15.383Z"
   },
   {
    "duration": 6,
    "start_time": "2024-11-11T14:29:15.540Z"
   },
   {
    "duration": 188,
    "start_time": "2024-11-11T14:29:15.548Z"
   },
   {
    "duration": 7,
    "start_time": "2024-11-11T14:29:15.738Z"
   },
   {
    "duration": 133,
    "start_time": "2024-11-11T14:29:15.746Z"
   },
   {
    "duration": 469,
    "start_time": "2024-11-11T14:29:15.882Z"
   },
   {
    "duration": 25,
    "start_time": "2024-11-11T14:29:16.353Z"
   },
   {
    "duration": 296,
    "start_time": "2024-11-11T14:29:16.379Z"
   },
   {
    "duration": 12,
    "start_time": "2024-11-11T14:29:16.677Z"
   },
   {
    "duration": 51,
    "start_time": "2024-11-11T14:29:16.691Z"
   },
   {
    "duration": 472,
    "start_time": "2024-11-11T14:29:16.744Z"
   },
   {
    "duration": 37,
    "start_time": "2024-11-11T14:29:17.218Z"
   },
   {
    "duration": 36,
    "start_time": "2024-11-11T14:29:17.257Z"
   },
   {
    "duration": 203,
    "start_time": "2024-11-11T14:29:17.294Z"
   },
   {
    "duration": 34,
    "start_time": "2024-11-11T14:29:17.498Z"
   },
   {
    "duration": 4,
    "start_time": "2024-11-11T14:41:10.619Z"
   },
   {
    "duration": 5,
    "start_time": "2024-11-11T14:42:43.008Z"
   },
   {
    "duration": 21,
    "start_time": "2024-11-11T14:42:46.783Z"
   },
   {
    "duration": 20,
    "start_time": "2024-11-11T14:43:21.685Z"
   },
   {
    "duration": 26,
    "start_time": "2024-11-11T14:46:10.778Z"
   },
   {
    "duration": 20,
    "start_time": "2024-11-11T14:46:44.505Z"
   },
   {
    "duration": 20,
    "start_time": "2024-11-11T14:46:50.176Z"
   },
   {
    "duration": 2594,
    "start_time": "2024-11-11T14:47:40.549Z"
   },
   {
    "duration": 1474,
    "start_time": "2024-11-11T14:47:43.145Z"
   },
   {
    "duration": 934,
    "start_time": "2024-11-11T14:47:44.621Z"
   },
   {
    "duration": 204,
    "start_time": "2024-11-11T14:47:45.557Z"
   },
   {
    "duration": 128,
    "start_time": "2024-11-11T14:47:45.764Z"
   },
   {
    "duration": 511,
    "start_time": "2024-11-11T14:47:45.894Z"
   },
   {
    "duration": 606,
    "start_time": "2024-11-11T14:47:46.407Z"
   },
   {
    "duration": 10697,
    "start_time": "2024-11-11T14:47:47.015Z"
   },
   {
    "duration": 152,
    "start_time": "2024-11-11T14:47:57.714Z"
   },
   {
    "duration": 6,
    "start_time": "2024-11-11T14:47:57.868Z"
   },
   {
    "duration": 169,
    "start_time": "2024-11-11T14:47:57.875Z"
   },
   {
    "duration": 8,
    "start_time": "2024-11-11T14:47:58.046Z"
   },
   {
    "duration": 134,
    "start_time": "2024-11-11T14:47:58.056Z"
   },
   {
    "duration": 461,
    "start_time": "2024-11-11T14:47:58.194Z"
   },
   {
    "duration": 25,
    "start_time": "2024-11-11T14:47:58.657Z"
   },
   {
    "duration": 301,
    "start_time": "2024-11-11T14:47:58.683Z"
   },
   {
    "duration": 13,
    "start_time": "2024-11-11T14:47:58.986Z"
   },
   {
    "duration": 47,
    "start_time": "2024-11-11T14:47:59.001Z"
   },
   {
    "duration": 494,
    "start_time": "2024-11-11T14:47:59.050Z"
   },
   {
    "duration": 36,
    "start_time": "2024-11-11T14:47:59.546Z"
   },
   {
    "duration": 53,
    "start_time": "2024-11-11T14:47:59.584Z"
   },
   {
    "duration": 219,
    "start_time": "2024-11-11T14:47:59.639Z"
   },
   {
    "duration": 27,
    "start_time": "2024-11-11T14:47:59.859Z"
   },
   {
    "duration": 32,
    "start_time": "2024-11-11T14:47:59.887Z"
   },
   {
    "duration": 75,
    "start_time": "2024-11-11T14:50:17.059Z"
   },
   {
    "duration": 101,
    "start_time": "2024-11-11T14:50:54.544Z"
   },
   {
    "duration": 33,
    "start_time": "2024-11-11T14:51:07.336Z"
   },
   {
    "duration": 22,
    "start_time": "2024-11-11T14:53:23.686Z"
   },
   {
    "duration": 2705,
    "start_time": "2024-11-11T14:53:33.236Z"
   },
   {
    "duration": 1601,
    "start_time": "2024-11-11T14:53:35.944Z"
   },
   {
    "duration": 1033,
    "start_time": "2024-11-11T14:53:37.547Z"
   },
   {
    "duration": 171,
    "start_time": "2024-11-11T14:53:38.582Z"
   },
   {
    "duration": 154,
    "start_time": "2024-11-11T14:53:38.755Z"
   },
   {
    "duration": 535,
    "start_time": "2024-11-11T14:53:38.911Z"
   },
   {
    "duration": 653,
    "start_time": "2024-11-11T14:53:39.448Z"
   },
   {
    "duration": 11148,
    "start_time": "2024-11-11T14:53:40.104Z"
   },
   {
    "duration": 168,
    "start_time": "2024-11-11T14:53:51.253Z"
   },
   {
    "duration": 12,
    "start_time": "2024-11-11T14:53:51.423Z"
   },
   {
    "duration": 166,
    "start_time": "2024-11-11T14:53:51.437Z"
   },
   {
    "duration": 22,
    "start_time": "2024-11-11T14:53:51.605Z"
   },
   {
    "duration": 137,
    "start_time": "2024-11-11T14:53:51.634Z"
   },
   {
    "duration": 525,
    "start_time": "2024-11-11T14:53:51.774Z"
   },
   {
    "duration": 36,
    "start_time": "2024-11-11T14:53:52.301Z"
   },
   {
    "duration": 300,
    "start_time": "2024-11-11T14:53:52.338Z"
   },
   {
    "duration": 12,
    "start_time": "2024-11-11T14:53:52.641Z"
   },
   {
    "duration": 59,
    "start_time": "2024-11-11T14:53:52.655Z"
   },
   {
    "duration": 559,
    "start_time": "2024-11-11T14:53:52.715Z"
   },
   {
    "duration": 72,
    "start_time": "2024-11-11T14:53:53.275Z"
   },
   {
    "duration": 43,
    "start_time": "2024-11-11T14:53:53.349Z"
   },
   {
    "duration": 217,
    "start_time": "2024-11-11T14:53:53.394Z"
   },
   {
    "duration": 31,
    "start_time": "2024-11-11T14:53:53.613Z"
   },
   {
    "duration": 22,
    "start_time": "2024-11-11T14:53:53.646Z"
   },
   {
    "duration": 118,
    "start_time": "2024-11-11T14:53:53.670Z"
   },
   {
    "duration": 31,
    "start_time": "2024-11-11T14:56:50.809Z"
   },
   {
    "duration": 30,
    "start_time": "2024-11-11T15:05:04.396Z"
   },
   {
    "duration": 6,
    "start_time": "2024-11-11T15:29:09.351Z"
   },
   {
    "duration": 1311,
    "start_time": "2024-11-11T15:35:44.247Z"
   },
   {
    "duration": 2478,
    "start_time": "2024-11-11T15:35:52.690Z"
   },
   {
    "duration": 1603,
    "start_time": "2024-11-11T15:35:55.170Z"
   },
   {
    "duration": 921,
    "start_time": "2024-11-11T15:35:56.775Z"
   },
   {
    "duration": 164,
    "start_time": "2024-11-11T15:35:57.697Z"
   },
   {
    "duration": 109,
    "start_time": "2024-11-11T15:35:57.863Z"
   },
   {
    "duration": 507,
    "start_time": "2024-11-11T15:35:57.975Z"
   },
   {
    "duration": 542,
    "start_time": "2024-11-11T15:35:58.483Z"
   },
   {
    "duration": 10345,
    "start_time": "2024-11-11T15:35:59.027Z"
   },
   {
    "duration": 164,
    "start_time": "2024-11-11T15:36:09.374Z"
   },
   {
    "duration": 6,
    "start_time": "2024-11-11T15:36:09.540Z"
   },
   {
    "duration": 72,
    "start_time": "2024-11-11T15:36:09.547Z"
   },
   {
    "duration": 8,
    "start_time": "2024-11-11T15:36:09.620Z"
   },
   {
    "duration": 148,
    "start_time": "2024-11-11T15:36:09.629Z"
   },
   {
    "duration": 628,
    "start_time": "2024-11-11T15:36:09.780Z"
   },
   {
    "duration": 29,
    "start_time": "2024-11-11T15:36:10.410Z"
   },
   {
    "duration": 307,
    "start_time": "2024-11-11T15:36:10.440Z"
   },
   {
    "duration": 14,
    "start_time": "2024-11-11T15:36:10.750Z"
   },
   {
    "duration": 70,
    "start_time": "2024-11-11T15:36:10.766Z"
   },
   {
    "duration": 518,
    "start_time": "2024-11-11T15:36:10.838Z"
   },
   {
    "duration": 70,
    "start_time": "2024-11-11T15:36:11.358Z"
   },
   {
    "duration": 44,
    "start_time": "2024-11-11T15:36:11.430Z"
   },
   {
    "duration": 275,
    "start_time": "2024-11-11T15:36:11.476Z"
   },
   {
    "duration": 33,
    "start_time": "2024-11-11T15:36:11.753Z"
   },
   {
    "duration": 133,
    "start_time": "2024-11-11T15:36:11.788Z"
   },
   {
    "duration": 0,
    "start_time": "2024-11-11T15:36:11.922Z"
   },
   {
    "duration": 0,
    "start_time": "2024-11-11T15:36:11.923Z"
   },
   {
    "duration": 2490,
    "start_time": "2024-11-11T15:40:33.970Z"
   },
   {
    "duration": 1537,
    "start_time": "2024-11-11T15:40:36.462Z"
   },
   {
    "duration": 892,
    "start_time": "2024-11-11T15:40:38.001Z"
   },
   {
    "duration": 155,
    "start_time": "2024-11-11T15:40:38.895Z"
   },
   {
    "duration": 170,
    "start_time": "2024-11-11T15:40:39.052Z"
   },
   {
    "duration": 546,
    "start_time": "2024-11-11T15:40:39.224Z"
   },
   {
    "duration": 592,
    "start_time": "2024-11-11T15:40:39.772Z"
   },
   {
    "duration": 10905,
    "start_time": "2024-11-11T15:40:40.366Z"
   },
   {
    "duration": 160,
    "start_time": "2024-11-11T15:40:51.273Z"
   },
   {
    "duration": 8,
    "start_time": "2024-11-11T15:40:51.435Z"
   },
   {
    "duration": 78,
    "start_time": "2024-11-11T15:40:51.445Z"
   },
   {
    "duration": 10,
    "start_time": "2024-11-11T15:40:51.525Z"
   },
   {
    "duration": 179,
    "start_time": "2024-11-11T15:40:51.537Z"
   },
   {
    "duration": 700,
    "start_time": "2024-11-11T15:40:51.720Z"
   },
   {
    "duration": 30,
    "start_time": "2024-11-11T15:40:52.422Z"
   },
   {
    "duration": 320,
    "start_time": "2024-11-11T15:40:52.454Z"
   },
   {
    "duration": 11,
    "start_time": "2024-11-11T15:40:52.776Z"
   },
   {
    "duration": 58,
    "start_time": "2024-11-11T15:40:52.789Z"
   },
   {
    "duration": 549,
    "start_time": "2024-11-11T15:40:52.848Z"
   },
   {
    "duration": 67,
    "start_time": "2024-11-11T15:40:53.399Z"
   },
   {
    "duration": 42,
    "start_time": "2024-11-11T15:40:53.468Z"
   },
   {
    "duration": 264,
    "start_time": "2024-11-11T15:40:53.518Z"
   },
   {
    "duration": 41,
    "start_time": "2024-11-11T15:40:53.784Z"
   },
   {
    "duration": 27,
    "start_time": "2024-11-11T15:40:53.827Z"
   },
   {
    "duration": 112,
    "start_time": "2024-11-11T15:40:53.857Z"
   },
   {
    "duration": 5,
    "start_time": "2024-11-11T15:56:25.596Z"
   },
   {
    "duration": 5,
    "start_time": "2024-11-11T15:57:57.049Z"
   },
   {
    "duration": 4,
    "start_time": "2024-11-11T15:59:19.217Z"
   },
   {
    "duration": 7,
    "start_time": "2024-11-11T16:07:24.148Z"
   },
   {
    "duration": 5,
    "start_time": "2024-11-11T16:10:25.167Z"
   },
   {
    "duration": 5,
    "start_time": "2024-11-11T16:13:48.045Z"
   },
   {
    "duration": 3,
    "start_time": "2024-11-11T16:16:07.465Z"
   },
   {
    "duration": 4,
    "start_time": "2024-11-11T16:16:23.417Z"
   },
   {
    "duration": 4,
    "start_time": "2024-11-11T16:16:32.310Z"
   },
   {
    "duration": 3,
    "start_time": "2024-11-11T16:16:44.618Z"
   },
   {
    "duration": 4,
    "start_time": "2024-11-11T16:17:35.693Z"
   },
   {
    "duration": 4,
    "start_time": "2024-11-11T16:25:55.488Z"
   },
   {
    "duration": 6,
    "start_time": "2024-11-11T16:26:12.003Z"
   },
   {
    "duration": 4,
    "start_time": "2024-11-11T16:26:23.582Z"
   },
   {
    "duration": 4,
    "start_time": "2024-11-11T16:26:36.493Z"
   },
   {
    "duration": 4,
    "start_time": "2024-11-11T16:26:52.004Z"
   },
   {
    "duration": 1271,
    "start_time": "2024-11-11T16:43:15.814Z"
   },
   {
    "duration": 2485,
    "start_time": "2024-11-11T16:46:00.455Z"
   },
   {
    "duration": 1539,
    "start_time": "2024-11-11T16:46:02.942Z"
   },
   {
    "duration": 902,
    "start_time": "2024-11-11T16:46:04.483Z"
   },
   {
    "duration": 167,
    "start_time": "2024-11-11T16:46:05.387Z"
   },
   {
    "duration": 111,
    "start_time": "2024-11-11T16:46:05.556Z"
   },
   {
    "duration": 487,
    "start_time": "2024-11-11T16:46:05.668Z"
   },
   {
    "duration": 579,
    "start_time": "2024-11-11T16:46:06.156Z"
   },
   {
    "duration": 10257,
    "start_time": "2024-11-11T16:46:06.736Z"
   },
   {
    "duration": 155,
    "start_time": "2024-11-11T16:46:16.995Z"
   },
   {
    "duration": 7,
    "start_time": "2024-11-11T16:46:17.152Z"
   },
   {
    "duration": 68,
    "start_time": "2024-11-11T16:46:17.160Z"
   },
   {
    "duration": 7,
    "start_time": "2024-11-11T16:46:17.229Z"
   },
   {
    "duration": 144,
    "start_time": "2024-11-11T16:46:17.238Z"
   },
   {
    "duration": 611,
    "start_time": "2024-11-11T16:46:17.384Z"
   },
   {
    "duration": 32,
    "start_time": "2024-11-11T16:46:17.997Z"
   },
   {
    "duration": 313,
    "start_time": "2024-11-11T16:46:18.031Z"
   },
   {
    "duration": 11,
    "start_time": "2024-11-11T16:46:18.346Z"
   },
   {
    "duration": 58,
    "start_time": "2024-11-11T16:46:18.359Z"
   },
   {
    "duration": 478,
    "start_time": "2024-11-11T16:46:18.419Z"
   },
   {
    "duration": 64,
    "start_time": "2024-11-11T16:46:18.898Z"
   },
   {
    "duration": 42,
    "start_time": "2024-11-11T16:46:18.964Z"
   },
   {
    "duration": 254,
    "start_time": "2024-11-11T16:46:19.008Z"
   },
   {
    "duration": 31,
    "start_time": "2024-11-11T16:46:19.264Z"
   },
   {
    "duration": 33,
    "start_time": "2024-11-11T16:46:19.297Z"
   },
   {
    "duration": 73,
    "start_time": "2024-11-11T16:46:19.332Z"
   },
   {
    "duration": 4,
    "start_time": "2024-11-11T16:46:19.418Z"
   },
   {
    "duration": 14,
    "start_time": "2024-11-11T16:46:19.423Z"
   },
   {
    "duration": 5,
    "start_time": "2024-11-11T16:46:19.440Z"
   },
   {
    "duration": 6,
    "start_time": "2024-11-11T16:46:19.447Z"
   },
   {
    "duration": 4,
    "start_time": "2024-11-11T16:46:19.454Z"
   },
   {
    "duration": 4,
    "start_time": "2024-11-11T16:46:19.459Z"
   },
   {
    "duration": 12,
    "start_time": "2024-11-11T16:46:19.464Z"
   },
   {
    "duration": 7,
    "start_time": "2024-11-11T16:46:19.478Z"
   },
   {
    "duration": 4,
    "start_time": "2024-11-11T16:46:19.486Z"
   },
   {
    "duration": 1250,
    "start_time": "2024-11-11T16:46:19.491Z"
   },
   {
    "duration": 5,
    "start_time": "2024-11-11T16:48:13.704Z"
   },
   {
    "duration": 2466,
    "start_time": "2024-11-11T16:48:17.761Z"
   },
   {
    "duration": 1528,
    "start_time": "2024-11-11T16:48:20.229Z"
   },
   {
    "duration": 898,
    "start_time": "2024-11-11T16:48:21.758Z"
   },
   {
    "duration": 152,
    "start_time": "2024-11-11T16:48:22.658Z"
   },
   {
    "duration": 91,
    "start_time": "2024-11-11T16:48:22.817Z"
   },
   {
    "duration": 491,
    "start_time": "2024-11-11T16:48:22.918Z"
   },
   {
    "duration": 596,
    "start_time": "2024-11-11T16:48:23.410Z"
   },
   {
    "duration": 10469,
    "start_time": "2024-11-11T16:48:24.007Z"
   },
   {
    "duration": 155,
    "start_time": "2024-11-11T16:48:34.478Z"
   },
   {
    "duration": 6,
    "start_time": "2024-11-11T16:48:34.634Z"
   },
   {
    "duration": 79,
    "start_time": "2024-11-11T16:48:34.642Z"
   },
   {
    "duration": 8,
    "start_time": "2024-11-11T16:48:34.722Z"
   },
   {
    "duration": 157,
    "start_time": "2024-11-11T16:48:34.731Z"
   },
   {
    "duration": 680,
    "start_time": "2024-11-11T16:48:34.890Z"
   },
   {
    "duration": 25,
    "start_time": "2024-11-11T16:48:35.571Z"
   },
   {
    "duration": 290,
    "start_time": "2024-11-11T16:48:35.597Z"
   },
   {
    "duration": 11,
    "start_time": "2024-11-11T16:48:35.889Z"
   },
   {
    "duration": 56,
    "start_time": "2024-11-11T16:48:35.902Z"
   },
   {
    "duration": 516,
    "start_time": "2024-11-11T16:48:35.959Z"
   },
   {
    "duration": 65,
    "start_time": "2024-11-11T16:48:36.476Z"
   },
   {
    "duration": 42,
    "start_time": "2024-11-11T16:48:36.543Z"
   },
   {
    "duration": 271,
    "start_time": "2024-11-11T16:48:36.587Z"
   },
   {
    "duration": 32,
    "start_time": "2024-11-11T16:48:36.860Z"
   },
   {
    "duration": 36,
    "start_time": "2024-11-11T16:48:36.894Z"
   },
   {
    "duration": 72,
    "start_time": "2024-11-11T16:48:36.932Z"
   },
   {
    "duration": 4,
    "start_time": "2024-11-11T16:48:37.017Z"
   },
   {
    "duration": 7,
    "start_time": "2024-11-11T16:48:37.022Z"
   },
   {
    "duration": 5,
    "start_time": "2024-11-11T16:48:37.030Z"
   },
   {
    "duration": 8,
    "start_time": "2024-11-11T16:48:37.036Z"
   },
   {
    "duration": 13,
    "start_time": "2024-11-11T16:48:37.045Z"
   },
   {
    "duration": 13,
    "start_time": "2024-11-11T16:48:37.059Z"
   },
   {
    "duration": 15,
    "start_time": "2024-11-11T16:48:37.074Z"
   },
   {
    "duration": 4,
    "start_time": "2024-11-11T16:48:37.091Z"
   },
   {
    "duration": 5,
    "start_time": "2024-11-11T16:48:37.097Z"
   },
   {
    "duration": 1216,
    "start_time": "2024-11-11T16:48:37.103Z"
   },
   {
    "duration": 2572,
    "start_time": "2024-11-11T16:51:09.623Z"
   },
   {
    "duration": 1536,
    "start_time": "2024-11-11T16:51:12.197Z"
   },
   {
    "duration": 941,
    "start_time": "2024-11-11T16:51:13.735Z"
   },
   {
    "duration": 153,
    "start_time": "2024-11-11T16:51:14.678Z"
   },
   {
    "duration": 139,
    "start_time": "2024-11-11T16:51:14.833Z"
   },
   {
    "duration": 488,
    "start_time": "2024-11-11T16:51:14.974Z"
   },
   {
    "duration": 604,
    "start_time": "2024-11-11T16:51:15.463Z"
   },
   {
    "duration": 10388,
    "start_time": "2024-11-11T16:51:16.068Z"
   },
   {
    "duration": 147,
    "start_time": "2024-11-11T16:51:26.457Z"
   },
   {
    "duration": 11,
    "start_time": "2024-11-11T16:51:26.607Z"
   },
   {
    "duration": 64,
    "start_time": "2024-11-11T16:51:26.619Z"
   },
   {
    "duration": 7,
    "start_time": "2024-11-11T16:51:26.685Z"
   },
   {
    "duration": 155,
    "start_time": "2024-11-11T16:51:26.717Z"
   },
   {
    "duration": 645,
    "start_time": "2024-11-11T16:51:26.873Z"
   },
   {
    "duration": 27,
    "start_time": "2024-11-11T16:51:27.520Z"
   },
   {
    "duration": 294,
    "start_time": "2024-11-11T16:51:27.548Z"
   },
   {
    "duration": 11,
    "start_time": "2024-11-11T16:51:27.844Z"
   },
   {
    "duration": 42,
    "start_time": "2024-11-11T16:51:27.857Z"
   },
   {
    "duration": 473,
    "start_time": "2024-11-11T16:51:27.918Z"
   },
   {
    "duration": 63,
    "start_time": "2024-11-11T16:51:28.393Z"
   },
   {
    "duration": 41,
    "start_time": "2024-11-11T16:51:28.458Z"
   },
   {
    "duration": 289,
    "start_time": "2024-11-11T16:51:28.501Z"
   },
   {
    "duration": 43,
    "start_time": "2024-11-11T16:51:28.792Z"
   },
   {
    "duration": 21,
    "start_time": "2024-11-11T16:51:28.836Z"
   },
   {
    "duration": 88,
    "start_time": "2024-11-11T16:51:28.858Z"
   },
   {
    "duration": 4,
    "start_time": "2024-11-11T16:51:28.947Z"
   },
   {
    "duration": 7,
    "start_time": "2024-11-11T16:51:28.952Z"
   },
   {
    "duration": 12,
    "start_time": "2024-11-11T16:51:28.961Z"
   },
   {
    "duration": 7,
    "start_time": "2024-11-11T16:51:28.975Z"
   },
   {
    "duration": 15,
    "start_time": "2024-11-11T16:51:28.984Z"
   },
   {
    "duration": 3,
    "start_time": "2024-11-11T16:51:29.000Z"
   },
   {
    "duration": 5,
    "start_time": "2024-11-11T16:51:29.005Z"
   },
   {
    "duration": 8,
    "start_time": "2024-11-11T16:51:29.011Z"
   },
   {
    "duration": 12,
    "start_time": "2024-11-11T16:51:29.021Z"
   },
   {
    "duration": 2507,
    "start_time": "2024-11-11T16:51:29.034Z"
   },
   {
    "duration": 4,
    "start_time": "2024-11-11T16:52:37.709Z"
   },
   {
    "duration": 3,
    "start_time": "2024-11-11T16:52:38.371Z"
   },
   {
    "duration": 5,
    "start_time": "2024-11-11T16:52:38.731Z"
   },
   {
    "duration": 3,
    "start_time": "2024-11-11T16:52:39.377Z"
   },
   {
    "duration": 4,
    "start_time": "2024-11-11T16:52:39.737Z"
   },
   {
    "duration": 8207,
    "start_time": "2024-11-11T16:52:40.123Z"
   },
   {
    "duration": 3,
    "start_time": "2024-11-11T16:54:27.798Z"
   },
   {
    "duration": 4,
    "start_time": "2024-11-11T16:54:28.236Z"
   },
   {
    "duration": 4,
    "start_time": "2024-11-11T16:54:28.631Z"
   },
   {
    "duration": 4,
    "start_time": "2024-11-11T16:54:29.028Z"
   },
   {
    "duration": 4,
    "start_time": "2024-11-11T16:54:29.508Z"
   },
   {
    "duration": 450515,
    "start_time": "2024-11-11T16:54:30.013Z"
   },
   {
    "duration": 106,
    "start_time": "2024-11-11T18:01:46.776Z"
   },
   {
    "duration": 5,
    "start_time": "2024-11-11T18:16:47.304Z"
   },
   {
    "duration": 2421,
    "start_time": "2024-11-11T18:25:24.102Z"
   },
   {
    "duration": 1413,
    "start_time": "2024-11-11T18:25:26.525Z"
   },
   {
    "duration": 934,
    "start_time": "2024-11-11T18:25:27.939Z"
   },
   {
    "duration": 153,
    "start_time": "2024-11-11T18:25:28.874Z"
   },
   {
    "duration": 94,
    "start_time": "2024-11-11T18:25:29.029Z"
   },
   {
    "duration": 475,
    "start_time": "2024-11-11T18:25:29.125Z"
   },
   {
    "duration": 581,
    "start_time": "2024-11-11T18:25:29.602Z"
   },
   {
    "duration": 10422,
    "start_time": "2024-11-11T18:25:30.185Z"
   },
   {
    "duration": 155,
    "start_time": "2024-11-11T18:25:40.609Z"
   },
   {
    "duration": 7,
    "start_time": "2024-11-11T18:25:40.765Z"
   },
   {
    "duration": 71,
    "start_time": "2024-11-11T18:25:40.773Z"
   },
   {
    "duration": 8,
    "start_time": "2024-11-11T18:25:40.846Z"
   },
   {
    "duration": 149,
    "start_time": "2024-11-11T18:25:40.855Z"
   },
   {
    "duration": 638,
    "start_time": "2024-11-11T18:25:41.007Z"
   },
   {
    "duration": 26,
    "start_time": "2024-11-11T18:25:41.647Z"
   },
   {
    "duration": 290,
    "start_time": "2024-11-11T18:25:41.674Z"
   },
   {
    "duration": 11,
    "start_time": "2024-11-11T18:25:41.966Z"
   },
   {
    "duration": 56,
    "start_time": "2024-11-11T18:25:41.979Z"
   },
   {
    "duration": 514,
    "start_time": "2024-11-11T18:25:42.037Z"
   },
   {
    "duration": 43,
    "start_time": "2024-11-11T18:25:42.552Z"
   },
   {
    "duration": 63,
    "start_time": "2024-11-11T18:25:42.597Z"
   },
   {
    "duration": 264,
    "start_time": "2024-11-11T18:25:42.662Z"
   },
   {
    "duration": 31,
    "start_time": "2024-11-11T18:25:42.927Z"
   },
   {
    "duration": 22,
    "start_time": "2024-11-11T18:25:42.960Z"
   },
   {
    "duration": 103,
    "start_time": "2024-11-11T18:25:42.984Z"
   },
   {
    "duration": 4,
    "start_time": "2024-11-11T18:25:43.089Z"
   },
   {
    "duration": 8,
    "start_time": "2024-11-11T18:25:43.094Z"
   },
   {
    "duration": 15,
    "start_time": "2024-11-11T18:25:43.104Z"
   },
   {
    "duration": 17,
    "start_time": "2024-11-11T18:25:43.121Z"
   },
   {
    "duration": 3,
    "start_time": "2024-11-11T18:25:43.140Z"
   },
   {
    "duration": 13,
    "start_time": "2024-11-11T18:25:43.144Z"
   },
   {
    "duration": 5,
    "start_time": "2024-11-11T18:25:43.159Z"
   },
   {
    "duration": 3,
    "start_time": "2024-11-11T18:25:43.166Z"
   },
   {
    "duration": 4,
    "start_time": "2024-11-11T18:25:43.170Z"
   },
   {
    "duration": 2500,
    "start_time": "2024-11-11T18:31:21.579Z"
   },
   {
    "duration": 1434,
    "start_time": "2024-11-11T18:31:24.081Z"
   },
   {
    "duration": 937,
    "start_time": "2024-11-11T18:31:25.517Z"
   },
   {
    "duration": 162,
    "start_time": "2024-11-11T18:31:26.456Z"
   },
   {
    "duration": 99,
    "start_time": "2024-11-11T18:31:26.620Z"
   },
   {
    "duration": 486,
    "start_time": "2024-11-11T18:31:26.721Z"
   },
   {
    "duration": 573,
    "start_time": "2024-11-11T18:31:27.209Z"
   },
   {
    "duration": 10477,
    "start_time": "2024-11-11T18:31:27.784Z"
   },
   {
    "duration": 153,
    "start_time": "2024-11-11T18:31:38.262Z"
   },
   {
    "duration": 6,
    "start_time": "2024-11-11T18:31:38.419Z"
   },
   {
    "duration": 59,
    "start_time": "2024-11-11T18:31:38.427Z"
   },
   {
    "duration": 30,
    "start_time": "2024-11-11T18:31:38.488Z"
   },
   {
    "duration": 141,
    "start_time": "2024-11-11T18:31:38.519Z"
   },
   {
    "duration": 615,
    "start_time": "2024-11-11T18:31:38.662Z"
   },
   {
    "duration": 41,
    "start_time": "2024-11-11T18:31:39.279Z"
   },
   {
    "duration": 275,
    "start_time": "2024-11-11T18:31:39.322Z"
   },
   {
    "duration": 20,
    "start_time": "2024-11-11T18:31:39.600Z"
   },
   {
    "duration": 41,
    "start_time": "2024-11-11T18:31:39.622Z"
   },
   {
    "duration": 503,
    "start_time": "2024-11-11T18:31:39.664Z"
   },
   {
    "duration": 59,
    "start_time": "2024-11-11T18:31:40.168Z"
   },
   {
    "duration": 42,
    "start_time": "2024-11-11T18:31:40.229Z"
   },
   {
    "duration": 265,
    "start_time": "2024-11-11T18:31:40.273Z"
   },
   {
    "duration": 32,
    "start_time": "2024-11-11T18:31:40.541Z"
   },
   {
    "duration": 18,
    "start_time": "2024-11-11T18:31:40.575Z"
   },
   {
    "duration": 89,
    "start_time": "2024-11-11T18:31:40.595Z"
   },
   {
    "duration": 4,
    "start_time": "2024-11-11T18:31:40.686Z"
   },
   {
    "duration": 31,
    "start_time": "2024-11-11T18:31:40.691Z"
   },
   {
    "duration": 4,
    "start_time": "2024-11-11T18:31:40.725Z"
   },
   {
    "duration": 5,
    "start_time": "2024-11-11T18:31:40.731Z"
   },
   {
    "duration": 4,
    "start_time": "2024-11-11T18:31:40.737Z"
   },
   {
    "duration": 5,
    "start_time": "2024-11-11T18:31:40.742Z"
   },
   {
    "duration": 67,
    "start_time": "2024-11-11T18:31:40.748Z"
   },
   {
    "duration": 5,
    "start_time": "2024-11-11T18:31:40.817Z"
   },
   {
    "duration": 7,
    "start_time": "2024-11-11T18:31:40.823Z"
   },
   {
    "duration": 2530,
    "start_time": "2024-11-11T18:37:22.616Z"
   },
   {
    "duration": 1413,
    "start_time": "2024-11-11T18:37:25.149Z"
   },
   {
    "duration": 879,
    "start_time": "2024-11-11T18:37:26.563Z"
   },
   {
    "duration": 166,
    "start_time": "2024-11-11T18:37:27.445Z"
   },
   {
    "duration": 117,
    "start_time": "2024-11-11T18:37:27.617Z"
   },
   {
    "duration": 502,
    "start_time": "2024-11-11T18:37:27.736Z"
   },
   {
    "duration": 580,
    "start_time": "2024-11-11T18:37:28.240Z"
   },
   {
    "duration": 10357,
    "start_time": "2024-11-11T18:37:28.822Z"
   },
   {
    "duration": 150,
    "start_time": "2024-11-11T18:37:39.181Z"
   },
   {
    "duration": 6,
    "start_time": "2024-11-11T18:37:39.334Z"
   },
   {
    "duration": 65,
    "start_time": "2024-11-11T18:37:39.341Z"
   },
   {
    "duration": 8,
    "start_time": "2024-11-11T18:37:39.417Z"
   },
   {
    "duration": 146,
    "start_time": "2024-11-11T18:37:39.426Z"
   },
   {
    "duration": 634,
    "start_time": "2024-11-11T18:37:39.574Z"
   },
   {
    "duration": 29,
    "start_time": "2024-11-11T18:37:40.210Z"
   },
   {
    "duration": 296,
    "start_time": "2024-11-11T18:37:40.241Z"
   },
   {
    "duration": 13,
    "start_time": "2024-11-11T18:37:40.539Z"
   },
   {
    "duration": 44,
    "start_time": "2024-11-11T18:37:40.553Z"
   },
   {
    "duration": 519,
    "start_time": "2024-11-11T18:37:40.598Z"
   },
   {
    "duration": 43,
    "start_time": "2024-11-11T18:37:41.119Z"
   },
   {
    "duration": 56,
    "start_time": "2024-11-11T18:37:41.163Z"
   },
   {
    "duration": 254,
    "start_time": "2024-11-11T18:37:41.221Z"
   },
   {
    "duration": 41,
    "start_time": "2024-11-11T18:37:41.477Z"
   },
   {
    "duration": 19,
    "start_time": "2024-11-11T18:37:41.519Z"
   },
   {
    "duration": 84,
    "start_time": "2024-11-11T18:37:41.539Z"
   },
   {
    "duration": 4,
    "start_time": "2024-11-11T18:37:41.625Z"
   },
   {
    "duration": 12,
    "start_time": "2024-11-11T18:37:41.631Z"
   },
   {
    "duration": 4,
    "start_time": "2024-11-11T18:37:41.648Z"
   },
   {
    "duration": 10,
    "start_time": "2024-11-11T18:37:41.654Z"
   },
   {
    "duration": 7,
    "start_time": "2024-11-11T18:37:41.666Z"
   },
   {
    "duration": 5,
    "start_time": "2024-11-11T18:37:41.674Z"
   },
   {
    "duration": 26,
    "start_time": "2024-11-11T18:37:41.681Z"
   },
   {
    "duration": 8,
    "start_time": "2024-11-11T18:37:41.709Z"
   },
   {
    "duration": 6,
    "start_time": "2024-11-11T18:37:41.718Z"
   },
   {
    "duration": 458700,
    "start_time": "2024-11-11T18:37:41.726Z"
   },
   {
    "duration": 167,
    "start_time": "2024-11-11T18:45:20.428Z"
   },
   {
    "duration": 3382,
    "start_time": "2024-11-11T22:21:56.227Z"
   },
   {
    "duration": 1501,
    "start_time": "2024-11-11T22:21:59.611Z"
   },
   {
    "duration": 2743,
    "start_time": "2024-11-11T22:22:01.113Z"
   },
   {
    "duration": 114,
    "start_time": "2024-11-11T22:22:03.857Z"
   },
   {
    "duration": 94,
    "start_time": "2024-11-11T22:22:03.973Z"
   },
   {
    "duration": 385,
    "start_time": "2024-11-11T22:22:04.068Z"
   },
   {
    "duration": 473,
    "start_time": "2024-11-11T22:22:04.457Z"
   },
   {
    "duration": 8826,
    "start_time": "2024-11-11T22:22:04.932Z"
   },
   {
    "duration": 106,
    "start_time": "2024-11-11T22:22:13.759Z"
   },
   {
    "duration": 5,
    "start_time": "2024-11-11T22:22:13.867Z"
   },
   {
    "duration": 54,
    "start_time": "2024-11-11T22:22:13.873Z"
   },
   {
    "duration": 7,
    "start_time": "2024-11-11T22:22:13.929Z"
   },
   {
    "duration": 138,
    "start_time": "2024-11-11T22:22:13.957Z"
   },
   {
    "duration": 500,
    "start_time": "2024-11-11T22:22:14.099Z"
   },
   {
    "duration": 21,
    "start_time": "2024-11-11T22:22:14.600Z"
   },
   {
    "duration": 256,
    "start_time": "2024-11-11T22:22:14.622Z"
   },
   {
    "duration": 8,
    "start_time": "2024-11-11T22:22:14.879Z"
   },
   {
    "duration": 40,
    "start_time": "2024-11-11T22:22:14.888Z"
   },
   {
    "duration": 430,
    "start_time": "2024-11-11T22:22:14.929Z"
   },
   {
    "duration": 55,
    "start_time": "2024-11-11T22:22:15.361Z"
   },
   {
    "duration": 53,
    "start_time": "2024-11-11T22:22:15.417Z"
   },
   {
    "duration": 191,
    "start_time": "2024-11-11T22:22:15.472Z"
   },
   {
    "duration": 28,
    "start_time": "2024-11-11T22:22:15.665Z"
   },
   {
    "duration": 16,
    "start_time": "2024-11-11T22:22:15.694Z"
   },
   {
    "duration": 79,
    "start_time": "2024-11-11T22:22:15.711Z"
   },
   {
    "duration": 3,
    "start_time": "2024-11-11T22:22:15.791Z"
   },
   {
    "duration": 4,
    "start_time": "2024-11-11T22:22:15.796Z"
   },
   {
    "duration": 3,
    "start_time": "2024-11-11T22:22:15.802Z"
   },
   {
    "duration": 9,
    "start_time": "2024-11-11T22:22:15.806Z"
   },
   {
    "duration": 3,
    "start_time": "2024-11-11T22:22:15.816Z"
   },
   {
    "duration": 3,
    "start_time": "2024-11-11T22:22:15.820Z"
   },
   {
    "duration": 4,
    "start_time": "2024-11-11T22:22:15.825Z"
   },
   {
    "duration": 4,
    "start_time": "2024-11-11T22:22:15.830Z"
   },
   {
    "duration": 23,
    "start_time": "2024-11-11T22:22:15.835Z"
   },
   {
    "duration": 373098,
    "start_time": "2024-11-11T22:22:15.859Z"
   },
   {
    "duration": 121,
    "start_time": "2024-11-11T22:28:28.959Z"
   },
   {
    "duration": 1007,
    "start_time": "2024-11-11T22:28:29.083Z"
   },
   {
    "duration": 44,
    "start_time": "2024-11-11T22:30:38.754Z"
   },
   {
    "duration": 2568,
    "start_time": "2024-11-11T22:30:55.801Z"
   },
   {
    "duration": 1336,
    "start_time": "2024-11-11T22:30:58.372Z"
   },
   {
    "duration": 769,
    "start_time": "2024-11-11T22:30:59.709Z"
   },
   {
    "duration": 124,
    "start_time": "2024-11-11T22:31:00.480Z"
   },
   {
    "duration": 106,
    "start_time": "2024-11-11T22:31:00.606Z"
   },
   {
    "duration": 401,
    "start_time": "2024-11-11T22:31:00.714Z"
   },
   {
    "duration": 513,
    "start_time": "2024-11-11T22:31:01.117Z"
   },
   {
    "duration": 9078,
    "start_time": "2024-11-11T22:31:01.632Z"
   },
   {
    "duration": 103,
    "start_time": "2024-11-11T22:31:10.711Z"
   },
   {
    "duration": 7,
    "start_time": "2024-11-11T22:31:10.816Z"
   },
   {
    "duration": 153,
    "start_time": "2024-11-11T22:31:10.824Z"
   },
   {
    "duration": 16,
    "start_time": "2024-11-11T22:31:36.211Z"
   },
   {
    "duration": 65,
    "start_time": "2024-11-11T22:33:51.808Z"
   },
   {
    "duration": 72,
    "start_time": "2024-11-11T22:50:36.855Z"
   },
   {
    "duration": 104,
    "start_time": "2024-11-11T22:51:02.337Z"
   },
   {
    "duration": 379,
    "start_time": "2024-11-11T22:51:03.845Z"
   },
   {
    "duration": 19,
    "start_time": "2024-11-11T22:51:04.655Z"
   },
   {
    "duration": 229,
    "start_time": "2024-11-11T22:51:05.670Z"
   },
   {
    "duration": 10,
    "start_time": "2024-11-11T22:51:06.542Z"
   },
   {
    "duration": 33,
    "start_time": "2024-11-11T22:51:07.977Z"
   },
   {
    "duration": 373,
    "start_time": "2024-11-11T22:51:12.515Z"
   },
   {
    "duration": 34,
    "start_time": "2024-11-11T22:51:13.537Z"
   },
   {
    "duration": 35,
    "start_time": "2024-11-11T22:51:14.513Z"
   },
   {
    "duration": 194,
    "start_time": "2024-11-11T22:53:23.098Z"
   },
   {
    "duration": 146,
    "start_time": "2024-11-11T22:53:44.017Z"
   },
   {
    "duration": 3,
    "start_time": "2024-11-11T22:59:45.059Z"
   },
   {
    "duration": 70,
    "start_time": "2024-11-11T23:06:22.907Z"
   },
   {
    "duration": 5,
    "start_time": "2024-11-11T23:06:29.358Z"
   },
   {
    "duration": 15,
    "start_time": "2024-11-11T23:16:28.220Z"
   },
   {
    "duration": 3,
    "start_time": "2024-11-11T23:16:44.887Z"
   },
   {
    "duration": 5,
    "start_time": "2024-11-11T23:16:45.321Z"
   },
   {
    "duration": 4,
    "start_time": "2024-11-11T23:16:47.016Z"
   },
   {
    "duration": 3,
    "start_time": "2024-11-11T23:16:47.365Z"
   },
   {
    "duration": 4,
    "start_time": "2024-11-11T23:16:47.835Z"
   },
   {
    "duration": 3,
    "start_time": "2024-11-11T23:16:48.232Z"
   },
   {
    "duration": 3,
    "start_time": "2024-11-11T23:16:48.773Z"
   },
   {
    "duration": 4,
    "start_time": "2024-11-11T23:16:49.294Z"
   },
   {
    "duration": 23,
    "start_time": "2024-11-11T23:16:50.798Z"
   },
   {
    "duration": 2620,
    "start_time": "2024-11-11T23:21:12.252Z"
   },
   {
    "duration": 1364,
    "start_time": "2024-11-11T23:21:14.874Z"
   },
   {
    "duration": 847,
    "start_time": "2024-11-11T23:21:16.239Z"
   },
   {
    "duration": 132,
    "start_time": "2024-11-11T23:21:17.088Z"
   },
   {
    "duration": 105,
    "start_time": "2024-11-11T23:21:17.222Z"
   },
   {
    "duration": 460,
    "start_time": "2024-11-11T23:21:17.328Z"
   },
   {
    "duration": 489,
    "start_time": "2024-11-11T23:21:17.789Z"
   },
   {
    "duration": 9446,
    "start_time": "2024-11-11T23:21:18.279Z"
   },
   {
    "duration": 124,
    "start_time": "2024-11-11T23:21:27.726Z"
   },
   {
    "duration": 8,
    "start_time": "2024-11-11T23:21:27.853Z"
   },
   {
    "duration": 164,
    "start_time": "2024-11-11T23:21:27.865Z"
   },
   {
    "duration": 7,
    "start_time": "2024-11-11T23:21:28.031Z"
   },
   {
    "duration": 132,
    "start_time": "2024-11-11T23:21:28.039Z"
   },
   {
    "duration": 436,
    "start_time": "2024-11-11T23:21:28.173Z"
   },
   {
    "duration": 21,
    "start_time": "2024-11-11T23:21:28.610Z"
   },
   {
    "duration": 243,
    "start_time": "2024-11-11T23:21:28.632Z"
   },
   {
    "duration": 7,
    "start_time": "2024-11-11T23:21:28.876Z"
   },
   {
    "duration": 31,
    "start_time": "2024-11-11T23:21:28.885Z"
   },
   {
    "duration": 417,
    "start_time": "2024-11-11T23:21:28.917Z"
   },
   {
    "duration": 44,
    "start_time": "2024-11-11T23:21:29.335Z"
   },
   {
    "duration": 34,
    "start_time": "2024-11-11T23:21:29.380Z"
   },
   {
    "duration": 197,
    "start_time": "2024-11-11T23:21:29.415Z"
   },
   {
    "duration": 28,
    "start_time": "2024-11-11T23:21:29.613Z"
   },
   {
    "duration": 29,
    "start_time": "2024-11-11T23:21:29.643Z"
   },
   {
    "duration": 73,
    "start_time": "2024-11-11T23:21:29.673Z"
   },
   {
    "duration": 2,
    "start_time": "2024-11-11T23:21:29.748Z"
   },
   {
    "duration": 3,
    "start_time": "2024-11-11T23:21:29.934Z"
   },
   {
    "duration": 5,
    "start_time": "2024-11-11T23:21:30.943Z"
   },
   {
    "duration": 4,
    "start_time": "2024-11-11T23:21:34.387Z"
   },
   {
    "duration": 3,
    "start_time": "2024-11-11T23:21:34.824Z"
   },
   {
    "duration": 3,
    "start_time": "2024-11-11T23:21:35.254Z"
   },
   {
    "duration": 3,
    "start_time": "2024-11-11T23:21:35.725Z"
   },
   {
    "duration": 4,
    "start_time": "2024-11-11T23:21:36.489Z"
   },
   {
    "duration": 3,
    "start_time": "2024-11-11T23:21:36.802Z"
   },
   {
    "duration": 189,
    "start_time": "2024-11-11T23:21:37.625Z"
   },
   {
    "duration": 4,
    "start_time": "2024-11-11T23:22:04.894Z"
   },
   {
    "duration": 753,
    "start_time": "2024-11-11T23:22:05.871Z"
   },
   {
    "duration": 118,
    "start_time": "2024-11-11T23:22:06.626Z"
   },
   {
    "duration": 84,
    "start_time": "2024-11-11T23:22:06.746Z"
   },
   {
    "duration": 392,
    "start_time": "2024-11-11T23:22:06.833Z"
   },
   {
    "duration": 442,
    "start_time": "2024-11-11T23:22:07.226Z"
   },
   {
    "duration": 9740,
    "start_time": "2024-11-11T23:22:07.669Z"
   },
   {
    "duration": 118,
    "start_time": "2024-11-11T23:22:17.411Z"
   },
   {
    "duration": 5,
    "start_time": "2024-11-11T23:22:17.531Z"
   },
   {
    "duration": 155,
    "start_time": "2024-11-11T23:22:17.538Z"
   },
   {
    "duration": 7,
    "start_time": "2024-11-11T23:22:17.695Z"
   },
   {
    "duration": 129,
    "start_time": "2024-11-11T23:22:17.703Z"
   },
   {
    "duration": 397,
    "start_time": "2024-11-11T23:22:17.833Z"
   },
   {
    "duration": 39,
    "start_time": "2024-11-11T23:22:18.231Z"
   },
   {
    "duration": 267,
    "start_time": "2024-11-11T23:22:18.272Z"
   },
   {
    "duration": 25,
    "start_time": "2024-11-11T23:22:18.542Z"
   },
   {
    "duration": 65,
    "start_time": "2024-11-11T23:22:18.569Z"
   },
   {
    "duration": 407,
    "start_time": "2024-11-11T23:22:18.635Z"
   },
   {
    "duration": 43,
    "start_time": "2024-11-11T23:22:19.044Z"
   },
   {
    "duration": 35,
    "start_time": "2024-11-11T23:22:19.088Z"
   },
   {
    "duration": 203,
    "start_time": "2024-11-11T23:22:19.124Z"
   },
   {
    "duration": 35,
    "start_time": "2024-11-11T23:22:19.328Z"
   },
   {
    "duration": 49,
    "start_time": "2024-11-11T23:22:19.372Z"
   },
   {
    "duration": 33,
    "start_time": "2024-11-11T23:22:19.422Z"
   },
   {
    "duration": 14,
    "start_time": "2024-11-11T23:22:19.457Z"
   },
   {
    "duration": 4,
    "start_time": "2024-11-11T23:22:19.472Z"
   },
   {
    "duration": 5,
    "start_time": "2024-11-11T23:22:19.477Z"
   },
   {
    "duration": 5,
    "start_time": "2024-11-11T23:22:19.483Z"
   },
   {
    "duration": 5,
    "start_time": "2024-11-11T23:22:19.491Z"
   },
   {
    "duration": 3,
    "start_time": "2024-11-11T23:22:19.811Z"
   },
   {
    "duration": 3,
    "start_time": "2024-11-11T23:22:20.728Z"
   },
   {
    "duration": 3,
    "start_time": "2024-11-11T23:22:21.238Z"
   },
   {
    "duration": 4,
    "start_time": "2024-11-11T23:22:21.768Z"
   },
   {
    "duration": 93,
    "start_time": "2024-11-11T23:22:23.377Z"
   },
   {
    "duration": 89,
    "start_time": "2024-11-11T23:23:12.012Z"
   },
   {
    "duration": 6672,
    "start_time": "2024-11-11T23:24:13.275Z"
   },
   {
    "duration": 2745,
    "start_time": "2024-11-11T23:24:19.949Z"
   },
   {
    "duration": 5,
    "start_time": "2024-11-11T23:24:22.696Z"
   },
   {
    "duration": 769,
    "start_time": "2024-11-11T23:24:22.702Z"
   },
   {
    "duration": 121,
    "start_time": "2024-11-11T23:24:23.477Z"
   },
   {
    "duration": 82,
    "start_time": "2024-11-11T23:24:23.599Z"
   },
   {
    "duration": 371,
    "start_time": "2024-11-11T23:24:23.682Z"
   },
   {
    "duration": 432,
    "start_time": "2024-11-11T23:24:24.067Z"
   },
   {
    "duration": 10014,
    "start_time": "2024-11-11T23:24:24.500Z"
   },
   {
    "duration": 123,
    "start_time": "2024-11-11T23:24:34.515Z"
   },
   {
    "duration": 6,
    "start_time": "2024-11-11T23:24:34.640Z"
   },
   {
    "duration": 156,
    "start_time": "2024-11-11T23:24:34.647Z"
   },
   {
    "duration": 6,
    "start_time": "2024-11-11T23:24:34.804Z"
   },
   {
    "duration": 180,
    "start_time": "2024-11-11T23:24:34.811Z"
   },
   {
    "duration": 420,
    "start_time": "2024-11-11T23:24:34.992Z"
   },
   {
    "duration": 22,
    "start_time": "2024-11-11T23:24:35.413Z"
   },
   {
    "duration": 269,
    "start_time": "2024-11-11T23:24:35.436Z"
   },
   {
    "duration": 8,
    "start_time": "2024-11-11T23:24:35.706Z"
   },
   {
    "duration": 46,
    "start_time": "2024-11-11T23:24:35.715Z"
   },
   {
    "duration": 423,
    "start_time": "2024-11-11T23:24:35.769Z"
   },
   {
    "duration": 36,
    "start_time": "2024-11-11T23:24:36.193Z"
   },
   {
    "duration": 52,
    "start_time": "2024-11-11T23:24:36.231Z"
   },
   {
    "duration": 211,
    "start_time": "2024-11-11T23:24:36.285Z"
   },
   {
    "duration": 28,
    "start_time": "2024-11-11T23:24:36.498Z"
   },
   {
    "duration": 17,
    "start_time": "2024-11-11T23:24:36.527Z"
   },
   {
    "duration": 77,
    "start_time": "2024-11-11T23:24:36.563Z"
   },
   {
    "duration": 3,
    "start_time": "2024-11-11T23:24:36.641Z"
   },
   {
    "duration": 10,
    "start_time": "2024-11-11T23:24:36.645Z"
   },
   {
    "duration": 20,
    "start_time": "2024-11-11T23:24:36.659Z"
   },
   {
    "duration": 14,
    "start_time": "2024-11-11T23:24:36.681Z"
   },
   {
    "duration": 30,
    "start_time": "2024-11-11T23:24:36.696Z"
   },
   {
    "duration": 5,
    "start_time": "2024-11-11T23:24:36.728Z"
   },
   {
    "duration": 22,
    "start_time": "2024-11-11T23:24:36.734Z"
   },
   {
    "duration": 14,
    "start_time": "2024-11-11T23:24:36.757Z"
   },
   {
    "duration": 94,
    "start_time": "2024-11-11T23:24:36.773Z"
   },
   {
    "duration": 102,
    "start_time": "2024-11-11T23:24:36.868Z"
   },
   {
    "duration": 97,
    "start_time": "2024-11-11T23:24:39.621Z"
   },
   {
    "duration": 3350,
    "start_time": "2024-11-11T23:24:57.953Z"
   },
   {
    "duration": 2690,
    "start_time": "2024-11-11T23:25:01.305Z"
   },
   {
    "duration": 1222,
    "start_time": "2024-11-11T23:25:03.997Z"
   },
   {
    "duration": 821,
    "start_time": "2024-11-11T23:25:05.548Z"
   },
   {
    "duration": 128,
    "start_time": "2024-11-11T23:25:06.371Z"
   },
   {
    "duration": 107,
    "start_time": "2024-11-11T23:25:06.501Z"
   },
   {
    "duration": 416,
    "start_time": "2024-11-11T23:25:06.610Z"
   },
   {
    "duration": 547,
    "start_time": "2024-11-11T23:25:07.028Z"
   },
   {
    "duration": 9855,
    "start_time": "2024-11-11T23:25:07.576Z"
   },
   {
    "duration": 118,
    "start_time": "2024-11-11T23:25:17.432Z"
   },
   {
    "duration": 19,
    "start_time": "2024-11-11T23:25:17.552Z"
   },
   {
    "duration": 156,
    "start_time": "2024-11-11T23:25:17.573Z"
   },
   {
    "duration": 7,
    "start_time": "2024-11-11T23:25:17.730Z"
   },
   {
    "duration": 142,
    "start_time": "2024-11-11T23:25:17.739Z"
   },
   {
    "duration": 448,
    "start_time": "2024-11-11T23:25:17.883Z"
   },
   {
    "duration": 31,
    "start_time": "2024-11-11T23:25:18.332Z"
   },
   {
    "duration": 272,
    "start_time": "2024-11-11T23:25:18.368Z"
   },
   {
    "duration": 8,
    "start_time": "2024-11-11T23:25:18.642Z"
   },
   {
    "duration": 36,
    "start_time": "2024-11-11T23:25:18.652Z"
   },
   {
    "duration": 435,
    "start_time": "2024-11-11T23:25:18.690Z"
   },
   {
    "duration": 44,
    "start_time": "2024-11-11T23:25:19.127Z"
   },
   {
    "duration": 41,
    "start_time": "2024-11-11T23:25:19.176Z"
   },
   {
    "duration": 196,
    "start_time": "2024-11-11T23:25:19.219Z"
   },
   {
    "duration": 31,
    "start_time": "2024-11-11T23:25:19.416Z"
   },
   {
    "duration": 25,
    "start_time": "2024-11-11T23:25:19.449Z"
   },
   {
    "duration": 70,
    "start_time": "2024-11-11T23:25:19.475Z"
   },
   {
    "duration": 14,
    "start_time": "2024-11-11T23:25:19.557Z"
   },
   {
    "duration": 3,
    "start_time": "2024-11-11T23:25:19.573Z"
   },
   {
    "duration": 8,
    "start_time": "2024-11-11T23:25:19.577Z"
   },
   {
    "duration": 5,
    "start_time": "2024-11-11T23:25:19.586Z"
   },
   {
    "duration": 7,
    "start_time": "2024-11-11T23:25:19.592Z"
   },
   {
    "duration": 3,
    "start_time": "2024-11-11T23:25:19.601Z"
   },
   {
    "duration": 6,
    "start_time": "2024-11-11T23:25:19.605Z"
   },
   {
    "duration": 3,
    "start_time": "2024-11-11T23:25:19.612Z"
   },
   {
    "duration": 3,
    "start_time": "2024-11-11T23:25:19.617Z"
   },
   {
    "duration": 3311,
    "start_time": "2024-11-11T23:28:18.577Z"
   },
   {
    "duration": 2711,
    "start_time": "2024-11-11T23:28:21.890Z"
   },
   {
    "duration": 1225,
    "start_time": "2024-11-11T23:28:24.603Z"
   },
   {
    "duration": 822,
    "start_time": "2024-11-11T23:28:25.829Z"
   },
   {
    "duration": 125,
    "start_time": "2024-11-11T23:28:26.658Z"
   },
   {
    "duration": 101,
    "start_time": "2024-11-11T23:28:26.784Z"
   },
   {
    "duration": 448,
    "start_time": "2024-11-11T23:28:26.887Z"
   },
   {
    "duration": 527,
    "start_time": "2024-11-11T23:28:27.336Z"
   },
   {
    "duration": 9899,
    "start_time": "2024-11-11T23:28:27.872Z"
   },
   {
    "duration": 117,
    "start_time": "2024-11-11T23:28:37.772Z"
   },
   {
    "duration": 6,
    "start_time": "2024-11-11T23:28:37.891Z"
   },
   {
    "duration": 178,
    "start_time": "2024-11-11T23:28:37.898Z"
   },
   {
    "duration": 9,
    "start_time": "2024-11-11T23:28:38.078Z"
   },
   {
    "duration": 131,
    "start_time": "2024-11-11T23:28:38.091Z"
   },
   {
    "duration": 500,
    "start_time": "2024-11-11T23:28:38.223Z"
   },
   {
    "duration": 21,
    "start_time": "2024-11-11T23:28:38.724Z"
   },
   {
    "duration": 261,
    "start_time": "2024-11-11T23:28:38.746Z"
   },
   {
    "duration": 8,
    "start_time": "2024-11-11T23:28:39.008Z"
   },
   {
    "duration": 50,
    "start_time": "2024-11-11T23:28:39.017Z"
   },
   {
    "duration": 450,
    "start_time": "2024-11-11T23:28:39.072Z"
   },
   {
    "duration": 52,
    "start_time": "2024-11-11T23:28:39.524Z"
   },
   {
    "duration": 37,
    "start_time": "2024-11-11T23:28:39.577Z"
   },
   {
    "duration": 184,
    "start_time": "2024-11-11T23:28:39.615Z"
   },
   {
    "duration": 26,
    "start_time": "2024-11-11T23:28:39.800Z"
   },
   {
    "duration": 41,
    "start_time": "2024-11-11T23:28:39.828Z"
   },
   {
    "duration": 78,
    "start_time": "2024-11-11T23:28:39.871Z"
   },
   {
    "duration": 3,
    "start_time": "2024-11-11T23:28:39.950Z"
   },
   {
    "duration": 16,
    "start_time": "2024-11-11T23:28:39.954Z"
   },
   {
    "duration": 7,
    "start_time": "2024-11-11T23:28:39.972Z"
   },
   {
    "duration": 9,
    "start_time": "2024-11-11T23:28:39.980Z"
   },
   {
    "duration": 5,
    "start_time": "2024-11-11T23:28:39.990Z"
   },
   {
    "duration": 3,
    "start_time": "2024-11-11T23:28:39.996Z"
   },
   {
    "duration": 15,
    "start_time": "2024-11-11T23:28:40.000Z"
   },
   {
    "duration": 6,
    "start_time": "2024-11-11T23:28:40.016Z"
   },
   {
    "duration": 4,
    "start_time": "2024-11-11T23:28:40.023Z"
   },
   {
    "duration": 199772,
    "start_time": "2024-11-11T23:28:40.029Z"
   },
   {
    "duration": 0,
    "start_time": "2024-11-11T23:31:59.803Z"
   },
   {
    "duration": 3,
    "start_time": "2024-11-11T23:45:53.397Z"
   },
   {
    "duration": 3,
    "start_time": "2024-11-11T23:48:04.780Z"
   },
   {
    "duration": 4,
    "start_time": "2024-11-11T23:49:08.595Z"
   },
   {
    "duration": 4,
    "start_time": "2024-11-11T23:49:09.229Z"
   },
   {
    "duration": 3,
    "start_time": "2024-11-11T23:49:09.397Z"
   },
   {
    "duration": 3,
    "start_time": "2024-11-11T23:49:09.676Z"
   },
   {
    "duration": 4,
    "start_time": "2024-11-11T23:49:09.962Z"
   },
   {
    "duration": 3,
    "start_time": "2024-11-11T23:49:10.234Z"
   },
   {
    "duration": 3,
    "start_time": "2024-11-11T23:49:10.531Z"
   },
   {
    "duration": 284601,
    "start_time": "2024-11-11T23:49:10.892Z"
   },
   {
    "duration": 3,
    "start_time": "2024-11-11T23:56:59.018Z"
   },
   {
    "duration": 3,
    "start_time": "2024-11-11T23:57:19.191Z"
   },
   {
    "duration": 4,
    "start_time": "2024-11-11T23:57:34.017Z"
   },
   {
    "duration": 4,
    "start_time": "2024-11-11T23:57:50.227Z"
   },
   {
    "duration": 523821,
    "start_time": "2024-11-11T23:57:56.144Z"
   },
   {
    "duration": 34,
    "start_time": "2024-11-12T00:12:38.113Z"
   },
   {
    "duration": 5,
    "start_time": "2024-11-12T00:17:16.917Z"
   },
   {
    "duration": 4,
    "start_time": "2024-11-12T00:17:18.338Z"
   },
   {
    "duration": 3,
    "start_time": "2024-11-12T00:17:18.748Z"
   },
   {
    "duration": 4,
    "start_time": "2024-11-12T00:17:19.133Z"
   },
   {
    "duration": 4,
    "start_time": "2024-11-12T00:17:19.430Z"
   },
   {
    "duration": 3,
    "start_time": "2024-11-12T00:17:19.679Z"
   },
   {
    "duration": 3,
    "start_time": "2024-11-12T00:17:19.980Z"
   },
   {
    "duration": 3223,
    "start_time": "2024-11-12T00:28:36.765Z"
   },
   {
    "duration": 2613,
    "start_time": "2024-11-12T00:28:39.990Z"
   },
   {
    "duration": 1162,
    "start_time": "2024-11-12T00:28:42.605Z"
   },
   {
    "duration": 763,
    "start_time": "2024-11-12T00:28:43.768Z"
   },
   {
    "duration": 133,
    "start_time": "2024-11-12T00:28:44.533Z"
   },
   {
    "duration": 104,
    "start_time": "2024-11-12T00:28:44.668Z"
   },
   {
    "duration": 413,
    "start_time": "2024-11-12T00:28:44.773Z"
   },
   {
    "duration": 492,
    "start_time": "2024-11-12T00:28:45.188Z"
   },
   {
    "duration": 9370,
    "start_time": "2024-11-12T00:28:45.682Z"
   },
   {
    "duration": 116,
    "start_time": "2024-11-12T00:28:55.053Z"
   },
   {
    "duration": 6,
    "start_time": "2024-11-12T00:28:55.171Z"
   },
   {
    "duration": 162,
    "start_time": "2024-11-12T00:28:55.178Z"
   },
   {
    "duration": 6,
    "start_time": "2024-11-12T00:28:55.342Z"
   },
   {
    "duration": 127,
    "start_time": "2024-11-12T00:28:55.351Z"
   },
   {
    "duration": 408,
    "start_time": "2024-11-12T00:28:55.480Z"
   },
   {
    "duration": 21,
    "start_time": "2024-11-12T00:28:55.890Z"
   },
   {
    "duration": 255,
    "start_time": "2024-11-12T00:28:55.912Z"
   },
   {
    "duration": 9,
    "start_time": "2024-11-12T00:28:56.168Z"
   },
   {
    "duration": 33,
    "start_time": "2024-11-12T00:28:56.179Z"
   },
   {
    "duration": 429,
    "start_time": "2024-11-12T00:28:56.213Z"
   },
   {
    "duration": 45,
    "start_time": "2024-11-12T00:28:56.643Z"
   },
   {
    "duration": 35,
    "start_time": "2024-11-12T00:28:56.690Z"
   },
   {
    "duration": 186,
    "start_time": "2024-11-12T00:28:56.726Z"
   },
   {
    "duration": 25,
    "start_time": "2024-11-12T00:28:56.914Z"
   },
   {
    "duration": 31,
    "start_time": "2024-11-12T00:28:56.940Z"
   },
   {
    "duration": 75,
    "start_time": "2024-11-12T00:28:56.972Z"
   },
   {
    "duration": 3,
    "start_time": "2024-11-12T00:28:57.048Z"
   },
   {
    "duration": 21,
    "start_time": "2024-11-12T00:28:57.052Z"
   },
   {
    "duration": 5,
    "start_time": "2024-11-12T00:28:57.075Z"
   },
   {
    "duration": 6,
    "start_time": "2024-11-12T00:28:57.082Z"
   },
   {
    "duration": 10,
    "start_time": "2024-11-12T00:28:57.089Z"
   },
   {
    "duration": 5,
    "start_time": "2024-11-12T00:28:57.100Z"
   },
   {
    "duration": 7,
    "start_time": "2024-11-12T00:28:57.106Z"
   },
   {
    "duration": 8,
    "start_time": "2024-11-12T00:28:57.114Z"
   },
   {
    "duration": 3,
    "start_time": "2024-11-12T00:28:57.124Z"
   },
   {
    "duration": 10963,
    "start_time": "2024-11-12T00:28:57.128Z"
   },
   {
    "duration": 0,
    "start_time": "2024-11-12T00:29:08.093Z"
   },
   {
    "duration": 11,
    "start_time": "2024-11-12T11:28:12.726Z"
   },
   {
    "duration": 6950,
    "start_time": "2024-11-12T11:28:34.640Z"
   },
   {
    "duration": 2912,
    "start_time": "2024-11-12T11:28:41.593Z"
   },
   {
    "duration": 1490,
    "start_time": "2024-11-12T11:28:44.506Z"
   },
   {
    "duration": 1131,
    "start_time": "2024-11-12T11:28:45.999Z"
   },
   {
    "duration": 167,
    "start_time": "2024-11-12T11:28:47.132Z"
   },
   {
    "duration": 112,
    "start_time": "2024-11-12T11:28:47.301Z"
   },
   {
    "duration": 465,
    "start_time": "2024-11-12T11:28:47.420Z"
   },
   {
    "duration": 541,
    "start_time": "2024-11-12T11:28:47.887Z"
   },
   {
    "duration": 9887,
    "start_time": "2024-11-12T11:28:48.429Z"
   },
   {
    "duration": 142,
    "start_time": "2024-11-12T11:28:58.318Z"
   },
   {
    "duration": 5,
    "start_time": "2024-11-12T11:28:58.462Z"
   },
   {
    "duration": 179,
    "start_time": "2024-11-12T11:28:58.469Z"
   },
   {
    "duration": 7,
    "start_time": "2024-11-12T11:28:58.650Z"
   },
   {
    "duration": 134,
    "start_time": "2024-11-12T11:28:58.658Z"
   },
   {
    "duration": 437,
    "start_time": "2024-11-12T11:28:58.793Z"
   },
   {
    "duration": 24,
    "start_time": "2024-11-12T11:28:59.232Z"
   },
   {
    "duration": 286,
    "start_time": "2024-11-12T11:28:59.258Z"
   },
   {
    "duration": 9,
    "start_time": "2024-11-12T11:28:59.546Z"
   },
   {
    "duration": 32,
    "start_time": "2024-11-12T11:28:59.557Z"
   },
   {
    "duration": 473,
    "start_time": "2024-11-12T11:28:59.590Z"
   },
   {
    "duration": 37,
    "start_time": "2024-11-12T11:29:00.065Z"
   },
   {
    "duration": 49,
    "start_time": "2024-11-12T11:29:00.103Z"
   },
   {
    "duration": 215,
    "start_time": "2024-11-12T11:29:00.153Z"
   },
   {
    "duration": 25,
    "start_time": "2024-11-12T11:29:00.369Z"
   },
   {
    "duration": 84,
    "start_time": "2024-11-12T11:29:00.396Z"
   },
   {
    "duration": 79,
    "start_time": "2024-11-12T11:29:00.482Z"
   },
   {
    "duration": 4,
    "start_time": "2024-11-12T11:29:00.562Z"
   },
   {
    "duration": 3,
    "start_time": "2024-11-12T11:29:02.594Z"
   },
   {
    "duration": 8,
    "start_time": "2024-11-12T11:29:03.792Z"
   },
   {
    "duration": 2835,
    "start_time": "2024-11-12T11:30:20.205Z"
   },
   {
    "duration": 111,
    "start_time": "2024-11-12T11:30:49.369Z"
   },
   {
    "duration": 4,
    "start_time": "2024-11-12T11:31:47.108Z"
   },
   {
    "duration": 861,
    "start_time": "2024-11-12T11:31:48.884Z"
   },
   {
    "duration": 140,
    "start_time": "2024-11-12T11:31:49.746Z"
   },
   {
    "duration": 91,
    "start_time": "2024-11-12T11:31:49.887Z"
   },
   {
    "duration": 413,
    "start_time": "2024-11-12T11:31:49.980Z"
   },
   {
    "duration": 474,
    "start_time": "2024-11-12T11:31:50.395Z"
   },
   {
    "duration": 9676,
    "start_time": "2024-11-12T11:31:50.870Z"
   },
   {
    "duration": 147,
    "start_time": "2024-11-12T11:32:00.548Z"
   },
   {
    "duration": 6,
    "start_time": "2024-11-12T11:32:00.697Z"
   },
   {
    "duration": 152,
    "start_time": "2024-11-12T11:32:00.720Z"
   },
   {
    "duration": 7,
    "start_time": "2024-11-12T11:32:00.873Z"
   },
   {
    "duration": 151,
    "start_time": "2024-11-12T11:32:00.881Z"
   },
   {
    "duration": 435,
    "start_time": "2024-11-12T11:32:01.034Z"
   },
   {
    "duration": 24,
    "start_time": "2024-11-12T11:32:01.471Z"
   },
   {
    "duration": 271,
    "start_time": "2024-11-12T11:32:01.497Z"
   },
   {
    "duration": 11,
    "start_time": "2024-11-12T11:32:01.769Z"
   },
   {
    "duration": 53,
    "start_time": "2024-11-12T11:32:01.782Z"
   },
   {
    "duration": 468,
    "start_time": "2024-11-12T11:32:01.836Z"
   },
   {
    "duration": 60,
    "start_time": "2024-11-12T11:32:02.306Z"
   },
   {
    "duration": 127,
    "start_time": "2024-11-12T11:32:02.369Z"
   },
   {
    "duration": 207,
    "start_time": "2024-11-12T11:32:02.498Z"
   },
   {
    "duration": 30,
    "start_time": "2024-11-12T11:32:02.706Z"
   },
   {
    "duration": 19,
    "start_time": "2024-11-12T11:32:02.737Z"
   },
   {
    "duration": 44,
    "start_time": "2024-11-12T11:32:02.760Z"
   },
   {
    "duration": 3,
    "start_time": "2024-11-12T11:32:02.820Z"
   },
   {
    "duration": 68,
    "start_time": "2024-11-12T11:32:02.825Z"
   },
   {
    "duration": 8,
    "start_time": "2024-11-12T11:32:02.894Z"
   },
   {
    "duration": 25,
    "start_time": "2024-11-12T11:32:02.905Z"
   },
   {
    "duration": 30,
    "start_time": "2024-11-12T11:32:02.932Z"
   },
   {
    "duration": 9,
    "start_time": "2024-11-12T11:32:02.964Z"
   },
   {
    "duration": 3,
    "start_time": "2024-11-12T11:32:04.880Z"
   },
   {
    "duration": 3,
    "start_time": "2024-11-12T11:32:05.337Z"
   },
   {
    "duration": 4,
    "start_time": "2024-11-12T11:32:05.865Z"
   },
   {
    "duration": 2659,
    "start_time": "2024-11-12T11:32:06.615Z"
   },
   {
    "duration": 14,
    "start_time": "2024-11-12T11:32:09.276Z"
   },
   {
    "duration": 4,
    "start_time": "2024-11-12T11:35:24.327Z"
   },
   {
    "duration": 3,
    "start_time": "2024-11-12T11:35:24.614Z"
   },
   {
    "duration": 4,
    "start_time": "2024-11-12T11:35:24.911Z"
   },
   {
    "duration": 4,
    "start_time": "2024-11-12T11:35:25.243Z"
   },
   {
    "duration": 4,
    "start_time": "2024-11-12T11:35:25.511Z"
   },
   {
    "duration": 4,
    "start_time": "2024-11-12T11:35:25.937Z"
   },
   {
    "duration": 2682,
    "start_time": "2024-11-12T11:35:26.626Z"
   },
   {
    "duration": 16,
    "start_time": "2024-11-12T11:35:29.310Z"
   },
   {
    "duration": 17,
    "start_time": "2024-11-12T11:36:30.413Z"
   },
   {
    "duration": 5,
    "start_time": "2024-11-12T11:40:45.255Z"
   },
   {
    "duration": 4,
    "start_time": "2024-11-12T11:43:58.839Z"
   },
   {
    "duration": 5,
    "start_time": "2024-11-12T11:43:59.211Z"
   },
   {
    "duration": 3,
    "start_time": "2024-11-12T11:43:59.700Z"
   },
   {
    "duration": 5,
    "start_time": "2024-11-12T11:44:00.128Z"
   },
   {
    "duration": 4,
    "start_time": "2024-11-12T11:44:00.671Z"
   },
   {
    "duration": 4,
    "start_time": "2024-11-12T11:44:01.164Z"
   },
   {
    "duration": 2663,
    "start_time": "2024-11-12T11:44:03.387Z"
   },
   {
    "duration": 2900,
    "start_time": "2024-11-12T11:55:05.437Z"
   },
   {
    "duration": 2309,
    "start_time": "2024-11-12T11:55:08.339Z"
   },
   {
    "duration": 1221,
    "start_time": "2024-11-12T11:55:10.649Z"
   },
   {
    "duration": 872,
    "start_time": "2024-11-12T11:55:11.872Z"
   },
   {
    "duration": 164,
    "start_time": "2024-11-12T11:55:12.746Z"
   },
   {
    "duration": 97,
    "start_time": "2024-11-12T11:55:12.911Z"
   },
   {
    "duration": 458,
    "start_time": "2024-11-12T11:55:13.020Z"
   },
   {
    "duration": 563,
    "start_time": "2024-11-12T11:55:13.480Z"
   },
   {
    "duration": 9674,
    "start_time": "2024-11-12T11:55:14.044Z"
   },
   {
    "duration": 147,
    "start_time": "2024-11-12T11:55:23.719Z"
   },
   {
    "duration": 7,
    "start_time": "2024-11-12T11:55:23.867Z"
   },
   {
    "duration": 192,
    "start_time": "2024-11-12T11:55:23.875Z"
   },
   {
    "duration": 7,
    "start_time": "2024-11-12T11:55:24.069Z"
   },
   {
    "duration": 135,
    "start_time": "2024-11-12T11:55:24.079Z"
   },
   {
    "duration": 421,
    "start_time": "2024-11-12T11:55:24.216Z"
   },
   {
    "duration": 22,
    "start_time": "2024-11-12T11:55:24.639Z"
   },
   {
    "duration": 269,
    "start_time": "2024-11-12T11:55:24.663Z"
   },
   {
    "duration": 10,
    "start_time": "2024-11-12T11:55:24.934Z"
   },
   {
    "duration": 34,
    "start_time": "2024-11-12T11:55:24.945Z"
   },
   {
    "duration": 461,
    "start_time": "2024-11-12T11:55:24.981Z"
   },
   {
    "duration": 36,
    "start_time": "2024-11-12T11:55:25.444Z"
   },
   {
    "duration": 51,
    "start_time": "2024-11-12T11:55:25.482Z"
   },
   {
    "duration": 210,
    "start_time": "2024-11-12T11:55:25.535Z"
   },
   {
    "duration": 25,
    "start_time": "2024-11-12T11:55:25.747Z"
   },
   {
    "duration": 19,
    "start_time": "2024-11-12T11:55:25.774Z"
   },
   {
    "duration": 87,
    "start_time": "2024-11-12T11:55:25.794Z"
   },
   {
    "duration": 2,
    "start_time": "2024-11-12T11:55:25.883Z"
   },
   {
    "duration": 4,
    "start_time": "2024-11-12T11:55:25.887Z"
   },
   {
    "duration": 6,
    "start_time": "2024-11-12T11:55:25.893Z"
   },
   {
    "duration": 21,
    "start_time": "2024-11-12T11:55:25.900Z"
   },
   {
    "duration": 5,
    "start_time": "2024-11-12T11:55:25.923Z"
   },
   {
    "duration": 8,
    "start_time": "2024-11-12T11:55:25.929Z"
   },
   {
    "duration": 5,
    "start_time": "2024-11-12T11:55:25.938Z"
   },
   {
    "duration": 4,
    "start_time": "2024-11-12T11:55:25.945Z"
   },
   {
    "duration": 8,
    "start_time": "2024-11-12T11:55:25.951Z"
   },
   {
    "duration": 2738,
    "start_time": "2024-11-12T11:55:25.961Z"
   },
   {
    "duration": 129,
    "start_time": "2024-11-12T11:55:28.701Z"
   },
   {
    "duration": 0,
    "start_time": "2024-11-12T11:55:28.832Z"
   },
   {
    "duration": 8,
    "start_time": "2024-11-12T11:56:46.289Z"
   },
   {
    "duration": 37,
    "start_time": "2024-11-12T11:56:53.190Z"
   },
   {
    "duration": 7,
    "start_time": "2024-11-12T11:59:17.094Z"
   },
   {
    "duration": 4,
    "start_time": "2024-11-12T11:59:26.730Z"
   },
   {
    "duration": 4,
    "start_time": "2024-11-12T11:59:28.883Z"
   },
   {
    "duration": 4,
    "start_time": "2024-11-12T11:59:29.155Z"
   },
   {
    "duration": 4,
    "start_time": "2024-11-12T11:59:29.486Z"
   },
   {
    "duration": 2650,
    "start_time": "2024-11-12T11:59:29.983Z"
   },
   {
    "duration": 17,
    "start_time": "2024-11-12T11:59:32.635Z"
   },
   {
    "duration": 6,
    "start_time": "2024-11-12T12:00:50.365Z"
   },
   {
    "duration": 4,
    "start_time": "2024-11-12T12:01:13.271Z"
   },
   {
    "duration": 4,
    "start_time": "2024-11-12T12:01:22.312Z"
   },
   {
    "duration": 3023,
    "start_time": "2024-11-12T12:43:07.957Z"
   },
   {
    "duration": 2399,
    "start_time": "2024-11-12T12:43:10.982Z"
   },
   {
    "duration": 1288,
    "start_time": "2024-11-12T12:43:13.383Z"
   },
   {
    "duration": 941,
    "start_time": "2024-11-12T12:43:14.673Z"
   },
   {
    "duration": 155,
    "start_time": "2024-11-12T12:43:15.622Z"
   },
   {
    "duration": 128,
    "start_time": "2024-11-12T12:43:15.778Z"
   },
   {
    "duration": 473,
    "start_time": "2024-11-12T12:43:15.908Z"
   },
   {
    "duration": 547,
    "start_time": "2024-11-12T12:43:16.383Z"
   },
   {
    "duration": 10524,
    "start_time": "2024-11-12T12:43:16.934Z"
   },
   {
    "duration": 143,
    "start_time": "2024-11-12T12:43:27.460Z"
   },
   {
    "duration": 16,
    "start_time": "2024-11-12T12:43:27.605Z"
   },
   {
    "duration": 176,
    "start_time": "2024-11-12T12:43:27.622Z"
   },
   {
    "duration": 7,
    "start_time": "2024-11-12T12:43:27.799Z"
   },
   {
    "duration": 144,
    "start_time": "2024-11-12T12:43:27.821Z"
   },
   {
    "duration": 478,
    "start_time": "2024-11-12T12:43:27.966Z"
   },
   {
    "duration": 23,
    "start_time": "2024-11-12T12:43:28.445Z"
   },
   {
    "duration": 281,
    "start_time": "2024-11-12T12:43:28.469Z"
   },
   {
    "duration": 10,
    "start_time": "2024-11-12T12:43:28.752Z"
   },
   {
    "duration": 110,
    "start_time": "2024-11-12T12:43:28.763Z"
   },
   {
    "duration": 446,
    "start_time": "2024-11-12T12:43:28.875Z"
   },
   {
    "duration": 37,
    "start_time": "2024-11-12T12:43:29.323Z"
   },
   {
    "duration": 35,
    "start_time": "2024-11-12T12:43:29.362Z"
   },
   {
    "duration": 240,
    "start_time": "2024-11-12T12:43:29.399Z"
   },
   {
    "duration": 23,
    "start_time": "2024-11-12T12:43:29.642Z"
   },
   {
    "duration": 17,
    "start_time": "2024-11-12T12:43:29.666Z"
   },
   {
    "duration": 95,
    "start_time": "2024-11-12T12:43:29.685Z"
   },
   {
    "duration": 3,
    "start_time": "2024-11-12T12:43:29.781Z"
   },
   {
    "duration": 10,
    "start_time": "2024-11-12T12:43:29.785Z"
   },
   {
    "duration": 5,
    "start_time": "2024-11-12T12:43:29.796Z"
   },
   {
    "duration": 18,
    "start_time": "2024-11-12T12:43:29.802Z"
   },
   {
    "duration": 81,
    "start_time": "2024-11-12T12:43:29.823Z"
   },
   {
    "duration": 4,
    "start_time": "2024-11-12T12:43:29.906Z"
   },
   {
    "duration": 11,
    "start_time": "2024-11-12T12:43:29.911Z"
   },
   {
    "duration": 7,
    "start_time": "2024-11-12T12:43:29.924Z"
   },
   {
    "duration": 7,
    "start_time": "2024-11-12T12:43:29.934Z"
   },
   {
    "duration": 5,
    "start_time": "2024-11-12T12:43:29.944Z"
   },
   {
    "duration": 6025,
    "start_time": "2024-11-12T12:43:29.951Z"
   },
   {
    "duration": 667,
    "start_time": "2024-11-12T12:43:35.978Z"
   },
   {
    "duration": 0,
    "start_time": "2024-11-12T12:43:36.648Z"
   },
   {
    "duration": 2990,
    "start_time": "2024-11-12T13:45:03.619Z"
   },
   {
    "duration": 2336,
    "start_time": "2024-11-12T13:45:06.611Z"
   },
   {
    "duration": 1426,
    "start_time": "2024-11-12T13:45:08.949Z"
   },
   {
    "duration": 873,
    "start_time": "2024-11-12T13:45:10.376Z"
   },
   {
    "duration": 150,
    "start_time": "2024-11-12T13:45:11.251Z"
   },
   {
    "duration": 95,
    "start_time": "2024-11-12T13:45:11.402Z"
   },
   {
    "duration": 462,
    "start_time": "2024-11-12T13:45:11.498Z"
   },
   {
    "duration": 533,
    "start_time": "2024-11-12T13:45:11.961Z"
   },
   {
    "duration": 9793,
    "start_time": "2024-11-12T13:45:12.496Z"
   },
   {
    "duration": 144,
    "start_time": "2024-11-12T13:45:22.290Z"
   },
   {
    "duration": 6,
    "start_time": "2024-11-12T13:45:22.435Z"
   },
   {
    "duration": 186,
    "start_time": "2024-11-12T13:45:22.442Z"
   },
   {
    "duration": 6,
    "start_time": "2024-11-12T13:45:22.630Z"
   },
   {
    "duration": 127,
    "start_time": "2024-11-12T13:45:22.639Z"
   },
   {
    "duration": 466,
    "start_time": "2024-11-12T13:45:22.768Z"
   },
   {
    "duration": 25,
    "start_time": "2024-11-12T13:45:23.236Z"
   },
   {
    "duration": 285,
    "start_time": "2024-11-12T13:45:23.263Z"
   },
   {
    "duration": 11,
    "start_time": "2024-11-12T13:45:23.550Z"
   },
   {
    "duration": 38,
    "start_time": "2024-11-12T13:45:23.562Z"
   },
   {
    "duration": 522,
    "start_time": "2024-11-12T13:45:23.601Z"
   },
   {
    "duration": 35,
    "start_time": "2024-11-12T13:45:24.124Z"
   },
   {
    "duration": 36,
    "start_time": "2024-11-12T13:45:24.161Z"
   },
   {
    "duration": 217,
    "start_time": "2024-11-12T13:45:24.199Z"
   },
   {
    "duration": 25,
    "start_time": "2024-11-12T13:45:24.417Z"
   },
   {
    "duration": 20,
    "start_time": "2024-11-12T13:45:24.443Z"
   },
   {
    "duration": 79,
    "start_time": "2024-11-12T13:45:24.464Z"
   },
   {
    "duration": 3,
    "start_time": "2024-11-12T13:45:24.544Z"
   },
   {
    "duration": 9,
    "start_time": "2024-11-12T13:45:24.548Z"
   },
   {
    "duration": 4,
    "start_time": "2024-11-12T13:45:24.558Z"
   },
   {
    "duration": 6,
    "start_time": "2024-11-12T13:45:24.563Z"
   },
   {
    "duration": 20,
    "start_time": "2024-11-12T13:45:24.570Z"
   },
   {
    "duration": 5,
    "start_time": "2024-11-12T13:45:24.592Z"
   },
   {
    "duration": 3,
    "start_time": "2024-11-12T13:45:24.599Z"
   },
   {
    "duration": 3,
    "start_time": "2024-11-12T13:45:24.604Z"
   },
   {
    "duration": 14,
    "start_time": "2024-11-12T13:45:24.608Z"
   },
   {
    "duration": 67,
    "start_time": "2024-11-12T13:45:24.623Z"
   },
   {
    "duration": 0,
    "start_time": "2024-11-12T13:45:24.692Z"
   },
   {
    "duration": 0,
    "start_time": "2024-11-12T13:45:24.693Z"
   },
   {
    "duration": 0,
    "start_time": "2024-11-12T13:45:24.694Z"
   },
   {
    "duration": 4,
    "start_time": "2024-11-12T13:46:05.549Z"
   },
   {
    "duration": 4,
    "start_time": "2024-11-12T13:46:06.245Z"
   },
   {
    "duration": 114,
    "start_time": "2024-11-12T13:46:06.873Z"
   },
   {
    "duration": 4,
    "start_time": "2024-11-12T13:47:12.157Z"
   },
   {
    "duration": 3,
    "start_time": "2024-11-12T13:47:12.592Z"
   },
   {
    "duration": 5,
    "start_time": "2024-11-12T13:47:13.002Z"
   },
   {
    "duration": 5,
    "start_time": "2024-11-12T13:47:13.446Z"
   },
   {
    "duration": 4,
    "start_time": "2024-11-12T13:47:14.776Z"
   },
   {
    "duration": 4,
    "start_time": "2024-11-12T13:47:15.272Z"
   },
   {
    "duration": 4,
    "start_time": "2024-11-12T13:47:15.868Z"
   },
   {
    "duration": 4,
    "start_time": "2024-11-12T13:47:16.915Z"
   },
   {
    "duration": 3,
    "start_time": "2024-11-12T13:47:17.707Z"
   },
   {
    "duration": 3,
    "start_time": "2024-11-12T13:47:18.766Z"
   },
   {
    "duration": 12,
    "start_time": "2024-11-12T13:47:19.428Z"
   },
   {
    "duration": 3,
    "start_time": "2024-11-12T13:49:41.215Z"
   },
   {
    "duration": 2,
    "start_time": "2024-11-12T13:49:43.159Z"
   },
   {
    "duration": 5,
    "start_time": "2024-11-12T13:49:43.498Z"
   },
   {
    "duration": 4,
    "start_time": "2024-11-12T13:49:43.767Z"
   },
   {
    "duration": 3,
    "start_time": "2024-11-12T13:49:44.752Z"
   },
   {
    "duration": 4,
    "start_time": "2024-11-12T13:49:45.082Z"
   },
   {
    "duration": 3,
    "start_time": "2024-11-12T13:49:45.425Z"
   },
   {
    "duration": 4,
    "start_time": "2024-11-12T13:49:45.819Z"
   },
   {
    "duration": 3,
    "start_time": "2024-11-12T13:49:46.361Z"
   },
   {
    "duration": 4,
    "start_time": "2024-11-12T13:49:46.644Z"
   },
   {
    "duration": 12,
    "start_time": "2024-11-12T13:49:47.051Z"
   },
   {
    "duration": 10,
    "start_time": "2024-11-12T13:52:00.005Z"
   },
   {
    "duration": 10,
    "start_time": "2024-11-12T13:52:10.340Z"
   },
   {
    "duration": 53,
    "start_time": "2024-11-12T19:42:45.524Z"
   },
   {
    "duration": 7139,
    "start_time": "2024-11-12T19:54:36.037Z"
   },
   {
    "duration": 3257,
    "start_time": "2024-11-12T19:54:43.179Z"
   },
   {
    "duration": 1594,
    "start_time": "2024-11-12T19:54:46.439Z"
   },
   {
    "duration": 3023,
    "start_time": "2024-11-12T19:54:48.035Z"
   },
   {
    "duration": 157,
    "start_time": "2024-11-12T19:54:51.061Z"
   },
   {
    "duration": 104,
    "start_time": "2024-11-12T19:54:51.220Z"
   },
   {
    "duration": 530,
    "start_time": "2024-11-12T19:54:51.326Z"
   },
   {
    "duration": 554,
    "start_time": "2024-11-12T19:54:51.858Z"
   },
   {
    "duration": 10589,
    "start_time": "2024-11-12T19:54:52.414Z"
   },
   {
    "duration": 155,
    "start_time": "2024-11-12T19:55:03.006Z"
   },
   {
    "duration": 7,
    "start_time": "2024-11-12T19:55:03.162Z"
   },
   {
    "duration": 384,
    "start_time": "2024-11-12T19:55:03.170Z"
   },
   {
    "duration": 7,
    "start_time": "2024-11-12T19:55:03.556Z"
   },
   {
    "duration": 146,
    "start_time": "2024-11-12T19:55:03.565Z"
   },
   {
    "duration": 468,
    "start_time": "2024-11-12T19:55:03.713Z"
   },
   {
    "duration": 26,
    "start_time": "2024-11-12T19:55:04.182Z"
   },
   {
    "duration": 291,
    "start_time": "2024-11-12T19:55:04.210Z"
   },
   {
    "duration": 15,
    "start_time": "2024-11-12T19:55:04.503Z"
   },
   {
    "duration": 54,
    "start_time": "2024-11-12T19:55:04.519Z"
   },
   {
    "duration": 565,
    "start_time": "2024-11-12T19:55:04.575Z"
   },
   {
    "duration": 39,
    "start_time": "2024-11-12T19:55:05.143Z"
   },
   {
    "duration": 38,
    "start_time": "2024-11-12T19:55:05.184Z"
   },
   {
    "duration": 231,
    "start_time": "2024-11-12T19:55:05.223Z"
   },
   {
    "duration": 24,
    "start_time": "2024-11-12T19:55:05.456Z"
   },
   {
    "duration": 30,
    "start_time": "2024-11-12T19:55:05.481Z"
   },
   {
    "duration": 80,
    "start_time": "2024-11-12T19:55:05.513Z"
   },
   {
    "duration": 3,
    "start_time": "2024-11-12T19:55:05.595Z"
   },
   {
    "duration": 172,
    "start_time": "2024-11-12T19:55:05.601Z"
   },
   {
    "duration": 0,
    "start_time": "2024-11-12T19:55:05.775Z"
   },
   {
    "duration": 0,
    "start_time": "2024-11-12T19:55:05.776Z"
   },
   {
    "duration": 0,
    "start_time": "2024-11-12T19:55:05.777Z"
   },
   {
    "duration": 0,
    "start_time": "2024-11-12T19:55:05.778Z"
   },
   {
    "duration": 0,
    "start_time": "2024-11-12T19:55:05.779Z"
   },
   {
    "duration": 0,
    "start_time": "2024-11-12T19:55:05.780Z"
   },
   {
    "duration": 0,
    "start_time": "2024-11-12T19:55:05.781Z"
   },
   {
    "duration": 0,
    "start_time": "2024-11-12T19:55:05.782Z"
   },
   {
    "duration": 119,
    "start_time": "2024-11-12T20:05:38.788Z"
   },
   {
    "duration": 124,
    "start_time": "2024-11-12T20:10:28.369Z"
   },
   {
    "duration": 12,
    "start_time": "2024-11-12T20:11:08.211Z"
   },
   {
    "duration": 6245,
    "start_time": "2024-11-12T20:12:16.752Z"
   },
   {
    "duration": 2509,
    "start_time": "2024-11-12T20:12:26.485Z"
   },
   {
    "duration": 99,
    "start_time": "2024-11-12T20:12:33.405Z"
   },
   {
    "duration": 854,
    "start_time": "2024-11-12T20:12:35.257Z"
   },
   {
    "duration": 165,
    "start_time": "2024-11-12T20:12:41.496Z"
   },
   {
    "duration": 84,
    "start_time": "2024-11-12T20:12:42.186Z"
   },
   {
    "duration": 438,
    "start_time": "2024-11-12T20:12:42.968Z"
   },
   {
    "duration": 512,
    "start_time": "2024-11-12T20:12:43.673Z"
   },
   {
    "duration": 10599,
    "start_time": "2024-11-12T20:12:44.187Z"
   },
   {
    "duration": 195,
    "start_time": "2024-11-12T20:12:54.788Z"
   },
   {
    "duration": 7,
    "start_time": "2024-11-12T20:12:54.984Z"
   },
   {
    "duration": 208,
    "start_time": "2024-11-12T20:12:54.993Z"
   },
   {
    "duration": 8,
    "start_time": "2024-11-12T20:12:55.203Z"
   },
   {
    "duration": 148,
    "start_time": "2024-11-12T20:12:55.212Z"
   },
   {
    "duration": 472,
    "start_time": "2024-11-12T20:12:55.362Z"
   },
   {
    "duration": 29,
    "start_time": "2024-11-12T20:12:55.836Z"
   },
   {
    "duration": 283,
    "start_time": "2024-11-12T20:12:55.867Z"
   },
   {
    "duration": 12,
    "start_time": "2024-11-12T20:12:56.152Z"
   },
   {
    "duration": 38,
    "start_time": "2024-11-12T20:12:56.165Z"
   },
   {
    "duration": 572,
    "start_time": "2024-11-12T20:12:56.205Z"
   },
   {
    "duration": 63,
    "start_time": "2024-11-12T20:12:56.780Z"
   },
   {
    "duration": 45,
    "start_time": "2024-11-12T20:12:56.845Z"
   },
   {
    "duration": 286,
    "start_time": "2024-11-12T20:12:56.892Z"
   },
   {
    "duration": 35,
    "start_time": "2024-11-12T20:12:57.179Z"
   },
   {
    "duration": 19,
    "start_time": "2024-11-12T20:12:57.376Z"
   },
   {
    "duration": 38,
    "start_time": "2024-11-12T20:12:58.058Z"
   },
   {
    "duration": 3,
    "start_time": "2024-11-12T20:12:59.467Z"
   },
   {
    "duration": 1479,
    "start_time": "2024-11-12T20:13:01.617Z"
   },
   {
    "duration": 5,
    "start_time": "2024-11-12T20:13:09.127Z"
   },
   {
    "duration": 4,
    "start_time": "2024-11-12T20:13:11.531Z"
   },
   {
    "duration": 3,
    "start_time": "2024-11-12T20:13:11.919Z"
   },
   {
    "duration": 3,
    "start_time": "2024-11-12T20:13:12.268Z"
   },
   {
    "duration": 4,
    "start_time": "2024-11-12T20:13:12.633Z"
   },
   {
    "duration": 4,
    "start_time": "2024-11-12T20:13:13.031Z"
   },
   {
    "duration": 3,
    "start_time": "2024-11-12T20:13:13.675Z"
   },
   {
    "duration": 648965,
    "start_time": "2024-11-12T20:13:14.084Z"
   },
   {
    "duration": 26,
    "start_time": "2024-11-12T20:31:44.245Z"
   },
   {
    "duration": 702,
    "start_time": "2024-11-12T20:35:07.453Z"
   },
   {
    "duration": 47,
    "start_time": "2024-11-12T20:38:05.152Z"
   },
   {
    "duration": 5641,
    "start_time": "2024-11-12T20:54:28.474Z"
   },
   {
    "duration": 2557,
    "start_time": "2024-11-12T20:54:34.118Z"
   },
   {
    "duration": 1438,
    "start_time": "2024-11-12T20:54:36.677Z"
   },
   {
    "duration": 995,
    "start_time": "2024-11-12T20:54:38.117Z"
   },
   {
    "duration": 167,
    "start_time": "2024-11-12T20:54:39.115Z"
   },
   {
    "duration": 111,
    "start_time": "2024-11-12T20:54:39.284Z"
   },
   {
    "duration": 544,
    "start_time": "2024-11-12T20:54:39.397Z"
   },
   {
    "duration": 654,
    "start_time": "2024-11-12T20:54:39.943Z"
   },
   {
    "duration": 10555,
    "start_time": "2024-11-12T20:54:40.599Z"
   },
   {
    "duration": 160,
    "start_time": "2024-11-12T20:54:51.156Z"
   },
   {
    "duration": 7,
    "start_time": "2024-11-12T20:54:51.318Z"
   },
   {
    "duration": 230,
    "start_time": "2024-11-12T20:54:51.327Z"
   },
   {
    "duration": 12,
    "start_time": "2024-11-12T20:54:51.559Z"
   },
   {
    "duration": 152,
    "start_time": "2024-11-12T20:54:51.575Z"
   },
   {
    "duration": 507,
    "start_time": "2024-11-12T20:54:51.729Z"
   },
   {
    "duration": 38,
    "start_time": "2024-11-12T20:54:52.244Z"
   },
   {
    "duration": 300,
    "start_time": "2024-11-12T20:54:52.284Z"
   },
   {
    "duration": 11,
    "start_time": "2024-11-12T20:54:52.586Z"
   },
   {
    "duration": 99,
    "start_time": "2024-11-12T20:54:52.598Z"
   },
   {
    "duration": 574,
    "start_time": "2024-11-12T20:54:52.699Z"
   },
   {
    "duration": 49,
    "start_time": "2024-11-12T20:54:53.275Z"
   },
   {
    "duration": 54,
    "start_time": "2024-11-12T20:54:53.326Z"
   },
   {
    "duration": 252,
    "start_time": "2024-11-12T20:54:53.382Z"
   },
   {
    "duration": 31,
    "start_time": "2024-11-12T20:54:53.636Z"
   },
   {
    "duration": 21,
    "start_time": "2024-11-12T20:54:53.669Z"
   },
   {
    "duration": 88,
    "start_time": "2024-11-12T20:54:53.692Z"
   },
   {
    "duration": 3,
    "start_time": "2024-11-12T20:54:53.782Z"
   },
   {
    "duration": 1552,
    "start_time": "2024-11-12T20:54:53.786Z"
   },
   {
    "duration": 6,
    "start_time": "2024-11-12T20:54:55.339Z"
   },
   {
    "duration": 8,
    "start_time": "2024-11-12T20:54:55.346Z"
   },
   {
    "duration": 3,
    "start_time": "2024-11-12T20:54:55.356Z"
   },
   {
    "duration": 14,
    "start_time": "2024-11-12T20:54:55.361Z"
   },
   {
    "duration": 19,
    "start_time": "2024-11-12T20:54:55.376Z"
   },
   {
    "duration": 6,
    "start_time": "2024-11-12T20:54:55.397Z"
   },
   {
    "duration": 4,
    "start_time": "2024-11-12T20:54:55.405Z"
   },
   {
    "duration": 141244,
    "start_time": "2024-11-12T20:54:55.410Z"
   },
   {
    "duration": 110,
    "start_time": "2024-11-12T20:57:16.656Z"
   }
  ],
  "kernelspec": {
   "display_name": "Python 3 (ipykernel)",
   "language": "python",
   "name": "python3"
  },
  "language_info": {
   "codemirror_mode": {
    "name": "ipython",
    "version": 3
   },
   "file_extension": ".py",
   "mimetype": "text/x-python",
   "name": "python",
   "nbconvert_exporter": "python",
   "pygments_lexer": "ipython3",
   "version": "3.9.5"
  },
  "toc": {
   "base_numbering": 1,
   "nav_menu": {},
   "number_sections": true,
   "sideBar": true,
   "skip_h1_title": true,
   "title_cell": "Table of Contents",
   "title_sidebar": "Contents",
   "toc_cell": false,
   "toc_position": {},
   "toc_section_display": true,
   "toc_window_display": false
  }
 },
 "nbformat": 4,
 "nbformat_minor": 2
}
